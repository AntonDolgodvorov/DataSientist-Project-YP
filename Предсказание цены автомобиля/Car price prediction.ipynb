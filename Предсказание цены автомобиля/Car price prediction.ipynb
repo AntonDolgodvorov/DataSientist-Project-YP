{
 "cells": [
  {
   "cell_type": "markdown",
   "metadata": {},
   "source": [
    "# Определение стоимости автомобилей"
   ]
  },
  {
   "cell_type": "markdown",
   "metadata": {},
   "source": [
    "Сервис по продаже автомобилей с пробегом «Не бит, не крашен» разрабатывает приложение для привлечения новых клиентов. В нём можно быстро узнать рыночную стоимость своего автомобиля. В вашем распоряжении исторические данные: технические характеристики, комплектации и цены автомобилей. Вам нужно построить модель для определения стоимости. \n",
    "\n",
    "Заказчику важны:\n",
    "\n",
    "- качество предсказания;\n",
    "- скорость предсказания;\n",
    "- время обучения."
   ]
  },
  {
   "cell_type": "markdown",
   "metadata": {},
   "source": [
    "Признаки:\n",
    "- DateCrawled — дата скачивания анкеты из базы\n",
    "- VehicleType — тип автомобильного кузова\n",
    "- RegistrationYear — год регистрации автомобиля\n",
    "- Gearbox — тип коробки передач\n",
    "- Power — мощность (л. с.)\n",
    "- Model — модель автомобиля\n",
    "- Kilometer — пробег (км)\n",
    "- RegistrationMonth — месяц регистрации автомобиля\n",
    "- FuelType — тип топлива\n",
    "- Brand — марка автомобиля\n",
    "- NotRepaired — была машина в ремонте или нет\n",
    "- DateCreated — дата создания анкеты\n",
    "- NumberOfPictures — количество фотографий автомобиля\n",
    "- PostalCode — почтовый индекс владельца анкеты (пользователя)\n",
    "- LastSeen — дата последней активности пользователя\n",
    "\n",
    "\n",
    "Целевой признак\n",
    "- Price — цена (евро)"
   ]
  },
  {
   "cell_type": "markdown",
   "metadata": {},
   "source": [
    "## Подготовка данных"
   ]
  },
  {
   "cell_type": "markdown",
   "metadata": {},
   "source": [
    "### Импорт библитоек, модулей"
   ]
  },
  {
   "cell_type": "code",
   "execution_count": 1,
   "metadata": {},
   "outputs": [],
   "source": [
    "import pandas as pd\n",
    "import numpy as np\n",
    "import seaborn as sns\n",
    "import re\n",
    "import math\n",
    "\n",
    "from scipy import stats as st\n",
    "import matplotlib.pyplot as plt\n",
    "from sklearn.model_selection import train_test_split\n",
    "from sklearn.ensemble import RandomForestRegressor\n",
    "from sklearn.pipeline import  make_pipeline\n",
    "from sklearn.linear_model import LinearRegression\n",
    "from catboost import CatBoostRegressor, Pool\n",
    "from sklearn.model_selection import cross_val_score\n",
    "from sklearn.tree import DecisionTreeRegressor\n",
    "from sklearn.model_selection import GridSearchCV\n",
    "from sklearn.linear_model import LogisticRegression\n",
    "import lightgbm as lgb\n",
    "from sklearn.dummy import DummyRegressor\n",
    "from sklearn.preprocessing import StandardScaler\n",
    "from sklearn.utils import shuffle\n",
    "from sklearn.metrics import make_scorer, mean_squared_error, accuracy_score, f1_score, recall_score, precision_score, roc_auc_score,roc_curve, confusion_matrix\n",
    "\n",
    "import warnings\n",
    "warnings.filterwarnings('ignore')\n",
    "from IPython.display import display"
   ]
  },
  {
   "cell_type": "markdown",
   "metadata": {},
   "source": [
    "### Загрузка данных"
   ]
  },
  {
   "cell_type": "code",
   "execution_count": 2,
   "metadata": {},
   "outputs": [],
   "source": [
    "df = pd.read_csv('/datasets/autos.csv')"
   ]
  },
  {
   "cell_type": "code",
   "execution_count": 3,
   "metadata": {},
   "outputs": [
    {
     "name": "stdout",
     "output_type": "stream",
     "text": [
      "<class 'pandas.core.frame.DataFrame'>\n",
      "RangeIndex: 354369 entries, 0 to 354368\n",
      "Data columns (total 16 columns):\n",
      "DateCrawled          354369 non-null object\n",
      "Price                354369 non-null int64\n",
      "VehicleType          316879 non-null object\n",
      "RegistrationYear     354369 non-null int64\n",
      "Gearbox              334536 non-null object\n",
      "Power                354369 non-null int64\n",
      "Model                334664 non-null object\n",
      "Kilometer            354369 non-null int64\n",
      "RegistrationMonth    354369 non-null int64\n",
      "FuelType             321474 non-null object\n",
      "Brand                354369 non-null object\n",
      "NotRepaired          283215 non-null object\n",
      "DateCreated          354369 non-null object\n",
      "NumberOfPictures     354369 non-null int64\n",
      "PostalCode           354369 non-null int64\n",
      "LastSeen             354369 non-null object\n",
      "dtypes: int64(7), object(9)\n",
      "memory usage: 43.3+ MB\n"
     ]
    },
    {
     "data": {
      "text/plain": [
       "None"
      ]
     },
     "metadata": {},
     "output_type": "display_data"
    },
    {
     "data": {
      "text/html": [
       "<div>\n",
       "<style scoped>\n",
       "    .dataframe tbody tr th:only-of-type {\n",
       "        vertical-align: middle;\n",
       "    }\n",
       "\n",
       "    .dataframe tbody tr th {\n",
       "        vertical-align: top;\n",
       "    }\n",
       "\n",
       "    .dataframe thead th {\n",
       "        text-align: right;\n",
       "    }\n",
       "</style>\n",
       "<table border=\"1\" class=\"dataframe\">\n",
       "  <thead>\n",
       "    <tr style=\"text-align: right;\">\n",
       "      <th></th>\n",
       "      <th>DateCrawled</th>\n",
       "      <th>Price</th>\n",
       "      <th>VehicleType</th>\n",
       "      <th>RegistrationYear</th>\n",
       "      <th>Gearbox</th>\n",
       "      <th>Power</th>\n",
       "      <th>Model</th>\n",
       "      <th>Kilometer</th>\n",
       "      <th>RegistrationMonth</th>\n",
       "      <th>FuelType</th>\n",
       "      <th>Brand</th>\n",
       "      <th>NotRepaired</th>\n",
       "      <th>DateCreated</th>\n",
       "      <th>NumberOfPictures</th>\n",
       "      <th>PostalCode</th>\n",
       "      <th>LastSeen</th>\n",
       "    </tr>\n",
       "  </thead>\n",
       "  <tbody>\n",
       "    <tr>\n",
       "      <td>0</td>\n",
       "      <td>2016-03-24 11:52:17</td>\n",
       "      <td>480</td>\n",
       "      <td>NaN</td>\n",
       "      <td>1993</td>\n",
       "      <td>manual</td>\n",
       "      <td>0</td>\n",
       "      <td>golf</td>\n",
       "      <td>150000</td>\n",
       "      <td>0</td>\n",
       "      <td>petrol</td>\n",
       "      <td>volkswagen</td>\n",
       "      <td>NaN</td>\n",
       "      <td>2016-03-24 00:00:00</td>\n",
       "      <td>0</td>\n",
       "      <td>70435</td>\n",
       "      <td>2016-04-07 03:16:57</td>\n",
       "    </tr>\n",
       "    <tr>\n",
       "      <td>1</td>\n",
       "      <td>2016-03-24 10:58:45</td>\n",
       "      <td>18300</td>\n",
       "      <td>coupe</td>\n",
       "      <td>2011</td>\n",
       "      <td>manual</td>\n",
       "      <td>190</td>\n",
       "      <td>NaN</td>\n",
       "      <td>125000</td>\n",
       "      <td>5</td>\n",
       "      <td>gasoline</td>\n",
       "      <td>audi</td>\n",
       "      <td>yes</td>\n",
       "      <td>2016-03-24 00:00:00</td>\n",
       "      <td>0</td>\n",
       "      <td>66954</td>\n",
       "      <td>2016-04-07 01:46:50</td>\n",
       "    </tr>\n",
       "    <tr>\n",
       "      <td>2</td>\n",
       "      <td>2016-03-14 12:52:21</td>\n",
       "      <td>9800</td>\n",
       "      <td>suv</td>\n",
       "      <td>2004</td>\n",
       "      <td>auto</td>\n",
       "      <td>163</td>\n",
       "      <td>grand</td>\n",
       "      <td>125000</td>\n",
       "      <td>8</td>\n",
       "      <td>gasoline</td>\n",
       "      <td>jeep</td>\n",
       "      <td>NaN</td>\n",
       "      <td>2016-03-14 00:00:00</td>\n",
       "      <td>0</td>\n",
       "      <td>90480</td>\n",
       "      <td>2016-04-05 12:47:46</td>\n",
       "    </tr>\n",
       "    <tr>\n",
       "      <td>3</td>\n",
       "      <td>2016-03-17 16:54:04</td>\n",
       "      <td>1500</td>\n",
       "      <td>small</td>\n",
       "      <td>2001</td>\n",
       "      <td>manual</td>\n",
       "      <td>75</td>\n",
       "      <td>golf</td>\n",
       "      <td>150000</td>\n",
       "      <td>6</td>\n",
       "      <td>petrol</td>\n",
       "      <td>volkswagen</td>\n",
       "      <td>no</td>\n",
       "      <td>2016-03-17 00:00:00</td>\n",
       "      <td>0</td>\n",
       "      <td>91074</td>\n",
       "      <td>2016-03-17 17:40:17</td>\n",
       "    </tr>\n",
       "    <tr>\n",
       "      <td>4</td>\n",
       "      <td>2016-03-31 17:25:20</td>\n",
       "      <td>3600</td>\n",
       "      <td>small</td>\n",
       "      <td>2008</td>\n",
       "      <td>manual</td>\n",
       "      <td>69</td>\n",
       "      <td>fabia</td>\n",
       "      <td>90000</td>\n",
       "      <td>7</td>\n",
       "      <td>gasoline</td>\n",
       "      <td>skoda</td>\n",
       "      <td>no</td>\n",
       "      <td>2016-03-31 00:00:00</td>\n",
       "      <td>0</td>\n",
       "      <td>60437</td>\n",
       "      <td>2016-04-06 10:17:21</td>\n",
       "    </tr>\n",
       "    <tr>\n",
       "      <td>5</td>\n",
       "      <td>2016-04-04 17:36:23</td>\n",
       "      <td>650</td>\n",
       "      <td>sedan</td>\n",
       "      <td>1995</td>\n",
       "      <td>manual</td>\n",
       "      <td>102</td>\n",
       "      <td>3er</td>\n",
       "      <td>150000</td>\n",
       "      <td>10</td>\n",
       "      <td>petrol</td>\n",
       "      <td>bmw</td>\n",
       "      <td>yes</td>\n",
       "      <td>2016-04-04 00:00:00</td>\n",
       "      <td>0</td>\n",
       "      <td>33775</td>\n",
       "      <td>2016-04-06 19:17:07</td>\n",
       "    </tr>\n",
       "    <tr>\n",
       "      <td>6</td>\n",
       "      <td>2016-04-01 20:48:51</td>\n",
       "      <td>2200</td>\n",
       "      <td>convertible</td>\n",
       "      <td>2004</td>\n",
       "      <td>manual</td>\n",
       "      <td>109</td>\n",
       "      <td>2_reihe</td>\n",
       "      <td>150000</td>\n",
       "      <td>8</td>\n",
       "      <td>petrol</td>\n",
       "      <td>peugeot</td>\n",
       "      <td>no</td>\n",
       "      <td>2016-04-01 00:00:00</td>\n",
       "      <td>0</td>\n",
       "      <td>67112</td>\n",
       "      <td>2016-04-05 18:18:39</td>\n",
       "    </tr>\n",
       "    <tr>\n",
       "      <td>7</td>\n",
       "      <td>2016-03-21 18:54:38</td>\n",
       "      <td>0</td>\n",
       "      <td>sedan</td>\n",
       "      <td>1980</td>\n",
       "      <td>manual</td>\n",
       "      <td>50</td>\n",
       "      <td>other</td>\n",
       "      <td>40000</td>\n",
       "      <td>7</td>\n",
       "      <td>petrol</td>\n",
       "      <td>volkswagen</td>\n",
       "      <td>no</td>\n",
       "      <td>2016-03-21 00:00:00</td>\n",
       "      <td>0</td>\n",
       "      <td>19348</td>\n",
       "      <td>2016-03-25 16:47:58</td>\n",
       "    </tr>\n",
       "    <tr>\n",
       "      <td>8</td>\n",
       "      <td>2016-04-04 23:42:13</td>\n",
       "      <td>14500</td>\n",
       "      <td>bus</td>\n",
       "      <td>2014</td>\n",
       "      <td>manual</td>\n",
       "      <td>125</td>\n",
       "      <td>c_max</td>\n",
       "      <td>30000</td>\n",
       "      <td>8</td>\n",
       "      <td>petrol</td>\n",
       "      <td>ford</td>\n",
       "      <td>NaN</td>\n",
       "      <td>2016-04-04 00:00:00</td>\n",
       "      <td>0</td>\n",
       "      <td>94505</td>\n",
       "      <td>2016-04-04 23:42:13</td>\n",
       "    </tr>\n",
       "    <tr>\n",
       "      <td>9</td>\n",
       "      <td>2016-03-17 10:53:50</td>\n",
       "      <td>999</td>\n",
       "      <td>small</td>\n",
       "      <td>1998</td>\n",
       "      <td>manual</td>\n",
       "      <td>101</td>\n",
       "      <td>golf</td>\n",
       "      <td>150000</td>\n",
       "      <td>0</td>\n",
       "      <td>NaN</td>\n",
       "      <td>volkswagen</td>\n",
       "      <td>NaN</td>\n",
       "      <td>2016-03-17 00:00:00</td>\n",
       "      <td>0</td>\n",
       "      <td>27472</td>\n",
       "      <td>2016-03-31 17:17:06</td>\n",
       "    </tr>\n",
       "  </tbody>\n",
       "</table>\n",
       "</div>"
      ],
      "text/plain": [
       "           DateCrawled  Price  VehicleType  RegistrationYear Gearbox  Power  \\\n",
       "0  2016-03-24 11:52:17    480          NaN              1993  manual      0   \n",
       "1  2016-03-24 10:58:45  18300        coupe              2011  manual    190   \n",
       "2  2016-03-14 12:52:21   9800          suv              2004    auto    163   \n",
       "3  2016-03-17 16:54:04   1500        small              2001  manual     75   \n",
       "4  2016-03-31 17:25:20   3600        small              2008  manual     69   \n",
       "5  2016-04-04 17:36:23    650        sedan              1995  manual    102   \n",
       "6  2016-04-01 20:48:51   2200  convertible              2004  manual    109   \n",
       "7  2016-03-21 18:54:38      0        sedan              1980  manual     50   \n",
       "8  2016-04-04 23:42:13  14500          bus              2014  manual    125   \n",
       "9  2016-03-17 10:53:50    999        small              1998  manual    101   \n",
       "\n",
       "     Model  Kilometer  RegistrationMonth  FuelType       Brand NotRepaired  \\\n",
       "0     golf     150000                  0    petrol  volkswagen         NaN   \n",
       "1      NaN     125000                  5  gasoline        audi         yes   \n",
       "2    grand     125000                  8  gasoline        jeep         NaN   \n",
       "3     golf     150000                  6    petrol  volkswagen          no   \n",
       "4    fabia      90000                  7  gasoline       skoda          no   \n",
       "5      3er     150000                 10    petrol         bmw         yes   \n",
       "6  2_reihe     150000                  8    petrol     peugeot          no   \n",
       "7    other      40000                  7    petrol  volkswagen          no   \n",
       "8    c_max      30000                  8    petrol        ford         NaN   \n",
       "9     golf     150000                  0       NaN  volkswagen         NaN   \n",
       "\n",
       "           DateCreated  NumberOfPictures  PostalCode             LastSeen  \n",
       "0  2016-03-24 00:00:00                 0       70435  2016-04-07 03:16:57  \n",
       "1  2016-03-24 00:00:00                 0       66954  2016-04-07 01:46:50  \n",
       "2  2016-03-14 00:00:00                 0       90480  2016-04-05 12:47:46  \n",
       "3  2016-03-17 00:00:00                 0       91074  2016-03-17 17:40:17  \n",
       "4  2016-03-31 00:00:00                 0       60437  2016-04-06 10:17:21  \n",
       "5  2016-04-04 00:00:00                 0       33775  2016-04-06 19:17:07  \n",
       "6  2016-04-01 00:00:00                 0       67112  2016-04-05 18:18:39  \n",
       "7  2016-03-21 00:00:00                 0       19348  2016-03-25 16:47:58  \n",
       "8  2016-04-04 00:00:00                 0       94505  2016-04-04 23:42:13  \n",
       "9  2016-03-17 00:00:00                 0       27472  2016-03-31 17:17:06  "
      ]
     },
     "metadata": {},
     "output_type": "display_data"
    },
    {
     "data": {
      "text/html": [
       "<div>\n",
       "<style scoped>\n",
       "    .dataframe tbody tr th:only-of-type {\n",
       "        vertical-align: middle;\n",
       "    }\n",
       "\n",
       "    .dataframe tbody tr th {\n",
       "        vertical-align: top;\n",
       "    }\n",
       "\n",
       "    .dataframe thead th {\n",
       "        text-align: right;\n",
       "    }\n",
       "</style>\n",
       "<table border=\"1\" class=\"dataframe\">\n",
       "  <thead>\n",
       "    <tr style=\"text-align: right;\">\n",
       "      <th></th>\n",
       "      <th>count</th>\n",
       "      <th>mean</th>\n",
       "      <th>std</th>\n",
       "      <th>min</th>\n",
       "      <th>25%</th>\n",
       "      <th>50%</th>\n",
       "      <th>75%</th>\n",
       "      <th>max</th>\n",
       "    </tr>\n",
       "  </thead>\n",
       "  <tbody>\n",
       "    <tr>\n",
       "      <td>Price</td>\n",
       "      <td>354369.0</td>\n",
       "      <td>4416.656776</td>\n",
       "      <td>4514.158514</td>\n",
       "      <td>0.0</td>\n",
       "      <td>1050.0</td>\n",
       "      <td>2700.0</td>\n",
       "      <td>6400.0</td>\n",
       "      <td>20000.0</td>\n",
       "    </tr>\n",
       "    <tr>\n",
       "      <td>RegistrationYear</td>\n",
       "      <td>354369.0</td>\n",
       "      <td>2004.234448</td>\n",
       "      <td>90.227958</td>\n",
       "      <td>1000.0</td>\n",
       "      <td>1999.0</td>\n",
       "      <td>2003.0</td>\n",
       "      <td>2008.0</td>\n",
       "      <td>9999.0</td>\n",
       "    </tr>\n",
       "    <tr>\n",
       "      <td>Power</td>\n",
       "      <td>354369.0</td>\n",
       "      <td>110.094337</td>\n",
       "      <td>189.850405</td>\n",
       "      <td>0.0</td>\n",
       "      <td>69.0</td>\n",
       "      <td>105.0</td>\n",
       "      <td>143.0</td>\n",
       "      <td>20000.0</td>\n",
       "    </tr>\n",
       "    <tr>\n",
       "      <td>Kilometer</td>\n",
       "      <td>354369.0</td>\n",
       "      <td>128211.172535</td>\n",
       "      <td>37905.341530</td>\n",
       "      <td>5000.0</td>\n",
       "      <td>125000.0</td>\n",
       "      <td>150000.0</td>\n",
       "      <td>150000.0</td>\n",
       "      <td>150000.0</td>\n",
       "    </tr>\n",
       "    <tr>\n",
       "      <td>RegistrationMonth</td>\n",
       "      <td>354369.0</td>\n",
       "      <td>5.714645</td>\n",
       "      <td>3.726421</td>\n",
       "      <td>0.0</td>\n",
       "      <td>3.0</td>\n",
       "      <td>6.0</td>\n",
       "      <td>9.0</td>\n",
       "      <td>12.0</td>\n",
       "    </tr>\n",
       "    <tr>\n",
       "      <td>NumberOfPictures</td>\n",
       "      <td>354369.0</td>\n",
       "      <td>0.000000</td>\n",
       "      <td>0.000000</td>\n",
       "      <td>0.0</td>\n",
       "      <td>0.0</td>\n",
       "      <td>0.0</td>\n",
       "      <td>0.0</td>\n",
       "      <td>0.0</td>\n",
       "    </tr>\n",
       "    <tr>\n",
       "      <td>PostalCode</td>\n",
       "      <td>354369.0</td>\n",
       "      <td>50508.689087</td>\n",
       "      <td>25783.096248</td>\n",
       "      <td>1067.0</td>\n",
       "      <td>30165.0</td>\n",
       "      <td>49413.0</td>\n",
       "      <td>71083.0</td>\n",
       "      <td>99998.0</td>\n",
       "    </tr>\n",
       "  </tbody>\n",
       "</table>\n",
       "</div>"
      ],
      "text/plain": [
       "                      count           mean           std     min       25%  \\\n",
       "Price              354369.0    4416.656776   4514.158514     0.0    1050.0   \n",
       "RegistrationYear   354369.0    2004.234448     90.227958  1000.0    1999.0   \n",
       "Power              354369.0     110.094337    189.850405     0.0      69.0   \n",
       "Kilometer          354369.0  128211.172535  37905.341530  5000.0  125000.0   \n",
       "RegistrationMonth  354369.0       5.714645      3.726421     0.0       3.0   \n",
       "NumberOfPictures   354369.0       0.000000      0.000000     0.0       0.0   \n",
       "PostalCode         354369.0   50508.689087  25783.096248  1067.0   30165.0   \n",
       "\n",
       "                        50%       75%       max  \n",
       "Price                2700.0    6400.0   20000.0  \n",
       "RegistrationYear     2003.0    2008.0    9999.0  \n",
       "Power                 105.0     143.0   20000.0  \n",
       "Kilometer          150000.0  150000.0  150000.0  \n",
       "RegistrationMonth       6.0       9.0      12.0  \n",
       "NumberOfPictures        0.0       0.0       0.0  \n",
       "PostalCode          49413.0   71083.0   99998.0  "
      ]
     },
     "metadata": {},
     "output_type": "display_data"
    }
   ],
   "source": [
    "display(df.info())\n",
    "display(df.head(10))\n",
    "display(df.describe().T)"
   ]
  },
  {
   "cell_type": "markdown",
   "metadata": {},
   "source": [
    "В данных 354369  строк, и 16 столбцов. Присутствуют пропуски, присутствуют артефактные значения(Мощность больше 1500 л.с., год регистрации 1000 и 9999) В целевом признаке нет пропусков, но есть нулевые значения. Признаки  DateCrawled, DateCreated, NumberOfPictures, PostalCode, LastSeen, RegistrationMonth не нужны для обучения моделей. "
   ]
  },
  {
   "cell_type": "markdown",
   "metadata": {},
   "source": [
    "### Предобработка данных"
   ]
  },
  {
   "cell_type": "code",
   "execution_count": 4,
   "metadata": {},
   "outputs": [
    {
     "data": {
      "text/plain": [
       "4"
      ]
     },
     "metadata": {},
     "output_type": "display_data"
    }
   ],
   "source": [
    "display(df.duplicated().sum())# поиск и удаление дубликатов\n",
    "df = df.drop_duplicates() "
   ]
  },
  {
   "cell_type": "code",
   "execution_count": 5,
   "metadata": {},
   "outputs": [],
   "source": [
    "df = df[df['Price']!=0].reset_index(drop=True)# удалим бесплатные автомобили"
   ]
  },
  {
   "cell_type": "code",
   "execution_count": 6,
   "metadata": {},
   "outputs": [],
   "source": [
    "def find_mustache(column): # зададим функцию по поиску усов, все что вне усов является выбросами \n",
    "    describe = df[column].describe()\n",
    "    box = describe[6] - describe[4]\n",
    "    low_mustache = describe[4] - 1.5 * box\n",
    "    up_mustache = describe[6] + 1.5 * box\n",
    "    if low_mustache < describe[3]: \n",
    "        low_mustache = describe[3]\n",
    "    if up_mustache > describe[7]:\n",
    "        up_mustache = describe[7]\n",
    "    return [low_mustache, up_mustache]"
   ]
  },
  {
   "cell_type": "code",
   "execution_count": 7,
   "metadata": {},
   "outputs": [
    {
     "data": {
      "image/png": "[encoded data removed]",
      "text/plain": [
       "<Figure size 432x288 with 1 Axes>"
      ]
     },
     "metadata": {
      "needs_background": "light"
     },
     "output_type": "display_data"
    },
    {
     "name": "stdout",
     "output_type": "stream",
     "text": [
      "Price Усы [1.0, 14450.0]\n"
     ]
    },
    {
     "data": {
      "image/png": "[encoded data removed]",
      "text/plain": [
       "<Figure size 432x288 with 1 Axes>"
      ]
     },
     "metadata": {
      "needs_background": "light"
     },
     "output_type": "display_data"
    },
    {
     "name": "stdout",
     "output_type": "stream",
     "text": [
      "Power Усы [0.0, 254.0]\n"
     ]
    },
    {
     "data": {
      "image/png": "[encoded data removed]",
      "text/plain": [
       "<Figure size 432x288 with 1 Axes>"
      ]
     },
     "metadata": {
      "needs_background": "light"
     },
     "output_type": "display_data"
    },
    {
     "name": "stdout",
     "output_type": "stream",
     "text": [
      "Kilometer Усы [87500.0, 150000.0]\n"
     ]
    },
    {
     "data": {
      "image/png": "[encoded data removed]",
      "text/plain": [
       "<Figure size 432x288 with 1 Axes>"
      ]
     },
     "metadata": {
      "needs_background": "light"
     },
     "output_type": "display_data"
    },
    {
     "name": "stdout",
     "output_type": "stream",
     "text": [
      "RegistrationYear Усы [1985.5, 2021.5]\n"
     ]
    }
   ],
   "source": [
    "for column in ['Price', 'Power', 'Kilometer', 'RegistrationYear']: # проверим на выбросы цену, мощность, год регистрации\n",
    "    df.boxplot(column)\n",
    "    plt.show()\n",
    "    print(column, 'Усы', find_mustache(column))"
   ]
  },
  {
   "cell_type": "code",
   "execution_count": 8,
   "metadata": {},
   "outputs": [
    {
     "name": "stdout",
     "output_type": "stream",
     "text": [
      "Потеря процентов от исходных данных: 8.41%\n"
     ]
    }
   ],
   "source": [
    "df1 = df.query('Price <= 14450 and Power <= 254 and RegistrationYear > 1985 and RegistrationYear < 2021')\n",
    "print('Потеря процентов от исходных данных: {:.2%}'.format(1 - (df1.shape[0] / df.shape[0])))\n"
   ]
  },
  {
   "cell_type": "code",
   "execution_count": 9,
   "metadata": {},
   "outputs": [
    {
     "data": {
      "text/html": [
       "<div>\n",
       "<style scoped>\n",
       "    .dataframe tbody tr th:only-of-type {\n",
       "        vertical-align: middle;\n",
       "    }\n",
       "\n",
       "    .dataframe tbody tr th {\n",
       "        vertical-align: top;\n",
       "    }\n",
       "\n",
       "    .dataframe thead th {\n",
       "        text-align: right;\n",
       "    }\n",
       "</style>\n",
       "<table border=\"1\" class=\"dataframe\">\n",
       "  <thead>\n",
       "    <tr style=\"text-align: right;\">\n",
       "      <th></th>\n",
       "      <th>Price</th>\n",
       "      <th>VehicleType</th>\n",
       "      <th>RegistrationYear</th>\n",
       "      <th>Gearbox</th>\n",
       "      <th>Power</th>\n",
       "      <th>Model</th>\n",
       "      <th>Kilometer</th>\n",
       "      <th>FuelType</th>\n",
       "      <th>Brand</th>\n",
       "      <th>NotRepaired</th>\n",
       "    </tr>\n",
       "  </thead>\n",
       "  <tbody>\n",
       "    <tr>\n",
       "      <td>0</td>\n",
       "      <td>480</td>\n",
       "      <td>NaN</td>\n",
       "      <td>1993</td>\n",
       "      <td>manual</td>\n",
       "      <td>0</td>\n",
       "      <td>golf</td>\n",
       "      <td>150000</td>\n",
       "      <td>petrol</td>\n",
       "      <td>volkswagen</td>\n",
       "      <td>NaN</td>\n",
       "    </tr>\n",
       "    <tr>\n",
       "      <td>1</td>\n",
       "      <td>9800</td>\n",
       "      <td>suv</td>\n",
       "      <td>2004</td>\n",
       "      <td>auto</td>\n",
       "      <td>163</td>\n",
       "      <td>grand</td>\n",
       "      <td>125000</td>\n",
       "      <td>gasoline</td>\n",
       "      <td>jeep</td>\n",
       "      <td>NaN</td>\n",
       "    </tr>\n",
       "    <tr>\n",
       "      <td>2</td>\n",
       "      <td>1500</td>\n",
       "      <td>small</td>\n",
       "      <td>2001</td>\n",
       "      <td>manual</td>\n",
       "      <td>75</td>\n",
       "      <td>golf</td>\n",
       "      <td>150000</td>\n",
       "      <td>petrol</td>\n",
       "      <td>volkswagen</td>\n",
       "      <td>no</td>\n",
       "    </tr>\n",
       "    <tr>\n",
       "      <td>3</td>\n",
       "      <td>3600</td>\n",
       "      <td>small</td>\n",
       "      <td>2008</td>\n",
       "      <td>manual</td>\n",
       "      <td>69</td>\n",
       "      <td>fabia</td>\n",
       "      <td>90000</td>\n",
       "      <td>gasoline</td>\n",
       "      <td>skoda</td>\n",
       "      <td>no</td>\n",
       "    </tr>\n",
       "    <tr>\n",
       "      <td>4</td>\n",
       "      <td>650</td>\n",
       "      <td>sedan</td>\n",
       "      <td>1995</td>\n",
       "      <td>manual</td>\n",
       "      <td>102</td>\n",
       "      <td>3er</td>\n",
       "      <td>150000</td>\n",
       "      <td>petrol</td>\n",
       "      <td>bmw</td>\n",
       "      <td>yes</td>\n",
       "    </tr>\n",
       "    <tr>\n",
       "      <td>...</td>\n",
       "      <td>...</td>\n",
       "      <td>...</td>\n",
       "      <td>...</td>\n",
       "      <td>...</td>\n",
       "      <td>...</td>\n",
       "      <td>...</td>\n",
       "      <td>...</td>\n",
       "      <td>...</td>\n",
       "      <td>...</td>\n",
       "      <td>...</td>\n",
       "    </tr>\n",
       "    <tr>\n",
       "      <td>314709</td>\n",
       "      <td>1150</td>\n",
       "      <td>bus</td>\n",
       "      <td>2000</td>\n",
       "      <td>manual</td>\n",
       "      <td>0</td>\n",
       "      <td>zafira</td>\n",
       "      <td>150000</td>\n",
       "      <td>petrol</td>\n",
       "      <td>opel</td>\n",
       "      <td>no</td>\n",
       "    </tr>\n",
       "    <tr>\n",
       "      <td>314710</td>\n",
       "      <td>2200</td>\n",
       "      <td>NaN</td>\n",
       "      <td>2005</td>\n",
       "      <td>NaN</td>\n",
       "      <td>0</td>\n",
       "      <td>NaN</td>\n",
       "      <td>20000</td>\n",
       "      <td>NaN</td>\n",
       "      <td>sonstige_autos</td>\n",
       "      <td>NaN</td>\n",
       "    </tr>\n",
       "    <tr>\n",
       "      <td>314711</td>\n",
       "      <td>1199</td>\n",
       "      <td>convertible</td>\n",
       "      <td>2000</td>\n",
       "      <td>auto</td>\n",
       "      <td>101</td>\n",
       "      <td>fortwo</td>\n",
       "      <td>125000</td>\n",
       "      <td>petrol</td>\n",
       "      <td>smart</td>\n",
       "      <td>no</td>\n",
       "    </tr>\n",
       "    <tr>\n",
       "      <td>314712</td>\n",
       "      <td>9200</td>\n",
       "      <td>bus</td>\n",
       "      <td>1996</td>\n",
       "      <td>manual</td>\n",
       "      <td>102</td>\n",
       "      <td>transporter</td>\n",
       "      <td>150000</td>\n",
       "      <td>gasoline</td>\n",
       "      <td>volkswagen</td>\n",
       "      <td>no</td>\n",
       "    </tr>\n",
       "    <tr>\n",
       "      <td>314713</td>\n",
       "      <td>3400</td>\n",
       "      <td>wagon</td>\n",
       "      <td>2002</td>\n",
       "      <td>manual</td>\n",
       "      <td>100</td>\n",
       "      <td>golf</td>\n",
       "      <td>150000</td>\n",
       "      <td>gasoline</td>\n",
       "      <td>volkswagen</td>\n",
       "      <td>NaN</td>\n",
       "    </tr>\n",
       "  </tbody>\n",
       "</table>\n",
       "<p>314714 rows × 10 columns</p>\n",
       "</div>"
      ],
      "text/plain": [
       "        Price  VehicleType  RegistrationYear Gearbox  Power        Model  \\\n",
       "0         480          NaN              1993  manual      0         golf   \n",
       "1        9800          suv              2004    auto    163        grand   \n",
       "2        1500        small              2001  manual     75         golf   \n",
       "3        3600        small              2008  manual     69        fabia   \n",
       "4         650        sedan              1995  manual    102          3er   \n",
       "...       ...          ...               ...     ...    ...          ...   \n",
       "314709   1150          bus              2000  manual      0       zafira   \n",
       "314710   2200          NaN              2005     NaN      0          NaN   \n",
       "314711   1199  convertible              2000    auto    101       fortwo   \n",
       "314712   9200          bus              1996  manual    102  transporter   \n",
       "314713   3400        wagon              2002  manual    100         golf   \n",
       "\n",
       "        Kilometer  FuelType           Brand NotRepaired  \n",
       "0          150000    petrol      volkswagen         NaN  \n",
       "1          125000  gasoline            jeep         NaN  \n",
       "2          150000    petrol      volkswagen          no  \n",
       "3           90000  gasoline           skoda          no  \n",
       "4          150000    petrol             bmw         yes  \n",
       "...           ...       ...             ...         ...  \n",
       "314709     150000    petrol            opel          no  \n",
       "314710      20000       NaN  sonstige_autos         NaN  \n",
       "314711     125000    petrol           smart          no  \n",
       "314712     150000  gasoline      volkswagen          no  \n",
       "314713     150000  gasoline      volkswagen         NaN  \n",
       "\n",
       "[314714 rows x 10 columns]"
      ]
     },
     "execution_count": 9,
     "metadata": {},
     "output_type": "execute_result"
    }
   ],
   "source": [
    "drop_col = ['DateCrawled', 'DateCreated', 'NumberOfPictures', 'PostalCode', 'LastSeen', 'RegistrationMonth']\n",
    "df1 = df1.drop(drop_col, axis=1).reset_index(drop=True)\n",
    "df1"
   ]
  },
  {
   "cell_type": "markdown",
   "metadata": {},
   "source": [
    "#### Замена пропусков на моду "
   ]
  },
  {
   "cell_type": "code",
   "execution_count": 10,
   "metadata": {},
   "outputs": [],
   "source": [
    "df1[\"VehicleType\"] = df1[\"VehicleType\"].fillna(df1[\"VehicleType\"].mode().values[0])\n",
    "df1[\"Gearbox\"] = df1[\"Gearbox\"].fillna(df1[\"Gearbox\"].mode().values[0])\n",
    "df1[\"Model\"] = df1[\"Model\"].fillna(df1[\"Model\"].mode().values[0])\n",
    "df1[\"FuelType\"] = df1[\"FuelType\"].fillna(df1[\"FuelType\"].mode().values[0])\n",
    "\n",
    "df1[\"NotRepaired\"] = df1[\"NotRepaired\"].fillna(\"no\")"
   ]
  },
  {
   "cell_type": "code",
   "execution_count": 11,
   "metadata": {
    "scrolled": true
   },
   "outputs": [
    {
     "data": {
      "text/html": [
       "<div>\n",
       "<style scoped>\n",
       "    .dataframe tbody tr th:only-of-type {\n",
       "        vertical-align: middle;\n",
       "    }\n",
       "\n",
       "    .dataframe tbody tr th {\n",
       "        vertical-align: top;\n",
       "    }\n",
       "\n",
       "    .dataframe thead th {\n",
       "        text-align: right;\n",
       "    }\n",
       "</style>\n",
       "<table border=\"1\" class=\"dataframe\">\n",
       "  <thead>\n",
       "    <tr style=\"text-align: right;\">\n",
       "      <th></th>\n",
       "      <th>Price</th>\n",
       "      <th>RegistrationYear</th>\n",
       "      <th>Power</th>\n",
       "      <th>Kilometer</th>\n",
       "    </tr>\n",
       "  </thead>\n",
       "  <tbody>\n",
       "    <tr>\n",
       "      <td>Price</td>\n",
       "      <td>1.000000</td>\n",
       "      <td>0.463477</td>\n",
       "      <td>0.442676</td>\n",
       "      <td>-0.305947</td>\n",
       "    </tr>\n",
       "    <tr>\n",
       "      <td>RegistrationYear</td>\n",
       "      <td>0.463477</td>\n",
       "      <td>1.000000</td>\n",
       "      <td>0.048616</td>\n",
       "      <td>-0.257176</td>\n",
       "    </tr>\n",
       "    <tr>\n",
       "      <td>Power</td>\n",
       "      <td>0.442676</td>\n",
       "      <td>0.048616</td>\n",
       "      <td>1.000000</td>\n",
       "      <td>0.115433</td>\n",
       "    </tr>\n",
       "    <tr>\n",
       "      <td>Kilometer</td>\n",
       "      <td>-0.305947</td>\n",
       "      <td>-0.257176</td>\n",
       "      <td>0.115433</td>\n",
       "      <td>1.000000</td>\n",
       "    </tr>\n",
       "  </tbody>\n",
       "</table>\n",
       "</div>"
      ],
      "text/plain": [
       "                     Price  RegistrationYear     Power  Kilometer\n",
       "Price             1.000000          0.463477  0.442676  -0.305947\n",
       "RegistrationYear  0.463477          1.000000  0.048616  -0.257176\n",
       "Power             0.442676          0.048616  1.000000   0.115433\n",
       "Kilometer        -0.305947         -0.257176  0.115433   1.000000"
      ]
     },
     "execution_count": 11,
     "metadata": {},
     "output_type": "execute_result"
    }
   ],
   "source": [
    "df1.corr()"
   ]
  },
  {
   "cell_type": "markdown",
   "metadata": {},
   "source": [
    "### Вывод по главе "
   ]
  },
  {
   "cell_type": "markdown",
   "metadata": {},
   "source": [
    "При обработке данных мы:\n",
    "- избавились от дубликатов\n",
    "- удалили выбросы, потеряли менее 9% данных(считаю не критическим)\n",
    "- заменили пропуски на моду \n",
    "- удалили ненужные для обучения столбцы\n",
    "- корреляция после обработки показала адекватные(логичные) значения\n"
   ]
  },
  {
   "cell_type": "markdown",
   "metadata": {},
   "source": [
    "## Обучение моделей"
   ]
  },
  {
   "cell_type": "markdown",
   "metadata": {},
   "source": [
    "#### Кодировка данных и разделение на выборки"
   ]
  },
  {
   "cell_type": "code",
   "execution_count": 12,
   "metadata": {},
   "outputs": [],
   "source": [
    "df_ohe = pd.get_dummies(df1, drop_first=True)\n",
    "df_light = df1.astype({\"VehicleType\":'category',\n",
    "                                  \"Gearbox\":'category',\n",
    "                                  \"Model\":'category',\n",
    "                                  \"FuelType\":'category',\n",
    "                                  \"Brand\":'category',\n",
    "                                  \"NotRepaired\":'category'})\n",
    "\n",
    "features_train_ohe, features_valid_ohe, target_train_ohe, target_valid_ohe = train_test_split(df_ohe.drop(\"Price\",axis = 1),\n",
    "                                             df_ohe[\"Price\"],\n",
    "                                             test_size = 0.25,\n",
    "                                             random_state = 12345)\n",
    "\n",
    "\n",
    "features_train, features_valid, target_train, target_valid = train_test_split(df1.drop(\"Price\",axis = 1),\n",
    "                                             df1[\"Price\"],\n",
    "                                             test_size = 0.25,\n",
    "                                             random_state = 12345)\n",
    "\n",
    "features_train_light, features_valid_light, target_train_light, target_valid_light = train_test_split(df_light.drop(\"Price\",axis = 1),\n",
    "                                             df_light[\"Price\"],\n",
    "                                             test_size = 0.25,\n",
    "                                             random_state = 42)"
   ]
  },
  {
   "cell_type": "markdown",
   "metadata": {},
   "source": [
    "#### Catboost\n"
   ]
  },
  {
   "cell_type": "raw",
   "metadata": {},
   "source": [
    "%%time\n",
    "\n",
    "catboost = CatBoostRegressor(loss_function='RMSE')\n",
    "parameters_cat = {'depth':[5,10], 'learning_rate':np.arange(0.1,1,0.2)}\n",
    "catboost_grid = catboost.grid_search(parameters_cat,\n",
    "            Pool(features_train, target_train, cat_features=[\"VehicleType\",\"Gearbox\",\"Model\",\"FuelType\",\"Brand\",\"NotRepaired\"]),\n",
    "            cv=3,\n",
    "            verbose=True,\n",
    "            plot=False)"
   ]
  },
  {
   "cell_type": "code",
   "execution_count": 13,
   "metadata": {},
   "outputs": [
    {
     "name": "stdout",
     "output_type": "stream",
     "text": [
      "0:\tlearn: 3177.6277107\ttotal: 857ms\tremaining: 14m 16s\n",
      "100:\tlearn: 1336.3904439\ttotal: 1m 9s\tremaining: 10m 23s\n",
      "200:\tlearn: 1271.7834917\ttotal: 2m 22s\tremaining: 9m 27s\n",
      "300:\tlearn: 1238.1972063\ttotal: 3m 36s\tremaining: 8m 21s\n",
      "400:\tlearn: 1214.7307514\ttotal: 4m 49s\tremaining: 7m 12s\n",
      "500:\tlearn: 1195.9261670\ttotal: 6m 6s\tremaining: 6m 4s\n",
      "600:\tlearn: 1179.8629983\ttotal: 7m 21s\tremaining: 4m 52s\n",
      "700:\tlearn: 1165.7767394\ttotal: 8m 35s\tremaining: 3m 39s\n",
      "800:\tlearn: 1154.8284058\ttotal: 9m 50s\tremaining: 2m 26s\n",
      "900:\tlearn: 1143.5458055\ttotal: 11m 3s\tremaining: 1m 12s\n",
      "999:\tlearn: 1133.2947106\ttotal: 12m 17s\tremaining: 0us\n",
      "CPU times: user 11min 16s, sys: 1min 3s, total: 12min 20s\n",
      "Wall time: 12min 22s\n"
     ]
    },
    {
     "data": {
      "text/plain": [
       "<catboost.core.CatBoostRegressor at 0x7f22fbc0bfd0>"
      ]
     },
     "execution_count": 13,
     "metadata": {},
     "output_type": "execute_result"
    }
   ],
   "source": [
    "%%time\n",
    "final_cat = CatBoostRegressor(depth=10, \n",
    "                              learning_rate=0.1,\n",
    "                              loss_function='RMSE',verbose=100)\n",
    "final_cat.fit(Pool(features_train, target_train,\n",
    "                   cat_features=[\"VehicleType\",\"Gearbox\",\"Model\",\"FuelType\",\"Brand\",\"NotRepaired\"]))"
   ]
  },
  {
   "cell_type": "code",
   "execution_count": 14,
   "metadata": {},
   "outputs": [
    {
     "name": "stdout",
     "output_type": "stream",
     "text": [
      "CatBoost: 1259.9219587098337\n",
      "CPU times: user 1.7 s, sys: 71.1 ms, total: 1.77 s\n",
      "Wall time: 1.75 s\n"
     ]
    }
   ],
   "source": [
    "%%time\n",
    "\n",
    "print(\"CatBoost:\", mean_squared_error(target_valid, final_cat.predict(features_valid))**0.5)"
   ]
  },
  {
   "cell_type": "markdown",
   "metadata": {},
   "source": [
    "#### LightGBM"
   ]
  },
  {
   "cell_type": "code",
   "execution_count": 15,
   "metadata": {},
   "outputs": [
    {
     "name": "stdout",
     "output_type": "stream",
     "text": [
      "[100]\ttraining's rmse: 1307.58\tvalid_1's rmse: 1324.17\n",
      "[200]\ttraining's rmse: 1267.25\tvalid_1's rmse: 1298.79\n",
      "[300]\ttraining's rmse: 1242.8\tvalid_1's rmse: 1285.17\n",
      "[400]\ttraining's rmse: 1222.42\tvalid_1's rmse: 1274.82\n",
      "[500]\ttraining's rmse: 1206.05\tvalid_1's rmse: 1268.14\n",
      "[600]\ttraining's rmse: 1194.31\tvalid_1's rmse: 1264.65\n",
      "[700]\ttraining's rmse: 1183.27\tvalid_1's rmse: 1261.1\n",
      "[800]\ttraining's rmse: 1173.72\tvalid_1's rmse: 1258.31\n",
      "[900]\ttraining's rmse: 1164.14\tvalid_1's rmse: 1255.3\n",
      "[1000]\ttraining's rmse: 1156.92\tvalid_1's rmse: 1253.44\n",
      "CPU times: user 52.3 s, sys: 0 ns, total: 52.3 s\n",
      "Wall time: 53.4 s\n"
     ]
    }
   ],
   "source": [
    "%%time\n",
    "\n",
    "lgb_train = lgb.Dataset(features_train_light, target_train_light)\n",
    "lgb_valid = lgb.Dataset(features_valid_light, target_valid_light, reference=lgb_train)\n",
    "parameters_light = {'metric': 'rmse', 'max_depth':10,\"random_state\": 42,\"learning_rate\":0.1}\n",
    "light = lgb.train(parameters_light,\n",
    "                lgb_train,\n",
    "                num_boost_round=1000,\n",
    "                valid_sets=[lgb_train, lgb_valid],\n",
    "                verbose_eval=100)"
   ]
  },
  {
   "cell_type": "code",
   "execution_count": 16,
   "metadata": {},
   "outputs": [
    {
     "name": "stdout",
     "output_type": "stream",
     "text": [
      "LightGBM: 1253.4427132350927\n",
      "CPU times: user 7.49 s, sys: 0 ns, total: 7.49 s\n",
      "Wall time: 7.52 s\n"
     ]
    }
   ],
   "source": [
    "%%time\n",
    "\n",
    "print(\"LightGBM:\", mean_squared_error(target_valid_light, light.predict(features_valid_light))**0.5)"
   ]
  },
  {
   "cell_type": "markdown",
   "metadata": {},
   "source": [
    "#### RandomForest"
   ]
  },
  {
   "cell_type": "code",
   "execution_count": 17,
   "metadata": {},
   "outputs": [
    {
     "name": "stdout",
     "output_type": "stream",
     "text": [
      "CPU times: user 4min 52s, sys: 0 ns, total: 4min 52s\n",
      "Wall time: 4min 54s\n"
     ]
    },
    {
     "data": {
      "text/plain": [
       "RandomForestRegressor(bootstrap=True, criterion='mse', max_depth=10,\n",
       "                      max_features='auto', max_leaf_nodes=None,\n",
       "                      min_impurity_decrease=0.0, min_impurity_split=None,\n",
       "                      min_samples_leaf=1, min_samples_split=2,\n",
       "                      min_weight_fraction_leaf=0.0, n_estimators=100,\n",
       "                      n_jobs=None, oob_score=False, random_state=12345,\n",
       "                      verbose=0, warm_start=False)"
      ]
     },
     "execution_count": 17,
     "metadata": {},
     "output_type": "execute_result"
    }
   ],
   "source": [
    "%%time\n",
    "\n",
    "RF = RandomForestRegressor(criterion = \"mse\",random_state=12345,n_estimators = 100, max_depth=10)\n",
    "RF.fit(features_train_ohe, target_train_ohe)"
   ]
  },
  {
   "cell_type": "code",
   "execution_count": 18,
   "metadata": {},
   "outputs": [
    {
     "name": "stdout",
     "output_type": "stream",
     "text": [
      "RandomForest: 1537.5287793312793\n",
      "CPU times: user 893 ms, sys: 0 ns, total: 893 ms\n",
      "Wall time: 904 ms\n"
     ]
    }
   ],
   "source": [
    "%%time\n",
    "\n",
    "print(\"RandomForest:\", mean_squared_error(target_valid_ohe, RF.predict(features_valid_ohe))**0.5)"
   ]
  },
  {
   "cell_type": "markdown",
   "metadata": {},
   "source": [
    "####  LinearRegression\n"
   ]
  },
  {
   "cell_type": "code",
   "execution_count": 19,
   "metadata": {},
   "outputs": [
    {
     "name": "stdout",
     "output_type": "stream",
     "text": [
      "CPU times: user 18.3 s, sys: 5.78 s, total: 24.1 s\n",
      "Wall time: 24.3 s\n"
     ]
    },
    {
     "data": {
      "text/plain": [
       "LinearRegression(copy_X=True, fit_intercept=True, n_jobs=None, normalize=False)"
      ]
     },
     "execution_count": 19,
     "metadata": {},
     "output_type": "execute_result"
    }
   ],
   "source": [
    "%%time\n",
    "\n",
    "LR = LinearRegression()\n",
    "LR.fit(features_train_ohe, target_train_ohe)"
   ]
  },
  {
   "cell_type": "code",
   "execution_count": 20,
   "metadata": {},
   "outputs": [
    {
     "name": "stdout",
     "output_type": "stream",
     "text": [
      "LinearRegression: 2107.098071046707\n",
      "CPU times: user 149 ms, sys: 125 ms, total: 274 ms\n",
      "Wall time: 287 ms\n"
     ]
    }
   ],
   "source": [
    "%%time\n",
    "\n",
    "print(\"LinearRegression:\", mean_squared_error(target_valid_ohe, LR.predict(features_valid_ohe))**0.5)"
   ]
  },
  {
   "cell_type": "markdown",
   "metadata": {},
   "source": [
    "## Анализ моделей"
   ]
  },
  {
   "cell_type": "code",
   "execution_count": 21,
   "metadata": {},
   "outputs": [
    {
     "data": {
      "text/html": [
       "<div>\n",
       "<style scoped>\n",
       "    .dataframe tbody tr th:only-of-type {\n",
       "        vertical-align: middle;\n",
       "    }\n",
       "\n",
       "    .dataframe tbody tr th {\n",
       "        vertical-align: top;\n",
       "    }\n",
       "\n",
       "    .dataframe thead th {\n",
       "        text-align: right;\n",
       "    }\n",
       "</style>\n",
       "<table border=\"1\" class=\"dataframe\">\n",
       "  <thead>\n",
       "    <tr style=\"text-align: right;\">\n",
       "      <th></th>\n",
       "      <th>RMSE</th>\n",
       "      <th>fit time (sec)</th>\n",
       "      <th>predict time (sec)</th>\n",
       "    </tr>\n",
       "  </thead>\n",
       "  <tbody>\n",
       "    <tr>\n",
       "      <td>Catboost</td>\n",
       "      <td>1259.92190</td>\n",
       "      <td>857.0</td>\n",
       "      <td>2.050</td>\n",
       "    </tr>\n",
       "    <tr>\n",
       "      <td>LightGBM</td>\n",
       "      <td>1253.44270</td>\n",
       "      <td>95.0</td>\n",
       "      <td>8.630</td>\n",
       "    </tr>\n",
       "    <tr>\n",
       "      <td>RandomForest</td>\n",
       "      <td>1537.52870</td>\n",
       "      <td>319.0</td>\n",
       "      <td>0.980</td>\n",
       "    </tr>\n",
       "    <tr>\n",
       "      <td>LinearRegression</td>\n",
       "      <td>2107.09807</td>\n",
       "      <td>24.3</td>\n",
       "      <td>0.173</td>\n",
       "    </tr>\n",
       "  </tbody>\n",
       "</table>\n",
       "</div>"
      ],
      "text/plain": [
       "                        RMSE  fit time (sec)  predict time (sec)\n",
       "Catboost          1259.92190           857.0               2.050\n",
       "LightGBM          1253.44270            95.0               8.630\n",
       "RandomForest      1537.52870           319.0               0.980\n",
       "LinearRegression  2107.09807            24.3               0.173"
      ]
     },
     "execution_count": 21,
     "metadata": {},
     "output_type": "execute_result"
    }
   ],
   "source": [
    "df_time = pd.DataFrame({'Catboost':[1259.9219, 857, 2.05], \n",
    "                        'LightGBM':[1253.4427, 95, 8.63], \n",
    "                        'RandomForest':[1537.5287, 319, 0.98],\n",
    "                        'LinearRegression':[2107.09807, 24.3, 0.173]}, \n",
    "                        index=['RMSE','fit time (sec)','predict time (sec)'])\n",
    "df_time = df_time.T\n",
    "df_time"
   ]
  },
  {
   "cell_type": "markdown",
   "metadata": {},
   "source": [
    "Из-за очень высокой RMSE на моделях RandomForest и   LinearRegression, не берем в сравнения эти модели, остается  Catboost и LightGBM. LightGBM выигрывает в 2 из 3 показателях, заказчику будем рекомендовать эту модель"
   ]
  }
 ],
 "metadata": {
  "ExecuteTimeLog": [
   {
    "duration": 1571,
    "start_time": "2021-07-10T16:33:40.444Z"
   },
   {
    "duration": 97,
    "start_time": "2021-07-10T16:35:08.004Z"
   },
   {
    "duration": 101,
    "start_time": "2021-07-10T16:35:25.544Z"
   },
   {
    "duration": 1122,
    "start_time": "2021-07-10T16:35:30.578Z"
   },
   {
    "duration": 684,
    "start_time": "2021-07-10T16:36:49.828Z"
   },
   {
    "duration": 310,
    "start_time": "2021-07-10T16:38:14.857Z"
   },
   {
    "duration": 1549,
    "start_time": "2021-07-12T14:22:27.981Z"
   },
   {
    "duration": 1154,
    "start_time": "2021-07-12T14:22:29.533Z"
   },
   {
    "duration": 320,
    "start_time": "2021-07-12T14:22:30.690Z"
   },
   {
    "duration": 431,
    "start_time": "2021-07-12T14:47:04.084Z"
   },
   {
    "duration": 594,
    "start_time": "2021-07-12T14:49:24.401Z"
   },
   {
    "duration": 1350,
    "start_time": "2021-07-12T14:50:01.807Z"
   },
   {
    "duration": 1292,
    "start_time": "2021-07-12T14:50:06.181Z"
   },
   {
    "duration": 19,
    "start_time": "2021-07-12T14:54:35.763Z"
   },
   {
    "duration": 312,
    "start_time": "2021-07-12T14:55:49.497Z"
   },
   {
    "duration": 75,
    "start_time": "2021-07-12T14:55:59.766Z"
   },
   {
    "duration": 342,
    "start_time": "2021-07-12T14:56:22.221Z"
   },
   {
    "duration": 1537,
    "start_time": "2021-07-12T14:56:43.311Z"
   },
   {
    "duration": 1074,
    "start_time": "2021-07-12T14:56:44.851Z"
   },
   {
    "duration": 318,
    "start_time": "2021-07-12T14:56:45.928Z"
   },
   {
    "duration": 1338,
    "start_time": "2021-07-12T14:56:46.248Z"
   },
   {
    "duration": 26,
    "start_time": "2021-07-12T14:56:47.588Z"
   },
   {
    "duration": 270,
    "start_time": "2021-07-12T14:56:47.616Z"
   },
   {
    "duration": 24,
    "start_time": "2021-07-12T14:57:21.592Z"
   },
   {
    "duration": 1553,
    "start_time": "2021-07-12T14:57:38.324Z"
   },
   {
    "duration": 1120,
    "start_time": "2021-07-12T14:57:39.880Z"
   },
   {
    "duration": 324,
    "start_time": "2021-07-12T14:57:41.004Z"
   },
   {
    "duration": 1435,
    "start_time": "2021-07-12T14:57:41.331Z"
   },
   {
    "duration": 33,
    "start_time": "2021-07-12T14:57:42.769Z"
   },
   {
    "duration": 23,
    "start_time": "2021-07-12T14:57:42.804Z"
   },
   {
    "duration": 83,
    "start_time": "2021-07-12T15:14:23.739Z"
   },
   {
    "duration": 6,
    "start_time": "2021-07-12T15:14:30.689Z"
   },
   {
    "duration": 3549,
    "start_time": "2021-07-12T15:14:54.778Z"
   },
   {
    "duration": 1519,
    "start_time": "2021-07-12T15:15:14.431Z"
   },
   {
    "duration": 1120,
    "start_time": "2021-07-12T15:15:15.953Z"
   },
   {
    "duration": 319,
    "start_time": "2021-07-12T15:15:17.076Z"
   },
   {
    "duration": 1409,
    "start_time": "2021-07-12T15:15:17.401Z"
   },
   {
    "duration": 97,
    "start_time": "2021-07-12T15:15:18.812Z"
   },
   {
    "duration": 24,
    "start_time": "2021-07-12T15:15:18.912Z"
   },
   {
    "duration": 146,
    "start_time": "2021-07-12T15:16:10.892Z"
   },
   {
    "duration": 23,
    "start_time": "2021-07-12T15:16:14.473Z"
   },
   {
    "duration": 1563,
    "start_time": "2021-07-12T15:16:25.205Z"
   },
   {
    "duration": 1086,
    "start_time": "2021-07-12T15:16:26.771Z"
   },
   {
    "duration": 310,
    "start_time": "2021-07-12T15:16:27.860Z"
   },
   {
    "duration": 1369,
    "start_time": "2021-07-12T15:16:28.172Z"
   },
   {
    "duration": 168,
    "start_time": "2021-07-12T15:16:29.543Z"
   },
   {
    "duration": 22,
    "start_time": "2021-07-12T15:16:29.714Z"
   },
   {
    "duration": 7,
    "start_time": "2021-07-12T15:20:03.513Z"
   },
   {
    "duration": 7,
    "start_time": "2021-07-12T15:20:10.234Z"
   },
   {
    "duration": 44,
    "start_time": "2021-07-12T15:44:55.636Z"
   },
   {
    "duration": 15,
    "start_time": "2021-07-12T15:47:34.783Z"
   },
   {
    "duration": 27,
    "start_time": "2021-07-12T15:47:52.256Z"
   },
   {
    "duration": 15,
    "start_time": "2021-07-12T15:50:36.744Z"
   },
   {
    "duration": 15,
    "start_time": "2021-07-12T15:51:19.465Z"
   },
   {
    "duration": 14,
    "start_time": "2021-07-12T15:51:29.276Z"
   },
   {
    "duration": 15,
    "start_time": "2021-07-12T15:51:42.583Z"
   },
   {
    "duration": 15,
    "start_time": "2021-07-12T16:08:49.669Z"
   },
   {
    "duration": 15,
    "start_time": "2021-07-12T16:09:12.290Z"
   },
   {
    "duration": 15,
    "start_time": "2021-07-12T16:09:18.448Z"
   },
   {
    "duration": 14,
    "start_time": "2021-07-12T16:09:26.104Z"
   },
   {
    "duration": 89,
    "start_time": "2021-07-12T16:45:20.741Z"
   },
   {
    "duration": 410,
    "start_time": "2021-07-12T16:45:32.769Z"
   },
   {
    "duration": 5,
    "start_time": "2021-07-12T16:45:36.738Z"
   },
   {
    "duration": 34,
    "start_time": "2021-07-12T16:45:37.184Z"
   },
   {
    "duration": 390,
    "start_time": "2021-07-12T16:48:29.710Z"
   },
   {
    "duration": 422,
    "start_time": "2021-07-12T16:50:50.687Z"
   },
   {
    "duration": 577,
    "start_time": "2021-07-12T16:53:51.263Z"
   },
   {
    "duration": 63,
    "start_time": "2021-07-12T16:56:16.372Z"
   },
   {
    "duration": 221,
    "start_time": "2021-07-12T16:56:25.088Z"
   },
   {
    "duration": 348,
    "start_time": "2021-07-12T16:56:51.188Z"
   },
   {
    "duration": 81,
    "start_time": "2021-07-12T16:57:10.636Z"
   },
   {
    "duration": 75,
    "start_time": "2021-07-12T16:57:43.536Z"
   },
   {
    "duration": 77,
    "start_time": "2021-07-12T16:58:11.619Z"
   },
   {
    "duration": 79,
    "start_time": "2021-07-12T17:00:03.813Z"
   },
   {
    "duration": 79,
    "start_time": "2021-07-12T17:00:09.970Z"
   },
   {
    "duration": 1548,
    "start_time": "2021-07-12T17:00:22.091Z"
   },
   {
    "duration": 1219,
    "start_time": "2021-07-12T17:00:23.641Z"
   },
   {
    "duration": 318,
    "start_time": "2021-07-12T17:00:24.863Z"
   },
   {
    "duration": 1328,
    "start_time": "2021-07-12T17:00:25.184Z"
   },
   {
    "duration": 161,
    "start_time": "2021-07-12T17:00:26.514Z"
   },
   {
    "duration": 5,
    "start_time": "2021-07-12T17:00:26.677Z"
   },
   {
    "duration": 583,
    "start_time": "2021-07-12T17:00:26.685Z"
   },
   {
    "duration": 82,
    "start_time": "2021-07-12T17:00:27.272Z"
   },
   {
    "duration": 1288,
    "start_time": "2021-07-12T17:03:18.531Z"
   },
   {
    "duration": 88,
    "start_time": "2021-07-12T17:25:00.209Z"
   },
   {
    "duration": 80,
    "start_time": "2021-07-12T17:26:00.318Z"
   },
   {
    "duration": 419,
    "start_time": "2021-07-12T17:26:52.188Z"
   },
   {
    "duration": 257,
    "start_time": "2021-07-12T17:26:57.963Z"
   },
   {
    "duration": 270,
    "start_time": "2021-07-12T17:27:02.850Z"
   },
   {
    "duration": 265,
    "start_time": "2021-07-12T17:27:05.318Z"
   },
   {
    "duration": 13,
    "start_time": "2021-07-12T17:27:42.100Z"
   },
   {
    "duration": 1496,
    "start_time": "2021-07-14T10:48:20.110Z"
   },
   {
    "duration": 1085,
    "start_time": "2021-07-14T10:48:21.608Z"
   },
   {
    "duration": 317,
    "start_time": "2021-07-14T10:48:22.696Z"
   },
   {
    "duration": 1332,
    "start_time": "2021-07-14T10:48:23.016Z"
   },
   {
    "duration": 166,
    "start_time": "2021-07-14T10:48:24.351Z"
   },
   {
    "duration": 5,
    "start_time": "2021-07-14T10:48:24.520Z"
   },
   {
    "duration": 1190,
    "start_time": "2021-07-14T10:48:24.527Z"
   },
   {
    "duration": 87,
    "start_time": "2021-07-14T10:48:25.720Z"
   },
   {
    "duration": 7,
    "start_time": "2021-07-14T10:49:03.027Z"
   },
   {
    "duration": 1487,
    "start_time": "2021-07-14T10:49:04.946Z"
   },
   {
    "duration": 2048,
    "start_time": "2021-07-14T10:51:44.362Z"
   },
   {
    "duration": 1468,
    "start_time": "2021-07-14T10:52:17.711Z"
   },
   {
    "duration": 42,
    "start_time": "2021-07-14T10:55:41.572Z"
   },
   {
    "duration": 429,
    "start_time": "2021-07-14T10:55:50.131Z"
   },
   {
    "duration": 1498,
    "start_time": "2021-07-14T10:56:04.093Z"
   },
   {
    "duration": 1071,
    "start_time": "2021-07-14T10:56:05.594Z"
   },
   {
    "duration": 372,
    "start_time": "2021-07-14T10:56:06.668Z"
   },
   {
    "duration": 1968,
    "start_time": "2021-07-14T10:56:07.043Z"
   },
   {
    "duration": 190,
    "start_time": "2021-07-14T10:56:09.014Z"
   },
   {
    "duration": 8,
    "start_time": "2021-07-14T10:56:09.207Z"
   },
   {
    "duration": 1715,
    "start_time": "2021-07-14T10:56:09.218Z"
   },
   {
    "duration": 91,
    "start_time": "2021-07-14T10:56:10.937Z"
   },
   {
    "duration": 248,
    "start_time": "2021-07-14T10:56:11.031Z"
   },
   {
    "duration": 460,
    "start_time": "2021-07-14T10:56:39.084Z"
   },
   {
    "duration": 1573,
    "start_time": "2021-07-14T10:56:51.933Z"
   },
   {
    "duration": 1160,
    "start_time": "2021-07-14T10:56:53.508Z"
   },
   {
    "duration": 316,
    "start_time": "2021-07-14T10:56:54.671Z"
   },
   {
    "duration": 1353,
    "start_time": "2021-07-14T10:56:54.990Z"
   },
   {
    "duration": 169,
    "start_time": "2021-07-14T10:56:56.346Z"
   },
   {
    "duration": 5,
    "start_time": "2021-07-14T10:56:56.518Z"
   },
   {
    "duration": 1200,
    "start_time": "2021-07-14T10:56:56.525Z"
   },
   {
    "duration": 94,
    "start_time": "2021-07-14T10:56:57.728Z"
   },
   {
    "duration": 72,
    "start_time": "2021-07-14T10:56:57.825Z"
   },
   {
    "duration": 1542,
    "start_time": "2021-07-14T10:58:03.087Z"
   },
   {
    "duration": 1123,
    "start_time": "2021-07-14T10:58:04.632Z"
   },
   {
    "duration": 315,
    "start_time": "2021-07-14T10:58:05.758Z"
   },
   {
    "duration": 1284,
    "start_time": "2021-07-14T10:58:06.076Z"
   },
   {
    "duration": 184,
    "start_time": "2021-07-14T10:58:07.363Z"
   },
   {
    "duration": 5,
    "start_time": "2021-07-14T10:58:07.550Z"
   },
   {
    "duration": 1208,
    "start_time": "2021-07-14T10:58:07.558Z"
   },
   {
    "duration": 70,
    "start_time": "2021-07-14T10:58:08.769Z"
   },
   {
    "duration": 81,
    "start_time": "2021-07-14T10:58:08.854Z"
   },
   {
    "duration": 1539,
    "start_time": "2021-07-14T10:58:45.882Z"
   },
   {
    "duration": 1149,
    "start_time": "2021-07-14T10:58:47.424Z"
   },
   {
    "duration": 334,
    "start_time": "2021-07-14T10:58:48.576Z"
   },
   {
    "duration": 1453,
    "start_time": "2021-07-14T10:58:48.913Z"
   },
   {
    "duration": 173,
    "start_time": "2021-07-14T10:58:50.372Z"
   },
   {
    "duration": 5,
    "start_time": "2021-07-14T10:58:50.547Z"
   },
   {
    "duration": 1253,
    "start_time": "2021-07-14T10:58:50.555Z"
   },
   {
    "duration": 92,
    "start_time": "2021-07-14T10:58:51.811Z"
   },
   {
    "duration": 194,
    "start_time": "2021-07-14T10:58:51.906Z"
   },
   {
    "duration": 429,
    "start_time": "2021-07-14T12:24:51.432Z"
   },
   {
    "duration": 377,
    "start_time": "2021-07-14T12:35:22.079Z"
   },
   {
    "duration": 89,
    "start_time": "2021-07-14T12:35:25.453Z"
   },
   {
    "duration": 47,
    "start_time": "2021-07-14T12:36:06.577Z"
   },
   {
    "duration": 5,
    "start_time": "2021-07-14T12:36:20.285Z"
   },
   {
    "duration": 294,
    "start_time": "2021-07-14T12:46:23.293Z"
   },
   {
    "duration": 12,
    "start_time": "2021-07-14T12:46:29.468Z"
   },
   {
    "duration": 91,
    "start_time": "2021-07-14T12:51:41.226Z"
   },
   {
    "duration": 4,
    "start_time": "2021-07-14T12:52:04.662Z"
   },
   {
    "duration": 49,
    "start_time": "2021-07-14T13:08:09.735Z"
   },
   {
    "duration": 73,
    "start_time": "2021-07-14T13:08:20.421Z"
   },
   {
    "duration": 12,
    "start_time": "2021-07-14T13:24:13.600Z"
   },
   {
    "duration": 4313,
    "start_time": "2021-07-14T13:25:49.099Z"
   },
   {
    "duration": 4664,
    "start_time": "2021-07-14T13:25:58.539Z"
   },
   {
    "duration": 12,
    "start_time": "2021-07-14T13:26:28.459Z"
   },
   {
    "duration": 4,
    "start_time": "2021-07-14T13:36:32.948Z"
   },
   {
    "duration": 485,
    "start_time": "2021-07-14T13:38:32.897Z"
   },
   {
    "duration": 91,
    "start_time": "2021-07-14T13:38:58.297Z"
   },
   {
    "duration": 95,
    "start_time": "2021-07-14T13:39:12.821Z"
   },
   {
    "duration": 544,
    "start_time": "2021-07-14T13:41:53.750Z"
   },
   {
    "duration": 555,
    "start_time": "2021-07-14T13:45:16.171Z"
   },
   {
    "duration": 325,
    "start_time": "2021-07-14T13:45:51.501Z"
   },
   {
    "duration": 311,
    "start_time": "2021-07-14T14:00:24.252Z"
   },
   {
    "duration": 197616,
    "start_time": "2021-07-14T14:02:11.174Z"
   },
   {
    "duration": 93,
    "start_time": "2021-07-14T14:19:41.724Z"
   },
   {
    "duration": 5,
    "start_time": "2021-07-14T14:19:50.414Z"
   },
   {
    "duration": 4625,
    "start_time": "2021-07-14T14:21:46.211Z"
   },
   {
    "duration": 574,
    "start_time": "2021-07-14T14:22:43.764Z"
   },
   {
    "duration": 4688,
    "start_time": "2021-07-14T14:23:11.646Z"
   },
   {
    "duration": 4771,
    "start_time": "2021-07-14T14:24:47.728Z"
   },
   {
    "duration": 33,
    "start_time": "2021-07-14T14:27:03.054Z"
   },
   {
    "duration": 40,
    "start_time": "2021-07-14T14:27:07.900Z"
   },
   {
    "duration": 54,
    "start_time": "2021-07-14T14:28:07.587Z"
   },
   {
    "duration": 54,
    "start_time": "2021-07-14T14:28:35.311Z"
   },
   {
    "duration": 5,
    "start_time": "2021-07-14T14:45:18.103Z"
   },
   {
    "duration": 111,
    "start_time": "2021-07-14T15:15:26.645Z"
   },
   {
    "duration": 4099,
    "start_time": "2021-07-14T15:15:33.418Z"
   },
   {
    "duration": 101,
    "start_time": "2021-07-14T15:26:37.972Z"
   },
   {
    "duration": 320044,
    "start_time": "2021-07-14T15:27:02.463Z"
   },
   {
    "duration": 1520,
    "start_time": "2021-07-14T15:33:24.583Z"
   },
   {
    "duration": 1318,
    "start_time": "2021-07-14T15:33:26.106Z"
   },
   {
    "duration": 312,
    "start_time": "2021-07-14T15:33:27.427Z"
   },
   {
    "duration": 1292,
    "start_time": "2021-07-14T15:33:27.742Z"
   },
   {
    "duration": 177,
    "start_time": "2021-07-14T15:33:29.036Z"
   },
   {
    "duration": 6,
    "start_time": "2021-07-14T15:33:29.215Z"
   },
   {
    "duration": 1197,
    "start_time": "2021-07-14T15:33:29.223Z"
   },
   {
    "duration": 81,
    "start_time": "2021-07-14T15:33:30.424Z"
   },
   {
    "duration": 100,
    "start_time": "2021-07-14T15:33:30.507Z"
   },
   {
    "duration": 3,
    "start_time": "2021-07-14T15:33:30.609Z"
   },
   {
    "duration": 4,
    "start_time": "2021-07-14T15:34:46.234Z"
   },
   {
    "duration": 9020,
    "start_time": "2021-07-14T15:35:52.586Z"
   },
   {
    "duration": 8748,
    "start_time": "2021-07-14T15:37:28.034Z"
   },
   {
    "duration": 7384,
    "start_time": "2021-07-14T15:39:48.506Z"
   },
   {
    "duration": 93,
    "start_time": "2021-07-14T15:49:26.919Z"
   },
   {
    "duration": 8,
    "start_time": "2021-07-14T15:49:41.380Z"
   },
   {
    "duration": 92,
    "start_time": "2021-07-14T15:50:03.618Z"
   },
   {
    "duration": 7,
    "start_time": "2021-07-14T15:50:06.049Z"
   },
   {
    "duration": 96,
    "start_time": "2021-07-14T15:50:11.088Z"
   },
   {
    "duration": 7,
    "start_time": "2021-07-14T15:50:12.006Z"
   },
   {
    "duration": 1526,
    "start_time": "2021-07-14T15:50:19.073Z"
   },
   {
    "duration": 1154,
    "start_time": "2021-07-14T15:50:20.601Z"
   },
   {
    "duration": 320,
    "start_time": "2021-07-14T15:50:21.758Z"
   },
   {
    "duration": 1314,
    "start_time": "2021-07-14T15:50:22.080Z"
   },
   {
    "duration": 172,
    "start_time": "2021-07-14T15:50:23.396Z"
   },
   {
    "duration": 5,
    "start_time": "2021-07-14T15:50:23.570Z"
   },
   {
    "duration": 1213,
    "start_time": "2021-07-14T15:50:23.578Z"
   },
   {
    "duration": 85,
    "start_time": "2021-07-14T15:50:24.795Z"
   },
   {
    "duration": 99,
    "start_time": "2021-07-14T15:50:24.883Z"
   },
   {
    "duration": 85,
    "start_time": "2021-07-14T15:50:24.985Z"
   },
   {
    "duration": 7,
    "start_time": "2021-07-14T15:50:25.073Z"
   },
   {
    "duration": 78,
    "start_time": "2021-07-14T16:04:26.645Z"
   },
   {
    "duration": 7,
    "start_time": "2021-07-14T16:04:29.202Z"
   },
   {
    "duration": 1500,
    "start_time": "2021-07-14T16:05:15.793Z"
   },
   {
    "duration": 1216,
    "start_time": "2021-07-14T16:05:17.295Z"
   },
   {
    "duration": 319,
    "start_time": "2021-07-14T16:05:18.514Z"
   },
   {
    "duration": 1346,
    "start_time": "2021-07-14T16:05:18.836Z"
   },
   {
    "duration": 183,
    "start_time": "2021-07-14T16:05:20.185Z"
   },
   {
    "duration": 5,
    "start_time": "2021-07-14T16:05:20.371Z"
   },
   {
    "duration": 1192,
    "start_time": "2021-07-14T16:05:20.379Z"
   },
   {
    "duration": 86,
    "start_time": "2021-07-14T16:05:21.574Z"
   },
   {
    "duration": 99,
    "start_time": "2021-07-14T16:05:21.663Z"
   },
   {
    "duration": 89,
    "start_time": "2021-07-14T16:05:21.765Z"
   },
   {
    "duration": 8,
    "start_time": "2021-07-14T16:05:21.857Z"
   },
   {
    "duration": 7591,
    "start_time": "2021-07-14T16:06:43.280Z"
   },
   {
    "duration": 7429,
    "start_time": "2021-07-14T16:08:00.266Z"
   },
   {
    "duration": 8111,
    "start_time": "2021-07-14T16:08:33.554Z"
   },
   {
    "duration": 121433,
    "start_time": "2021-07-14T16:09:00.180Z"
   },
   {
    "duration": 1490,
    "start_time": "2021-07-14T16:11:05.610Z"
   },
   {
    "duration": 1206,
    "start_time": "2021-07-14T16:11:07.102Z"
   },
   {
    "duration": 324,
    "start_time": "2021-07-14T16:11:08.311Z"
   },
   {
    "duration": 1408,
    "start_time": "2021-07-14T16:11:08.638Z"
   },
   {
    "duration": 179,
    "start_time": "2021-07-14T16:11:10.049Z"
   },
   {
    "duration": 5,
    "start_time": "2021-07-14T16:11:10.230Z"
   },
   {
    "duration": 1176,
    "start_time": "2021-07-14T16:11:10.238Z"
   },
   {
    "duration": 84,
    "start_time": "2021-07-14T16:11:11.417Z"
   },
   {
    "duration": 102,
    "start_time": "2021-07-14T16:11:11.504Z"
   },
   {
    "duration": 528912,
    "start_time": "2021-07-14T16:11:11.609Z"
   },
   {
    "duration": 50,
    "start_time": "2021-07-14T16:20:00.474Z"
   },
   {
    "duration": 13,
    "start_time": "2021-07-14T16:21:33.506Z"
   },
   {
    "duration": 11,
    "start_time": "2021-07-14T16:21:53.297Z"
   },
   {
    "duration": 12,
    "start_time": "2021-07-14T16:23:16.367Z"
   },
   {
    "duration": 7,
    "start_time": "2021-07-14T16:23:25.558Z"
   },
   {
    "duration": 42526,
    "start_time": "2021-07-14T16:25:58.474Z"
   },
   {
    "duration": 670,
    "start_time": "2021-07-14T16:32:17.474Z"
   },
   {
    "duration": 5,
    "start_time": "2021-07-14T16:32:34.056Z"
   },
   {
    "duration": 2850,
    "start_time": "2021-07-14T16:33:38.829Z"
   },
   {
    "duration": 4,
    "start_time": "2021-07-14T16:34:19.212Z"
   },
   {
    "duration": 528,
    "start_time": "2021-07-14T16:34:20.896Z"
   },
   {
    "duration": 4,
    "start_time": "2021-07-14T16:34:27.935Z"
   },
   {
    "duration": 727,
    "start_time": "2021-07-14T16:34:29.239Z"
   },
   {
    "duration": 3,
    "start_time": "2021-07-14T16:48:34.265Z"
   },
   {
    "duration": 8,
    "start_time": "2021-07-14T16:48:37.710Z"
   },
   {
    "duration": 287,
    "start_time": "2021-07-14T16:50:17.364Z"
   },
   {
    "duration": 295,
    "start_time": "2021-07-14T16:50:43.549Z"
   },
   {
    "duration": 251,
    "start_time": "2021-07-14T16:50:57.812Z"
   },
   {
    "duration": 92,
    "start_time": "2021-07-14T17:45:26.022Z"
   },
   {
    "duration": 1286,
    "start_time": "2021-07-14T17:45:31.792Z"
   },
   {
    "duration": 1298,
    "start_time": "2021-07-14T17:46:13.501Z"
   },
   {
    "duration": 1478,
    "start_time": "2021-07-14T17:48:06.346Z"
   },
   {
    "duration": 7429,
    "start_time": "2021-07-14T17:48:24.045Z"
   },
   {
    "duration": 1542,
    "start_time": "2021-07-14T17:48:50.952Z"
   },
   {
    "duration": 1109,
    "start_time": "2021-07-14T17:48:52.497Z"
   },
   {
    "duration": 319,
    "start_time": "2021-07-14T17:48:53.609Z"
   },
   {
    "duration": 1376,
    "start_time": "2021-07-14T17:48:53.930Z"
   },
   {
    "duration": 183,
    "start_time": "2021-07-14T17:48:55.308Z"
   },
   {
    "duration": 5,
    "start_time": "2021-07-14T17:48:55.494Z"
   },
   {
    "duration": 1320,
    "start_time": "2021-07-14T17:48:55.501Z"
   },
   {
    "duration": 85,
    "start_time": "2021-07-14T17:48:56.824Z"
   },
   {
    "duration": 94,
    "start_time": "2021-07-14T17:48:56.912Z"
   },
   {
    "duration": 1478,
    "start_time": "2021-07-14T17:48:57.008Z"
   },
   {
    "duration": 1556,
    "start_time": "2021-07-14T17:53:24.827Z"
   },
   {
    "duration": 1586,
    "start_time": "2021-07-14T17:56:30.325Z"
   },
   {
    "duration": 1118,
    "start_time": "2021-07-14T17:56:31.914Z"
   },
   {
    "duration": 319,
    "start_time": "2021-07-14T17:56:33.035Z"
   },
   {
    "duration": 1336,
    "start_time": "2021-07-14T17:56:33.357Z"
   },
   {
    "duration": 185,
    "start_time": "2021-07-14T17:56:34.695Z"
   },
   {
    "duration": 6,
    "start_time": "2021-07-14T17:56:34.882Z"
   },
   {
    "duration": 1214,
    "start_time": "2021-07-14T17:56:34.890Z"
   },
   {
    "duration": 81,
    "start_time": "2021-07-14T17:56:36.107Z"
   },
   {
    "duration": 99,
    "start_time": "2021-07-14T17:56:36.192Z"
   },
   {
    "duration": 40780,
    "start_time": "2021-07-14T17:56:36.294Z"
   },
   {
    "duration": 1492,
    "start_time": "2021-07-14T17:58:12.107Z"
   },
   {
    "duration": 1110,
    "start_time": "2021-07-14T17:58:13.602Z"
   },
   {
    "duration": 316,
    "start_time": "2021-07-14T17:58:14.715Z"
   },
   {
    "duration": 1305,
    "start_time": "2021-07-14T17:58:15.033Z"
   },
   {
    "duration": 181,
    "start_time": "2021-07-14T17:58:16.340Z"
   },
   {
    "duration": 6,
    "start_time": "2021-07-14T17:58:16.523Z"
   },
   {
    "duration": 1185,
    "start_time": "2021-07-14T17:58:16.531Z"
   },
   {
    "duration": 85,
    "start_time": "2021-07-14T17:58:17.718Z"
   },
   {
    "duration": 96,
    "start_time": "2021-07-14T17:58:17.806Z"
   },
   {
    "duration": 1604,
    "start_time": "2021-07-14T18:00:17.111Z"
   },
   {
    "duration": 1144,
    "start_time": "2021-07-14T18:00:18.718Z"
   },
   {
    "duration": 330,
    "start_time": "2021-07-14T18:00:19.866Z"
   },
   {
    "duration": 1359,
    "start_time": "2021-07-14T18:00:20.199Z"
   },
   {
    "duration": 183,
    "start_time": "2021-07-14T18:00:21.561Z"
   },
   {
    "duration": 9,
    "start_time": "2021-07-14T18:00:21.746Z"
   },
   {
    "duration": 1328,
    "start_time": "2021-07-14T18:00:21.758Z"
   },
   {
    "duration": 85,
    "start_time": "2021-07-14T18:00:23.090Z"
   },
   {
    "duration": 97,
    "start_time": "2021-07-14T18:00:23.178Z"
   },
   {
    "duration": 294747,
    "start_time": "2021-07-14T18:00:23.278Z"
   },
   {
    "duration": 92,
    "start_time": "2021-07-14T18:06:14.995Z"
   },
   {
    "duration": 109,
    "start_time": "2021-07-14T18:06:21.847Z"
   },
   {
    "duration": 4,
    "start_time": "2021-07-14T18:11:01.159Z"
   },
   {
    "duration": 6,
    "start_time": "2021-07-14T18:11:03.696Z"
   },
   {
    "duration": 89,
    "start_time": "2021-07-14T18:12:23.563Z"
   },
   {
    "duration": 279,
    "start_time": "2021-07-14T18:12:40.661Z"
   },
   {
    "duration": 262,
    "start_time": "2021-07-14T18:13:25.548Z"
   },
   {
    "duration": 552,
    "start_time": "2021-07-14T18:13:43.815Z"
   },
   {
    "duration": 1551,
    "start_time": "2021-07-15T11:24:54.781Z"
   },
   {
    "duration": 1096,
    "start_time": "2021-07-15T11:24:56.335Z"
   },
   {
    "duration": 323,
    "start_time": "2021-07-15T11:24:57.434Z"
   },
   {
    "duration": 1363,
    "start_time": "2021-07-15T11:24:57.760Z"
   },
   {
    "duration": 174,
    "start_time": "2021-07-15T11:24:59.126Z"
   },
   {
    "duration": 6,
    "start_time": "2021-07-15T11:24:59.302Z"
   },
   {
    "duration": 1233,
    "start_time": "2021-07-15T11:24:59.310Z"
   },
   {
    "duration": 87,
    "start_time": "2021-07-15T11:25:00.546Z"
   },
   {
    "duration": 89,
    "start_time": "2021-07-15T11:25:00.636Z"
   },
   {
    "duration": 54,
    "start_time": "2021-07-15T11:31:24.162Z"
   },
   {
    "duration": 783,
    "start_time": "2021-07-15T11:43:01.547Z"
   },
   {
    "duration": 760,
    "start_time": "2021-07-15T11:43:58.961Z"
   },
   {
    "duration": 770,
    "start_time": "2021-07-15T11:44:10.753Z"
   },
   {
    "duration": 1282,
    "start_time": "2021-07-15T11:44:22.688Z"
   },
   {
    "duration": 1190,
    "start_time": "2021-07-15T11:44:40.105Z"
   },
   {
    "duration": 770,
    "start_time": "2021-07-15T11:44:48.135Z"
   },
   {
    "duration": 1175,
    "start_time": "2021-07-15T11:45:11.004Z"
   },
   {
    "duration": 768,
    "start_time": "2021-07-15T11:47:18.284Z"
   },
   {
    "duration": 1244,
    "start_time": "2021-07-15T11:48:07.328Z"
   },
   {
    "duration": 1192,
    "start_time": "2021-07-15T11:48:18.843Z"
   },
   {
    "duration": 765,
    "start_time": "2021-07-15T11:48:32.437Z"
   },
   {
    "duration": 775,
    "start_time": "2021-07-15T11:48:39.105Z"
   },
   {
    "duration": 773,
    "start_time": "2021-07-15T11:48:45.115Z"
   },
   {
    "duration": 1261,
    "start_time": "2021-07-15T12:03:01.456Z"
   },
   {
    "duration": 775,
    "start_time": "2021-07-15T12:04:03.041Z"
   },
   {
    "duration": 786,
    "start_time": "2021-07-15T12:04:24.822Z"
   },
   {
    "duration": 762,
    "start_time": "2021-07-15T12:04:37.601Z"
   },
   {
    "duration": 360,
    "start_time": "2021-07-15T12:06:06.450Z"
   },
   {
    "duration": 1560,
    "start_time": "2021-07-15T12:06:21.764Z"
   },
   {
    "duration": 1136,
    "start_time": "2021-07-15T12:06:23.327Z"
   },
   {
    "duration": 325,
    "start_time": "2021-07-15T12:06:24.473Z"
   },
   {
    "duration": 1338,
    "start_time": "2021-07-15T12:06:24.801Z"
   },
   {
    "duration": 176,
    "start_time": "2021-07-15T12:06:26.142Z"
   },
   {
    "duration": 5,
    "start_time": "2021-07-15T12:06:26.320Z"
   },
   {
    "duration": 1207,
    "start_time": "2021-07-15T12:06:26.329Z"
   },
   {
    "duration": 86,
    "start_time": "2021-07-15T12:06:27.539Z"
   },
   {
    "duration": 186,
    "start_time": "2021-07-15T12:06:27.627Z"
   },
   {
    "duration": 175,
    "start_time": "2021-07-15T12:06:27.815Z"
   },
   {
    "duration": 80,
    "start_time": "2021-07-15T12:06:27.912Z"
   },
   {
    "duration": 491,
    "start_time": "2021-07-15T12:13:06.710Z"
   },
   {
    "duration": 340,
    "start_time": "2021-07-15T12:14:01.116Z"
   },
   {
    "duration": 382,
    "start_time": "2021-07-15T12:14:17.411Z"
   },
   {
    "duration": 9007,
    "start_time": "2021-07-15T12:15:45.055Z"
   },
   {
    "duration": 346,
    "start_time": "2021-07-15T12:16:19.058Z"
   },
   {
    "duration": 381,
    "start_time": "2021-07-15T12:17:02.147Z"
   },
   {
    "duration": 429,
    "start_time": "2021-07-15T12:18:54.900Z"
   },
   {
    "duration": 16,
    "start_time": "2021-07-15T12:19:11.805Z"
   },
   {
    "duration": 38,
    "start_time": "2021-07-15T12:20:36.677Z"
   },
   {
    "duration": 40,
    "start_time": "2021-07-15T12:22:29.189Z"
   },
   {
    "duration": 22,
    "start_time": "2021-07-15T12:22:55.409Z"
   },
   {
    "duration": 21,
    "start_time": "2021-07-15T12:23:08.609Z"
   },
   {
    "duration": 792,
    "start_time": "2021-07-15T12:24:50.403Z"
   },
   {
    "duration": 17,
    "start_time": "2021-07-15T12:27:07.935Z"
   },
   {
    "duration": 1137,
    "start_time": "2021-07-15T12:27:40.512Z"
   },
   {
    "duration": -22,
    "start_time": "2021-07-15T12:27:58.092Z"
   },
   {
    "duration": 793,
    "start_time": "2021-07-15T12:28:00.625Z"
   },
   {
    "duration": 125,
    "start_time": "2021-07-15T12:58:28.365Z"
   },
   {
    "duration": 4,
    "start_time": "2021-07-15T12:58:49.371Z"
   },
   {
    "duration": 4,
    "start_time": "2021-07-15T12:59:07.395Z"
   },
   {
    "duration": 729,
    "start_time": "2021-07-15T13:00:13.815Z"
   },
   {
    "duration": 5,
    "start_time": "2021-07-15T13:00:21.161Z"
   },
   {
    "duration": 1072,
    "start_time": "2021-07-15T13:00:21.960Z"
   },
   {
    "duration": 4,
    "start_time": "2021-07-15T13:00:42.803Z"
   },
   {
    "duration": 4,
    "start_time": "2021-07-15T13:00:45.897Z"
   },
   {
    "duration": 1034,
    "start_time": "2021-07-15T13:00:46.190Z"
   },
   {
    "duration": 4,
    "start_time": "2021-07-15T13:01:39.054Z"
   },
   {
    "duration": 1089,
    "start_time": "2021-07-15T13:01:40.529Z"
   },
   {
    "duration": 17,
    "start_time": "2021-07-15T13:29:35.678Z"
   },
   {
    "duration": 21,
    "start_time": "2021-07-15T13:29:43.152Z"
   },
   {
    "duration": 44298,
    "start_time": "2021-07-15T13:31:41.817Z"
   },
   {
    "duration": -62,
    "start_time": "2021-07-15T13:32:26.180Z"
   },
   {
    "duration": 1581,
    "start_time": "2021-07-15T13:32:44.648Z"
   },
   {
    "duration": 1123,
    "start_time": "2021-07-15T13:32:46.232Z"
   },
   {
    "duration": 324,
    "start_time": "2021-07-15T13:32:47.358Z"
   },
   {
    "duration": 1371,
    "start_time": "2021-07-15T13:32:47.684Z"
   },
   {
    "duration": 187,
    "start_time": "2021-07-15T13:32:49.057Z"
   },
   {
    "duration": 6,
    "start_time": "2021-07-15T13:32:49.246Z"
   },
   {
    "duration": 1260,
    "start_time": "2021-07-15T13:32:49.254Z"
   },
   {
    "duration": 89,
    "start_time": "2021-07-15T13:32:50.516Z"
   },
   {
    "duration": 190,
    "start_time": "2021-07-15T13:32:50.608Z"
   },
   {
    "duration": 20,
    "start_time": "2021-07-15T13:32:50.800Z"
   },
   {
    "duration": 5,
    "start_time": "2021-07-15T13:32:50.822Z"
   },
   {
    "duration": 528,
    "start_time": "2021-07-15T13:33:10.573Z"
   },
   {
    "duration": 119,
    "start_time": "2021-07-15T13:33:17.151Z"
   },
   {
    "duration": 3675,
    "start_time": "2021-07-15T13:36:44.099Z"
   },
   {
    "duration": 3480,
    "start_time": "2021-07-15T13:37:13.665Z"
   },
   {
    "duration": 790,
    "start_time": "2021-07-15T13:37:32.300Z"
   },
   {
    "duration": 3402,
    "start_time": "2021-07-15T13:38:23.841Z"
   },
   {
    "duration": 769,
    "start_time": "2021-07-15T13:38:36.784Z"
   },
   {
    "duration": 16,
    "start_time": "2021-07-15T13:52:37.354Z"
   },
   {
    "duration": 808,
    "start_time": "2021-07-15T13:52:42.277Z"
   },
   {
    "duration": 9,
    "start_time": "2021-07-15T13:59:30.934Z"
   },
   {
    "duration": 11973,
    "start_time": "2021-07-15T14:00:09.930Z"
   },
   {
    "duration": 6,
    "start_time": "2021-07-15T14:01:06.836Z"
   },
   {
    "duration": 11065,
    "start_time": "2021-07-15T14:01:08.273Z"
   },
   {
    "duration": 6,
    "start_time": "2021-07-15T14:14:18.090Z"
   },
   {
    "duration": 11288,
    "start_time": "2021-07-15T14:14:20.073Z"
   },
   {
    "duration": 799,
    "start_time": "2021-07-15T14:18:43.311Z"
   },
   {
    "duration": 764,
    "start_time": "2021-07-15T14:18:59.088Z"
   },
   {
    "duration": 859,
    "start_time": "2021-07-15T14:19:53.318Z"
   },
   {
    "duration": 794,
    "start_time": "2021-07-15T14:19:58.129Z"
   },
   {
    "duration": 9891,
    "start_time": "2021-07-15T14:25:15.856Z"
   },
   {
    "duration": 9502,
    "start_time": "2021-07-15T14:25:33.964Z"
   },
   {
    "duration": 9938,
    "start_time": "2021-07-15T14:25:47.334Z"
   },
   {
    "duration": 13524,
    "start_time": "2021-07-15T14:26:15.027Z"
   },
   {
    "duration": 9660,
    "start_time": "2021-07-15T14:26:32.716Z"
   },
   {
    "duration": 1207,
    "start_time": "2021-07-15T14:27:19.764Z"
   },
   {
    "duration": 1510,
    "start_time": "2021-07-15T14:33:58.470Z"
   },
   {
    "duration": 614,
    "start_time": "2021-07-15T14:34:31.717Z"
   },
   {
    "duration": 760,
    "start_time": "2021-07-15T14:35:02.647Z"
   },
   {
    "duration": 798,
    "start_time": "2021-07-15T14:55:21.328Z"
   },
   {
    "duration": 790,
    "start_time": "2021-07-15T15:05:25.417Z"
   },
   {
    "duration": 1539,
    "start_time": "2021-07-15T15:06:34.531Z"
   },
   {
    "duration": 1019,
    "start_time": "2021-07-15T15:06:40.965Z"
   },
   {
    "duration": 1043,
    "start_time": "2021-07-15T15:08:30.313Z"
   },
   {
    "duration": 1061,
    "start_time": "2021-07-15T15:08:34.997Z"
   },
   {
    "duration": 1067,
    "start_time": "2021-07-15T15:09:06.138Z"
   },
   {
    "duration": 1401,
    "start_time": "2021-07-15T15:09:56.518Z"
   },
   {
    "duration": 184,
    "start_time": "2021-07-15T15:10:39.772Z"
   },
   {
    "duration": 1866,
    "start_time": "2021-07-15T15:10:51.550Z"
   },
   {
    "duration": 1382,
    "start_time": "2021-07-15T15:11:27.775Z"
   },
   {
    "duration": 1456,
    "start_time": "2021-07-15T15:12:34.273Z"
   },
   {
    "duration": 1581,
    "start_time": "2021-07-15T15:12:49.648Z"
   },
   {
    "duration": 1153,
    "start_time": "2021-07-15T15:12:51.232Z"
   },
   {
    "duration": 336,
    "start_time": "2021-07-15T15:12:52.388Z"
   },
   {
    "duration": 1445,
    "start_time": "2021-07-15T15:12:52.727Z"
   },
   {
    "duration": 203,
    "start_time": "2021-07-15T15:12:54.174Z"
   },
   {
    "duration": 7,
    "start_time": "2021-07-15T15:12:54.380Z"
   },
   {
    "duration": 1265,
    "start_time": "2021-07-15T15:12:54.389Z"
   },
   {
    "duration": 73,
    "start_time": "2021-07-15T15:12:55.668Z"
   },
   {
    "duration": 188,
    "start_time": "2021-07-15T15:12:55.744Z"
   },
   {
    "duration": 1574,
    "start_time": "2021-07-15T15:12:55.935Z"
   },
   {
    "duration": 1361,
    "start_time": "2021-07-15T15:13:15.697Z"
   },
   {
    "duration": 1116,
    "start_time": "2021-07-15T15:13:46.836Z"
   },
   {
    "duration": 1137,
    "start_time": "2021-07-15T15:13:50.041Z"
   },
   {
    "duration": 6,
    "start_time": "2021-07-15T15:32:05.142Z"
   },
   {
    "duration": 1575,
    "start_time": "2021-07-15T15:33:13.075Z"
   },
   {
    "duration": 1121,
    "start_time": "2021-07-15T15:33:14.652Z"
   },
   {
    "duration": 324,
    "start_time": "2021-07-15T15:33:15.776Z"
   },
   {
    "duration": 1381,
    "start_time": "2021-07-15T15:33:16.103Z"
   },
   {
    "duration": 174,
    "start_time": "2021-07-15T15:33:17.487Z"
   },
   {
    "duration": 6,
    "start_time": "2021-07-15T15:33:17.666Z"
   },
   {
    "duration": 1231,
    "start_time": "2021-07-15T15:33:17.674Z"
   },
   {
    "duration": 99,
    "start_time": "2021-07-15T15:33:18.908Z"
   },
   {
    "duration": 188,
    "start_time": "2021-07-15T15:33:19.011Z"
   },
   {
    "duration": 7,
    "start_time": "2021-07-15T15:33:19.202Z"
   },
   {
    "duration": 7,
    "start_time": "2021-07-15T15:33:19.212Z"
   },
   {
    "duration": 857,
    "start_time": "2021-07-15T15:34:03.414Z"
   },
   {
    "duration": 1143,
    "start_time": "2021-07-15T15:34:29.660Z"
   },
   {
    "duration": 1255,
    "start_time": "2021-07-15T15:34:36.242Z"
   },
   {
    "duration": 1299,
    "start_time": "2021-07-15T15:34:49.784Z"
   },
   {
    "duration": 1129,
    "start_time": "2021-07-15T15:37:10.670Z"
   },
   {
    "duration": 1566,
    "start_time": "2021-07-15T15:37:15.221Z"
   },
   {
    "duration": 1139,
    "start_time": "2021-07-15T15:37:19.757Z"
   },
   {
    "duration": 587,
    "start_time": "2021-07-15T15:38:26.613Z"
   },
   {
    "duration": 2326,
    "start_time": "2021-07-15T15:39:59.652Z"
   },
   {
    "duration": 3046,
    "start_time": "2021-07-15T15:43:30.574Z"
   },
   {
    "duration": 3943,
    "start_time": "2021-07-15T15:44:56.115Z"
   },
   {
    "duration": 4085,
    "start_time": "2021-07-15T15:45:07.556Z"
   },
   {
    "duration": 1596,
    "start_time": "2021-07-15T15:46:19.056Z"
   },
   {
    "duration": 1172,
    "start_time": "2021-07-15T15:46:20.655Z"
   },
   {
    "duration": 345,
    "start_time": "2021-07-15T15:46:21.830Z"
   },
   {
    "duration": 1400,
    "start_time": "2021-07-15T15:46:22.179Z"
   },
   {
    "duration": 179,
    "start_time": "2021-07-15T15:46:23.582Z"
   },
   {
    "duration": 5,
    "start_time": "2021-07-15T15:46:23.767Z"
   },
   {
    "duration": 1217,
    "start_time": "2021-07-15T15:46:23.774Z"
   },
   {
    "duration": 91,
    "start_time": "2021-07-15T15:46:24.995Z"
   },
   {
    "duration": 198,
    "start_time": "2021-07-15T15:46:25.089Z"
   },
   {
    "duration": 7,
    "start_time": "2021-07-15T15:46:25.291Z"
   },
   {
    "duration": 750,
    "start_time": "2021-07-15T15:46:25.301Z"
   },
   {
    "duration": 1553,
    "start_time": "2021-07-15T17:53:32.698Z"
   },
   {
    "duration": 1126,
    "start_time": "2021-07-15T17:53:34.253Z"
   },
   {
    "duration": 325,
    "start_time": "2021-07-15T17:53:35.382Z"
   },
   {
    "duration": 1502,
    "start_time": "2021-07-15T17:53:35.709Z"
   },
   {
    "duration": 174,
    "start_time": "2021-07-15T17:53:37.214Z"
   },
   {
    "duration": 5,
    "start_time": "2021-07-15T17:53:37.391Z"
   },
   {
    "duration": 1240,
    "start_time": "2021-07-15T17:53:37.398Z"
   },
   {
    "duration": 92,
    "start_time": "2021-07-15T17:53:38.641Z"
   },
   {
    "duration": 180,
    "start_time": "2021-07-15T17:53:38.735Z"
   },
   {
    "duration": 6,
    "start_time": "2021-07-15T17:53:38.917Z"
   },
   {
    "duration": 742,
    "start_time": "2021-07-15T17:53:38.925Z"
   },
   {
    "duration": 1666,
    "start_time": "2021-07-15T17:54:08.261Z"
   },
   {
    "duration": 1751,
    "start_time": "2021-07-15T17:54:17.513Z"
   },
   {
    "duration": 1544,
    "start_time": "2021-07-15T17:55:15.318Z"
   },
   {
    "duration": 1151,
    "start_time": "2021-07-15T17:55:16.864Z"
   },
   {
    "duration": 331,
    "start_time": "2021-07-15T17:55:18.018Z"
   },
   {
    "duration": 1360,
    "start_time": "2021-07-15T17:55:18.351Z"
   },
   {
    "duration": 173,
    "start_time": "2021-07-15T17:55:19.714Z"
   },
   {
    "duration": 5,
    "start_time": "2021-07-15T17:55:19.889Z"
   },
   {
    "duration": 1240,
    "start_time": "2021-07-15T17:55:19.897Z"
   },
   {
    "duration": 90,
    "start_time": "2021-07-15T17:55:21.141Z"
   },
   {
    "duration": 180,
    "start_time": "2021-07-15T17:55:21.234Z"
   },
   {
    "duration": 6,
    "start_time": "2021-07-15T17:55:21.416Z"
   },
   {
    "duration": 745,
    "start_time": "2021-07-15T17:55:21.424Z"
   },
   {
    "duration": 1711,
    "start_time": "2021-07-15T17:55:22.171Z"
   },
   {
    "duration": 547,
    "start_time": "2021-07-15T17:55:23.885Z"
   },
   {
    "duration": 551,
    "start_time": "2021-07-15T17:55:24.434Z"
   },
   {
    "duration": 555,
    "start_time": "2021-07-15T17:55:24.987Z"
   },
   {
    "duration": 97,
    "start_time": "2021-07-15T17:55:25.544Z"
   },
   {
    "duration": 1508,
    "start_time": "2021-07-15T17:56:48.818Z"
   },
   {
    "duration": 1151,
    "start_time": "2021-07-15T17:56:50.328Z"
   },
   {
    "duration": 328,
    "start_time": "2021-07-15T17:56:51.482Z"
   },
   {
    "duration": 1590,
    "start_time": "2021-07-15T17:56:51.813Z"
   },
   {
    "duration": 176,
    "start_time": "2021-07-15T17:56:53.405Z"
   },
   {
    "duration": 5,
    "start_time": "2021-07-15T17:56:53.584Z"
   },
   {
    "duration": 1225,
    "start_time": "2021-07-15T17:56:53.592Z"
   },
   {
    "duration": 86,
    "start_time": "2021-07-15T17:56:54.819Z"
   },
   {
    "duration": 186,
    "start_time": "2021-07-15T17:56:54.908Z"
   },
   {
    "duration": 6,
    "start_time": "2021-07-15T17:56:55.097Z"
   },
   {
    "duration": 644,
    "start_time": "2021-07-15T17:56:55.106Z"
   },
   {
    "duration": 1799,
    "start_time": "2021-07-15T17:56:55.753Z"
   },
   {
    "duration": 6925,
    "start_time": "2021-07-15T17:56:57.555Z"
   },
   {
    "duration": 11,
    "start_time": "2021-07-15T17:57:04.472Z"
   },
   {
    "duration": 9,
    "start_time": "2021-07-15T17:57:04.475Z"
   },
   {
    "duration": 7,
    "start_time": "2021-07-15T17:57:04.479Z"
   },
   {
    "duration": 3038,
    "start_time": "2021-07-15T17:57:47.165Z"
   },
   {
    "duration": 1547,
    "start_time": "2021-07-15T17:58:04.902Z"
   },
   {
    "duration": 1159,
    "start_time": "2021-07-15T17:58:06.452Z"
   },
   {
    "duration": 329,
    "start_time": "2021-07-15T17:58:07.614Z"
   },
   {
    "duration": 1402,
    "start_time": "2021-07-15T17:58:07.945Z"
   },
   {
    "duration": 175,
    "start_time": "2021-07-15T17:58:09.349Z"
   },
   {
    "duration": 5,
    "start_time": "2021-07-15T17:58:09.526Z"
   },
   {
    "duration": 1221,
    "start_time": "2021-07-15T17:58:09.534Z"
   },
   {
    "duration": 74,
    "start_time": "2021-07-15T17:58:10.766Z"
   },
   {
    "duration": 194,
    "start_time": "2021-07-15T17:58:10.843Z"
   },
   {
    "duration": 6,
    "start_time": "2021-07-15T17:58:11.040Z"
   },
   {
    "duration": 680,
    "start_time": "2021-07-15T17:58:11.049Z"
   },
   {
    "duration": 1913,
    "start_time": "2021-07-15T17:58:11.731Z"
   },
   {
    "duration": 3915,
    "start_time": "2021-07-15T17:58:13.647Z"
   },
   {
    "duration": -130,
    "start_time": "2021-07-15T17:58:17.694Z"
   },
   {
    "duration": -131,
    "start_time": "2021-07-15T17:58:17.697Z"
   },
   {
    "duration": -132,
    "start_time": "2021-07-15T17:58:17.699Z"
   },
   {
    "duration": 3811,
    "start_time": "2021-07-15T17:59:16.896Z"
   },
   {
    "duration": 4058,
    "start_time": "2021-07-15T18:00:02.715Z"
   },
   {
    "duration": 364,
    "start_time": "2021-07-15T18:01:08.248Z"
   },
   {
    "duration": 1564,
    "start_time": "2021-07-15T18:01:17.619Z"
   },
   {
    "duration": 1185,
    "start_time": "2021-07-15T18:01:19.185Z"
   },
   {
    "duration": 342,
    "start_time": "2021-07-15T18:01:20.374Z"
   },
   {
    "duration": 1471,
    "start_time": "2021-07-15T18:01:20.720Z"
   },
   {
    "duration": 189,
    "start_time": "2021-07-15T18:01:22.194Z"
   },
   {
    "duration": 6,
    "start_time": "2021-07-15T18:01:22.386Z"
   },
   {
    "duration": 1226,
    "start_time": "2021-07-15T18:01:22.396Z"
   },
   {
    "duration": 93,
    "start_time": "2021-07-15T18:01:23.625Z"
   },
   {
    "duration": 103,
    "start_time": "2021-07-15T18:01:23.722Z"
   },
   {
    "duration": 6,
    "start_time": "2021-07-15T18:01:23.827Z"
   },
   {
    "duration": 657,
    "start_time": "2021-07-15T18:01:23.836Z"
   },
   {
    "duration": 1771,
    "start_time": "2021-07-15T18:01:24.496Z"
   },
   {
    "duration": 3918,
    "start_time": "2021-07-15T18:01:26.269Z"
   },
   {
    "duration": -85,
    "start_time": "2021-07-15T18:01:30.274Z"
   },
   {
    "duration": -89,
    "start_time": "2021-07-15T18:01:30.280Z"
   },
   {
    "duration": -91,
    "start_time": "2021-07-15T18:01:30.283Z"
   },
   {
    "duration": 3276,
    "start_time": "2021-07-15T18:04:08.128Z"
   },
   {
    "duration": 1554,
    "start_time": "2021-07-15T18:04:40.285Z"
   },
   {
    "duration": 1154,
    "start_time": "2021-07-15T18:04:41.842Z"
   },
   {
    "duration": 322,
    "start_time": "2021-07-15T18:04:42.999Z"
   },
   {
    "duration": 1502,
    "start_time": "2021-07-15T18:04:43.324Z"
   },
   {
    "duration": 184,
    "start_time": "2021-07-15T18:04:44.828Z"
   },
   {
    "duration": 6,
    "start_time": "2021-07-15T18:04:45.015Z"
   },
   {
    "duration": 1231,
    "start_time": "2021-07-15T18:04:45.023Z"
   },
   {
    "duration": 77,
    "start_time": "2021-07-15T18:04:46.269Z"
   },
   {
    "duration": 98,
    "start_time": "2021-07-15T18:04:46.349Z"
   },
   {
    "duration": 18,
    "start_time": "2021-07-15T18:04:46.449Z"
   },
   {
    "duration": 707,
    "start_time": "2021-07-15T18:04:46.469Z"
   },
   {
    "duration": 1824,
    "start_time": "2021-07-15T18:04:47.179Z"
   },
   {
    "duration": 3921,
    "start_time": "2021-07-15T18:04:49.005Z"
   },
   {
    "duration": -9,
    "start_time": "2021-07-15T18:04:52.937Z"
   },
   {
    "duration": -11,
    "start_time": "2021-07-15T18:04:52.941Z"
   },
   {
    "duration": -14,
    "start_time": "2021-07-15T18:04:52.945Z"
   },
   {
    "duration": 3394,
    "start_time": "2021-07-15T18:05:45.519Z"
   },
   {
    "duration": 1596,
    "start_time": "2021-07-15T18:05:58.846Z"
   },
   {
    "duration": 1436,
    "start_time": "2021-07-15T18:06:00.445Z"
   },
   {
    "duration": 319,
    "start_time": "2021-07-15T18:06:01.884Z"
   },
   {
    "duration": 1541,
    "start_time": "2021-07-15T18:06:02.206Z"
   },
   {
    "duration": 183,
    "start_time": "2021-07-15T18:06:03.750Z"
   },
   {
    "duration": 5,
    "start_time": "2021-07-15T18:06:03.935Z"
   },
   {
    "duration": 1225,
    "start_time": "2021-07-15T18:06:03.942Z"
   },
   {
    "duration": 72,
    "start_time": "2021-07-15T18:06:05.170Z"
   },
   {
    "duration": 100,
    "start_time": "2021-07-15T18:06:05.244Z"
   },
   {
    "duration": 6,
    "start_time": "2021-07-15T18:06:05.347Z"
   },
   {
    "duration": 641,
    "start_time": "2021-07-15T18:06:05.368Z"
   },
   {
    "duration": 2640,
    "start_time": "2021-07-15T18:06:06.012Z"
   },
   {
    "duration": 4786,
    "start_time": "2021-07-15T18:06:08.654Z"
   },
   {
    "duration": 21,
    "start_time": "2021-07-15T18:06:13.422Z"
   },
   {
    "duration": 18,
    "start_time": "2021-07-15T18:06:13.426Z"
   },
   {
    "duration": 17,
    "start_time": "2021-07-15T18:06:13.428Z"
   },
   {
    "duration": 3121,
    "start_time": "2021-07-15T18:06:59.389Z"
   },
   {
    "duration": 1546,
    "start_time": "2021-07-15T18:07:08.681Z"
   },
   {
    "duration": 1131,
    "start_time": "2021-07-15T18:07:10.230Z"
   },
   {
    "duration": 325,
    "start_time": "2021-07-15T18:07:11.365Z"
   },
   {
    "duration": 1384,
    "start_time": "2021-07-15T18:07:11.692Z"
   },
   {
    "duration": 177,
    "start_time": "2021-07-15T18:07:13.078Z"
   },
   {
    "duration": 9,
    "start_time": "2021-07-15T18:07:13.257Z"
   },
   {
    "duration": 1207,
    "start_time": "2021-07-15T18:07:13.269Z"
   },
   {
    "duration": 73,
    "start_time": "2021-07-15T18:07:14.480Z"
   },
   {
    "duration": 100,
    "start_time": "2021-07-15T18:07:14.567Z"
   },
   {
    "duration": 5,
    "start_time": "2021-07-15T18:07:14.670Z"
   },
   {
    "duration": 624,
    "start_time": "2021-07-15T18:07:14.677Z"
   },
   {
    "duration": 4256,
    "start_time": "2021-07-15T18:07:15.304Z"
   },
   {
    "duration": 1,
    "start_time": "2021-07-15T18:07:19.562Z"
   },
   {
    "duration": -1,
    "start_time": "2021-07-15T18:07:19.566Z"
   },
   {
    "duration": -4,
    "start_time": "2021-07-15T18:07:19.570Z"
   },
   {
    "duration": -6,
    "start_time": "2021-07-15T18:07:19.573Z"
   },
   {
    "duration": 1542,
    "start_time": "2021-07-15T18:09:26.706Z"
   },
   {
    "duration": 1164,
    "start_time": "2021-07-15T18:09:28.250Z"
   },
   {
    "duration": 341,
    "start_time": "2021-07-15T18:09:29.418Z"
   },
   {
    "duration": 1461,
    "start_time": "2021-07-15T18:09:29.766Z"
   },
   {
    "duration": 191,
    "start_time": "2021-07-15T18:09:31.230Z"
   },
   {
    "duration": 7,
    "start_time": "2021-07-15T18:09:31.423Z"
   },
   {
    "duration": 1267,
    "start_time": "2021-07-15T18:09:31.433Z"
   },
   {
    "duration": 88,
    "start_time": "2021-07-15T18:09:32.705Z"
   },
   {
    "duration": 101,
    "start_time": "2021-07-15T18:09:32.796Z"
   },
   {
    "duration": 7,
    "start_time": "2021-07-15T18:09:32.899Z"
   },
   {
    "duration": 733,
    "start_time": "2021-07-15T18:09:32.908Z"
   },
   {
    "duration": 4485,
    "start_time": "2021-07-15T18:09:33.643Z"
   },
   {
    "duration": 45,
    "start_time": "2021-07-15T18:09:38.086Z"
   },
   {
    "duration": 43,
    "start_time": "2021-07-15T18:09:38.090Z"
   },
   {
    "duration": 41,
    "start_time": "2021-07-15T18:09:38.093Z"
   },
   {
    "duration": 38,
    "start_time": "2021-07-15T18:09:38.098Z"
   },
   {
    "duration": 3256,
    "start_time": "2021-07-15T18:09:53.468Z"
   },
   {
    "duration": 620,
    "start_time": "2021-07-15T18:10:00.492Z"
   },
   {
    "duration": 3794,
    "start_time": "2021-07-15T18:10:09.000Z"
   },
   {
    "duration": 625,
    "start_time": "2021-07-15T18:10:49.802Z"
   },
   {
    "duration": 2989,
    "start_time": "2021-07-15T18:10:53.480Z"
   },
   {
    "duration": 555,
    "start_time": "2021-07-15T18:11:26.366Z"
   },
   {
    "duration": 2956,
    "start_time": "2021-07-15T18:11:43.352Z"
   },
   {
    "duration": 1532,
    "start_time": "2021-07-15T18:12:54.908Z"
   },
   {
    "duration": 1141,
    "start_time": "2021-07-15T18:12:56.443Z"
   },
   {
    "duration": 335,
    "start_time": "2021-07-15T18:12:57.588Z"
   },
   {
    "duration": 1553,
    "start_time": "2021-07-15T18:12:57.926Z"
   },
   {
    "duration": 180,
    "start_time": "2021-07-15T18:12:59.483Z"
   },
   {
    "duration": 7,
    "start_time": "2021-07-15T18:12:59.665Z"
   },
   {
    "duration": 1232,
    "start_time": "2021-07-15T18:12:59.675Z"
   },
   {
    "duration": 92,
    "start_time": "2021-07-15T18:13:00.911Z"
   },
   {
    "duration": 103,
    "start_time": "2021-07-15T18:13:01.006Z"
   },
   {
    "duration": 6,
    "start_time": "2021-07-15T18:13:01.112Z"
   },
   {
    "duration": 3586,
    "start_time": "2021-07-15T18:13:01.121Z"
   },
   {
    "duration": -5,
    "start_time": "2021-07-15T18:13:04.715Z"
   },
   {
    "duration": -8,
    "start_time": "2021-07-15T18:13:04.720Z"
   },
   {
    "duration": -9,
    "start_time": "2021-07-15T18:13:04.723Z"
   },
   {
    "duration": -13,
    "start_time": "2021-07-15T18:13:04.728Z"
   },
   {
    "duration": -14,
    "start_time": "2021-07-15T18:13:04.731Z"
   },
   {
    "duration": 3532,
    "start_time": "2021-07-15T18:13:24.338Z"
   },
   {
    "duration": 1583,
    "start_time": "2021-07-15T18:13:42.555Z"
   },
   {
    "duration": 1160,
    "start_time": "2021-07-15T18:13:44.141Z"
   },
   {
    "duration": 328,
    "start_time": "2021-07-15T18:13:45.307Z"
   },
   {
    "duration": 1466,
    "start_time": "2021-07-15T18:13:45.638Z"
   },
   {
    "duration": 191,
    "start_time": "2021-07-15T18:13:47.107Z"
   },
   {
    "duration": 7,
    "start_time": "2021-07-15T18:13:47.302Z"
   },
   {
    "duration": 1298,
    "start_time": "2021-07-15T18:13:47.312Z"
   },
   {
    "duration": 88,
    "start_time": "2021-07-15T18:13:48.613Z"
   },
   {
    "duration": 98,
    "start_time": "2021-07-15T18:13:48.703Z"
   },
   {
    "duration": 7,
    "start_time": "2021-07-15T18:13:48.803Z"
   },
   {
    "duration": 3510,
    "start_time": "2021-07-15T18:13:48.813Z"
   },
   {
    "duration": -69,
    "start_time": "2021-07-15T18:13:52.395Z"
   },
   {
    "duration": -74,
    "start_time": "2021-07-15T18:13:52.401Z"
   },
   {
    "duration": -75,
    "start_time": "2021-07-15T18:13:52.404Z"
   },
   {
    "duration": -76,
    "start_time": "2021-07-15T18:13:52.406Z"
   },
   {
    "duration": -76,
    "start_time": "2021-07-15T18:13:52.408Z"
   },
   {
    "duration": 7,
    "start_time": "2021-07-15T18:14:49.728Z"
   },
   {
    "duration": 3390,
    "start_time": "2021-07-15T18:14:50.761Z"
   },
   {
    "duration": 350,
    "start_time": "2021-07-15T18:15:56.507Z"
   },
   {
    "duration": 3225,
    "start_time": "2021-07-15T18:16:05.491Z"
   },
   {
    "duration": 1594,
    "start_time": "2021-07-15T18:16:16.789Z"
   },
   {
    "duration": 1172,
    "start_time": "2021-07-15T18:16:18.386Z"
   },
   {
    "duration": 336,
    "start_time": "2021-07-15T18:16:19.561Z"
   },
   {
    "duration": 1437,
    "start_time": "2021-07-15T18:16:19.901Z"
   },
   {
    "duration": 189,
    "start_time": "2021-07-15T18:16:21.341Z"
   },
   {
    "duration": 5,
    "start_time": "2021-07-15T18:16:21.532Z"
   },
   {
    "duration": 1209,
    "start_time": "2021-07-15T18:16:21.540Z"
   },
   {
    "duration": 73,
    "start_time": "2021-07-15T18:16:22.768Z"
   },
   {
    "duration": 101,
    "start_time": "2021-07-15T18:16:22.845Z"
   },
   {
    "duration": 6,
    "start_time": "2021-07-15T18:16:22.949Z"
   },
   {
    "duration": 3374,
    "start_time": "2021-07-15T18:16:22.967Z"
   },
   {
    "duration": -53,
    "start_time": "2021-07-15T18:16:26.397Z"
   },
   {
    "duration": -55,
    "start_time": "2021-07-15T18:16:26.400Z"
   },
   {
    "duration": -59,
    "start_time": "2021-07-15T18:16:26.405Z"
   },
   {
    "duration": -59,
    "start_time": "2021-07-15T18:16:26.407Z"
   },
   {
    "duration": -61,
    "start_time": "2021-07-15T18:16:26.410Z"
   },
   {
    "duration": -63,
    "start_time": "2021-07-15T18:16:26.413Z"
   },
   {
    "duration": 1600,
    "start_time": "2021-07-15T18:20:19.333Z"
   },
   {
    "duration": 1155,
    "start_time": "2021-07-15T18:20:20.936Z"
   },
   {
    "duration": 326,
    "start_time": "2021-07-15T18:20:22.093Z"
   },
   {
    "duration": 1470,
    "start_time": "2021-07-15T18:20:22.422Z"
   },
   {
    "duration": 187,
    "start_time": "2021-07-15T18:20:23.895Z"
   },
   {
    "duration": 5,
    "start_time": "2021-07-15T18:20:24.085Z"
   },
   {
    "duration": 1241,
    "start_time": "2021-07-15T18:20:24.092Z"
   },
   {
    "duration": 94,
    "start_time": "2021-07-15T18:20:25.338Z"
   },
   {
    "duration": 103,
    "start_time": "2021-07-15T18:20:25.435Z"
   },
   {
    "duration": 7,
    "start_time": "2021-07-15T18:20:25.541Z"
   },
   {
    "duration": 3306,
    "start_time": "2021-07-15T18:20:25.551Z"
   },
   {
    "duration": 23,
    "start_time": "2021-07-15T18:20:28.838Z"
   },
   {
    "duration": 20,
    "start_time": "2021-07-15T18:20:28.843Z"
   },
   {
    "duration": 19,
    "start_time": "2021-07-15T18:20:28.846Z"
   },
   {
    "duration": 18,
    "start_time": "2021-07-15T18:20:28.849Z"
   },
   {
    "duration": 13,
    "start_time": "2021-07-15T18:20:28.855Z"
   },
   {
    "duration": 13,
    "start_time": "2021-07-15T18:20:28.857Z"
   },
   {
    "duration": 387,
    "start_time": "2021-07-15T18:21:06.960Z"
   },
   {
    "duration": 2158,
    "start_time": "2021-07-15T18:26:36.070Z"
   },
   {
    "duration": 1663,
    "start_time": "2021-07-15T18:26:38.231Z"
   },
   {
    "duration": 509,
    "start_time": "2021-07-15T18:26:39.898Z"
   },
   {
    "duration": 1418,
    "start_time": "2021-07-15T18:26:40.410Z"
   },
   {
    "duration": 172,
    "start_time": "2021-07-15T18:26:41.830Z"
   },
   {
    "duration": 6,
    "start_time": "2021-07-15T18:26:42.004Z"
   },
   {
    "duration": 1400,
    "start_time": "2021-07-15T18:26:42.012Z"
   },
   {
    "duration": 85,
    "start_time": "2021-07-15T18:26:43.416Z"
   },
   {
    "duration": 118,
    "start_time": "2021-07-15T18:26:43.504Z"
   },
   {
    "duration": 6,
    "start_time": "2021-07-15T18:26:43.624Z"
   },
   {
    "duration": 3322,
    "start_time": "2021-07-15T18:26:43.632Z"
   },
   {
    "duration": 17,
    "start_time": "2021-07-15T18:26:46.941Z"
   },
   {
    "duration": 15,
    "start_time": "2021-07-15T18:26:46.945Z"
   },
   {
    "duration": 14,
    "start_time": "2021-07-15T18:26:46.948Z"
   },
   {
    "duration": 13,
    "start_time": "2021-07-15T18:26:46.951Z"
   },
   {
    "duration": 13,
    "start_time": "2021-07-15T18:26:46.953Z"
   },
   {
    "duration": 13,
    "start_time": "2021-07-15T18:26:46.955Z"
   },
   {
    "duration": 256,
    "start_time": "2021-07-15T18:28:59.600Z"
   },
   {
    "duration": 2775,
    "start_time": "2021-07-15T18:29:30.622Z"
   },
   {
    "duration": 238,
    "start_time": "2021-07-15T18:30:01.157Z"
   },
   {
    "duration": 237,
    "start_time": "2021-07-15T18:42:41.218Z"
   },
   {
    "duration": 138,
    "start_time": "2021-07-15T18:43:33.951Z"
   },
   {
    "duration": 3113,
    "start_time": "2021-07-15T18:43:39.233Z"
   },
   {
    "duration": 254,
    "start_time": "2021-07-15T18:47:40.502Z"
   },
   {
    "duration": 260,
    "start_time": "2021-07-15T18:48:28.077Z"
   },
   {
    "duration": 154,
    "start_time": "2021-07-15T18:58:58.596Z"
   },
   {
    "duration": 7,
    "start_time": "2021-07-15T18:59:14.248Z"
   },
   {
    "duration": 3368,
    "start_time": "2021-07-15T18:59:22.457Z"
   },
   {
    "duration": 7,
    "start_time": "2021-07-15T19:01:25.800Z"
   },
   {
    "duration": 3463,
    "start_time": "2021-07-15T19:01:32.998Z"
   },
   {
    "duration": 6,
    "start_time": "2021-07-15T19:01:54.887Z"
   },
   {
    "duration": 3448,
    "start_time": "2021-07-15T19:01:58.465Z"
   },
   {
    "duration": 6,
    "start_time": "2021-07-15T19:02:41.670Z"
   },
   {
    "duration": 947,
    "start_time": "2021-07-15T19:02:44.754Z"
   },
   {
    "duration": 1712,
    "start_time": "2021-07-15T19:03:15.616Z"
   },
   {
    "duration": 1155,
    "start_time": "2021-07-15T19:03:17.331Z"
   },
   {
    "duration": 334,
    "start_time": "2021-07-15T19:03:18.489Z"
   },
   {
    "duration": 1425,
    "start_time": "2021-07-15T19:03:18.826Z"
   },
   {
    "duration": 186,
    "start_time": "2021-07-15T19:03:20.254Z"
   },
   {
    "duration": 5,
    "start_time": "2021-07-15T19:03:20.443Z"
   },
   {
    "duration": 1228,
    "start_time": "2021-07-15T19:03:20.450Z"
   },
   {
    "duration": 86,
    "start_time": "2021-07-15T19:03:21.681Z"
   },
   {
    "duration": 119,
    "start_time": "2021-07-15T19:03:21.770Z"
   },
   {
    "duration": 6,
    "start_time": "2021-07-15T19:03:21.891Z"
   },
   {
    "duration": 269,
    "start_time": "2021-07-15T19:03:21.900Z"
   },
   {
    "duration": 1083,
    "start_time": "2021-07-15T19:03:22.172Z"
   },
   {
    "duration": -61,
    "start_time": "2021-07-15T19:03:23.319Z"
   },
   {
    "duration": -65,
    "start_time": "2021-07-15T19:03:23.324Z"
   },
   {
    "duration": -66,
    "start_time": "2021-07-15T19:03:23.327Z"
   },
   {
    "duration": -69,
    "start_time": "2021-07-15T19:03:23.331Z"
   },
   {
    "duration": -70,
    "start_time": "2021-07-15T19:03:23.334Z"
   },
   {
    "duration": 6,
    "start_time": "2021-07-15T19:04:09.095Z"
   },
   {
    "duration": 246,
    "start_time": "2021-07-15T19:04:14.576Z"
   },
   {
    "duration": 640,
    "start_time": "2021-07-15T19:04:18.243Z"
   },
   {
    "duration": 2997,
    "start_time": "2021-07-15T19:09:06.275Z"
   },
   {
    "duration": 3177,
    "start_time": "2021-07-15T19:09:58.079Z"
   },
   {
    "duration": 3093,
    "start_time": "2021-07-15T19:10:12.117Z"
   },
   {
    "duration": 252,
    "start_time": "2021-07-15T19:26:09.157Z"
   },
   {
    "duration": 240,
    "start_time": "2021-07-15T19:28:13.315Z"
   },
   {
    "duration": 626,
    "start_time": "2021-07-15T19:28:31.743Z"
   },
   {
    "duration": 602,
    "start_time": "2021-07-15T19:28:34.905Z"
   },
   {
    "duration": 779,
    "start_time": "2021-07-15T19:28:41.654Z"
   },
   {
    "duration": 655,
    "start_time": "2021-07-15T19:28:58.715Z"
   },
   {
    "duration": 253,
    "start_time": "2021-07-15T19:29:03.841Z"
   },
   {
    "duration": 948,
    "start_time": "2021-07-15T19:30:16.659Z"
   },
   {
    "duration": 251,
    "start_time": "2021-07-15T19:30:42.248Z"
   },
   {
    "duration": 1529,
    "start_time": "2021-07-16T09:49:25.485Z"
   },
   {
    "duration": 1083,
    "start_time": "2021-07-16T09:49:27.017Z"
   },
   {
    "duration": 322,
    "start_time": "2021-07-16T09:49:28.103Z"
   },
   {
    "duration": 1420,
    "start_time": "2021-07-16T09:49:28.428Z"
   },
   {
    "duration": 178,
    "start_time": "2021-07-16T09:49:29.851Z"
   },
   {
    "duration": 5,
    "start_time": "2021-07-16T09:49:30.032Z"
   },
   {
    "duration": 1242,
    "start_time": "2021-07-16T09:49:30.040Z"
   },
   {
    "duration": 84,
    "start_time": "2021-07-16T09:49:31.286Z"
   },
   {
    "duration": 125,
    "start_time": "2021-07-16T09:49:31.372Z"
   },
   {
    "duration": 6,
    "start_time": "2021-07-16T09:49:31.499Z"
   },
   {
    "duration": 259,
    "start_time": "2021-07-16T09:49:31.507Z"
   },
   {
    "duration": 627,
    "start_time": "2021-07-16T09:49:31.768Z"
   },
   {
    "duration": 1682,
    "start_time": "2021-07-16T09:49:32.397Z"
   },
   {
    "duration": 3003,
    "start_time": "2021-07-16T09:49:34.081Z"
   },
   {
    "duration": -24,
    "start_time": "2021-07-16T09:49:37.111Z"
   },
   {
    "duration": -25,
    "start_time": "2021-07-16T09:49:37.114Z"
   },
   {
    "duration": -29,
    "start_time": "2021-07-16T09:49:37.119Z"
   },
   {
    "duration": 279,
    "start_time": "2021-07-16T10:48:24.182Z"
   },
   {
    "duration": 1542,
    "start_time": "2021-07-16T10:48:36.965Z"
   },
   {
    "duration": 1181,
    "start_time": "2021-07-16T10:48:38.510Z"
   },
   {
    "duration": 349,
    "start_time": "2021-07-16T10:48:39.695Z"
   },
   {
    "duration": 1359,
    "start_time": "2021-07-16T10:48:40.056Z"
   },
   {
    "duration": 180,
    "start_time": "2021-07-16T10:48:41.417Z"
   },
   {
    "duration": 6,
    "start_time": "2021-07-16T10:48:41.599Z"
   },
   {
    "duration": 1197,
    "start_time": "2021-07-16T10:48:41.607Z"
   },
   {
    "duration": 85,
    "start_time": "2021-07-16T10:48:42.806Z"
   },
   {
    "duration": 118,
    "start_time": "2021-07-16T10:48:42.894Z"
   },
   {
    "duration": 404,
    "start_time": "2021-07-16T10:48:43.015Z"
   },
   {
    "duration": 381,
    "start_time": "2021-07-16T10:49:47.279Z"
   },
   {
    "duration": 269,
    "start_time": "2021-07-16T10:50:36.879Z"
   },
   {
    "duration": 250,
    "start_time": "2021-07-16T10:51:05.470Z"
   },
   {
    "duration": 255,
    "start_time": "2021-07-16T11:03:44.759Z"
   },
   {
    "duration": 291,
    "start_time": "2021-07-16T11:06:36.376Z"
   },
   {
    "duration": 191,
    "start_time": "2021-07-16T11:08:18.454Z"
   },
   {
    "duration": 87,
    "start_time": "2021-07-16T11:08:33.862Z"
   },
   {
    "duration": 882,
    "start_time": "2021-07-16T11:12:23.295Z"
   },
   {
    "duration": 1045,
    "start_time": "2021-07-16T11:12:55.616Z"
   },
   {
    "duration": 1214,
    "start_time": "2021-07-16T11:20:11.259Z"
   },
   {
    "duration": 1564,
    "start_time": "2021-07-29T18:30:50.788Z"
   },
   {
    "duration": 8447,
    "start_time": "2021-07-29T18:30:52.355Z"
   },
   {
    "duration": 324,
    "start_time": "2021-07-29T18:31:00.806Z"
   },
   {
    "duration": 1388,
    "start_time": "2021-07-29T18:31:01.133Z"
   },
   {
    "duration": 172,
    "start_time": "2021-07-29T18:31:02.523Z"
   },
   {
    "duration": 5,
    "start_time": "2021-07-29T18:31:02.698Z"
   },
   {
    "duration": 1327,
    "start_time": "2021-07-29T18:31:02.706Z"
   },
   {
    "duration": 85,
    "start_time": "2021-07-29T18:31:04.036Z"
   },
   {
    "duration": 124,
    "start_time": "2021-07-29T18:31:04.124Z"
   },
   {
    "duration": 6,
    "start_time": "2021-07-29T18:31:04.250Z"
   },
   {
    "duration": 1140,
    "start_time": "2021-07-29T18:31:04.258Z"
   },
   {
    "duration": 5291,
    "start_time": "2021-07-29T18:31:05.400Z"
   },
   {
    "duration": 2081,
    "start_time": "2021-07-29T18:31:10.693Z"
   },
   {
    "duration": 2014,
    "start_time": "2021-07-29T18:31:12.776Z"
   },
   {
    "duration": 2025,
    "start_time": "2021-07-29T18:31:14.792Z"
   },
   {
    "duration": 5349,
    "start_time": "2021-07-29T18:31:16.820Z"
   },
   {
    "duration": 1421,
    "start_time": "2021-07-29T18:31:22.171Z"
   },
   {
    "duration": 92,
    "start_time": "2021-07-29T18:34:10.612Z"
   },
   {
    "duration": 7,
    "start_time": "2021-07-29T18:37:12.438Z"
   },
   {
    "duration": 1012,
    "start_time": "2021-07-29T18:37:14.421Z"
   },
   {
    "duration": 5214,
    "start_time": "2021-07-29T18:37:15.436Z"
   },
   {
    "duration": 2055,
    "start_time": "2021-07-29T18:37:20.653Z"
   },
   {
    "duration": 2101,
    "start_time": "2021-07-29T18:37:22.710Z"
   },
   {
    "duration": 2285,
    "start_time": "2021-07-29T18:37:24.814Z"
   },
   {
    "duration": 103,
    "start_time": "2021-07-29T18:37:27.102Z"
   },
   {
    "duration": 1536,
    "start_time": "2021-07-29T18:37:32.427Z"
   },
   {
    "duration": 1143,
    "start_time": "2021-07-29T18:37:33.965Z"
   },
   {
    "duration": 325,
    "start_time": "2021-07-29T18:37:35.111Z"
   },
   {
    "duration": 1317,
    "start_time": "2021-07-29T18:37:35.439Z"
   },
   {
    "duration": 175,
    "start_time": "2021-07-29T18:37:36.759Z"
   },
   {
    "duration": 5,
    "start_time": "2021-07-29T18:37:36.937Z"
   },
   {
    "duration": 1226,
    "start_time": "2021-07-29T18:37:36.944Z"
   },
   {
    "duration": 84,
    "start_time": "2021-07-29T18:37:38.173Z"
   },
   {
    "duration": 127,
    "start_time": "2021-07-29T18:37:38.260Z"
   },
   {
    "duration": 7,
    "start_time": "2021-07-29T18:37:38.389Z"
   },
   {
    "duration": 1059,
    "start_time": "2021-07-29T18:37:38.398Z"
   },
   {
    "duration": 5208,
    "start_time": "2021-07-29T18:37:39.459Z"
   },
   {
    "duration": 2171,
    "start_time": "2021-07-29T18:37:44.669Z"
   },
   {
    "duration": 2072,
    "start_time": "2021-07-29T18:37:46.842Z"
   },
   {
    "duration": 2077,
    "start_time": "2021-07-29T18:37:48.916Z"
   },
   {
    "duration": 104,
    "start_time": "2021-07-29T18:37:50.995Z"
   },
   {
    "duration": 4911,
    "start_time": "2021-07-29T18:37:51.102Z"
   },
   {
    "duration": 1490,
    "start_time": "2021-07-29T18:37:56.016Z"
   },
   {
    "duration": 45,
    "start_time": "2021-07-29T18:38:29.411Z"
   },
   {
    "duration": 29,
    "start_time": "2021-07-29T18:38:42.792Z"
   },
   {
    "duration": 27,
    "start_time": "2021-07-29T18:40:05.978Z"
   },
   {
    "duration": 30,
    "start_time": "2021-07-29T18:43:15.295Z"
   },
   {
    "duration": 7,
    "start_time": "2021-07-29T18:43:42.805Z"
   },
   {
    "duration": 1572,
    "start_time": "2021-07-29T18:43:49.779Z"
   },
   {
    "duration": 1109,
    "start_time": "2021-07-29T18:43:51.354Z"
   },
   {
    "duration": 331,
    "start_time": "2021-07-29T18:43:52.466Z"
   },
   {
    "duration": 1323,
    "start_time": "2021-07-29T18:43:52.800Z"
   },
   {
    "duration": 174,
    "start_time": "2021-07-29T18:43:54.126Z"
   },
   {
    "duration": 5,
    "start_time": "2021-07-29T18:43:54.303Z"
   },
   {
    "duration": 1223,
    "start_time": "2021-07-29T18:43:54.311Z"
   },
   {
    "duration": 92,
    "start_time": "2021-07-29T18:43:55.536Z"
   },
   {
    "duration": 120,
    "start_time": "2021-07-29T18:43:55.634Z"
   },
   {
    "duration": 7,
    "start_time": "2021-07-29T18:43:55.758Z"
   },
   {
    "duration": 1075,
    "start_time": "2021-07-29T18:43:55.768Z"
   },
   {
    "duration": 5480,
    "start_time": "2021-07-29T18:43:56.846Z"
   },
   {
    "duration": 2160,
    "start_time": "2021-07-29T18:44:02.329Z"
   },
   {
    "duration": 2140,
    "start_time": "2021-07-29T18:44:04.491Z"
   },
   {
    "duration": 2141,
    "start_time": "2021-07-29T18:44:06.633Z"
   },
   {
    "duration": 34,
    "start_time": "2021-07-29T18:44:08.777Z"
   },
   {
    "duration": 5571,
    "start_time": "2021-07-29T18:44:08.814Z"
   },
   {
    "duration": 1490,
    "start_time": "2021-07-29T18:44:14.388Z"
   },
   {
    "duration": 1231,
    "start_time": "2021-08-23T14:03:07.985Z"
   },
   {
    "duration": 753,
    "start_time": "2021-08-23T14:03:09.399Z"
   },
   {
    "duration": 237,
    "start_time": "2021-08-23T14:03:20.551Z"
   },
   {
    "duration": 829,
    "start_time": "2021-08-23T14:05:12.585Z"
   },
   {
    "duration": 104,
    "start_time": "2021-08-23T14:05:31.716Z"
   },
   {
    "duration": 1128,
    "start_time": "2021-08-23T15:00:50.888Z"
   },
   {
    "duration": 751,
    "start_time": "2021-08-23T15:00:52.018Z"
   },
   {
    "duration": 246,
    "start_time": "2021-08-23T15:00:52.772Z"
   },
   {
    "duration": 837,
    "start_time": "2021-08-23T15:00:53.020Z"
   },
   {
    "duration": 116,
    "start_time": "2021-08-23T15:00:53.859Z"
   },
   {
    "duration": 4,
    "start_time": "2021-08-23T15:00:53.977Z"
   },
   {
    "duration": 722,
    "start_time": "2021-08-23T15:00:53.982Z"
   },
   {
    "duration": 53,
    "start_time": "2021-08-23T15:00:54.706Z"
   },
   {
    "duration": 69,
    "start_time": "2021-08-23T15:00:54.760Z"
   },
   {
    "duration": 146,
    "start_time": "2021-08-23T15:00:54.830Z"
   },
   {
    "duration": 613,
    "start_time": "2021-08-23T15:00:54.978Z"
   },
   {
    "duration": 768,
    "start_time": "2021-08-23T15:00:55.592Z"
   },
   {
    "duration": 685,
    "start_time": "2021-08-23T15:03:35.344Z"
   },
   {
    "duration": 1531,
    "start_time": "2021-08-31T16:26:13.250Z"
   },
   {
    "duration": 1187,
    "start_time": "2021-08-31T16:26:18.661Z"
   },
   {
    "duration": 309,
    "start_time": "2021-08-31T16:26:19.963Z"
   },
   {
    "duration": 1294,
    "start_time": "2021-08-31T16:26:39.650Z"
   },
   {
    "duration": 164,
    "start_time": "2021-08-31T16:26:41.051Z"
   },
   {
    "duration": 6,
    "start_time": "2021-08-31T16:26:59.381Z"
   },
   {
    "duration": 1187,
    "start_time": "2021-08-31T16:27:04.049Z"
   },
   {
    "duration": 199,
    "start_time": "2021-08-31T16:33:12.047Z"
   },
   {
    "duration": 117,
    "start_time": "2021-08-31T16:34:15.072Z"
   },
   {
    "duration": 72,
    "start_time": "2021-08-31T16:34:22.013Z"
   },
   {
    "duration": 127,
    "start_time": "2021-08-31T16:35:32.310Z"
   },
   {
    "duration": 91,
    "start_time": "2021-08-31T16:35:48.870Z"
   },
   {
    "duration": 63,
    "start_time": "2021-08-31T16:38:11.460Z"
   },
   {
    "duration": 1323,
    "start_time": "2021-08-31T16:38:44.738Z"
   },
   {
    "duration": 1573,
    "start_time": "2021-08-31T16:38:52.405Z"
   },
   {
    "duration": 1136,
    "start_time": "2021-08-31T16:38:53.981Z"
   },
   {
    "duration": 321,
    "start_time": "2021-08-31T16:38:55.120Z"
   },
   {
    "duration": 1372,
    "start_time": "2021-08-31T16:38:55.444Z"
   },
   {
    "duration": 172,
    "start_time": "2021-08-31T16:38:56.818Z"
   },
   {
    "duration": 5,
    "start_time": "2021-08-31T16:38:56.992Z"
   },
   {
    "duration": 1321,
    "start_time": "2021-08-31T16:38:57.000Z"
   },
   {
    "duration": 74,
    "start_time": "2021-08-31T16:38:58.324Z"
   },
   {
    "duration": 124,
    "start_time": "2021-08-31T16:38:58.400Z"
   },
   {
    "duration": 204,
    "start_time": "2021-08-31T16:38:58.526Z"
   },
   {
    "duration": 30,
    "start_time": "2021-08-31T16:38:58.733Z"
   },
   {
    "duration": 1259,
    "start_time": "2021-08-31T16:38:58.765Z"
   },
   {
    "duration": 1236,
    "start_time": "2021-08-31T16:39:00.027Z"
   },
   {
    "duration": 1196,
    "start_time": "2021-08-31T16:48:21.398Z"
   },
   {
    "duration": 1563,
    "start_time": "2021-08-31T16:48:32.608Z"
   },
   {
    "duration": 1251,
    "start_time": "2021-08-31T16:48:35.751Z"
   },
   {
    "duration": 1270,
    "start_time": "2021-08-31T16:48:50.086Z"
   },
   {
    "duration": 2178,
    "start_time": "2021-08-31T16:49:36.688Z"
   },
   {
    "duration": 1509,
    "start_time": "2021-08-31T16:49:43.158Z"
   },
   {
    "duration": 1105,
    "start_time": "2021-08-31T16:49:44.670Z"
   },
   {
    "duration": 322,
    "start_time": "2021-08-31T16:49:45.779Z"
   },
   {
    "duration": 1275,
    "start_time": "2021-08-31T16:49:46.104Z"
   },
   {
    "duration": 176,
    "start_time": "2021-08-31T16:49:47.381Z"
   },
   {
    "duration": 5,
    "start_time": "2021-08-31T16:49:47.560Z"
   },
   {
    "duration": 1220,
    "start_time": "2021-08-31T16:49:47.567Z"
   },
   {
    "duration": 81,
    "start_time": "2021-08-31T16:49:48.791Z"
   },
   {
    "duration": 115,
    "start_time": "2021-08-31T16:49:48.874Z"
   },
   {
    "duration": 206,
    "start_time": "2021-08-31T16:49:48.991Z"
   },
   {
    "duration": 38,
    "start_time": "2021-08-31T16:49:49.200Z"
   },
   {
    "duration": 2590,
    "start_time": "2021-08-31T16:49:49.241Z"
   },
   {
    "duration": 2554,
    "start_time": "2021-08-31T16:51:38.254Z"
   },
   {
    "duration": 58,
    "start_time": "2021-08-31T16:59:37.982Z"
   },
   {
    "duration": 1594,
    "start_time": "2021-08-31T19:20:34.708Z"
   },
   {
    "duration": 1142,
    "start_time": "2021-08-31T19:20:36.305Z"
   },
   {
    "duration": 333,
    "start_time": "2021-08-31T19:20:37.450Z"
   },
   {
    "duration": 1443,
    "start_time": "2021-08-31T19:20:37.787Z"
   },
   {
    "duration": 185,
    "start_time": "2021-08-31T19:20:39.232Z"
   },
   {
    "duration": 6,
    "start_time": "2021-08-31T19:20:39.420Z"
   },
   {
    "duration": 1193,
    "start_time": "2021-08-31T19:20:39.429Z"
   },
   {
    "duration": 75,
    "start_time": "2021-08-31T19:20:40.626Z"
   },
   {
    "duration": 319,
    "start_time": "2021-08-31T19:20:40.704Z"
   },
   {
    "duration": 209,
    "start_time": "2021-08-31T19:20:41.026Z"
   },
   {
    "duration": 29,
    "start_time": "2021-08-31T19:20:41.237Z"
   },
   {
    "duration": 2470,
    "start_time": "2021-08-31T19:20:41.269Z"
   },
   {
    "duration": 1556,
    "start_time": "2021-09-01T08:46:12.840Z"
   },
   {
    "duration": 1026,
    "start_time": "2021-09-01T08:46:14.399Z"
   },
   {
    "duration": 305,
    "start_time": "2021-09-01T08:46:15.428Z"
   },
   {
    "duration": 1217,
    "start_time": "2021-09-01T08:46:15.736Z"
   },
   {
    "duration": 159,
    "start_time": "2021-09-01T08:46:16.955Z"
   },
   {
    "duration": 6,
    "start_time": "2021-09-01T08:46:17.116Z"
   },
   {
    "duration": 1139,
    "start_time": "2021-09-01T08:46:17.124Z"
   },
   {
    "duration": 64,
    "start_time": "2021-09-01T08:46:18.267Z"
   },
   {
    "duration": 184,
    "start_time": "2021-09-01T08:46:18.334Z"
   },
   {
    "duration": 197,
    "start_time": "2021-09-01T08:46:18.521Z"
   },
   {
    "duration": 29,
    "start_time": "2021-09-01T08:46:18.720Z"
   },
   {
    "duration": 2401,
    "start_time": "2021-09-01T08:46:18.763Z"
   },
   {
    "duration": 11069625,
    "start_time": "2021-09-01T08:46:21.167Z"
   },
   {
    "duration": 71,
    "start_time": "2021-09-01T12:07:17.127Z"
   },
   {
    "duration": 6,
    "start_time": "2021-09-01T12:08:29.514Z"
   },
   {
    "duration": 1173336,
    "start_time": "2021-09-01T12:09:34.049Z"
   },
   {
    "duration": 1566,
    "start_time": "2021-09-02T14:36:15.292Z"
   },
   {
    "duration": 830,
    "start_time": "2021-09-02T14:36:16.860Z"
   },
   {
    "duration": 261,
    "start_time": "2021-09-02T14:36:17.692Z"
   },
   {
    "duration": 923,
    "start_time": "2021-09-02T14:36:17.956Z"
   },
   {
    "duration": 117,
    "start_time": "2021-09-02T14:36:18.881Z"
   },
   {
    "duration": 5,
    "start_time": "2021-09-02T14:36:19.000Z"
   },
   {
    "duration": 1338,
    "start_time": "2021-09-02T14:36:19.007Z"
   },
   {
    "duration": 47,
    "start_time": "2021-09-02T14:36:20.348Z"
   },
   {
    "duration": 150,
    "start_time": "2021-09-02T14:36:20.398Z"
   },
   {
    "duration": 158,
    "start_time": "2021-09-02T14:36:20.550Z"
   },
   {
    "duration": 32,
    "start_time": "2021-09-02T14:36:20.710Z"
   },
   {
    "duration": 1583,
    "start_time": "2021-09-02T14:36:20.744Z"
   },
   {
    "duration": 1691,
    "start_time": "2021-09-02T14:41:17.662Z"
   },
   {
    "duration": 834,
    "start_time": "2021-09-02T14:41:19.355Z"
   },
   {
    "duration": 260,
    "start_time": "2021-09-02T14:41:20.192Z"
   },
   {
    "duration": 1163,
    "start_time": "2021-09-02T14:41:20.454Z"
   },
   {
    "duration": 113,
    "start_time": "2021-09-02T14:41:21.619Z"
   },
   {
    "duration": 6,
    "start_time": "2021-09-02T14:41:21.734Z"
   },
   {
    "duration": 811,
    "start_time": "2021-09-02T14:41:21.742Z"
   },
   {
    "duration": 46,
    "start_time": "2021-09-02T14:41:22.556Z"
   },
   {
    "duration": 153,
    "start_time": "2021-09-02T14:41:22.604Z"
   },
   {
    "duration": 156,
    "start_time": "2021-09-02T14:41:22.758Z"
   },
   {
    "duration": 33,
    "start_time": "2021-09-02T14:41:22.916Z"
   },
   {
    "duration": 1879,
    "start_time": "2021-09-02T14:41:22.950Z"
   },
   {
    "duration": 826943,
    "start_time": "2021-09-02T14:41:24.831Z"
   },
   {
    "duration": 24,
    "start_time": "2021-09-02T20:34:27.148Z"
   },
   {
    "duration": 1146,
    "start_time": "2021-09-03T13:19:06.113Z"
   },
   {
    "duration": 706,
    "start_time": "2021-09-03T13:19:07.261Z"
   },
   {
    "duration": 228,
    "start_time": "2021-09-03T13:19:07.969Z"
   },
   {
    "duration": 782,
    "start_time": "2021-09-03T13:19:09.452Z"
   },
   {
    "duration": 109,
    "start_time": "2021-09-03T13:19:10.236Z"
   },
   {
    "duration": 4,
    "start_time": "2021-09-03T13:19:11.278Z"
   },
   {
    "duration": 736,
    "start_time": "2021-09-03T13:19:12.071Z"
   },
   {
    "duration": 39,
    "start_time": "2021-09-03T13:19:13.427Z"
   },
   {
    "duration": 129,
    "start_time": "2021-09-03T13:19:13.927Z"
   },
   {
    "duration": 140,
    "start_time": "2021-09-03T13:19:15.867Z"
   },
   {
    "duration": 22,
    "start_time": "2021-09-03T13:19:16.688Z"
   },
   {
    "duration": 1610,
    "start_time": "2021-09-03T13:19:19.205Z"
   },
   {
    "duration": 1608,
    "start_time": "2021-09-03T13:21:15.591Z"
   },
   {
    "duration": 1131,
    "start_time": "2021-09-03T13:22:04.119Z"
   },
   {
    "duration": 751,
    "start_time": "2021-09-03T13:22:05.252Z"
   },
   {
    "duration": 227,
    "start_time": "2021-09-03T13:22:06.005Z"
   },
   {
    "duration": 802,
    "start_time": "2021-09-03T13:22:06.234Z"
   },
   {
    "duration": 116,
    "start_time": "2021-09-03T13:22:07.038Z"
   },
   {
    "duration": 3,
    "start_time": "2021-09-03T13:22:07.156Z"
   },
   {
    "duration": 755,
    "start_time": "2021-09-03T13:22:07.161Z"
   },
   {
    "duration": 38,
    "start_time": "2021-09-03T13:22:07.918Z"
   },
   {
    "duration": 144,
    "start_time": "2021-09-03T13:22:07.958Z"
   },
   {
    "duration": 133,
    "start_time": "2021-09-03T13:22:08.104Z"
   },
   {
    "duration": 21,
    "start_time": "2021-09-03T13:22:08.238Z"
   },
   {
    "duration": 507,
    "start_time": "2021-09-03T13:26:10.847Z"
   },
   {
    "duration": 1727,
    "start_time": "2021-09-03T13:26:21.328Z"
   },
   {
    "duration": 68776,
    "start_time": "2021-09-03T13:26:30.914Z"
   },
   {
    "duration": 59207,
    "start_time": "2021-09-03T13:30:03.889Z"
   },
   {
    "duration": 765012,
    "start_time": "2021-09-03T13:31:07.231Z"
   },
   {
    "duration": 1945,
    "start_time": "2021-09-03T13:47:12.488Z"
   },
   {
    "duration": 2064,
    "start_time": "2021-09-03T13:47:21.765Z"
   },
   {
    "duration": 61,
    "start_time": "2021-09-03T13:51:19.248Z"
   },
   {
    "duration": 84,
    "start_time": "2021-09-03T13:57:18.063Z"
   },
   {
    "duration": 57,
    "start_time": "2021-09-03T13:59:17.087Z"
   },
   {
    "duration": 1143,
    "start_time": "2021-09-03T13:59:27.823Z"
   },
   {
    "duration": 780,
    "start_time": "2021-09-03T13:59:28.968Z"
   },
   {
    "duration": 224,
    "start_time": "2021-09-03T13:59:29.750Z"
   },
   {
    "duration": 914,
    "start_time": "2021-09-03T13:59:29.976Z"
   },
   {
    "duration": 121,
    "start_time": "2021-09-03T13:59:30.891Z"
   },
   {
    "duration": 3,
    "start_time": "2021-09-03T13:59:31.014Z"
   },
   {
    "duration": 779,
    "start_time": "2021-09-03T13:59:31.019Z"
   },
   {
    "duration": 43,
    "start_time": "2021-09-03T13:59:31.800Z"
   },
   {
    "duration": 157,
    "start_time": "2021-09-03T13:59:31.845Z"
   },
   {
    "duration": 140,
    "start_time": "2021-09-03T13:59:32.003Z"
   },
   {
    "duration": 24,
    "start_time": "2021-09-03T13:59:32.145Z"
   },
   {
    "duration": 1660,
    "start_time": "2021-09-03T13:59:32.171Z"
   },
   {
    "duration": 780702,
    "start_time": "2021-09-03T13:59:33.833Z"
   },
   {
    "duration": 57,
    "start_time": "2021-09-03T14:12:34.536Z"
   },
   {
    "duration": 43,
    "start_time": "2021-09-03T14:12:34.552Z"
   },
   {
    "duration": 1182,
    "start_time": "2021-09-03T14:22:15.392Z"
   },
   {
    "duration": 766,
    "start_time": "2021-09-03T14:22:16.576Z"
   },
   {
    "duration": 230,
    "start_time": "2021-09-03T14:22:17.344Z"
   },
   {
    "duration": 886,
    "start_time": "2021-09-03T14:22:17.576Z"
   },
   {
    "duration": 129,
    "start_time": "2021-09-03T14:22:18.463Z"
   },
   {
    "duration": 5,
    "start_time": "2021-09-03T14:22:18.594Z"
   },
   {
    "duration": 766,
    "start_time": "2021-09-03T14:22:18.601Z"
   },
   {
    "duration": 54,
    "start_time": "2021-09-03T14:22:19.370Z"
   },
   {
    "duration": 161,
    "start_time": "2021-09-03T14:22:19.426Z"
   },
   {
    "duration": 138,
    "start_time": "2021-09-03T14:22:19.589Z"
   },
   {
    "duration": 24,
    "start_time": "2021-09-03T14:22:19.729Z"
   },
   {
    "duration": 1636,
    "start_time": "2021-09-03T14:22:19.755Z"
   },
   {
    "duration": 778841,
    "start_time": "2021-09-03T14:22:21.393Z"
   },
   {
    "duration": 57,
    "start_time": "2021-09-03T14:35:20.236Z"
   },
   {
    "duration": 36,
    "start_time": "2021-09-03T14:35:20.259Z"
   },
   {
    "duration": 66,
    "start_time": "2021-09-03T16:15:01.397Z"
   },
   {
    "duration": 70,
    "start_time": "2021-09-03T16:15:30.524Z"
   },
   {
    "duration": 1967,
    "start_time": "2021-09-03T16:15:46.134Z"
   },
   {
    "duration": 1889,
    "start_time": "2021-09-03T16:16:03.026Z"
   },
   {
    "duration": 1222,
    "start_time": "2021-09-03T16:22:33.709Z"
   },
   {
    "duration": 885,
    "start_time": "2021-09-03T16:22:34.933Z"
   },
   {
    "duration": 282,
    "start_time": "2021-09-03T16:22:35.825Z"
   },
   {
    "duration": 1007,
    "start_time": "2021-09-03T16:22:36.109Z"
   },
   {
    "duration": 125,
    "start_time": "2021-09-03T16:22:37.118Z"
   },
   {
    "duration": 4,
    "start_time": "2021-09-03T16:22:37.244Z"
   },
   {
    "duration": 878,
    "start_time": "2021-09-03T16:22:37.249Z"
   },
   {
    "duration": 44,
    "start_time": "2021-09-03T16:22:38.130Z"
   },
   {
    "duration": 173,
    "start_time": "2021-09-03T16:22:38.176Z"
   },
   {
    "duration": 186,
    "start_time": "2021-09-03T16:22:38.351Z"
   },
   {
    "duration": 22,
    "start_time": "2021-09-03T16:22:38.539Z"
   },
   {
    "duration": 1883,
    "start_time": "2021-09-03T16:22:38.563Z"
   },
   {
    "duration": 748127,
    "start_time": "2021-09-03T16:22:40.448Z"
   },
   {
    "duration": 2028,
    "start_time": "2021-09-03T16:35:08.577Z"
   },
   {
    "duration": 1869394,
    "start_time": "2021-09-03T16:35:10.607Z"
   },
   {
    "duration": 2453,
    "start_time": "2021-09-04T13:47:07.949Z"
   },
   {
    "duration": 1123,
    "start_time": "2021-09-04T13:47:10.405Z"
   },
   {
    "duration": 311,
    "start_time": "2021-09-04T13:47:11.531Z"
   },
   {
    "duration": 1250,
    "start_time": "2021-09-04T13:47:11.845Z"
   },
   {
    "duration": 174,
    "start_time": "2021-09-04T13:47:13.097Z"
   },
   {
    "duration": 5,
    "start_time": "2021-09-04T13:47:13.274Z"
   },
   {
    "duration": 1176,
    "start_time": "2021-09-04T13:47:13.281Z"
   },
   {
    "duration": 74,
    "start_time": "2021-09-04T13:47:14.461Z"
   },
   {
    "duration": 199,
    "start_time": "2021-09-04T13:47:14.537Z"
   },
   {
    "duration": 205,
    "start_time": "2021-09-04T13:47:14.738Z"
   },
   {
    "duration": 34,
    "start_time": "2021-09-04T13:47:14.945Z"
   },
   {
    "duration": 2640,
    "start_time": "2021-09-04T13:47:14.981Z"
   },
   {
    "duration": 1222737,
    "start_time": "2021-09-04T13:47:17.624Z"
   },
   {
    "duration": 2491,
    "start_time": "2021-09-04T14:07:40.365Z"
   },
   {
    "duration": 72613,
    "start_time": "2021-09-04T14:07:42.858Z"
   },
   {
    "duration": 2300,
    "start_time": "2021-09-04T14:08:55.474Z"
   },
   {
    "duration": 418,
    "start_time": "2021-09-04T14:08:57.777Z"
   },
   {
    "duration": 1278,
    "start_time": "2021-09-05T10:17:23.460Z"
   },
   {
    "duration": 845,
    "start_time": "2021-09-05T10:17:24.741Z"
   },
   {
    "duration": 262,
    "start_time": "2021-09-05T10:17:25.589Z"
   },
   {
    "duration": 936,
    "start_time": "2021-09-05T10:17:25.853Z"
   },
   {
    "duration": 115,
    "start_time": "2021-09-05T10:17:26.790Z"
   },
   {
    "duration": 4,
    "start_time": "2021-09-05T10:17:26.907Z"
   },
   {
    "duration": 814,
    "start_time": "2021-09-05T10:17:26.913Z"
   },
   {
    "duration": 56,
    "start_time": "2021-09-05T10:17:27.729Z"
   },
   {
    "duration": 155,
    "start_time": "2021-09-05T10:17:27.788Z"
   },
   {
    "duration": 158,
    "start_time": "2021-09-05T10:17:27.945Z"
   },
   {
    "duration": 25,
    "start_time": "2021-09-05T10:17:28.105Z"
   },
   {
    "duration": 2212,
    "start_time": "2021-09-05T10:17:28.140Z"
   },
   {
    "duration": 857972,
    "start_time": "2021-09-05T10:17:30.355Z"
   },
   {
    "duration": 2058,
    "start_time": "2021-09-05T10:31:48.328Z"
   },
   {
    "duration": 95654,
    "start_time": "2021-09-05T10:31:50.388Z"
   },
   {
    "duration": 1921,
    "start_time": "2021-09-05T10:33:26.044Z"
   },
   {
    "duration": 421,
    "start_time": "2021-09-05T10:33:27.967Z"
   },
   {
    "duration": 344,
    "start_time": "2021-09-05T11:03:23.296Z"
   },
   {
    "duration": 16515,
    "start_time": "2021-09-05T11:03:48.449Z"
   },
   {
    "duration": 2342,
    "start_time": "2021-09-05T11:04:22.305Z"
   },
   {
    "duration": 254063,
    "start_time": "2021-09-05T11:04:31.055Z"
   },
   {
    "duration": 319992,
    "start_time": "2021-09-05T11:08:47.540Z"
   },
   {
    "duration": 8674,
    "start_time": "2021-09-05T11:25:51.183Z"
   },
   {
    "duration": 209,
    "start_time": "2021-09-05T11:31:15.898Z"
   },
   {
    "duration": 1040,
    "start_time": "2021-09-05T11:31:33.460Z"
   },
   {
    "duration": 989,
    "start_time": "2021-09-05T11:37:34.497Z"
   },
   {
    "duration": 8629,
    "start_time": "2021-09-05T11:37:48.128Z"
   },
   {
    "duration": 24345,
    "start_time": "2021-09-05T11:40:09.001Z"
   },
   {
    "duration": 178,
    "start_time": "2021-09-05T11:46:31.265Z"
   },
   {
    "duration": 9,
    "start_time": "2021-09-05T13:51:46.624Z"
   },
   {
    "duration": 12,
    "start_time": "2021-09-05T13:54:19.307Z"
   },
   {
    "duration": 9,
    "start_time": "2021-09-05T13:54:44.292Z"
   },
   {
    "duration": 10,
    "start_time": "2021-09-05T13:55:22.814Z"
   },
   {
    "duration": 12,
    "start_time": "2021-09-05T13:55:32.961Z"
   },
   {
    "duration": 3,
    "start_time": "2021-09-05T14:04:18.524Z"
   },
   {
    "duration": 3,
    "start_time": "2021-09-05T14:04:25.092Z"
   },
   {
    "duration": 622,
    "start_time": "2021-09-05T14:04:59.403Z"
   },
   {
    "duration": 3,
    "start_time": "2021-09-05T14:05:14.243Z"
   },
   {
    "duration": 539,
    "start_time": "2021-09-05T14:05:15.079Z"
   },
   {
    "duration": 3,
    "start_time": "2021-09-05T14:05:19.930Z"
   },
   {
    "duration": 4,
    "start_time": "2021-09-05T14:05:20.267Z"
   },
   {
    "duration": 3,
    "start_time": "2021-09-05T14:05:41.053Z"
   },
   {
    "duration": 4,
    "start_time": "2021-09-05T14:05:41.367Z"
   },
   {
    "duration": 3,
    "start_time": "2021-09-05T14:06:03.444Z"
   },
   {
    "duration": 4,
    "start_time": "2021-09-05T14:06:03.694Z"
   },
   {
    "duration": 10,
    "start_time": "2021-09-05T14:06:53.163Z"
   },
   {
    "duration": 5,
    "start_time": "2021-09-05T14:11:57.559Z"
   },
   {
    "duration": 11,
    "start_time": "2021-09-05T14:12:07.033Z"
   },
   {
    "duration": 274,
    "start_time": "2021-09-05T14:13:03.136Z"
   },
   {
    "duration": 282,
    "start_time": "2021-09-05T14:24:32.099Z"
   },
   {
    "duration": 265,
    "start_time": "2021-09-05T14:25:06.883Z"
   },
   {
    "duration": 290,
    "start_time": "2021-09-05T14:25:14.376Z"
   },
   {
    "duration": 304,
    "start_time": "2021-09-05T14:31:19.656Z"
   },
   {
    "duration": 98,
    "start_time": "2021-09-05T14:34:39.629Z"
   },
   {
    "duration": 88,
    "start_time": "2021-09-05T14:35:04.762Z"
   },
   {
    "duration": 5,
    "start_time": "2021-09-05T14:37:46.456Z"
   },
   {
    "duration": 11,
    "start_time": "2021-09-05T14:38:05.852Z"
   },
   {
    "duration": 3,
    "start_time": "2021-09-05T14:38:58.438Z"
   },
   {
    "duration": 5,
    "start_time": "2021-09-05T14:39:00.149Z"
   },
   {
    "duration": 11,
    "start_time": "2021-09-05T14:39:01.198Z"
   },
   {
    "duration": 3,
    "start_time": "2021-09-05T14:39:13.844Z"
   },
   {
    "duration": 4,
    "start_time": "2021-09-05T14:39:14.327Z"
   },
   {
    "duration": 13,
    "start_time": "2021-09-05T14:39:15.381Z"
   },
   {
    "duration": 3,
    "start_time": "2021-09-05T14:39:53.614Z"
   },
   {
    "duration": 515,
    "start_time": "2021-09-05T14:39:54.706Z"
   },
   {
    "duration": 2922,
    "start_time": "2021-09-05T14:39:52.300Z"
   },
   {
    "duration": 3,
    "start_time": "2021-09-05T14:40:05.319Z"
   },
   {
    "duration": 4,
    "start_time": "2021-09-05T14:40:05.722Z"
   },
   {
    "duration": 10,
    "start_time": "2021-09-05T14:40:06.672Z"
   },
   {
    "duration": 3,
    "start_time": "2021-09-05T14:40:24.544Z"
   },
   {
    "duration": 6,
    "start_time": "2021-09-05T14:40:25.254Z"
   },
   {
    "duration": 10,
    "start_time": "2021-09-05T14:40:25.810Z"
   },
   {
    "duration": 3,
    "start_time": "2021-09-05T14:43:00.824Z"
   },
   {
    "duration": 4,
    "start_time": "2021-09-05T14:43:01.636Z"
   },
   {
    "duration": 10,
    "start_time": "2021-09-05T14:43:02.271Z"
   },
   {
    "duration": 3,
    "start_time": "2021-09-05T16:41:42.164Z"
   },
   {
    "duration": 3,
    "start_time": "2021-09-05T16:41:43.246Z"
   },
   {
    "duration": 9,
    "start_time": "2021-09-05T16:41:44.550Z"
   },
   {
    "duration": 3,
    "start_time": "2021-09-05T16:43:07.040Z"
   },
   {
    "duration": 5,
    "start_time": "2021-09-05T16:43:07.464Z"
   },
   {
    "duration": 9,
    "start_time": "2021-09-05T16:43:08.032Z"
   },
   {
    "duration": 3,
    "start_time": "2021-09-05T16:43:54.808Z"
   },
   {
    "duration": 4,
    "start_time": "2021-09-05T16:43:55.493Z"
   },
   {
    "duration": 11,
    "start_time": "2021-09-05T16:43:55.750Z"
   },
   {
    "duration": 101,
    "start_time": "2021-09-05T16:46:29.489Z"
   },
   {
    "duration": 3,
    "start_time": "2021-09-05T16:46:35.296Z"
   },
   {
    "duration": 84,
    "start_time": "2021-09-05T16:46:40.639Z"
   },
   {
    "duration": 3,
    "start_time": "2021-09-05T16:46:47.697Z"
   },
   {
    "duration": 9,
    "start_time": "2021-09-05T16:46:48.412Z"
   },
   {
    "duration": 9,
    "start_time": "2021-09-05T16:47:02.563Z"
   },
   {
    "duration": 89,
    "start_time": "2021-09-05T16:47:04.123Z"
   },
   {
    "duration": 4,
    "start_time": "2021-09-05T16:47:05.466Z"
   },
   {
    "duration": 9,
    "start_time": "2021-09-05T16:47:06.124Z"
   },
   {
    "duration": 87,
    "start_time": "2021-09-05T16:47:20.186Z"
   },
   {
    "duration": 3,
    "start_time": "2021-09-05T16:47:31.639Z"
   },
   {
    "duration": 4,
    "start_time": "2021-09-05T16:47:33.103Z"
   },
   {
    "duration": 9,
    "start_time": "2021-09-05T16:47:34.028Z"
   },
   {
    "duration": 3,
    "start_time": "2021-09-05T16:53:35.125Z"
   },
   {
    "duration": 3,
    "start_time": "2021-09-05T16:53:35.909Z"
   },
   {
    "duration": 10,
    "start_time": "2021-09-05T16:53:36.835Z"
   },
   {
    "duration": 4,
    "start_time": "2021-09-05T16:53:49.549Z"
   },
   {
    "duration": 4,
    "start_time": "2021-09-05T16:53:50.117Z"
   },
   {
    "duration": 10,
    "start_time": "2021-09-05T16:53:50.774Z"
   },
   {
    "duration": 3,
    "start_time": "2021-09-05T16:54:07.363Z"
   },
   {
    "duration": 4,
    "start_time": "2021-09-05T16:54:08.133Z"
   },
   {
    "duration": 11,
    "start_time": "2021-09-05T16:54:08.744Z"
   },
   {
    "duration": 3,
    "start_time": "2021-09-05T16:54:26.283Z"
   },
   {
    "duration": 4,
    "start_time": "2021-09-05T16:54:26.736Z"
   },
   {
    "duration": 10,
    "start_time": "2021-09-05T16:54:27.263Z"
   },
   {
    "duration": 1124,
    "start_time": "2021-09-05T17:06:41.084Z"
   },
   {
    "duration": 766,
    "start_time": "2021-09-05T17:06:42.210Z"
   },
   {
    "duration": 226,
    "start_time": "2021-09-05T17:06:42.978Z"
   },
   {
    "duration": 845,
    "start_time": "2021-09-05T17:06:43.206Z"
   },
   {
    "duration": 114,
    "start_time": "2021-09-05T17:06:44.052Z"
   },
   {
    "duration": 4,
    "start_time": "2021-09-05T17:06:44.167Z"
   },
   {
    "duration": 705,
    "start_time": "2021-09-05T17:06:44.172Z"
   },
   {
    "duration": 43,
    "start_time": "2021-09-05T17:06:44.879Z"
   },
   {
    "duration": 150,
    "start_time": "2021-09-05T17:06:44.924Z"
   },
   {
    "duration": 131,
    "start_time": "2021-09-05T17:06:45.075Z"
   },
   {
    "duration": 20,
    "start_time": "2021-09-05T17:06:45.207Z"
   },
   {
    "duration": 1509,
    "start_time": "2021-09-05T17:06:45.241Z"
   },
   {
    "duration": 742943,
    "start_time": "2021-09-05T17:06:46.752Z"
   },
   {
    "duration": 1758,
    "start_time": "2021-09-05T17:19:09.697Z"
   },
   {
    "duration": 53393,
    "start_time": "2021-09-05T17:19:11.457Z"
   },
   {
    "duration": 7524,
    "start_time": "2021-09-05T17:20:04.852Z"
   },
   {
    "duration": 294374,
    "start_time": "2021-09-05T17:20:12.378Z"
   },
   {
    "duration": 908,
    "start_time": "2021-09-05T17:25:06.754Z"
   },
   {
    "duration": 24286,
    "start_time": "2021-09-05T17:25:07.664Z"
   },
   {
    "duration": 292,
    "start_time": "2021-09-05T17:25:31.952Z"
   },
   {
    "duration": 97,
    "start_time": "2021-09-05T17:25:32.247Z"
   }
  ],
  "kernelspec": {
   "display_name": "Python 3",
   "language": "python",
   "name": "python3"
  },
  "language_info": {
   "codemirror_mode": {
    "name": "ipython",
    "version": 3
   },
   "file_extension": ".py",
   "mimetype": "text/x-python",
   "name": "python",
   "nbconvert_exporter": "python",
   "pygments_lexer": "ipython3",
   "version": "3.8.8"
  },
  "toc": {
   "base_numbering": 1,
   "nav_menu": {},
   "number_sections": true,
   "sideBar": true,
   "skip_h1_title": true,
   "title_cell": "Table of Contents",
   "title_sidebar": "Contents",
   "toc_cell": false,
   "toc_position": {
    "height": "calc(100% - 180px)",
    "left": "10px",
    "top": "150px",
    "width": "270px"
   },
   "toc_section_display": true,
   "toc_window_display": false
  }
 },
 "nbformat": 4,
 "nbformat_minor": 2
}
