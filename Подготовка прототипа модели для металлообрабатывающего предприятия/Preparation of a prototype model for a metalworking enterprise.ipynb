{
 "cells": [
  {
   "cell_type": "markdown",
   "metadata": {
    "toc": true
   },
   "source": [
    "<h1>Содержание<span class=\"tocSkip\"></span></h1>\n",
    "<div class=\"toc\"><ul class=\"toc-item\"><li><span><a href=\"#Подготовка-данных\" data-toc-modified-id=\"Подготовка-данных-1\"><span class=\"toc-item-num\">1&nbsp;&nbsp;</span>Подготовка данных</a></span><ul class=\"toc-item\"><li><span><a href=\"#Импорт-библитек-и-модулей\" data-toc-modified-id=\"Импорт-библитек-и-модулей-1.1\"><span class=\"toc-item-num\">1.1&nbsp;&nbsp;</span>Импорт библитек и модулей</a></span></li><li><span><a href=\"#Чтение-данных\" data-toc-modified-id=\"Чтение-данных-1.2\"><span class=\"toc-item-num\">1.2&nbsp;&nbsp;</span>Чтение данных</a></span></li><li><span><a href=\"#Проверка-правильность-подсчета-эффективности-обогощения\" data-toc-modified-id=\"Проверка-правильность-подсчета-эффективности-обогощения-1.3\"><span class=\"toc-item-num\">1.3&nbsp;&nbsp;</span>Проверка правильность подсчета эффективности обогощения</a></span></li><li><span><a href=\"#Параметры-в-обучающей-выборке,-которых-нет-в-тесте\" data-toc-modified-id=\"Параметры-в-обучающей-выборке,-которых-нет-в-тесте-1.4\"><span class=\"toc-item-num\">1.4&nbsp;&nbsp;</span>Параметры в обучающей выборке, которых нет в тесте</a></span></li><li><span><a href=\"#Обработка-пропусков\" data-toc-modified-id=\"Обработка-пропусков-1.5\"><span class=\"toc-item-num\">1.5&nbsp;&nbsp;</span>Обработка пропусков</a></span></li><li><span><a href=\"#Вывод-по-разделу\" data-toc-modified-id=\"Вывод-по-разделу-1.6\"><span class=\"toc-item-num\">1.6&nbsp;&nbsp;</span>Вывод по разделу</a></span></li></ul></li><li><span><a href=\"#Анализ-данных\" data-toc-modified-id=\"Анализ-данных-2\"><span class=\"toc-item-num\">2&nbsp;&nbsp;</span>Анализ данных</a></span><ul class=\"toc-item\"><li><span><a href=\"#Исследование-концетрации-металов-на-разных-этапах-очистки\" data-toc-modified-id=\"Исследование-концетрации-металов-на-разных-этапах-очистки-2.1\"><span class=\"toc-item-num\">2.1&nbsp;&nbsp;</span>Исследование концетрации металов на разных этапах очистки</a></span></li><li><span><a href=\"#Сравние-распределения-размеров-гранул-сырья-на-обучающей-и-тестовой-выборках\" data-toc-modified-id=\"Сравние-распределения-размеров-гранул-сырья-на-обучающей-и-тестовой-выборках-2.2\"><span class=\"toc-item-num\">2.2&nbsp;&nbsp;</span>Сравние распределения размеров гранул сырья на обучающей и тестовой выборках</a></span></li><li><span><a href=\"#Исследование-суммарной-концетрации-всех-веществ-на-разных-стадиях\" data-toc-modified-id=\"Исследование-суммарной-концетрации-всех-веществ-на-разных-стадиях-2.3\"><span class=\"toc-item-num\">2.3&nbsp;&nbsp;</span>Исследование суммарной концетрации всех веществ на разных стадиях</a></span><ul class=\"toc-item\"><li><span><a href=\"#Поиск-аномалий-на-этапе-флотации\" data-toc-modified-id=\"Поиск-аномалий-на-этапе-флотации-2.3.1\"><span class=\"toc-item-num\">2.3.1&nbsp;&nbsp;</span>Поиск аномалий на этапе флотации</a></span></li><li><span><a href=\"#Поиск-аномалий-на-этапе-первой-очистки\" data-toc-modified-id=\"Поиск-аномалий-на-этапе-первой-очистки-2.3.2\"><span class=\"toc-item-num\">2.3.2&nbsp;&nbsp;</span>Поиск аномалий на этапе первой очистки</a></span></li><li><span><a href=\"#Поиск-аномалий-на-этапе-финальной-очистки\" data-toc-modified-id=\"Поиск-аномалий-на-этапе-финальной-очистки-2.3.3\"><span class=\"toc-item-num\">2.3.3&nbsp;&nbsp;</span>Поиск аномалий на этапе финальной очистки</a></span></li></ul></li><li><span><a href=\"#Вывод-по-разделу\" data-toc-modified-id=\"Вывод-по-разделу-2.4\"><span class=\"toc-item-num\">2.4&nbsp;&nbsp;</span>Вывод по разделу</a></span></li></ul></li><li><span><a href=\"#Модель\" data-toc-modified-id=\"Модель-3\"><span class=\"toc-item-num\">3&nbsp;&nbsp;</span>Модель</a></span><ul class=\"toc-item\"><li><span><a href=\"#Функция-sMAPE-для-оценки-качества-модели\" data-toc-modified-id=\"Функция-sMAPE-для-оценки-качества-модели-3.1\"><span class=\"toc-item-num\">3.1&nbsp;&nbsp;</span>Функция sMAPE для оценки качества модели</a></span></li><li><span><a href=\"#Подготовка-к--построению-модели\" data-toc-modified-id=\"Подготовка-к--построению-модели-3.2\"><span class=\"toc-item-num\">3.2&nbsp;&nbsp;</span>Подготовка к  построению модели</a></span></li><li><span><a href=\"#GridSearchCV-для-подбора-лучших-гиперпараметров\" data-toc-modified-id=\"GridSearchCV-для-подбора-лучших-гиперпараметров-3.3\"><span class=\"toc-item-num\">3.3&nbsp;&nbsp;</span>GridSearchCV для подбора лучших гиперпараметров</a></span></li><li><span><a href=\"#Поиск-лучшей-модели\" data-toc-modified-id=\"Поиск-лучшей-модели-3.4\"><span class=\"toc-item-num\">3.4&nbsp;&nbsp;</span>Поиск лучшей модели</a></span></li><li><span><a href=\"#Проверка-модели-на-тестовой-выборке\" data-toc-modified-id=\"Проверка-модели-на-тестовой-выборке-3.5\"><span class=\"toc-item-num\">3.5&nbsp;&nbsp;</span>Проверка модели на тестовой выборке</a></span></li><li><span><a href=\"#Проверка-на-адекватность\" data-toc-modified-id=\"Проверка-на-адекватность-3.6\"><span class=\"toc-item-num\">3.6&nbsp;&nbsp;</span>Проверка на адекватность</a></span></li></ul></li><li><span><a href=\"#Вывод\" data-toc-modified-id=\"Вывод-4\"><span class=\"toc-item-num\">4&nbsp;&nbsp;</span>Вывод</a></span></li></ul></div>"
   ]
  },
  {
   "cell_type": "markdown",
   "metadata": {},
   "source": [
    "# Восстановление золота из руды"
   ]
  },
  {
   "cell_type": "markdown",
   "metadata": {},
   "source": [
    "Подготовьте прототип модели машинного обучения для «Цифры». Компания разрабатывает решения для эффективной работы промышленных предприятий.\n",
    "\n",
    "Модель должна предсказать коэффициент восстановления золота из золотосодержащей руды. Используйте данные с параметрами добычи и очистки. \n",
    "\n",
    "Модель поможет оптимизировать производство, чтобы не запускать предприятие с убыточными характеристиками.\n"
   ]
  },
  {
   "cell_type": "markdown",
   "metadata": {},
   "source": [
    "## Подготовка данных"
   ]
  },
  {
   "cell_type": "markdown",
   "metadata": {},
   "source": [
    "### Импорт библитек и модулей\n"
   ]
  },
  {
   "cell_type": "code",
   "execution_count": 1,
   "metadata": {},
   "outputs": [],
   "source": [
    "import pandas as pd\n",
    "import numpy as np\n",
    "import seaborn as sns\n",
    "import re\n",
    "import math\n",
    "\n",
    "from scipy import stats as st\n",
    "import matplotlib.pyplot as plt\n",
    "from sklearn.model_selection import train_test_split\n",
    "from sklearn.ensemble import RandomForestRegressor\n",
    "from sklearn.preprocessing import StandardScaler\n",
    "from sklearn.pipeline import  make_pipeline\n",
    "from sklearn.linear_model import LinearRegression\n",
    "from sklearn.model_selection import cross_val_score\n",
    "from sklearn.tree import DecisionTreeRegressor\n",
    "from sklearn.model_selection import cross_val_score\n",
    "from sklearn.model_selection import GridSearchCV\n",
    "from sklearn.linear_model import LogisticRegression\n",
    "from sklearn.dummy import DummyRegressor\n",
    "from sklearn.preprocessing import StandardScaler\n",
    "from sklearn.utils import shuffle\n",
    "from sklearn.metrics import make_scorer, mean_absolute_error, accuracy_score, f1_score, recall_score, precision_score, roc_auc_score,roc_curve, confusion_matrix\n",
    "\n",
    "import warnings\n",
    "warnings.filterwarnings('ignore')\n",
    "from IPython.display import display"
   ]
  },
  {
   "cell_type": "markdown",
   "metadata": {},
   "source": [
    "### Чтение данных"
   ]
  },
  {
   "cell_type": "code",
   "execution_count": 2,
   "metadata": {},
   "outputs": [],
   "source": [
    "train_df = pd.read_csv('/datasets/gold_recovery_train.csv') #обучающая выборка \n",
    "test_df = pd.read_csv('/datasets/gold_recovery_test.csv') #тестовая выборка \n",
    "full_df = pd.read_csv('/datasets/gold_recovery_full.csv') #исходные данные"
   ]
  },
  {
   "cell_type": "code",
   "execution_count": 3,
   "metadata": {
    "scrolled": true
   },
   "outputs": [
    {
     "data": {
      "text/html": [
       "<div>\n",
       "<style scoped>\n",
       "    .dataframe tbody tr th:only-of-type {\n",
       "        vertical-align: middle;\n",
       "    }\n",
       "\n",
       "    .dataframe tbody tr th {\n",
       "        vertical-align: top;\n",
       "    }\n",
       "\n",
       "    .dataframe thead th {\n",
       "        text-align: right;\n",
       "    }\n",
       "</style>\n",
       "<table border=\"1\" class=\"dataframe\">\n",
       "  <thead>\n",
       "    <tr style=\"text-align: right;\">\n",
       "      <th></th>\n",
       "      <th>date</th>\n",
       "      <th>final.output.concentrate_ag</th>\n",
       "      <th>final.output.concentrate_pb</th>\n",
       "      <th>final.output.concentrate_sol</th>\n",
       "      <th>final.output.concentrate_au</th>\n",
       "      <th>final.output.recovery</th>\n",
       "      <th>final.output.tail_ag</th>\n",
       "      <th>final.output.tail_pb</th>\n",
       "      <th>final.output.tail_sol</th>\n",
       "      <th>final.output.tail_au</th>\n",
       "      <th>...</th>\n",
       "      <th>secondary_cleaner.state.floatbank4_a_air</th>\n",
       "      <th>secondary_cleaner.state.floatbank4_a_level</th>\n",
       "      <th>secondary_cleaner.state.floatbank4_b_air</th>\n",
       "      <th>secondary_cleaner.state.floatbank4_b_level</th>\n",
       "      <th>secondary_cleaner.state.floatbank5_a_air</th>\n",
       "      <th>secondary_cleaner.state.floatbank5_a_level</th>\n",
       "      <th>secondary_cleaner.state.floatbank5_b_air</th>\n",
       "      <th>secondary_cleaner.state.floatbank5_b_level</th>\n",
       "      <th>secondary_cleaner.state.floatbank6_a_air</th>\n",
       "      <th>secondary_cleaner.state.floatbank6_a_level</th>\n",
       "    </tr>\n",
       "  </thead>\n",
       "  <tbody>\n",
       "    <tr>\n",
       "      <td>0</td>\n",
       "      <td>2016-01-15 00:00:00</td>\n",
       "      <td>6.055403</td>\n",
       "      <td>9.889648</td>\n",
       "      <td>5.507324</td>\n",
       "      <td>42.192020</td>\n",
       "      <td>70.541216</td>\n",
       "      <td>10.411962</td>\n",
       "      <td>0.895447</td>\n",
       "      <td>16.904297</td>\n",
       "      <td>2.143149</td>\n",
       "      <td>...</td>\n",
       "      <td>14.016835</td>\n",
       "      <td>-502.488007</td>\n",
       "      <td>12.099931</td>\n",
       "      <td>-504.715942</td>\n",
       "      <td>9.925633</td>\n",
       "      <td>-498.310211</td>\n",
       "      <td>8.079666</td>\n",
       "      <td>-500.470978</td>\n",
       "      <td>14.151341</td>\n",
       "      <td>-605.841980</td>\n",
       "    </tr>\n",
       "    <tr>\n",
       "      <td>1</td>\n",
       "      <td>2016-01-15 01:00:00</td>\n",
       "      <td>6.029369</td>\n",
       "      <td>9.968944</td>\n",
       "      <td>5.257781</td>\n",
       "      <td>42.701629</td>\n",
       "      <td>69.266198</td>\n",
       "      <td>10.462676</td>\n",
       "      <td>0.927452</td>\n",
       "      <td>16.634514</td>\n",
       "      <td>2.224930</td>\n",
       "      <td>...</td>\n",
       "      <td>13.992281</td>\n",
       "      <td>-505.503262</td>\n",
       "      <td>11.950531</td>\n",
       "      <td>-501.331529</td>\n",
       "      <td>10.039245</td>\n",
       "      <td>-500.169983</td>\n",
       "      <td>7.984757</td>\n",
       "      <td>-500.582168</td>\n",
       "      <td>13.998353</td>\n",
       "      <td>-599.787184</td>\n",
       "    </tr>\n",
       "    <tr>\n",
       "      <td>2</td>\n",
       "      <td>2016-01-15 02:00:00</td>\n",
       "      <td>6.055926</td>\n",
       "      <td>10.213995</td>\n",
       "      <td>5.383759</td>\n",
       "      <td>42.657501</td>\n",
       "      <td>68.116445</td>\n",
       "      <td>10.507046</td>\n",
       "      <td>0.953716</td>\n",
       "      <td>16.208849</td>\n",
       "      <td>2.257889</td>\n",
       "      <td>...</td>\n",
       "      <td>14.015015</td>\n",
       "      <td>-502.520901</td>\n",
       "      <td>11.912783</td>\n",
       "      <td>-501.133383</td>\n",
       "      <td>10.070913</td>\n",
       "      <td>-500.129135</td>\n",
       "      <td>8.013877</td>\n",
       "      <td>-500.517572</td>\n",
       "      <td>14.028663</td>\n",
       "      <td>-601.427363</td>\n",
       "    </tr>\n",
       "    <tr>\n",
       "      <td>3</td>\n",
       "      <td>2016-01-15 03:00:00</td>\n",
       "      <td>6.047977</td>\n",
       "      <td>9.977019</td>\n",
       "      <td>4.858634</td>\n",
       "      <td>42.689819</td>\n",
       "      <td>68.347543</td>\n",
       "      <td>10.422762</td>\n",
       "      <td>0.883763</td>\n",
       "      <td>16.532835</td>\n",
       "      <td>2.146849</td>\n",
       "      <td>...</td>\n",
       "      <td>14.036510</td>\n",
       "      <td>-500.857308</td>\n",
       "      <td>11.999550</td>\n",
       "      <td>-501.193686</td>\n",
       "      <td>9.970366</td>\n",
       "      <td>-499.201640</td>\n",
       "      <td>7.977324</td>\n",
       "      <td>-500.255908</td>\n",
       "      <td>14.005551</td>\n",
       "      <td>-599.996129</td>\n",
       "    </tr>\n",
       "    <tr>\n",
       "      <td>4</td>\n",
       "      <td>2016-01-15 04:00:00</td>\n",
       "      <td>6.148599</td>\n",
       "      <td>10.142511</td>\n",
       "      <td>4.939416</td>\n",
       "      <td>42.774141</td>\n",
       "      <td>66.927016</td>\n",
       "      <td>10.360302</td>\n",
       "      <td>0.792826</td>\n",
       "      <td>16.525686</td>\n",
       "      <td>2.055292</td>\n",
       "      <td>...</td>\n",
       "      <td>14.027298</td>\n",
       "      <td>-499.838632</td>\n",
       "      <td>11.953070</td>\n",
       "      <td>-501.053894</td>\n",
       "      <td>9.925709</td>\n",
       "      <td>-501.686727</td>\n",
       "      <td>7.894242</td>\n",
       "      <td>-500.356035</td>\n",
       "      <td>13.996647</td>\n",
       "      <td>-601.496691</td>\n",
       "    </tr>\n",
       "  </tbody>\n",
       "</table>\n",
       "<p>5 rows × 87 columns</p>\n",
       "</div>"
      ],
      "text/plain": [
       "                  date  final.output.concentrate_ag  \\\n",
       "0  2016-01-15 00:00:00                     6.055403   \n",
       "1  2016-01-15 01:00:00                     6.029369   \n",
       "2  2016-01-15 02:00:00                     6.055926   \n",
       "3  2016-01-15 03:00:00                     6.047977   \n",
       "4  2016-01-15 04:00:00                     6.148599   \n",
       "\n",
       "   final.output.concentrate_pb  final.output.concentrate_sol  \\\n",
       "0                     9.889648                      5.507324   \n",
       "1                     9.968944                      5.257781   \n",
       "2                    10.213995                      5.383759   \n",
       "3                     9.977019                      4.858634   \n",
       "4                    10.142511                      4.939416   \n",
       "\n",
       "   final.output.concentrate_au  final.output.recovery  final.output.tail_ag  \\\n",
       "0                    42.192020              70.541216             10.411962   \n",
       "1                    42.701629              69.266198             10.462676   \n",
       "2                    42.657501              68.116445             10.507046   \n",
       "3                    42.689819              68.347543             10.422762   \n",
       "4                    42.774141              66.927016             10.360302   \n",
       "\n",
       "   final.output.tail_pb  final.output.tail_sol  final.output.tail_au  ...  \\\n",
       "0              0.895447              16.904297              2.143149  ...   \n",
       "1              0.927452              16.634514              2.224930  ...   \n",
       "2              0.953716              16.208849              2.257889  ...   \n",
       "3              0.883763              16.532835              2.146849  ...   \n",
       "4              0.792826              16.525686              2.055292  ...   \n",
       "\n",
       "   secondary_cleaner.state.floatbank4_a_air  \\\n",
       "0                                 14.016835   \n",
       "1                                 13.992281   \n",
       "2                                 14.015015   \n",
       "3                                 14.036510   \n",
       "4                                 14.027298   \n",
       "\n",
       "   secondary_cleaner.state.floatbank4_a_level  \\\n",
       "0                                 -502.488007   \n",
       "1                                 -505.503262   \n",
       "2                                 -502.520901   \n",
       "3                                 -500.857308   \n",
       "4                                 -499.838632   \n",
       "\n",
       "   secondary_cleaner.state.floatbank4_b_air  \\\n",
       "0                                 12.099931   \n",
       "1                                 11.950531   \n",
       "2                                 11.912783   \n",
       "3                                 11.999550   \n",
       "4                                 11.953070   \n",
       "\n",
       "   secondary_cleaner.state.floatbank4_b_level  \\\n",
       "0                                 -504.715942   \n",
       "1                                 -501.331529   \n",
       "2                                 -501.133383   \n",
       "3                                 -501.193686   \n",
       "4                                 -501.053894   \n",
       "\n",
       "   secondary_cleaner.state.floatbank5_a_air  \\\n",
       "0                                  9.925633   \n",
       "1                                 10.039245   \n",
       "2                                 10.070913   \n",
       "3                                  9.970366   \n",
       "4                                  9.925709   \n",
       "\n",
       "   secondary_cleaner.state.floatbank5_a_level  \\\n",
       "0                                 -498.310211   \n",
       "1                                 -500.169983   \n",
       "2                                 -500.129135   \n",
       "3                                 -499.201640   \n",
       "4                                 -501.686727   \n",
       "\n",
       "   secondary_cleaner.state.floatbank5_b_air  \\\n",
       "0                                  8.079666   \n",
       "1                                  7.984757   \n",
       "2                                  8.013877   \n",
       "3                                  7.977324   \n",
       "4                                  7.894242   \n",
       "\n",
       "   secondary_cleaner.state.floatbank5_b_level  \\\n",
       "0                                 -500.470978   \n",
       "1                                 -500.582168   \n",
       "2                                 -500.517572   \n",
       "3                                 -500.255908   \n",
       "4                                 -500.356035   \n",
       "\n",
       "   secondary_cleaner.state.floatbank6_a_air  \\\n",
       "0                                 14.151341   \n",
       "1                                 13.998353   \n",
       "2                                 14.028663   \n",
       "3                                 14.005551   \n",
       "4                                 13.996647   \n",
       "\n",
       "   secondary_cleaner.state.floatbank6_a_level  \n",
       "0                                 -605.841980  \n",
       "1                                 -599.787184  \n",
       "2                                 -601.427363  \n",
       "3                                 -599.996129  \n",
       "4                                 -601.496691  \n",
       "\n",
       "[5 rows x 87 columns]"
      ]
     },
     "metadata": {},
     "output_type": "display_data"
    },
    {
     "name": "stdout",
     "output_type": "stream",
     "text": [
      "<class 'pandas.core.frame.DataFrame'>\n",
      "RangeIndex: 16860 entries, 0 to 16859\n",
      "Data columns (total 87 columns):\n",
      "date                                                  16860 non-null object\n",
      "final.output.concentrate_ag                           16788 non-null float64\n",
      "final.output.concentrate_pb                           16788 non-null float64\n",
      "final.output.concentrate_sol                          16490 non-null float64\n",
      "final.output.concentrate_au                           16789 non-null float64\n",
      "final.output.recovery                                 15339 non-null float64\n",
      "final.output.tail_ag                                  16794 non-null float64\n",
      "final.output.tail_pb                                  16677 non-null float64\n",
      "final.output.tail_sol                                 16715 non-null float64\n",
      "final.output.tail_au                                  16794 non-null float64\n",
      "primary_cleaner.input.sulfate                         15553 non-null float64\n",
      "primary_cleaner.input.depressant                      15598 non-null float64\n",
      "primary_cleaner.input.feed_size                       16860 non-null float64\n",
      "primary_cleaner.input.xanthate                        15875 non-null float64\n",
      "primary_cleaner.output.concentrate_ag                 16778 non-null float64\n",
      "primary_cleaner.output.concentrate_pb                 16502 non-null float64\n",
      "primary_cleaner.output.concentrate_sol                16224 non-null float64\n",
      "primary_cleaner.output.concentrate_au                 16778 non-null float64\n",
      "primary_cleaner.output.tail_ag                        16777 non-null float64\n",
      "primary_cleaner.output.tail_pb                        16761 non-null float64\n",
      "primary_cleaner.output.tail_sol                       16579 non-null float64\n",
      "primary_cleaner.output.tail_au                        16777 non-null float64\n",
      "primary_cleaner.state.floatbank8_a_air                16820 non-null float64\n",
      "primary_cleaner.state.floatbank8_a_level              16827 non-null float64\n",
      "primary_cleaner.state.floatbank8_b_air                16820 non-null float64\n",
      "primary_cleaner.state.floatbank8_b_level              16833 non-null float64\n",
      "primary_cleaner.state.floatbank8_c_air                16822 non-null float64\n",
      "primary_cleaner.state.floatbank8_c_level              16833 non-null float64\n",
      "primary_cleaner.state.floatbank8_d_air                16821 non-null float64\n",
      "primary_cleaner.state.floatbank8_d_level              16833 non-null float64\n",
      "rougher.calculation.sulfate_to_au_concentrate         16833 non-null float64\n",
      "rougher.calculation.floatbank10_sulfate_to_au_feed    16833 non-null float64\n",
      "rougher.calculation.floatbank11_sulfate_to_au_feed    16833 non-null float64\n",
      "rougher.calculation.au_pb_ratio                       15618 non-null float64\n",
      "rougher.input.feed_ag                                 16778 non-null float64\n",
      "rougher.input.feed_pb                                 16632 non-null float64\n",
      "rougher.input.feed_rate                               16347 non-null float64\n",
      "rougher.input.feed_size                               16443 non-null float64\n",
      "rougher.input.feed_sol                                16568 non-null float64\n",
      "rougher.input.feed_au                                 16777 non-null float64\n",
      "rougher.input.floatbank10_sulfate                     15816 non-null float64\n",
      "rougher.input.floatbank10_xanthate                    16514 non-null float64\n",
      "rougher.input.floatbank11_sulfate                     16237 non-null float64\n",
      "rougher.input.floatbank11_xanthate                    14956 non-null float64\n",
      "rougher.output.concentrate_ag                         16778 non-null float64\n",
      "rougher.output.concentrate_pb                         16778 non-null float64\n",
      "rougher.output.concentrate_sol                        16698 non-null float64\n",
      "rougher.output.concentrate_au                         16778 non-null float64\n",
      "rougher.output.recovery                               14287 non-null float64\n",
      "rougher.output.tail_ag                                14610 non-null float64\n",
      "rougher.output.tail_pb                                16778 non-null float64\n",
      "rougher.output.tail_sol                               14611 non-null float64\n",
      "rougher.output.tail_au                                14611 non-null float64\n",
      "rougher.state.floatbank10_a_air                       16807 non-null float64\n",
      "rougher.state.floatbank10_a_level                     16807 non-null float64\n",
      "rougher.state.floatbank10_b_air                       16807 non-null float64\n",
      "rougher.state.floatbank10_b_level                     16807 non-null float64\n",
      "rougher.state.floatbank10_c_air                       16807 non-null float64\n",
      "rougher.state.floatbank10_c_level                     16814 non-null float64\n",
      "rougher.state.floatbank10_d_air                       16802 non-null float64\n",
      "rougher.state.floatbank10_d_level                     16809 non-null float64\n",
      "rougher.state.floatbank10_e_air                       16257 non-null float64\n",
      "rougher.state.floatbank10_e_level                     16809 non-null float64\n",
      "rougher.state.floatbank10_f_air                       16802 non-null float64\n",
      "rougher.state.floatbank10_f_level                     16802 non-null float64\n",
      "secondary_cleaner.output.tail_ag                      16776 non-null float64\n",
      "secondary_cleaner.output.tail_pb                      16764 non-null float64\n",
      "secondary_cleaner.output.tail_sol                     14874 non-null float64\n",
      "secondary_cleaner.output.tail_au                      16778 non-null float64\n",
      "secondary_cleaner.state.floatbank2_a_air              16497 non-null float64\n",
      "secondary_cleaner.state.floatbank2_a_level            16751 non-null float64\n",
      "secondary_cleaner.state.floatbank2_b_air              16705 non-null float64\n",
      "secondary_cleaner.state.floatbank2_b_level            16748 non-null float64\n",
      "secondary_cleaner.state.floatbank3_a_air              16763 non-null float64\n",
      "secondary_cleaner.state.floatbank3_a_level            16747 non-null float64\n",
      "secondary_cleaner.state.floatbank3_b_air              16752 non-null float64\n",
      "secondary_cleaner.state.floatbank3_b_level            16750 non-null float64\n",
      "secondary_cleaner.state.floatbank4_a_air              16731 non-null float64\n",
      "secondary_cleaner.state.floatbank4_a_level            16747 non-null float64\n",
      "secondary_cleaner.state.floatbank4_b_air              16768 non-null float64\n",
      "secondary_cleaner.state.floatbank4_b_level            16767 non-null float64\n",
      "secondary_cleaner.state.floatbank5_a_air              16775 non-null float64\n",
      "secondary_cleaner.state.floatbank5_a_level            16775 non-null float64\n",
      "secondary_cleaner.state.floatbank5_b_air              16775 non-null float64\n",
      "secondary_cleaner.state.floatbank5_b_level            16776 non-null float64\n",
      "secondary_cleaner.state.floatbank6_a_air              16757 non-null float64\n",
      "secondary_cleaner.state.floatbank6_a_level            16775 non-null float64\n",
      "dtypes: float64(86), object(1)\n",
      "memory usage: 11.2+ MB\n",
      "None\n",
      "---------------------------------------------------------------------------------------------\n",
      "---------------------------------------------------------------------------------------------\n",
      "---------------------------------------------------------------------------------------------\n"
     ]
    },
    {
     "data": {
      "text/html": [
       "<div>\n",
       "<style scoped>\n",
       "    .dataframe tbody tr th:only-of-type {\n",
       "        vertical-align: middle;\n",
       "    }\n",
       "\n",
       "    .dataframe tbody tr th {\n",
       "        vertical-align: top;\n",
       "    }\n",
       "\n",
       "    .dataframe thead th {\n",
       "        text-align: right;\n",
       "    }\n",
       "</style>\n",
       "<table border=\"1\" class=\"dataframe\">\n",
       "  <thead>\n",
       "    <tr style=\"text-align: right;\">\n",
       "      <th></th>\n",
       "      <th>date</th>\n",
       "      <th>primary_cleaner.input.sulfate</th>\n",
       "      <th>primary_cleaner.input.depressant</th>\n",
       "      <th>primary_cleaner.input.feed_size</th>\n",
       "      <th>primary_cleaner.input.xanthate</th>\n",
       "      <th>primary_cleaner.state.floatbank8_a_air</th>\n",
       "      <th>primary_cleaner.state.floatbank8_a_level</th>\n",
       "      <th>primary_cleaner.state.floatbank8_b_air</th>\n",
       "      <th>primary_cleaner.state.floatbank8_b_level</th>\n",
       "      <th>primary_cleaner.state.floatbank8_c_air</th>\n",
       "      <th>...</th>\n",
       "      <th>secondary_cleaner.state.floatbank4_a_air</th>\n",
       "      <th>secondary_cleaner.state.floatbank4_a_level</th>\n",
       "      <th>secondary_cleaner.state.floatbank4_b_air</th>\n",
       "      <th>secondary_cleaner.state.floatbank4_b_level</th>\n",
       "      <th>secondary_cleaner.state.floatbank5_a_air</th>\n",
       "      <th>secondary_cleaner.state.floatbank5_a_level</th>\n",
       "      <th>secondary_cleaner.state.floatbank5_b_air</th>\n",
       "      <th>secondary_cleaner.state.floatbank5_b_level</th>\n",
       "      <th>secondary_cleaner.state.floatbank6_a_air</th>\n",
       "      <th>secondary_cleaner.state.floatbank6_a_level</th>\n",
       "    </tr>\n",
       "  </thead>\n",
       "  <tbody>\n",
       "    <tr>\n",
       "      <td>0</td>\n",
       "      <td>2016-09-01 00:59:59</td>\n",
       "      <td>210.800909</td>\n",
       "      <td>14.993118</td>\n",
       "      <td>8.080000</td>\n",
       "      <td>1.005021</td>\n",
       "      <td>1398.981301</td>\n",
       "      <td>-500.225577</td>\n",
       "      <td>1399.144926</td>\n",
       "      <td>-499.919735</td>\n",
       "      <td>1400.102998</td>\n",
       "      <td>...</td>\n",
       "      <td>12.023554</td>\n",
       "      <td>-497.795834</td>\n",
       "      <td>8.016656</td>\n",
       "      <td>-501.289139</td>\n",
       "      <td>7.946562</td>\n",
       "      <td>-432.317850</td>\n",
       "      <td>4.872511</td>\n",
       "      <td>-500.037437</td>\n",
       "      <td>26.705889</td>\n",
       "      <td>-499.709414</td>\n",
       "    </tr>\n",
       "    <tr>\n",
       "      <td>1</td>\n",
       "      <td>2016-09-01 01:59:59</td>\n",
       "      <td>215.392455</td>\n",
       "      <td>14.987471</td>\n",
       "      <td>8.080000</td>\n",
       "      <td>0.990469</td>\n",
       "      <td>1398.777912</td>\n",
       "      <td>-500.057435</td>\n",
       "      <td>1398.055362</td>\n",
       "      <td>-499.778182</td>\n",
       "      <td>1396.151033</td>\n",
       "      <td>...</td>\n",
       "      <td>12.058140</td>\n",
       "      <td>-498.695773</td>\n",
       "      <td>8.130979</td>\n",
       "      <td>-499.634209</td>\n",
       "      <td>7.958270</td>\n",
       "      <td>-525.839648</td>\n",
       "      <td>4.878850</td>\n",
       "      <td>-500.162375</td>\n",
       "      <td>25.019940</td>\n",
       "      <td>-499.819438</td>\n",
       "    </tr>\n",
       "    <tr>\n",
       "      <td>2</td>\n",
       "      <td>2016-09-01 02:59:59</td>\n",
       "      <td>215.259946</td>\n",
       "      <td>12.884934</td>\n",
       "      <td>7.786667</td>\n",
       "      <td>0.996043</td>\n",
       "      <td>1398.493666</td>\n",
       "      <td>-500.868360</td>\n",
       "      <td>1398.860436</td>\n",
       "      <td>-499.764529</td>\n",
       "      <td>1398.075709</td>\n",
       "      <td>...</td>\n",
       "      <td>11.962366</td>\n",
       "      <td>-498.767484</td>\n",
       "      <td>8.096893</td>\n",
       "      <td>-500.827423</td>\n",
       "      <td>8.071056</td>\n",
       "      <td>-500.801673</td>\n",
       "      <td>4.905125</td>\n",
       "      <td>-499.828510</td>\n",
       "      <td>24.994862</td>\n",
       "      <td>-500.622559</td>\n",
       "    </tr>\n",
       "    <tr>\n",
       "      <td>3</td>\n",
       "      <td>2016-09-01 03:59:59</td>\n",
       "      <td>215.336236</td>\n",
       "      <td>12.006805</td>\n",
       "      <td>7.640000</td>\n",
       "      <td>0.863514</td>\n",
       "      <td>1399.618111</td>\n",
       "      <td>-498.863574</td>\n",
       "      <td>1397.440120</td>\n",
       "      <td>-499.211024</td>\n",
       "      <td>1400.129303</td>\n",
       "      <td>...</td>\n",
       "      <td>12.033091</td>\n",
       "      <td>-498.350935</td>\n",
       "      <td>8.074946</td>\n",
       "      <td>-499.474407</td>\n",
       "      <td>7.897085</td>\n",
       "      <td>-500.868509</td>\n",
       "      <td>4.931400</td>\n",
       "      <td>-499.963623</td>\n",
       "      <td>24.948919</td>\n",
       "      <td>-498.709987</td>\n",
       "    </tr>\n",
       "    <tr>\n",
       "      <td>4</td>\n",
       "      <td>2016-09-01 04:59:59</td>\n",
       "      <td>199.099327</td>\n",
       "      <td>10.682530</td>\n",
       "      <td>7.530000</td>\n",
       "      <td>0.805575</td>\n",
       "      <td>1401.268123</td>\n",
       "      <td>-500.808305</td>\n",
       "      <td>1398.128818</td>\n",
       "      <td>-499.504543</td>\n",
       "      <td>1402.172226</td>\n",
       "      <td>...</td>\n",
       "      <td>12.025367</td>\n",
       "      <td>-500.786497</td>\n",
       "      <td>8.054678</td>\n",
       "      <td>-500.397500</td>\n",
       "      <td>8.107890</td>\n",
       "      <td>-509.526725</td>\n",
       "      <td>4.957674</td>\n",
       "      <td>-500.360026</td>\n",
       "      <td>25.003331</td>\n",
       "      <td>-500.856333</td>\n",
       "    </tr>\n",
       "  </tbody>\n",
       "</table>\n",
       "<p>5 rows × 53 columns</p>\n",
       "</div>"
      ],
      "text/plain": [
       "                  date  primary_cleaner.input.sulfate  \\\n",
       "0  2016-09-01 00:59:59                     210.800909   \n",
       "1  2016-09-01 01:59:59                     215.392455   \n",
       "2  2016-09-01 02:59:59                     215.259946   \n",
       "3  2016-09-01 03:59:59                     215.336236   \n",
       "4  2016-09-01 04:59:59                     199.099327   \n",
       "\n",
       "   primary_cleaner.input.depressant  primary_cleaner.input.feed_size  \\\n",
       "0                         14.993118                         8.080000   \n",
       "1                         14.987471                         8.080000   \n",
       "2                         12.884934                         7.786667   \n",
       "3                         12.006805                         7.640000   \n",
       "4                         10.682530                         7.530000   \n",
       "\n",
       "   primary_cleaner.input.xanthate  primary_cleaner.state.floatbank8_a_air  \\\n",
       "0                        1.005021                             1398.981301   \n",
       "1                        0.990469                             1398.777912   \n",
       "2                        0.996043                             1398.493666   \n",
       "3                        0.863514                             1399.618111   \n",
       "4                        0.805575                             1401.268123   \n",
       "\n",
       "   primary_cleaner.state.floatbank8_a_level  \\\n",
       "0                               -500.225577   \n",
       "1                               -500.057435   \n",
       "2                               -500.868360   \n",
       "3                               -498.863574   \n",
       "4                               -500.808305   \n",
       "\n",
       "   primary_cleaner.state.floatbank8_b_air  \\\n",
       "0                             1399.144926   \n",
       "1                             1398.055362   \n",
       "2                             1398.860436   \n",
       "3                             1397.440120   \n",
       "4                             1398.128818   \n",
       "\n",
       "   primary_cleaner.state.floatbank8_b_level  \\\n",
       "0                               -499.919735   \n",
       "1                               -499.778182   \n",
       "2                               -499.764529   \n",
       "3                               -499.211024   \n",
       "4                               -499.504543   \n",
       "\n",
       "   primary_cleaner.state.floatbank8_c_air  ...  \\\n",
       "0                             1400.102998  ...   \n",
       "1                             1396.151033  ...   \n",
       "2                             1398.075709  ...   \n",
       "3                             1400.129303  ...   \n",
       "4                             1402.172226  ...   \n",
       "\n",
       "   secondary_cleaner.state.floatbank4_a_air  \\\n",
       "0                                 12.023554   \n",
       "1                                 12.058140   \n",
       "2                                 11.962366   \n",
       "3                                 12.033091   \n",
       "4                                 12.025367   \n",
       "\n",
       "   secondary_cleaner.state.floatbank4_a_level  \\\n",
       "0                                 -497.795834   \n",
       "1                                 -498.695773   \n",
       "2                                 -498.767484   \n",
       "3                                 -498.350935   \n",
       "4                                 -500.786497   \n",
       "\n",
       "   secondary_cleaner.state.floatbank4_b_air  \\\n",
       "0                                  8.016656   \n",
       "1                                  8.130979   \n",
       "2                                  8.096893   \n",
       "3                                  8.074946   \n",
       "4                                  8.054678   \n",
       "\n",
       "   secondary_cleaner.state.floatbank4_b_level  \\\n",
       "0                                 -501.289139   \n",
       "1                                 -499.634209   \n",
       "2                                 -500.827423   \n",
       "3                                 -499.474407   \n",
       "4                                 -500.397500   \n",
       "\n",
       "   secondary_cleaner.state.floatbank5_a_air  \\\n",
       "0                                  7.946562   \n",
       "1                                  7.958270   \n",
       "2                                  8.071056   \n",
       "3                                  7.897085   \n",
       "4                                  8.107890   \n",
       "\n",
       "   secondary_cleaner.state.floatbank5_a_level  \\\n",
       "0                                 -432.317850   \n",
       "1                                 -525.839648   \n",
       "2                                 -500.801673   \n",
       "3                                 -500.868509   \n",
       "4                                 -509.526725   \n",
       "\n",
       "   secondary_cleaner.state.floatbank5_b_air  \\\n",
       "0                                  4.872511   \n",
       "1                                  4.878850   \n",
       "2                                  4.905125   \n",
       "3                                  4.931400   \n",
       "4                                  4.957674   \n",
       "\n",
       "   secondary_cleaner.state.floatbank5_b_level  \\\n",
       "0                                 -500.037437   \n",
       "1                                 -500.162375   \n",
       "2                                 -499.828510   \n",
       "3                                 -499.963623   \n",
       "4                                 -500.360026   \n",
       "\n",
       "   secondary_cleaner.state.floatbank6_a_air  \\\n",
       "0                                 26.705889   \n",
       "1                                 25.019940   \n",
       "2                                 24.994862   \n",
       "3                                 24.948919   \n",
       "4                                 25.003331   \n",
       "\n",
       "   secondary_cleaner.state.floatbank6_a_level  \n",
       "0                                 -499.709414  \n",
       "1                                 -499.819438  \n",
       "2                                 -500.622559  \n",
       "3                                 -498.709987  \n",
       "4                                 -500.856333  \n",
       "\n",
       "[5 rows x 53 columns]"
      ]
     },
     "metadata": {},
     "output_type": "display_data"
    },
    {
     "name": "stdout",
     "output_type": "stream",
     "text": [
      "<class 'pandas.core.frame.DataFrame'>\n",
      "RangeIndex: 5856 entries, 0 to 5855\n",
      "Data columns (total 53 columns):\n",
      "date                                          5856 non-null object\n",
      "primary_cleaner.input.sulfate                 5554 non-null float64\n",
      "primary_cleaner.input.depressant              5572 non-null float64\n",
      "primary_cleaner.input.feed_size               5856 non-null float64\n",
      "primary_cleaner.input.xanthate                5690 non-null float64\n",
      "primary_cleaner.state.floatbank8_a_air        5840 non-null float64\n",
      "primary_cleaner.state.floatbank8_a_level      5840 non-null float64\n",
      "primary_cleaner.state.floatbank8_b_air        5840 non-null float64\n",
      "primary_cleaner.state.floatbank8_b_level      5840 non-null float64\n",
      "primary_cleaner.state.floatbank8_c_air        5840 non-null float64\n",
      "primary_cleaner.state.floatbank8_c_level      5840 non-null float64\n",
      "primary_cleaner.state.floatbank8_d_air        5840 non-null float64\n",
      "primary_cleaner.state.floatbank8_d_level      5840 non-null float64\n",
      "rougher.input.feed_ag                         5840 non-null float64\n",
      "rougher.input.feed_pb                         5840 non-null float64\n",
      "rougher.input.feed_rate                       5816 non-null float64\n",
      "rougher.input.feed_size                       5834 non-null float64\n",
      "rougher.input.feed_sol                        5789 non-null float64\n",
      "rougher.input.feed_au                         5840 non-null float64\n",
      "rougher.input.floatbank10_sulfate             5599 non-null float64\n",
      "rougher.input.floatbank10_xanthate            5733 non-null float64\n",
      "rougher.input.floatbank11_sulfate             5801 non-null float64\n",
      "rougher.input.floatbank11_xanthate            5503 non-null float64\n",
      "rougher.state.floatbank10_a_air               5839 non-null float64\n",
      "rougher.state.floatbank10_a_level             5840 non-null float64\n",
      "rougher.state.floatbank10_b_air               5839 non-null float64\n",
      "rougher.state.floatbank10_b_level             5840 non-null float64\n",
      "rougher.state.floatbank10_c_air               5839 non-null float64\n",
      "rougher.state.floatbank10_c_level             5840 non-null float64\n",
      "rougher.state.floatbank10_d_air               5839 non-null float64\n",
      "rougher.state.floatbank10_d_level             5840 non-null float64\n",
      "rougher.state.floatbank10_e_air               5839 non-null float64\n",
      "rougher.state.floatbank10_e_level             5840 non-null float64\n",
      "rougher.state.floatbank10_f_air               5839 non-null float64\n",
      "rougher.state.floatbank10_f_level             5840 non-null float64\n",
      "secondary_cleaner.state.floatbank2_a_air      5836 non-null float64\n",
      "secondary_cleaner.state.floatbank2_a_level    5840 non-null float64\n",
      "secondary_cleaner.state.floatbank2_b_air      5833 non-null float64\n",
      "secondary_cleaner.state.floatbank2_b_level    5840 non-null float64\n",
      "secondary_cleaner.state.floatbank3_a_air      5822 non-null float64\n",
      "secondary_cleaner.state.floatbank3_a_level    5840 non-null float64\n",
      "secondary_cleaner.state.floatbank3_b_air      5840 non-null float64\n",
      "secondary_cleaner.state.floatbank3_b_level    5840 non-null float64\n",
      "secondary_cleaner.state.floatbank4_a_air      5840 non-null float64\n",
      "secondary_cleaner.state.floatbank4_a_level    5840 non-null float64\n",
      "secondary_cleaner.state.floatbank4_b_air      5840 non-null float64\n",
      "secondary_cleaner.state.floatbank4_b_level    5840 non-null float64\n",
      "secondary_cleaner.state.floatbank5_a_air      5840 non-null float64\n",
      "secondary_cleaner.state.floatbank5_a_level    5840 non-null float64\n",
      "secondary_cleaner.state.floatbank5_b_air      5840 non-null float64\n",
      "secondary_cleaner.state.floatbank5_b_level    5840 non-null float64\n",
      "secondary_cleaner.state.floatbank6_a_air      5840 non-null float64\n",
      "secondary_cleaner.state.floatbank6_a_level    5840 non-null float64\n",
      "dtypes: float64(52), object(1)\n",
      "memory usage: 2.4+ MB\n",
      "None\n",
      "---------------------------------------------------------------------------------------------\n",
      "---------------------------------------------------------------------------------------------\n",
      "---------------------------------------------------------------------------------------------\n"
     ]
    },
    {
     "data": {
      "text/html": [
       "<div>\n",
       "<style scoped>\n",
       "    .dataframe tbody tr th:only-of-type {\n",
       "        vertical-align: middle;\n",
       "    }\n",
       "\n",
       "    .dataframe tbody tr th {\n",
       "        vertical-align: top;\n",
       "    }\n",
       "\n",
       "    .dataframe thead th {\n",
       "        text-align: right;\n",
       "    }\n",
       "</style>\n",
       "<table border=\"1\" class=\"dataframe\">\n",
       "  <thead>\n",
       "    <tr style=\"text-align: right;\">\n",
       "      <th></th>\n",
       "      <th>date</th>\n",
       "      <th>final.output.concentrate_ag</th>\n",
       "      <th>final.output.concentrate_pb</th>\n",
       "      <th>final.output.concentrate_sol</th>\n",
       "      <th>final.output.concentrate_au</th>\n",
       "      <th>final.output.recovery</th>\n",
       "      <th>final.output.tail_ag</th>\n",
       "      <th>final.output.tail_pb</th>\n",
       "      <th>final.output.tail_sol</th>\n",
       "      <th>final.output.tail_au</th>\n",
       "      <th>...</th>\n",
       "      <th>secondary_cleaner.state.floatbank4_a_air</th>\n",
       "      <th>secondary_cleaner.state.floatbank4_a_level</th>\n",
       "      <th>secondary_cleaner.state.floatbank4_b_air</th>\n",
       "      <th>secondary_cleaner.state.floatbank4_b_level</th>\n",
       "      <th>secondary_cleaner.state.floatbank5_a_air</th>\n",
       "      <th>secondary_cleaner.state.floatbank5_a_level</th>\n",
       "      <th>secondary_cleaner.state.floatbank5_b_air</th>\n",
       "      <th>secondary_cleaner.state.floatbank5_b_level</th>\n",
       "      <th>secondary_cleaner.state.floatbank6_a_air</th>\n",
       "      <th>secondary_cleaner.state.floatbank6_a_level</th>\n",
       "    </tr>\n",
       "  </thead>\n",
       "  <tbody>\n",
       "    <tr>\n",
       "      <td>0</td>\n",
       "      <td>2016-01-15 00:00:00</td>\n",
       "      <td>6.055403</td>\n",
       "      <td>9.889648</td>\n",
       "      <td>5.507324</td>\n",
       "      <td>42.192020</td>\n",
       "      <td>70.541216</td>\n",
       "      <td>10.411962</td>\n",
       "      <td>0.895447</td>\n",
       "      <td>16.904297</td>\n",
       "      <td>2.143149</td>\n",
       "      <td>...</td>\n",
       "      <td>14.016835</td>\n",
       "      <td>-502.488007</td>\n",
       "      <td>12.099931</td>\n",
       "      <td>-504.715942</td>\n",
       "      <td>9.925633</td>\n",
       "      <td>-498.310211</td>\n",
       "      <td>8.079666</td>\n",
       "      <td>-500.470978</td>\n",
       "      <td>14.151341</td>\n",
       "      <td>-605.841980</td>\n",
       "    </tr>\n",
       "    <tr>\n",
       "      <td>1</td>\n",
       "      <td>2016-01-15 01:00:00</td>\n",
       "      <td>6.029369</td>\n",
       "      <td>9.968944</td>\n",
       "      <td>5.257781</td>\n",
       "      <td>42.701629</td>\n",
       "      <td>69.266198</td>\n",
       "      <td>10.462676</td>\n",
       "      <td>0.927452</td>\n",
       "      <td>16.634514</td>\n",
       "      <td>2.224930</td>\n",
       "      <td>...</td>\n",
       "      <td>13.992281</td>\n",
       "      <td>-505.503262</td>\n",
       "      <td>11.950531</td>\n",
       "      <td>-501.331529</td>\n",
       "      <td>10.039245</td>\n",
       "      <td>-500.169983</td>\n",
       "      <td>7.984757</td>\n",
       "      <td>-500.582168</td>\n",
       "      <td>13.998353</td>\n",
       "      <td>-599.787184</td>\n",
       "    </tr>\n",
       "    <tr>\n",
       "      <td>2</td>\n",
       "      <td>2016-01-15 02:00:00</td>\n",
       "      <td>6.055926</td>\n",
       "      <td>10.213995</td>\n",
       "      <td>5.383759</td>\n",
       "      <td>42.657501</td>\n",
       "      <td>68.116445</td>\n",
       "      <td>10.507046</td>\n",
       "      <td>0.953716</td>\n",
       "      <td>16.208849</td>\n",
       "      <td>2.257889</td>\n",
       "      <td>...</td>\n",
       "      <td>14.015015</td>\n",
       "      <td>-502.520901</td>\n",
       "      <td>11.912783</td>\n",
       "      <td>-501.133383</td>\n",
       "      <td>10.070913</td>\n",
       "      <td>-500.129135</td>\n",
       "      <td>8.013877</td>\n",
       "      <td>-500.517572</td>\n",
       "      <td>14.028663</td>\n",
       "      <td>-601.427363</td>\n",
       "    </tr>\n",
       "    <tr>\n",
       "      <td>3</td>\n",
       "      <td>2016-01-15 03:00:00</td>\n",
       "      <td>6.047977</td>\n",
       "      <td>9.977019</td>\n",
       "      <td>4.858634</td>\n",
       "      <td>42.689819</td>\n",
       "      <td>68.347543</td>\n",
       "      <td>10.422762</td>\n",
       "      <td>0.883763</td>\n",
       "      <td>16.532835</td>\n",
       "      <td>2.146849</td>\n",
       "      <td>...</td>\n",
       "      <td>14.036510</td>\n",
       "      <td>-500.857308</td>\n",
       "      <td>11.999550</td>\n",
       "      <td>-501.193686</td>\n",
       "      <td>9.970366</td>\n",
       "      <td>-499.201640</td>\n",
       "      <td>7.977324</td>\n",
       "      <td>-500.255908</td>\n",
       "      <td>14.005551</td>\n",
       "      <td>-599.996129</td>\n",
       "    </tr>\n",
       "    <tr>\n",
       "      <td>4</td>\n",
       "      <td>2016-01-15 04:00:00</td>\n",
       "      <td>6.148599</td>\n",
       "      <td>10.142511</td>\n",
       "      <td>4.939416</td>\n",
       "      <td>42.774141</td>\n",
       "      <td>66.927016</td>\n",
       "      <td>10.360302</td>\n",
       "      <td>0.792826</td>\n",
       "      <td>16.525686</td>\n",
       "      <td>2.055292</td>\n",
       "      <td>...</td>\n",
       "      <td>14.027298</td>\n",
       "      <td>-499.838632</td>\n",
       "      <td>11.953070</td>\n",
       "      <td>-501.053894</td>\n",
       "      <td>9.925709</td>\n",
       "      <td>-501.686727</td>\n",
       "      <td>7.894242</td>\n",
       "      <td>-500.356035</td>\n",
       "      <td>13.996647</td>\n",
       "      <td>-601.496691</td>\n",
       "    </tr>\n",
       "  </tbody>\n",
       "</table>\n",
       "<p>5 rows × 87 columns</p>\n",
       "</div>"
      ],
      "text/plain": [
       "                  date  final.output.concentrate_ag  \\\n",
       "0  2016-01-15 00:00:00                     6.055403   \n",
       "1  2016-01-15 01:00:00                     6.029369   \n",
       "2  2016-01-15 02:00:00                     6.055926   \n",
       "3  2016-01-15 03:00:00                     6.047977   \n",
       "4  2016-01-15 04:00:00                     6.148599   \n",
       "\n",
       "   final.output.concentrate_pb  final.output.concentrate_sol  \\\n",
       "0                     9.889648                      5.507324   \n",
       "1                     9.968944                      5.257781   \n",
       "2                    10.213995                      5.383759   \n",
       "3                     9.977019                      4.858634   \n",
       "4                    10.142511                      4.939416   \n",
       "\n",
       "   final.output.concentrate_au  final.output.recovery  final.output.tail_ag  \\\n",
       "0                    42.192020              70.541216             10.411962   \n",
       "1                    42.701629              69.266198             10.462676   \n",
       "2                    42.657501              68.116445             10.507046   \n",
       "3                    42.689819              68.347543             10.422762   \n",
       "4                    42.774141              66.927016             10.360302   \n",
       "\n",
       "   final.output.tail_pb  final.output.tail_sol  final.output.tail_au  ...  \\\n",
       "0              0.895447              16.904297              2.143149  ...   \n",
       "1              0.927452              16.634514              2.224930  ...   \n",
       "2              0.953716              16.208849              2.257889  ...   \n",
       "3              0.883763              16.532835              2.146849  ...   \n",
       "4              0.792826              16.525686              2.055292  ...   \n",
       "\n",
       "   secondary_cleaner.state.floatbank4_a_air  \\\n",
       "0                                 14.016835   \n",
       "1                                 13.992281   \n",
       "2                                 14.015015   \n",
       "3                                 14.036510   \n",
       "4                                 14.027298   \n",
       "\n",
       "   secondary_cleaner.state.floatbank4_a_level  \\\n",
       "0                                 -502.488007   \n",
       "1                                 -505.503262   \n",
       "2                                 -502.520901   \n",
       "3                                 -500.857308   \n",
       "4                                 -499.838632   \n",
       "\n",
       "   secondary_cleaner.state.floatbank4_b_air  \\\n",
       "0                                 12.099931   \n",
       "1                                 11.950531   \n",
       "2                                 11.912783   \n",
       "3                                 11.999550   \n",
       "4                                 11.953070   \n",
       "\n",
       "   secondary_cleaner.state.floatbank4_b_level  \\\n",
       "0                                 -504.715942   \n",
       "1                                 -501.331529   \n",
       "2                                 -501.133383   \n",
       "3                                 -501.193686   \n",
       "4                                 -501.053894   \n",
       "\n",
       "   secondary_cleaner.state.floatbank5_a_air  \\\n",
       "0                                  9.925633   \n",
       "1                                 10.039245   \n",
       "2                                 10.070913   \n",
       "3                                  9.970366   \n",
       "4                                  9.925709   \n",
       "\n",
       "   secondary_cleaner.state.floatbank5_a_level  \\\n",
       "0                                 -498.310211   \n",
       "1                                 -500.169983   \n",
       "2                                 -500.129135   \n",
       "3                                 -499.201640   \n",
       "4                                 -501.686727   \n",
       "\n",
       "   secondary_cleaner.state.floatbank5_b_air  \\\n",
       "0                                  8.079666   \n",
       "1                                  7.984757   \n",
       "2                                  8.013877   \n",
       "3                                  7.977324   \n",
       "4                                  7.894242   \n",
       "\n",
       "   secondary_cleaner.state.floatbank5_b_level  \\\n",
       "0                                 -500.470978   \n",
       "1                                 -500.582168   \n",
       "2                                 -500.517572   \n",
       "3                                 -500.255908   \n",
       "4                                 -500.356035   \n",
       "\n",
       "   secondary_cleaner.state.floatbank6_a_air  \\\n",
       "0                                 14.151341   \n",
       "1                                 13.998353   \n",
       "2                                 14.028663   \n",
       "3                                 14.005551   \n",
       "4                                 13.996647   \n",
       "\n",
       "   secondary_cleaner.state.floatbank6_a_level  \n",
       "0                                 -605.841980  \n",
       "1                                 -599.787184  \n",
       "2                                 -601.427363  \n",
       "3                                 -599.996129  \n",
       "4                                 -601.496691  \n",
       "\n",
       "[5 rows x 87 columns]"
      ]
     },
     "metadata": {},
     "output_type": "display_data"
    },
    {
     "name": "stdout",
     "output_type": "stream",
     "text": [
      "<class 'pandas.core.frame.DataFrame'>\n",
      "RangeIndex: 22716 entries, 0 to 22715\n",
      "Data columns (total 87 columns):\n",
      "date                                                  22716 non-null object\n",
      "final.output.concentrate_ag                           22627 non-null float64\n",
      "final.output.concentrate_pb                           22629 non-null float64\n",
      "final.output.concentrate_sol                          22331 non-null float64\n",
      "final.output.concentrate_au                           22630 non-null float64\n",
      "final.output.recovery                                 20753 non-null float64\n",
      "final.output.tail_ag                                  22633 non-null float64\n",
      "final.output.tail_pb                                  22516 non-null float64\n",
      "final.output.tail_sol                                 22445 non-null float64\n",
      "final.output.tail_au                                  22635 non-null float64\n",
      "primary_cleaner.input.sulfate                         21107 non-null float64\n",
      "primary_cleaner.input.depressant                      21170 non-null float64\n",
      "primary_cleaner.input.feed_size                       22716 non-null float64\n",
      "primary_cleaner.input.xanthate                        21565 non-null float64\n",
      "primary_cleaner.output.concentrate_ag                 22618 non-null float64\n",
      "primary_cleaner.output.concentrate_pb                 22268 non-null float64\n",
      "primary_cleaner.output.concentrate_sol                21918 non-null float64\n",
      "primary_cleaner.output.concentrate_au                 22618 non-null float64\n",
      "primary_cleaner.output.tail_ag                        22614 non-null float64\n",
      "primary_cleaner.output.tail_pb                        22594 non-null float64\n",
      "primary_cleaner.output.tail_sol                       22365 non-null float64\n",
      "primary_cleaner.output.tail_au                        22617 non-null float64\n",
      "primary_cleaner.state.floatbank8_a_air                22660 non-null float64\n",
      "primary_cleaner.state.floatbank8_a_level              22667 non-null float64\n",
      "primary_cleaner.state.floatbank8_b_air                22660 non-null float64\n",
      "primary_cleaner.state.floatbank8_b_level              22673 non-null float64\n",
      "primary_cleaner.state.floatbank8_c_air                22662 non-null float64\n",
      "primary_cleaner.state.floatbank8_c_level              22673 non-null float64\n",
      "primary_cleaner.state.floatbank8_d_air                22661 non-null float64\n",
      "primary_cleaner.state.floatbank8_d_level              22673 non-null float64\n",
      "rougher.calculation.sulfate_to_au_concentrate         22672 non-null float64\n",
      "rougher.calculation.floatbank10_sulfate_to_au_feed    22672 non-null float64\n",
      "rougher.calculation.floatbank11_sulfate_to_au_feed    22672 non-null float64\n",
      "rougher.calculation.au_pb_ratio                       21089 non-null float64\n",
      "rougher.input.feed_ag                                 22618 non-null float64\n",
      "rougher.input.feed_pb                                 22472 non-null float64\n",
      "rougher.input.feed_rate                               22163 non-null float64\n",
      "rougher.input.feed_size                               22277 non-null float64\n",
      "rougher.input.feed_sol                                22357 non-null float64\n",
      "rougher.input.feed_au                                 22617 non-null float64\n",
      "rougher.input.floatbank10_sulfate                     21415 non-null float64\n",
      "rougher.input.floatbank10_xanthate                    22247 non-null float64\n",
      "rougher.input.floatbank11_sulfate                     22038 non-null float64\n",
      "rougher.input.floatbank11_xanthate                    20459 non-null float64\n",
      "rougher.output.concentrate_ag                         22618 non-null float64\n",
      "rougher.output.concentrate_pb                         22618 non-null float64\n",
      "rougher.output.concentrate_sol                        22526 non-null float64\n",
      "rougher.output.concentrate_au                         22618 non-null float64\n",
      "rougher.output.recovery                               19597 non-null float64\n",
      "rougher.output.tail_ag                                19979 non-null float64\n",
      "rougher.output.tail_pb                                22618 non-null float64\n",
      "rougher.output.tail_sol                               19980 non-null float64\n",
      "rougher.output.tail_au                                19980 non-null float64\n",
      "rougher.state.floatbank10_a_air                       22646 non-null float64\n",
      "rougher.state.floatbank10_a_level                     22647 non-null float64\n",
      "rougher.state.floatbank10_b_air                       22646 non-null float64\n",
      "rougher.state.floatbank10_b_level                     22647 non-null float64\n",
      "rougher.state.floatbank10_c_air                       22646 non-null float64\n",
      "rougher.state.floatbank10_c_level                     22654 non-null float64\n",
      "rougher.state.floatbank10_d_air                       22641 non-null float64\n",
      "rougher.state.floatbank10_d_level                     22649 non-null float64\n",
      "rougher.state.floatbank10_e_air                       22096 non-null float64\n",
      "rougher.state.floatbank10_e_level                     22649 non-null float64\n",
      "rougher.state.floatbank10_f_air                       22641 non-null float64\n",
      "rougher.state.floatbank10_f_level                     22642 non-null float64\n",
      "secondary_cleaner.output.tail_ag                      22616 non-null float64\n",
      "secondary_cleaner.output.tail_pb                      22600 non-null float64\n",
      "secondary_cleaner.output.tail_sol                     20501 non-null float64\n",
      "secondary_cleaner.output.tail_au                      22618 non-null float64\n",
      "secondary_cleaner.state.floatbank2_a_air              22333 non-null float64\n",
      "secondary_cleaner.state.floatbank2_a_level            22591 non-null float64\n",
      "secondary_cleaner.state.floatbank2_b_air              22538 non-null float64\n",
      "secondary_cleaner.state.floatbank2_b_level            22588 non-null float64\n",
      "secondary_cleaner.state.floatbank3_a_air              22585 non-null float64\n",
      "secondary_cleaner.state.floatbank3_a_level            22587 non-null float64\n",
      "secondary_cleaner.state.floatbank3_b_air              22592 non-null float64\n",
      "secondary_cleaner.state.floatbank3_b_level            22590 non-null float64\n",
      "secondary_cleaner.state.floatbank4_a_air              22571 non-null float64\n",
      "secondary_cleaner.state.floatbank4_a_level            22587 non-null float64\n",
      "secondary_cleaner.state.floatbank4_b_air              22608 non-null float64\n",
      "secondary_cleaner.state.floatbank4_b_level            22607 non-null float64\n",
      "secondary_cleaner.state.floatbank5_a_air              22615 non-null float64\n",
      "secondary_cleaner.state.floatbank5_a_level            22615 non-null float64\n",
      "secondary_cleaner.state.floatbank5_b_air              22615 non-null float64\n",
      "secondary_cleaner.state.floatbank5_b_level            22616 non-null float64\n",
      "secondary_cleaner.state.floatbank6_a_air              22597 non-null float64\n",
      "secondary_cleaner.state.floatbank6_a_level            22615 non-null float64\n",
      "dtypes: float64(86), object(1)\n",
      "memory usage: 15.1+ MB\n",
      "None\n",
      "---------------------------------------------------------------------------------------------\n",
      "---------------------------------------------------------------------------------------------\n",
      "---------------------------------------------------------------------------------------------\n"
     ]
    }
   ],
   "source": [
    "def info(data): # функция на просмотр общей информации к каждому датасету\n",
    "    display(data.head())\n",
    "    print(data.info())\n",
    "    print('---------------------------------------------------------------------------------------------')\n",
    "    print('---------------------------------------------------------------------------------------------')\n",
    "    print('---------------------------------------------------------------------------------------------')\n",
    "    \n",
    "    \n",
    "for data in [train_df, test_df, full_df]:\n",
    "    info(data)"
   ]
  },
  {
   "cell_type": "markdown",
   "metadata": {},
   "source": [
    "Вывод: очень много данных"
   ]
  },
  {
   "cell_type": "markdown",
   "metadata": {},
   "source": [
    "### Проверка правильность подсчета эффективности обогощения"
   ]
  },
  {
   "cell_type": "code",
   "execution_count": 4,
   "metadata": {},
   "outputs": [],
   "source": [
    "def recovery(C, F, T):\n",
    "    recovery = ((C*(F-T))/(F*(C-T)))*100\n",
    "    return recovery"
   ]
  },
  {
   "cell_type": "code",
   "execution_count": 5,
   "metadata": {},
   "outputs": [],
   "source": [
    "train_df1 = train_df.dropna().reset_index()#для правильности подсчета избавимся от пропусков\n"
   ]
  },
  {
   "cell_type": "code",
   "execution_count": 6,
   "metadata": {},
   "outputs": [
    {
     "data": {
      "text/plain": [
       "0        87.107763\n",
       "1        86.843261\n",
       "2        86.842308\n",
       "3        87.226430\n",
       "4        86.688794\n",
       "           ...    \n",
       "11012    89.574376\n",
       "11013    87.724007\n",
       "11014    88.890579\n",
       "11015    89.858126\n",
       "11016    89.514960\n",
       "Length: 11017, dtype: float64"
      ]
     },
     "execution_count": 6,
     "metadata": {},
     "output_type": "execute_result"
    }
   ],
   "source": [
    "calc_recovery = recovery(train_df1['rougher.output.concentrate_au'], train_df1['rougher.input.feed_au'], train_df1['rougher.output.tail_au'])\n",
    "calc_recovery"
   ]
  },
  {
   "cell_type": "code",
   "execution_count": 7,
   "metadata": {},
   "outputs": [
    {
     "data": {
      "text/plain": [
       "9.555596961987514e-15"
      ]
     },
     "execution_count": 7,
     "metadata": {},
     "output_type": "execute_result"
    }
   ],
   "source": [
    "mean_absolute_error(calc_recovery, train_df1['rougher.output.recovery'])"
   ]
  },
  {
   "cell_type": "markdown",
   "metadata": {},
   "source": [
    "Можно считать, что эффективность подсчитана верно"
   ]
  },
  {
   "cell_type": "markdown",
   "metadata": {},
   "source": [
    "### Параметры в обучающей выборке, которых нет в тесте"
   ]
  },
  {
   "cell_type": "code",
   "execution_count": 8,
   "metadata": {},
   "outputs": [
    {
     "data": {
      "text/plain": [
       "{'final.output.concentrate_ag',\n",
       " 'final.output.concentrate_au',\n",
       " 'final.output.concentrate_pb',\n",
       " 'final.output.concentrate_sol',\n",
       " 'final.output.recovery',\n",
       " 'final.output.tail_ag',\n",
       " 'final.output.tail_au',\n",
       " 'final.output.tail_pb',\n",
       " 'final.output.tail_sol',\n",
       " 'primary_cleaner.output.concentrate_ag',\n",
       " 'primary_cleaner.output.concentrate_au',\n",
       " 'primary_cleaner.output.concentrate_pb',\n",
       " 'primary_cleaner.output.concentrate_sol',\n",
       " 'primary_cleaner.output.tail_ag',\n",
       " 'primary_cleaner.output.tail_au',\n",
       " 'primary_cleaner.output.tail_pb',\n",
       " 'primary_cleaner.output.tail_sol',\n",
       " 'rougher.calculation.au_pb_ratio',\n",
       " 'rougher.calculation.floatbank10_sulfate_to_au_feed',\n",
       " 'rougher.calculation.floatbank11_sulfate_to_au_feed',\n",
       " 'rougher.calculation.sulfate_to_au_concentrate',\n",
       " 'rougher.output.concentrate_ag',\n",
       " 'rougher.output.concentrate_au',\n",
       " 'rougher.output.concentrate_pb',\n",
       " 'rougher.output.concentrate_sol',\n",
       " 'rougher.output.recovery',\n",
       " 'rougher.output.tail_ag',\n",
       " 'rougher.output.tail_au',\n",
       " 'rougher.output.tail_pb',\n",
       " 'rougher.output.tail_sol',\n",
       " 'secondary_cleaner.output.tail_ag',\n",
       " 'secondary_cleaner.output.tail_au',\n",
       " 'secondary_cleaner.output.tail_pb',\n",
       " 'secondary_cleaner.output.tail_sol'}"
      ]
     },
     "execution_count": 8,
     "metadata": {},
     "output_type": "execute_result"
    }
   ],
   "source": [
    "set(train_df.columns) - set(test_df.columns)"
   ]
  },
  {
   "cell_type": "markdown",
   "metadata": {},
   "source": [
    "Из 34 пропущенных признака 4 относятся к расчетным данным, остальные к параметрам продукта, нет данных об отвальных хвостах"
   ]
  },
  {
   "cell_type": "markdown",
   "metadata": {},
   "source": [
    "###  Обработка пропусков"
   ]
  },
  {
   "cell_type": "code",
   "execution_count": 9,
   "metadata": {
    "scrolled": true
   },
   "outputs": [],
   "source": [
    "train_df = train_df.fillna(method='ffill') #  замена пропусков предыдущими значениям, так как данные у нас связаны логически технологическим процессом\n",
    "test_df = test_df.fillna(method='ffill')\n",
    "full_df = full_df.fillna(method='ffill')"
   ]
  },
  {
   "cell_type": "markdown",
   "metadata": {},
   "source": [
    "### Вывод по разделу\n",
    "- Эфективность обогощения в данных подсчитана верно \n",
    "- Из 34 пропущенных признака 4 относятся к расчетным данным, остальные к параметрам продукта, нет данных об отвальных хвостах\n",
    "- В данных много пропусков(пропуски заполнили предыдущими значениями)\n",
    "\n",
    "\n",
    "\n"
   ]
  },
  {
   "cell_type": "markdown",
   "metadata": {},
   "source": [
    "## Анализ данных"
   ]
  },
  {
   "cell_type": "markdown",
   "metadata": {},
   "source": [
    "### Исследование концетрации металов на разных этапах очистки"
   ]
  },
  {
   "cell_type": "code",
   "execution_count": 10,
   "metadata": {},
   "outputs": [
    {
     "name": "stdout",
     "output_type": "stream",
     "text": [
      "Концентрация до флотации\n",
      "Концентрация Серебра: 7.80,Свинца: 3.19,Золота: 7.14\n",
      "\n",
      "Концентрация после флотации\n",
      "Коцентрация Серебра: 10.54,Свинца: 6.86,Золота: 17.34\n",
      "\n",
      "Концентрация после первичной очистки\n",
      "Концентрация Серебра: 7.39,Свинца: 8.49,Золота: 29.04\n",
      "\n",
      "Концентрация после вторичной очистки\n",
      "Концентрация Серебра: 4.70,Свинца: 9.08,Золота: 39.32\n"
     ]
    }
   ],
   "source": [
    "print(\"Концентрация до флотации\")\n",
    "print(\"Концентрация Серебра:{: 0.2f},Свинца:{: 0.2f},Золота:{: 0.2f}\".\n",
    "format(train_df[\"rougher.input.feed_ag\"].mean(),\n",
    "train_df[\"rougher.input.feed_pb\"].mean(),\n",
    "train_df[\"rougher.input.feed_au\"].mean()))\n",
    "print()\n",
    "print(\"Концентрация после флотации\")\n",
    "print(\"Коцентрация Серебра:{: 0.2f},Свинца:{: 0.2f},Золота:{: 0.2f}\".\n",
    "format(train_df[\"rougher.output.concentrate_ag\"].mean(),\n",
    "train_df[\"rougher.output.concentrate_pb\"].mean(),\n",
    "train_df[\"rougher.output.concentrate_au\"].mean()))\n",
    "print()\n",
    "print(\"Концентрация после первичной очистки\")\n",
    "print(\"Концентрация Серебра:{: 0.2f},Свинца:{: 0.2f},Золота:{: 0.2f}\".\n",
    "format(train_df[\"primary_cleaner.output.concentrate_ag\"].mean(),\n",
    "train_df[\"primary_cleaner.output.concentrate_pb\"].mean(),\n",
    "train_df[\"primary_cleaner.output.concentrate_au\"].mean()))\n",
    "print()\n",
    "print(\"Концентрация после вторичной очистки\")\n",
    "print(\"Концентрация Серебра:{: 0.2f},Свинца:{: 0.2f},Золота:{: 0.2f}\".\n",
    "format(train_df[\"final.output.concentrate_ag\"].mean(),\n",
    "train_df[\"final.output.concentrate_pb\"].mean(),\n",
    "train_df[\"final.output.concentrate_au\"].mean()))"
   ]
  },
  {
   "cell_type": "code",
   "execution_count": 11,
   "metadata": {},
   "outputs": [
    {
     "data": {
      "text/plain": [
       "<matplotlib.legend.Legend at 0x7fe4888e9b90>"
      ]
     },
     "execution_count": 11,
     "metadata": {},
     "output_type": "execute_result"
    },
    {
     "data": {
      "image/png": "[encoded data removed]",
      "text/plain": [
       "<Figure size 1440x432 with 4 Axes>"
      ]
     },
     "metadata": {
      "needs_background": "light"
     },
     "output_type": "display_data"
    }
   ],
   "source": [
    "process = ['rougher.input.feed',\n",
    "           'rougher.output.concentrate',\n",
    "           'primary_cleaner.output.concentrate',\n",
    "           'final.output.concentrate']\n",
    "\n",
    "metals = ['au', 'ag', 'pb']\n",
    "\n",
    "fig, axs = plt.subplots(1, len(process), figsize=(20, 6), constrained_layout=True)\n",
    "fig.suptitle('Концентрация металлов на выходе по стадиям', fontsize=15)\n",
    "\n",
    "for stage, ax in zip(process, axs):\n",
    "    ax.set_title(stage)\n",
    "    for metal in metals:        \n",
    "        cols = train_df.columns.str.contains(stage+'_'+metal)\n",
    "        sns_ax = sns.distplot(train_df.loc[:, cols].dropna(), label=metal, ax=ax)    \n",
    "plt.legend()"
   ]
  },
  {
   "cell_type": "markdown",
   "metadata": {},
   "source": [
    "Видно, что после каждого этапа, концетрация золота и свинца  увеличивается, серебра уменьшается"
   ]
  },
  {
   "cell_type": "markdown",
   "metadata": {},
   "source": [
    "###   Сравние распределения размеров гранул сырья на обучающей и тестовой выборках"
   ]
  },
  {
   "cell_type": "code",
   "execution_count": 12,
   "metadata": {},
   "outputs": [
    {
     "data": {
      "text/plain": [
       "<matplotlib.legend.Legend at 0x7fe487b22c50>"
      ]
     },
     "execution_count": 12,
     "metadata": {},
     "output_type": "execute_result"
    },
    {
     "data": {
      "image/png": "[encoded data removed]",
      "text/plain": [
       "<Figure size 432x288 with 1 Axes>"
      ]
     },
     "metadata": {
      "needs_background": "light"
     },
     "output_type": "display_data"
    }
   ],
   "source": [
    "sns.distplot(train_df['rougher.input.feed_size'], label='train_df')\n",
    "sns.distplot(test_df['rougher.input.feed_size'], label='test_df')\n",
    "plt.legend()"
   ]
  },
  {
   "cell_type": "markdown",
   "metadata": {},
   "source": [
    "Распределения почти одинаковы, оценка модели будет правильной"
   ]
  },
  {
   "cell_type": "markdown",
   "metadata": {},
   "source": [
    "### Исследование суммарной концетрации всех веществ на разных стадиях"
   ]
  },
  {
   "cell_type": "code",
   "execution_count": 13,
   "metadata": {},
   "outputs": [],
   "source": [
    "train_df['sum_concentrate_rougher']=train_df['rougher.output.concentrate_ag']+train_df['rougher.output.concentrate_pb']+train_df['rougher.output.concentrate_sol']+train_df['rougher.output.concentrate_au']#Сумма концетрации после флотации\n",
    "\n",
    "train_df['sum_primary_cleaner_output_concentrate']=train_df['primary_cleaner.output.concentrate_ag']+train_df['primary_cleaner.output.concentrate_pb']+train_df['primary_cleaner.output.concentrate_sol']+train_df['primary_cleaner.output.concentrate_au']#Сумма концетрации после первичной очитстки\n",
    "\n",
    "train_df['sum_final_output_concentrate']=train_df['final.output.concentrate_ag']+train_df['final.output.concentrate_pb']+train_df['final.output.concentrate_sol']+train_df['final.output.concentrate_au']#Сумма концетрации после финальной очитстки\n",
    "\n"
   ]
  },
  {
   "cell_type": "code",
   "execution_count": 14,
   "metadata": {},
   "outputs": [],
   "source": [
    "def find_mustache(column):   # зададим функцию по поиску усов, все что вне усов является выбросами \n",
    "    describe = train_df[column].describe()\n",
    "    box = describe[6] - describe[4]\n",
    "    low_mustache = describe[4] - 1.5 * box\n",
    "    up_mustache = describe[6] + 1.5 * box\n",
    "    if low_mustache < describe[3]: \n",
    "        low_mustache = describe[3]\n",
    "    if up_mustache > describe[7]:\n",
    "        up_mustache = describe[7]\n",
    "    return [low_mustache, up_mustache]\n"
   ]
  },
  {
   "cell_type": "markdown",
   "metadata": {},
   "source": [
    "#### Поиск аномалий на этапе флотации"
   ]
  },
  {
   "cell_type": "code",
   "execution_count": 15,
   "metadata": {},
   "outputs": [
    {
     "name": "stdout",
     "output_type": "stream",
     "text": [
      "Усы  [44.14203921225742, 90.3468909372616]\n"
     ]
    },
    {
     "data": {
      "image/png": "[encoded data removed]",
      "text/plain": [
       "<Figure size 432x288 with 1 Axes>"
      ]
     },
     "metadata": {
      "needs_background": "light"
     },
     "output_type": "display_data"
    }
   ],
   "source": [
    "train_df.boxplot('sum_concentrate_rougher') \n",
    "plt.ylim(40,95)\n",
    "print('Усы ', find_mustache('sum_concentrate_rougher'))    "
   ]
  },
  {
   "cell_type": "markdown",
   "metadata": {},
   "source": [
    "#### Поиск аномалий на этапе первой очистки"
   ]
  },
  {
   "cell_type": "code",
   "execution_count": 16,
   "metadata": {},
   "outputs": [
    {
     "name": "stdout",
     "output_type": "stream",
     "text": [
      "Усы  [40.292928077528224, 76.91807573894499]\n"
     ]
    },
    {
     "data": {
      "image/png": "[encoded data removed]",
      "text/plain": [
       "<Figure size 432x288 with 1 Axes>"
      ]
     },
     "metadata": {
      "needs_background": "light"
     },
     "output_type": "display_data"
    }
   ],
   "source": [
    "train_df.boxplot('sum_primary_cleaner_output_concentrate') \n",
    "plt.ylim(40,80)\n",
    "print('Усы ', find_mustache('sum_primary_cleaner_output_concentrate'))    "
   ]
  },
  {
   "cell_type": "markdown",
   "metadata": {},
   "source": [
    "#### Поиск аномалий на этапе финальной очистки"
   ]
  },
  {
   "cell_type": "code",
   "execution_count": 17,
   "metadata": {},
   "outputs": [
    {
     "name": "stdout",
     "output_type": "stream",
     "text": [
      "Усы  [60.2848803891964, 76.94195476904956]\n"
     ]
    },
    {
     "data": {
      "image/png": "[encoded data removed]",
      "text/plain": [
       "<Figure size 432x288 with 1 Axes>"
      ]
     },
     "metadata": {
      "needs_background": "light"
     },
     "output_type": "display_data"
    }
   ],
   "source": [
    "train_df.boxplot('sum_final_output_concentrate') \n",
    "plt.ylim(59,80)\n",
    "print('Усы ', find_mustache('sum_final_output_concentrate'))    "
   ]
  },
  {
   "cell_type": "markdown",
   "metadata": {},
   "source": [
    "### Вывод по разделу\n",
    "\n",
    "- После каждого этапа(флотации, первой очистки, вторичной очистки), концетрация золота и свинца увеличивается, серебра уменьшается\n",
    "- Распределения размеров гранул сырья на тестовой и обучающей выборке одинаковы, что позволит качественно оценить модель \n",
    "- Для построения более точной модели, мы удалили аномалии из обучающей выборки, тестоваю не трогали, чтобы не подгонять результат"
   ]
  },
  {
   "cell_type": "markdown",
   "metadata": {},
   "source": [
    "## Модель"
   ]
  },
  {
   "cell_type": "markdown",
   "metadata": {},
   "source": [
    "### Функция sMAPE для оценки качества модели"
   ]
  },
  {
   "cell_type": "code",
   "execution_count": 18,
   "metadata": {},
   "outputs": [],
   "source": [
    "def sMAPE(target, predict):\n",
    "    error = np.mean(abs(target - predict)/((abs(target)+abs(predict))/2))*100\n",
    "    return error"
   ]
  },
  {
   "cell_type": "code",
   "execution_count": 19,
   "metadata": {},
   "outputs": [],
   "source": [
    "def final_sMAPE(sMAPE_rougher,sMAPE_final):\n",
    "    return (0.25*sMAPE_rougher + 0.75*sMAPE_final)\n"
   ]
  },
  {
   "cell_type": "markdown",
   "metadata": {},
   "source": [
    "### Подготовка к  построению модели"
   ]
  },
  {
   "cell_type": "code",
   "execution_count": 20,
   "metadata": {},
   "outputs": [],
   "source": [
    "feature = train_df[test_df.columns] # Формируем признаки Выбираем из trian только те колонки, которые есть в test\n",
    "feature = feature.drop(['date'],axis=1)\n",
    "feature_rougher = feature\n",
    "feature_final = feature\n",
    "target_rougher = train_df['rougher.output.recovery'] # Формируем вектор целевых признаков\n",
    "target_final = train_df['final.output.recovery']"
   ]
  },
  {
   "cell_type": "markdown",
   "metadata": {},
   "source": [
    "### GridSearchCV для подбора лучших гиперпараметров"
   ]
  },
  {
   "cell_type": "raw",
   "metadata": {},
   "source": [
    "clf = RandomForestRegressor() #найдем лучшие параметры для случайного леса\n",
    "parametrs = { 'n_estimators': range (5, 25, 5),\n",
    "              'max_depth': range (1,13, 2)}\n",
    "\n",
    "grid = GridSearchCV(clf, parametrs, cv=5)\n",
    "grid.fit(feature, target)\n",
    "\n",
    "grid.best_params_"
   ]
  },
  {
   "cell_type": "markdown",
   "metadata": {},
   "source": [
    "Лучшие гиперпараметры модели Рандомный лес: 10 деревьев с глубиной 5\n"
   ]
  },
  {
   "cell_type": "raw",
   "metadata": {},
   "source": [
    "clf = DecisionTreeRegressor() #найдем лучшие параметры для дерево решений\n",
    "\n",
    "parametrs = {'max_depth': range (1,20, 1)}\n",
    "\n",
    "grid = GridSearchCV(clf, parametrs, cv=5)\n",
    "grid.fit(feature, target)\n",
    "\n",
    "grid.best_params_"
   ]
  },
  {
   "cell_type": "markdown",
   "metadata": {
    "scrolled": false
   },
   "source": [
    "Лучшие гиперпараметры Дерева решений: глубина 3"
   ]
  },
  {
   "cell_type": "code",
   "execution_count": 21,
   "metadata": {},
   "outputs": [],
   "source": [
    "smape_score = make_scorer(sMAPE, greater_is_better=True)"
   ]
  },
  {
   "cell_type": "markdown",
   "metadata": {},
   "source": [
    "### Поиск лучшей модели"
   ]
  },
  {
   "cell_type": "code",
   "execution_count": 22,
   "metadata": {},
   "outputs": [],
   "source": [
    "model_RF = RandomForestRegressor(random_state=12345, n_estimators=10, max_depth=5)\n",
    "model_DT = DecisionTreeRegressor(random_state=12345, max_depth=3)\n",
    "model_LR = LinearRegression()"
   ]
  },
  {
   "cell_type": "code",
   "execution_count": 23,
   "metadata": {},
   "outputs": [
    {
     "name": "stdout",
     "output_type": "stream",
     "text": [
      "RandomForestRegressor(bootstrap=True, criterion='mse', max_depth=5,\n",
      "                      max_features='auto', max_leaf_nodes=None,\n",
      "                      min_impurity_decrease=0.0, min_impurity_split=None,\n",
      "                      min_samples_leaf=1, min_samples_split=2,\n",
      "                      min_weight_fraction_leaf=0.0, n_estimators=10,\n",
      "                      n_jobs=None, oob_score=False, random_state=12345,\n",
      "                      verbose=0, warm_start=False) sMAPE_final:  14.606765895754737\n",
      "DecisionTreeRegressor(criterion='mse', max_depth=3, max_features=None,\n",
      "                      max_leaf_nodes=None, min_impurity_decrease=0.0,\n",
      "                      min_impurity_split=None, min_samples_leaf=1,\n",
      "                      min_samples_split=2, min_weight_fraction_leaf=0.0,\n",
      "                      presort=False, random_state=12345, splitter='best') sMAPE_final:  15.318814979199889\n",
      "LinearRegression(copy_X=True, fit_intercept=True, n_jobs=None, normalize=False) sMAPE_final:  16.96857327151735\n"
     ]
    }
   ],
   "source": [
    "for model in [model_RF, model_DT, model_LR]:\n",
    "    scores_final = cross_val_score(model, feature_final, target_final, cv=5, scoring=smape_score)\n",
    "    scores_rougher = cross_val_score(model, feature_rougher, target_rougher, cv=5, scoring=smape_score)\n",
    "    score = 0.25*scores_rougher + 0.75*scores_final\n",
    "    score_final = np.mean(score)\n",
    "    \n",
    "    print(model, 'sMAPE_final: ', score_final)\n",
    "   \n",
    "    "
   ]
  },
  {
   "cell_type": "markdown",
   "metadata": {},
   "source": [
    "Наименьшую ошибку (14.6) показывает Рандомный лес, будем использовать эту модель"
   ]
  },
  {
   "cell_type": "markdown",
   "metadata": {},
   "source": [
    "### Проверка модели на тестовой выборке"
   ]
  },
  {
   "cell_type": "code",
   "execution_count": 24,
   "metadata": {},
   "outputs": [
    {
     "name": "stdout",
     "output_type": "stream",
     "text": [
      "14.415005353943\n"
     ]
    }
   ],
   "source": [
    "target_test = full_df[['date','rougher.output.recovery','final.output.recovery']]\n",
    "\n",
    "test_df = test_df.merge(target_test, on=['date'],how='left')\n",
    "\n",
    "test_df = test_df.dropna()\n",
    "\n",
    "target_test_rougher = test_df['rougher.output.recovery']\n",
    "target_test_final = test_df['final.output.recovery']\n",
    "\n",
    "feature_test = test_df.drop(['date','rougher.output.recovery','final.output.recovery'],axis=1)\n",
    "\n",
    "model_RF_rougher = model_RF.fit(feature_test, target_test_rougher)\n",
    "model_RF_final = model_RF.fit(feature_test, target_test_final)\n",
    "\n",
    "predictions_rougher = model_RF_rougher.predict(feature_test)\n",
    "predictions_final = model_RF_final.predict(feature_test)\n",
    "\n",
    "print(final_sMAPE(sMAPE(target_test_rougher, predictions_rougher), sMAPE(target_test_final, predictions_final)))\n"
   ]
  },
  {
   "cell_type": "markdown",
   "metadata": {},
   "source": [
    "### Проверка на адекватность "
   ]
  },
  {
   "cell_type": "code",
   "execution_count": 25,
   "metadata": {},
   "outputs": [
    {
     "name": "stdout",
     "output_type": "stream",
     "text": [
      "15.83229069554097\n"
     ]
    }
   ],
   "source": [
    "const = DummyRegressor(strategy=\"median\")\n",
    "\n",
    "const_rougher = const.fit(feature_test, target_test_rougher)\n",
    "const_final = const.fit(feature_test, target_test_final)\n",
    "\n",
    "predictions_rougher = const_rougher.predict(feature_test)\n",
    "predictions_final = const_final.predict(feature_test)\n",
    "\n",
    "print(final_sMAPE(sMAPE(target_test_rougher, predictions_rougher), sMAPE(target_test_final, predictions_final)))\n",
    "\n",
    "\n"
   ]
  },
  {
   "cell_type": "markdown",
   "metadata": {},
   "source": [
    "Модель прошла проверку т.к. Медианная модель имеет ошибку выше чем, на тестовой выборке"
   ]
  },
  {
   "cell_type": "markdown",
   "metadata": {},
   "source": [
    "## Вывод \n",
    "- Лучшая модель Рандомный лес с гиперпараметрами: кол-во деревьев 10, глубина 5\n",
    "- Модель прошла проверку на тестовой выборке и показала  итоговую sMAPE 8.02\n"
   ]
  },
  {
   "cell_type": "code",
   "execution_count": null,
   "metadata": {},
   "outputs": [],
   "source": []
  }
 ],
 "metadata": {
  "ExecuteTimeLog": [
   {
    "duration": 407,
    "start_time": "2021-06-12T14:05:32.877Z"
   },
   {
    "duration": 367,
    "start_time": "2021-06-12T14:05:42.130Z"
   },
   {
    "duration": 1686,
    "start_time": "2021-06-12T14:05:51.216Z"
   },
   {
    "duration": 974,
    "start_time": "2021-06-12T14:05:52.905Z"
   },
   {
    "duration": 165,
    "start_time": "2021-06-12T14:05:53.882Z"
   },
   {
    "duration": 1536,
    "start_time": "2021-06-13T17:46:28.050Z"
   },
   {
    "duration": 1029,
    "start_time": "2021-06-13T17:46:29.589Z"
   },
   {
    "duration": 185,
    "start_time": "2021-06-13T17:46:30.624Z"
   },
   {
    "duration": 4,
    "start_time": "2021-06-13T17:46:30.812Z"
   },
   {
    "duration": 4,
    "start_time": "2021-06-13T17:46:53.934Z"
   },
   {
    "duration": 1543,
    "start_time": "2021-06-13T19:55:42.425Z"
   },
   {
    "duration": 1031,
    "start_time": "2021-06-13T19:55:43.970Z"
   },
   {
    "duration": 158,
    "start_time": "2021-06-13T19:55:45.004Z"
   },
   {
    "duration": 4,
    "start_time": "2021-06-13T19:55:45.164Z"
   },
   {
    "duration": 7,
    "start_time": "2021-06-13T19:56:39.051Z"
   },
   {
    "duration": 23,
    "start_time": "2021-06-13T20:01:38.181Z"
   },
   {
    "duration": 6,
    "start_time": "2021-06-13T20:06:51.836Z"
   },
   {
    "duration": 11,
    "start_time": "2021-06-13T20:11:19.246Z"
   },
   {
    "duration": 9,
    "start_time": "2021-06-13T20:11:35.235Z"
   },
   {
    "duration": 6,
    "start_time": "2021-06-13T20:15:21.035Z"
   },
   {
    "duration": 6,
    "start_time": "2021-06-13T20:23:49.240Z"
   },
   {
    "duration": 24,
    "start_time": "2021-06-13T20:38:41.990Z"
   },
   {
    "duration": 22,
    "start_time": "2021-06-13T20:52:07.200Z"
   },
   {
    "duration": 9,
    "start_time": "2021-06-13T20:52:07.453Z"
   },
   {
    "duration": 7,
    "start_time": "2021-06-13T20:52:07.700Z"
   },
   {
    "duration": 5,
    "start_time": "2021-06-13T20:52:08.980Z"
   },
   {
    "duration": 20,
    "start_time": "2021-06-13T20:52:11.081Z"
   },
   {
    "duration": 18,
    "start_time": "2021-06-13T20:52:17.278Z"
   },
   {
    "duration": 1541,
    "start_time": "2021-06-13T20:52:35.936Z"
   },
   {
    "duration": 1009,
    "start_time": "2021-06-13T20:52:37.480Z"
   },
   {
    "duration": 167,
    "start_time": "2021-06-13T20:52:38.492Z"
   },
   {
    "duration": 4,
    "start_time": "2021-06-13T20:52:38.662Z"
   },
   {
    "duration": 50,
    "start_time": "2021-06-13T20:52:38.669Z"
   },
   {
    "duration": 14,
    "start_time": "2021-06-13T20:52:38.721Z"
   },
   {
    "duration": 6,
    "start_time": "2021-06-13T20:52:38.738Z"
   },
   {
    "duration": 7,
    "start_time": "2021-06-13T20:52:38.747Z"
   },
   {
    "duration": 59,
    "start_time": "2021-06-13T20:52:38.758Z"
   },
   {
    "duration": 34,
    "start_time": "2021-06-13T20:54:18.040Z"
   },
   {
    "duration": 65,
    "start_time": "2021-06-13T20:56:53.172Z"
   },
   {
    "duration": 42,
    "start_time": "2021-06-13T20:57:00.773Z"
   },
   {
    "duration": 30,
    "start_time": "2021-06-13T20:57:13.002Z"
   },
   {
    "duration": 15,
    "start_time": "2021-06-13T21:10:52.506Z"
   },
   {
    "duration": 928,
    "start_time": "2021-06-13T21:14:01.481Z"
   },
   {
    "duration": 662,
    "start_time": "2021-06-13T21:14:21.368Z"
   },
   {
    "duration": 134,
    "start_time": "2021-06-13T21:16:10.138Z"
   },
   {
    "duration": 1162,
    "start_time": "2021-06-14T00:01:37.687Z"
   },
   {
    "duration": 829,
    "start_time": "2021-06-14T00:01:38.851Z"
   },
   {
    "duration": 103,
    "start_time": "2021-06-14T00:01:39.682Z"
   },
   {
    "duration": 2,
    "start_time": "2021-06-14T00:01:39.787Z"
   },
   {
    "duration": 21,
    "start_time": "2021-06-14T00:01:39.791Z"
   },
   {
    "duration": 8,
    "start_time": "2021-06-14T00:01:39.814Z"
   },
   {
    "duration": 5,
    "start_time": "2021-06-14T00:01:39.823Z"
   },
   {
    "duration": 7,
    "start_time": "2021-06-14T00:01:39.830Z"
   },
   {
    "duration": 54,
    "start_time": "2021-06-14T00:01:39.838Z"
   },
   {
    "duration": 10,
    "start_time": "2021-06-14T00:01:39.894Z"
   },
   {
    "duration": 402,
    "start_time": "2021-06-14T00:01:39.906Z"
   },
   {
    "duration": 1157,
    "start_time": "2021-06-14T00:06:11.574Z"
   },
   {
    "duration": 798,
    "start_time": "2021-06-14T00:06:12.733Z"
   },
   {
    "duration": 90,
    "start_time": "2021-06-14T00:06:13.533Z"
   },
   {
    "duration": 3,
    "start_time": "2021-06-14T00:06:13.624Z"
   },
   {
    "duration": 21,
    "start_time": "2021-06-14T00:06:13.628Z"
   },
   {
    "duration": 7,
    "start_time": "2021-06-14T00:06:13.650Z"
   },
   {
    "duration": 27,
    "start_time": "2021-06-14T00:06:13.659Z"
   },
   {
    "duration": 7,
    "start_time": "2021-06-14T00:06:13.688Z"
   },
   {
    "duration": 29,
    "start_time": "2021-06-14T00:06:13.697Z"
   },
   {
    "duration": 9,
    "start_time": "2021-06-14T00:06:13.728Z"
   },
   {
    "duration": 411,
    "start_time": "2021-06-14T00:06:13.739Z"
   },
   {
    "duration": 273,
    "start_time": "2021-06-14T00:06:14.152Z"
   },
   {
    "duration": 7,
    "start_time": "2021-06-14T00:06:55.853Z"
   },
   {
    "duration": 4,
    "start_time": "2021-06-14T00:11:12.503Z"
   },
   {
    "duration": 375,
    "start_time": "2021-06-14T00:12:40.641Z"
   },
   {
    "duration": 3,
    "start_time": "2021-06-14T00:13:06.454Z"
   },
   {
    "duration": 12,
    "start_time": "2021-06-14T00:13:06.694Z"
   },
   {
    "duration": 13,
    "start_time": "2021-06-14T00:13:32.763Z"
   },
   {
    "duration": 4,
    "start_time": "2021-06-14T00:15:07.153Z"
   },
   {
    "duration": 357,
    "start_time": "2021-06-14T00:16:32.881Z"
   },
   {
    "duration": 7,
    "start_time": "2021-06-14T00:16:39.872Z"
   },
   {
    "duration": 4,
    "start_time": "2021-06-14T00:16:40.127Z"
   },
   {
    "duration": 361,
    "start_time": "2021-06-14T00:16:41.554Z"
   },
   {
    "duration": 4,
    "start_time": "2021-06-14T00:17:07.028Z"
   },
   {
    "duration": 184,
    "start_time": "2021-06-14T00:17:07.293Z"
   },
   {
    "duration": 8,
    "start_time": "2021-06-14T00:17:27.573Z"
   },
   {
    "duration": 147,
    "start_time": "2021-06-14T00:19:31.959Z"
   },
   {
    "duration": 134,
    "start_time": "2021-06-14T00:20:07.004Z"
   },
   {
    "duration": 10,
    "start_time": "2021-06-14T00:25:52.710Z"
   },
   {
    "duration": 195,
    "start_time": "2021-06-14T00:29:07.825Z"
   },
   {
    "duration": 139,
    "start_time": "2021-06-14T00:29:08.790Z"
   },
   {
    "duration": 139,
    "start_time": "2021-06-14T00:30:16.028Z"
   },
   {
    "duration": 138,
    "start_time": "2021-06-14T00:30:29.204Z"
   },
   {
    "duration": 16,
    "start_time": "2021-06-14T00:40:50.407Z"
   },
   {
    "duration": 28,
    "start_time": "2021-06-14T00:41:12.446Z"
   },
   {
    "duration": 29,
    "start_time": "2021-06-14T00:42:11.034Z"
   },
   {
    "duration": 4,
    "start_time": "2021-06-14T01:07:29.184Z"
   },
   {
    "duration": 3,
    "start_time": "2021-06-14T01:07:32.156Z"
   },
   {
    "duration": 195,
    "start_time": "2021-06-14T01:08:53.332Z"
   },
   {
    "duration": 3,
    "start_time": "2021-06-14T01:09:21.944Z"
   },
   {
    "duration": 204,
    "start_time": "2021-06-14T01:09:22.327Z"
   },
   {
    "duration": 5,
    "start_time": "2021-06-14T01:10:04.747Z"
   },
   {
    "duration": 2,
    "start_time": "2021-06-14T01:10:15.323Z"
   },
   {
    "duration": 5,
    "start_time": "2021-06-14T01:12:57.246Z"
   },
   {
    "duration": 1741,
    "start_time": "2021-06-14T17:24:26.791Z"
   },
   {
    "duration": 516,
    "start_time": "2021-06-14T17:24:58.137Z"
   },
   {
    "duration": 4,
    "start_time": "2021-06-14T17:25:05.360Z"
   },
   {
    "duration": 5,
    "start_time": "2021-06-14T17:25:06.008Z"
   },
   {
    "duration": 1631,
    "start_time": "2021-06-14T17:25:12.786Z"
   },
   {
    "duration": 1066,
    "start_time": "2021-06-14T17:25:14.420Z"
   },
   {
    "duration": 181,
    "start_time": "2021-06-14T17:25:15.489Z"
   },
   {
    "duration": 4,
    "start_time": "2021-06-14T17:25:15.672Z"
   },
   {
    "duration": 57,
    "start_time": "2021-06-14T17:25:15.679Z"
   },
   {
    "duration": 14,
    "start_time": "2021-06-14T17:25:15.739Z"
   },
   {
    "duration": 6,
    "start_time": "2021-06-14T17:25:15.756Z"
   },
   {
    "duration": 7,
    "start_time": "2021-06-14T17:25:15.769Z"
   },
   {
    "duration": 68,
    "start_time": "2021-06-14T17:25:15.778Z"
   },
   {
    "duration": 15,
    "start_time": "2021-06-14T17:25:15.848Z"
   },
   {
    "duration": 737,
    "start_time": "2021-06-14T17:25:15.865Z"
   },
   {
    "duration": 12,
    "start_time": "2021-06-14T17:25:16.604Z"
   },
   {
    "duration": 38,
    "start_time": "2021-06-14T17:25:16.620Z"
   },
   {
    "duration": 248,
    "start_time": "2021-06-14T17:25:16.660Z"
   },
   {
    "duration": 266,
    "start_time": "2021-06-14T17:25:16.912Z"
   },
   {
    "duration": 403,
    "start_time": "2021-06-14T17:25:17.181Z"
   },
   {
    "duration": 67,
    "start_time": "2021-06-14T17:25:17.586Z"
   },
   {
    "duration": 4,
    "start_time": "2021-06-14T17:25:17.655Z"
   },
   {
    "duration": 9,
    "start_time": "2021-06-14T17:25:17.662Z"
   },
   {
    "duration": 8,
    "start_time": "2021-06-14T17:26:28.508Z"
   },
   {
    "duration": 4,
    "start_time": "2021-06-14T17:26:46.441Z"
   },
   {
    "duration": 8,
    "start_time": "2021-06-14T17:27:13.760Z"
   },
   {
    "duration": 5,
    "start_time": "2021-06-14T17:27:36.916Z"
   },
   {
    "duration": 554,
    "start_time": "2021-06-14T17:29:06.122Z"
   },
   {
    "duration": 7,
    "start_time": "2021-06-14T17:29:15.817Z"
   },
   {
    "duration": 5,
    "start_time": "2021-06-14T17:29:16.285Z"
   },
   {
    "duration": 425,
    "start_time": "2021-06-14T17:29:35.106Z"
   },
   {
    "duration": 461,
    "start_time": "2021-06-14T17:30:18.024Z"
   },
   {
    "duration": 54,
    "start_time": "2021-06-14T17:32:56.806Z"
   },
   {
    "duration": 447,
    "start_time": "2021-06-14T17:33:04.208Z"
   },
   {
    "duration": 1709,
    "start_time": "2021-06-14T17:33:19.696Z"
   },
   {
    "duration": 1107,
    "start_time": "2021-06-14T17:33:21.409Z"
   },
   {
    "duration": 168,
    "start_time": "2021-06-14T17:33:22.521Z"
   },
   {
    "duration": 27,
    "start_time": "2021-06-14T17:33:22.691Z"
   },
   {
    "duration": 25,
    "start_time": "2021-06-14T17:33:22.721Z"
   },
   {
    "duration": 15,
    "start_time": "2021-06-14T17:33:22.748Z"
   },
   {
    "duration": 6,
    "start_time": "2021-06-14T17:33:22.765Z"
   },
   {
    "duration": 42,
    "start_time": "2021-06-14T17:33:22.775Z"
   },
   {
    "duration": 40,
    "start_time": "2021-06-14T17:33:22.821Z"
   },
   {
    "duration": 17,
    "start_time": "2021-06-14T17:33:22.863Z"
   },
   {
    "duration": 732,
    "start_time": "2021-06-14T17:33:22.882Z"
   },
   {
    "duration": 14,
    "start_time": "2021-06-14T17:33:23.618Z"
   },
   {
    "duration": 11,
    "start_time": "2021-06-14T17:33:23.634Z"
   },
   {
    "duration": 269,
    "start_time": "2021-06-14T17:33:23.648Z"
   },
   {
    "duration": 374,
    "start_time": "2021-06-14T17:33:23.921Z"
   },
   {
    "duration": 346,
    "start_time": "2021-06-14T17:33:24.310Z"
   },
   {
    "duration": 83,
    "start_time": "2021-06-14T17:33:24.658Z"
   },
   {
    "duration": 8,
    "start_time": "2021-06-14T17:33:24.743Z"
   },
   {
    "duration": 11,
    "start_time": "2021-06-14T17:33:24.753Z"
   },
   {
    "duration": 7,
    "start_time": "2021-06-14T17:33:24.766Z"
   },
   {
    "duration": 36,
    "start_time": "2021-06-14T17:33:24.776Z"
   },
   {
    "duration": 10,
    "start_time": "2021-06-14T17:33:24.816Z"
   },
   {
    "duration": 575,
    "start_time": "2021-06-14T17:33:24.830Z"
   },
   {
    "duration": 10,
    "start_time": "2021-06-14T18:01:03.356Z"
   },
   {
    "duration": 382,
    "start_time": "2021-06-14T18:03:08.361Z"
   },
   {
    "duration": 2326,
    "start_time": "2021-06-14T18:03:19.576Z"
   },
   {
    "duration": 1528,
    "start_time": "2021-06-14T18:03:21.906Z"
   },
   {
    "duration": 239,
    "start_time": "2021-06-14T18:03:23.437Z"
   },
   {
    "duration": 5,
    "start_time": "2021-06-14T18:03:23.680Z"
   },
   {
    "duration": 51,
    "start_time": "2021-06-14T18:03:23.687Z"
   },
   {
    "duration": 31,
    "start_time": "2021-06-14T18:03:23.742Z"
   },
   {
    "duration": 32,
    "start_time": "2021-06-14T18:03:23.777Z"
   },
   {
    "duration": 9,
    "start_time": "2021-06-14T18:03:23.816Z"
   },
   {
    "duration": 45,
    "start_time": "2021-06-14T18:03:23.829Z"
   },
   {
    "duration": 43,
    "start_time": "2021-06-14T18:03:23.877Z"
   },
   {
    "duration": 799,
    "start_time": "2021-06-14T18:03:23.923Z"
   },
   {
    "duration": 11,
    "start_time": "2021-06-14T18:03:24.725Z"
   },
   {
    "duration": 14,
    "start_time": "2021-06-14T18:03:24.738Z"
   },
   {
    "duration": 253,
    "start_time": "2021-06-14T18:03:24.755Z"
   },
   {
    "duration": 259,
    "start_time": "2021-06-14T18:03:25.011Z"
   },
   {
    "duration": 329,
    "start_time": "2021-06-14T18:03:25.273Z"
   },
   {
    "duration": 6,
    "start_time": "2021-06-14T18:03:25.608Z"
   },
   {
    "duration": 31,
    "start_time": "2021-06-14T18:03:25.617Z"
   },
   {
    "duration": 490,
    "start_time": "2021-06-14T18:07:16.461Z"
   },
   {
    "duration": 1898,
    "start_time": "2021-06-14T18:36:26.686Z"
   },
   {
    "duration": 962,
    "start_time": "2021-06-14T18:36:28.587Z"
   },
   {
    "duration": 177,
    "start_time": "2021-06-14T18:36:29.552Z"
   },
   {
    "duration": 4,
    "start_time": "2021-06-14T18:36:29.732Z"
   },
   {
    "duration": 27,
    "start_time": "2021-06-14T18:36:29.738Z"
   },
   {
    "duration": 17,
    "start_time": "2021-06-14T18:36:29.767Z"
   },
   {
    "duration": 10,
    "start_time": "2021-06-14T18:36:29.810Z"
   },
   {
    "duration": 8,
    "start_time": "2021-06-14T18:36:29.823Z"
   },
   {
    "duration": 31,
    "start_time": "2021-06-14T18:36:29.835Z"
   },
   {
    "duration": 52,
    "start_time": "2021-06-14T18:36:29.869Z"
   },
   {
    "duration": 654,
    "start_time": "2021-06-14T18:36:29.924Z"
   },
   {
    "duration": 28,
    "start_time": "2021-06-14T18:36:30.581Z"
   },
   {
    "duration": 13,
    "start_time": "2021-06-14T18:36:30.612Z"
   },
   {
    "duration": 230,
    "start_time": "2021-06-14T18:36:30.628Z"
   },
   {
    "duration": 253,
    "start_time": "2021-06-14T18:36:30.860Z"
   },
   {
    "duration": 323,
    "start_time": "2021-06-14T18:36:31.116Z"
   },
   {
    "duration": 6,
    "start_time": "2021-06-14T18:36:31.441Z"
   },
   {
    "duration": 36,
    "start_time": "2021-06-14T18:36:31.450Z"
   },
   {
    "duration": 1565,
    "start_time": "2021-06-14T19:43:17.201Z"
   },
   {
    "duration": 983,
    "start_time": "2021-06-14T19:43:18.769Z"
   },
   {
    "duration": 172,
    "start_time": "2021-06-14T19:43:19.755Z"
   },
   {
    "duration": 4,
    "start_time": "2021-06-14T19:43:19.930Z"
   },
   {
    "duration": 27,
    "start_time": "2021-06-14T19:43:19.937Z"
   },
   {
    "duration": 44,
    "start_time": "2021-06-14T19:43:19.967Z"
   },
   {
    "duration": 7,
    "start_time": "2021-06-14T19:43:20.013Z"
   },
   {
    "duration": 15,
    "start_time": "2021-06-14T19:43:20.022Z"
   },
   {
    "duration": 43,
    "start_time": "2021-06-14T19:43:20.040Z"
   },
   {
    "duration": 32,
    "start_time": "2021-06-14T19:43:20.086Z"
   },
   {
    "duration": 671,
    "start_time": "2021-06-14T19:43:20.121Z"
   },
   {
    "duration": 22,
    "start_time": "2021-06-14T19:43:20.794Z"
   },
   {
    "duration": 8,
    "start_time": "2021-06-14T19:43:20.819Z"
   },
   {
    "duration": 242,
    "start_time": "2021-06-14T19:43:20.830Z"
   },
   {
    "duration": 250,
    "start_time": "2021-06-14T19:43:21.075Z"
   },
   {
    "duration": 442,
    "start_time": "2021-06-14T19:43:21.327Z"
   },
   {
    "duration": 6,
    "start_time": "2021-06-14T19:43:21.771Z"
   },
   {
    "duration": 43,
    "start_time": "2021-06-14T19:43:21.780Z"
   },
   {
    "duration": 478722,
    "start_time": "2021-06-14T19:43:21.826Z"
   },
   {
    "duration": 75397,
    "start_time": "2021-06-14T19:57:40.888Z"
   },
   {
    "duration": 1681,
    "start_time": "2021-06-14T20:54:36.979Z"
   },
   {
    "duration": 1166,
    "start_time": "2021-06-14T20:54:38.662Z"
   },
   {
    "duration": 178,
    "start_time": "2021-06-14T20:54:39.831Z"
   },
   {
    "duration": 5,
    "start_time": "2021-06-14T20:54:40.014Z"
   },
   {
    "duration": 24,
    "start_time": "2021-06-14T20:54:40.023Z"
   },
   {
    "duration": 23,
    "start_time": "2021-06-14T20:54:40.049Z"
   },
   {
    "duration": 18,
    "start_time": "2021-06-14T20:54:40.074Z"
   },
   {
    "duration": 11,
    "start_time": "2021-06-14T20:54:40.111Z"
   },
   {
    "duration": 33,
    "start_time": "2021-06-14T20:54:40.126Z"
   },
   {
    "duration": 54,
    "start_time": "2021-06-14T20:54:40.161Z"
   },
   {
    "duration": 722,
    "start_time": "2021-06-14T20:54:40.218Z"
   },
   {
    "duration": 13,
    "start_time": "2021-06-14T20:54:40.943Z"
   },
   {
    "duration": 9,
    "start_time": "2021-06-14T20:54:40.958Z"
   },
   {
    "duration": 303,
    "start_time": "2021-06-14T20:54:40.970Z"
   },
   {
    "duration": 261,
    "start_time": "2021-06-14T20:54:41.275Z"
   },
   {
    "duration": 373,
    "start_time": "2021-06-14T20:54:41.539Z"
   },
   {
    "duration": 12,
    "start_time": "2021-06-14T20:54:41.915Z"
   },
   {
    "duration": 20,
    "start_time": "2021-06-14T20:54:41.929Z"
   },
   {
    "duration": 3,
    "start_time": "2021-06-14T20:58:56.933Z"
   },
   {
    "duration": 526,
    "start_time": "2021-06-14T21:04:53.531Z"
   },
   {
    "duration": 3,
    "start_time": "2021-06-14T21:05:06.678Z"
   },
   {
    "duration": 5861,
    "start_time": "2021-06-14T21:05:07.442Z"
   },
   {
    "duration": 5,
    "start_time": "2021-06-14T21:05:32.616Z"
   },
   {
    "duration": 5774,
    "start_time": "2021-06-14T21:05:33.544Z"
   },
   {
    "duration": 123,
    "start_time": "2021-06-14T21:07:22.994Z"
   },
   {
    "duration": 4,
    "start_time": "2021-06-14T21:07:26.295Z"
   },
   {
    "duration": 17,
    "start_time": "2021-06-14T21:07:26.766Z"
   },
   {
    "duration": 4,
    "start_time": "2021-06-14T21:07:30.760Z"
   },
   {
    "duration": 3425,
    "start_time": "2021-06-14T21:07:31.374Z"
   },
   {
    "duration": 5,
    "start_time": "2021-06-14T21:10:07.871Z"
   },
   {
    "duration": 17,
    "start_time": "2021-06-14T21:10:08.827Z"
   },
   {
    "duration": 4,
    "start_time": "2021-06-14T21:10:12.399Z"
   },
   {
    "duration": 3471,
    "start_time": "2021-06-14T21:10:13.093Z"
   },
   {
    "duration": 18,
    "start_time": "2021-06-14T21:11:27.771Z"
   },
   {
    "duration": 3468,
    "start_time": "2021-06-14T21:12:11.884Z"
   },
   {
    "duration": 112,
    "start_time": "2021-06-14T21:12:57.109Z"
   },
   {
    "duration": 3501,
    "start_time": "2021-06-14T21:13:02.167Z"
   },
   {
    "duration": 4,
    "start_time": "2021-06-14T21:13:52.054Z"
   },
   {
    "duration": 16,
    "start_time": "2021-06-14T21:13:52.851Z"
   },
   {
    "duration": 3,
    "start_time": "2021-06-14T21:13:54.540Z"
   },
   {
    "duration": 4144,
    "start_time": "2021-06-14T21:13:55.092Z"
   },
   {
    "duration": 5,
    "start_time": "2021-06-14T21:14:23.016Z"
   },
   {
    "duration": 17,
    "start_time": "2021-06-14T21:14:23.495Z"
   },
   {
    "duration": 4,
    "start_time": "2021-06-14T21:14:25.163Z"
   },
   {
    "duration": 3199,
    "start_time": "2021-06-14T21:14:25.581Z"
   },
   {
    "duration": 4,
    "start_time": "2021-06-14T21:17:06.328Z"
   },
   {
    "duration": 3259,
    "start_time": "2021-06-14T21:17:06.968Z"
   },
   {
    "duration": 14106,
    "start_time": "2021-06-14T21:17:36.244Z"
   },
   {
    "duration": 14510,
    "start_time": "2021-06-14T21:18:56.013Z"
   },
   {
    "duration": 16,
    "start_time": "2021-06-14T21:29:02.107Z"
   },
   {
    "duration": 3,
    "start_time": "2021-06-14T21:36:44.666Z"
   },
   {
    "duration": 13193,
    "start_time": "2021-06-14T21:37:48.081Z"
   },
   {
    "duration": 14186,
    "start_time": "2021-06-14T21:38:37.086Z"
   },
   {
    "duration": 14108,
    "start_time": "2021-06-14T21:39:32.529Z"
   },
   {
    "duration": 13939,
    "start_time": "2021-06-14T21:40:07.656Z"
   },
   {
    "duration": 14295,
    "start_time": "2021-06-14T21:41:19.722Z"
   },
   {
    "duration": 5,
    "start_time": "2021-06-14T21:45:14.313Z"
   },
   {
    "duration": 19783,
    "start_time": "2021-06-14T21:45:14.788Z"
   },
   {
    "duration": 13531,
    "start_time": "2021-06-14T21:45:34.573Z"
   },
   {
    "duration": 5,
    "start_time": "2021-06-14T21:48:20.935Z"
   },
   {
    "duration": 12148,
    "start_time": "2021-06-14T21:56:42.002Z"
   },
   {
    "duration": 1703,
    "start_time": "2021-06-14T21:57:00.517Z"
   },
   {
    "duration": 1078,
    "start_time": "2021-06-14T21:57:02.223Z"
   },
   {
    "duration": 180,
    "start_time": "2021-06-14T21:57:03.304Z"
   },
   {
    "duration": 27,
    "start_time": "2021-06-14T21:57:03.487Z"
   },
   {
    "duration": 29,
    "start_time": "2021-06-14T21:57:03.517Z"
   },
   {
    "duration": 16,
    "start_time": "2021-06-14T21:57:03.549Z"
   },
   {
    "duration": 8,
    "start_time": "2021-06-14T21:57:03.568Z"
   },
   {
    "duration": 89,
    "start_time": "2021-06-14T21:57:03.579Z"
   },
   {
    "duration": 61,
    "start_time": "2021-06-14T21:57:03.671Z"
   },
   {
    "duration": 15,
    "start_time": "2021-06-14T21:57:03.735Z"
   },
   {
    "duration": 738,
    "start_time": "2021-06-14T21:57:03.752Z"
   },
   {
    "duration": 16,
    "start_time": "2021-06-14T21:57:04.493Z"
   },
   {
    "duration": 20,
    "start_time": "2021-06-14T21:57:04.512Z"
   },
   {
    "duration": 280,
    "start_time": "2021-06-14T21:57:04.534Z"
   },
   {
    "duration": 271,
    "start_time": "2021-06-14T21:57:04.818Z"
   },
   {
    "duration": 350,
    "start_time": "2021-06-14T21:57:05.092Z"
   },
   {
    "duration": 4,
    "start_time": "2021-06-14T21:57:05.446Z"
   },
   {
    "duration": 18,
    "start_time": "2021-06-14T21:57:05.452Z"
   },
   {
    "duration": 44,
    "start_time": "2021-06-14T21:57:05.472Z"
   },
   {
    "duration": 6,
    "start_time": "2021-06-14T21:57:05.519Z"
   },
   {
    "duration": 6,
    "start_time": "2021-06-14T21:57:05.528Z"
   },
   {
    "duration": 37076,
    "start_time": "2021-06-14T21:57:05.536Z"
   },
   {
    "duration": 14093,
    "start_time": "2021-06-14T21:57:42.623Z"
   },
   {
    "duration": 34623,
    "start_time": "2021-06-14T22:02:02.802Z"
   },
   {
    "duration": 34775,
    "start_time": "2021-06-14T22:03:39.545Z"
   },
   {
    "duration": 533,
    "start_time": "2021-06-14T22:22:46.460Z"
   },
   {
    "duration": 9043,
    "start_time": "2021-06-14T22:32:58.395Z"
   },
   {
    "duration": 2434,
    "start_time": "2021-06-14T22:33:11.893Z"
   },
   {
    "duration": 11,
    "start_time": "2021-06-14T22:42:40.284Z"
   },
   {
    "duration": 3,
    "start_time": "2021-06-14T23:15:15.522Z"
   },
   {
    "duration": 1645,
    "start_time": "2021-06-14T23:27:02.107Z"
   },
   {
    "duration": 1112,
    "start_time": "2021-06-14T23:27:03.754Z"
   },
   {
    "duration": 182,
    "start_time": "2021-06-14T23:27:04.869Z"
   },
   {
    "duration": 4,
    "start_time": "2021-06-14T23:27:05.054Z"
   },
   {
    "duration": 49,
    "start_time": "2021-06-14T23:27:05.060Z"
   },
   {
    "duration": 25,
    "start_time": "2021-06-14T23:27:05.113Z"
   },
   {
    "duration": 6,
    "start_time": "2021-06-14T23:27:05.141Z"
   },
   {
    "duration": 6,
    "start_time": "2021-06-14T23:27:05.150Z"
   },
   {
    "duration": 63,
    "start_time": "2021-06-14T23:27:05.160Z"
   },
   {
    "duration": 14,
    "start_time": "2021-06-14T23:27:05.226Z"
   },
   {
    "duration": 692,
    "start_time": "2021-06-14T23:27:05.242Z"
   },
   {
    "duration": 10,
    "start_time": "2021-06-14T23:27:05.937Z"
   },
   {
    "duration": 14,
    "start_time": "2021-06-14T23:27:05.950Z"
   },
   {
    "duration": 247,
    "start_time": "2021-06-14T23:27:05.966Z"
   },
   {
    "duration": 273,
    "start_time": "2021-06-14T23:27:06.216Z"
   },
   {
    "duration": 345,
    "start_time": "2021-06-14T23:27:06.492Z"
   },
   {
    "duration": 5,
    "start_time": "2021-06-14T23:27:06.839Z"
   },
   {
    "duration": 9,
    "start_time": "2021-06-14T23:27:06.846Z"
   },
   {
    "duration": 22,
    "start_time": "2021-06-14T23:27:06.857Z"
   },
   {
    "duration": 29,
    "start_time": "2021-06-14T23:27:06.881Z"
   },
   {
    "duration": 26,
    "start_time": "2021-06-14T23:27:06.914Z"
   },
   {
    "duration": 34773,
    "start_time": "2021-06-14T23:27:06.942Z"
   },
   {
    "duration": 2292,
    "start_time": "2021-06-14T23:27:41.718Z"
   },
   {
    "duration": 13,
    "start_time": "2021-06-14T23:27:44.012Z"
   },
   {
    "duration": 1543,
    "start_time": "2021-06-15T19:06:21.070Z"
   },
   {
    "duration": 1003,
    "start_time": "2021-06-15T19:06:22.616Z"
   },
   {
    "duration": 169,
    "start_time": "2021-06-15T19:06:23.621Z"
   },
   {
    "duration": 5,
    "start_time": "2021-06-15T19:06:23.793Z"
   },
   {
    "duration": 52,
    "start_time": "2021-06-15T19:06:23.802Z"
   },
   {
    "duration": 17,
    "start_time": "2021-06-15T19:06:23.857Z"
   },
   {
    "duration": 8,
    "start_time": "2021-06-15T19:06:23.877Z"
   },
   {
    "duration": 7,
    "start_time": "2021-06-15T19:06:23.891Z"
   },
   {
    "duration": 80,
    "start_time": "2021-06-15T19:06:23.902Z"
   },
   {
    "duration": 18,
    "start_time": "2021-06-15T19:06:23.985Z"
   },
   {
    "duration": 10175,
    "start_time": "2021-06-15T19:06:24.006Z"
   },
   {
    "duration": 672,
    "start_time": "2021-06-15T19:06:34.184Z"
   },
   {
    "duration": 11,
    "start_time": "2021-06-15T19:06:34.859Z"
   },
   {
    "duration": 11,
    "start_time": "2021-06-15T19:06:34.873Z"
   },
   {
    "duration": 247,
    "start_time": "2021-06-15T19:06:34.887Z"
   },
   {
    "duration": 242,
    "start_time": "2021-06-15T19:06:35.137Z"
   },
   {
    "duration": 250,
    "start_time": "2021-06-15T19:06:35.382Z"
   },
   {
    "duration": 4,
    "start_time": "2021-06-15T19:06:35.635Z"
   },
   {
    "duration": 6,
    "start_time": "2021-06-15T19:06:35.654Z"
   },
   {
    "duration": 27,
    "start_time": "2021-06-15T19:06:35.663Z"
   },
   {
    "duration": 7,
    "start_time": "2021-06-15T19:06:35.693Z"
   },
   {
    "duration": 7,
    "start_time": "2021-06-15T19:06:35.702Z"
   },
   {
    "duration": 33340,
    "start_time": "2021-06-15T19:06:35.715Z"
   },
   {
    "duration": 2396,
    "start_time": "2021-06-15T19:07:09.059Z"
   },
   {
    "duration": 12,
    "start_time": "2021-06-15T19:07:11.457Z"
   },
   {
    "duration": 7080,
    "start_time": "2021-06-15T19:17:07.563Z"
   },
   {
    "duration": 860,
    "start_time": "2021-06-15T19:17:34.766Z"
   },
   {
    "duration": 976,
    "start_time": "2021-06-15T19:17:47.802Z"
   },
   {
    "duration": 5765,
    "start_time": "2021-06-15T19:25:26.454Z"
   },
   {
    "duration": 5682,
    "start_time": "2021-06-15T19:26:15.718Z"
   },
   {
    "duration": 5523,
    "start_time": "2021-06-15T19:26:34.464Z"
   },
   {
    "duration": 6058,
    "start_time": "2021-06-15T19:26:57.246Z"
   },
   {
    "duration": 12050,
    "start_time": "2021-06-15T19:27:18.524Z"
   },
   {
    "duration": 5552,
    "start_time": "2021-06-15T19:27:32.678Z"
   },
   {
    "duration": 5419,
    "start_time": "2021-06-15T19:28:07.246Z"
   },
   {
    "duration": 5233,
    "start_time": "2021-06-15T19:28:23.435Z"
   },
   {
    "duration": 91,
    "start_time": "2021-06-15T19:35:58.141Z"
   },
   {
    "duration": 1574,
    "start_time": "2021-06-15T19:36:10.126Z"
   },
   {
    "duration": 1111,
    "start_time": "2021-06-15T19:36:11.703Z"
   },
   {
    "duration": 167,
    "start_time": "2021-06-15T19:36:12.817Z"
   },
   {
    "duration": 4,
    "start_time": "2021-06-15T19:36:12.987Z"
   },
   {
    "duration": 31,
    "start_time": "2021-06-15T19:36:12.993Z"
   },
   {
    "duration": 34,
    "start_time": "2021-06-15T19:36:13.027Z"
   },
   {
    "duration": 7,
    "start_time": "2021-06-15T19:36:13.063Z"
   },
   {
    "duration": 12,
    "start_time": "2021-06-15T19:36:13.073Z"
   },
   {
    "duration": 40,
    "start_time": "2021-06-15T19:36:13.088Z"
   },
   {
    "duration": 39,
    "start_time": "2021-06-15T19:36:13.130Z"
   },
   {
    "duration": 5167,
    "start_time": "2021-06-15T19:36:13.172Z"
   },
   {
    "duration": 853,
    "start_time": "2021-06-15T19:36:18.342Z"
   },
   {
    "duration": 11,
    "start_time": "2021-06-15T19:36:19.198Z"
   },
   {
    "duration": 7,
    "start_time": "2021-06-15T19:36:19.212Z"
   },
   {
    "duration": 244,
    "start_time": "2021-06-15T19:36:19.222Z"
   },
   {
    "duration": 248,
    "start_time": "2021-06-15T19:36:19.469Z"
   },
   {
    "duration": 250,
    "start_time": "2021-06-15T19:36:19.720Z"
   },
   {
    "duration": 4,
    "start_time": "2021-06-15T19:36:19.973Z"
   },
   {
    "duration": 9,
    "start_time": "2021-06-15T19:36:19.981Z"
   },
   {
    "duration": 23,
    "start_time": "2021-06-15T19:36:19.993Z"
   },
   {
    "duration": 36,
    "start_time": "2021-06-15T19:36:20.018Z"
   },
   {
    "duration": 5,
    "start_time": "2021-06-15T19:36:20.057Z"
   },
   {
    "duration": 32392,
    "start_time": "2021-06-15T19:36:20.066Z"
   },
   {
    "duration": 2199,
    "start_time": "2021-06-15T19:36:52.462Z"
   },
   {
    "duration": 11,
    "start_time": "2021-06-15T19:36:54.663Z"
   },
   {
    "duration": 1502,
    "start_time": "2021-07-12T16:31:13.108Z"
   },
   {
    "duration": 1046,
    "start_time": "2021-07-12T16:31:14.613Z"
   },
   {
    "duration": 161,
    "start_time": "2021-07-12T16:31:15.662Z"
   },
   {
    "duration": 3,
    "start_time": "2021-07-12T16:31:15.826Z"
   },
   {
    "duration": 33,
    "start_time": "2021-07-12T16:31:15.831Z"
   },
   {
    "duration": 13,
    "start_time": "2021-07-12T16:31:15.866Z"
   },
   {
    "duration": 23,
    "start_time": "2021-07-12T16:31:15.881Z"
   },
   {
    "duration": 6,
    "start_time": "2021-07-12T16:31:15.908Z"
   },
   {
    "duration": 31,
    "start_time": "2021-07-12T16:31:15.917Z"
   },
   {
    "duration": 56,
    "start_time": "2021-07-12T16:31:15.951Z"
   },
   {
    "duration": 5300,
    "start_time": "2021-07-12T16:31:16.009Z"
   },
   {
    "duration": 653,
    "start_time": "2021-07-12T16:31:21.312Z"
   },
   {
    "duration": 13,
    "start_time": "2021-07-12T16:31:21.968Z"
   },
   {
    "duration": 7,
    "start_time": "2021-07-12T16:31:22.002Z"
   },
   {
    "duration": 240,
    "start_time": "2021-07-12T16:31:22.011Z"
   },
   {
    "duration": 249,
    "start_time": "2021-07-12T16:31:22.254Z"
   },
   {
    "duration": 249,
    "start_time": "2021-07-12T16:31:22.506Z"
   },
   {
    "duration": 10,
    "start_time": "2021-07-12T16:31:22.757Z"
   },
   {
    "duration": 9,
    "start_time": "2021-07-12T16:31:22.769Z"
   },
   {
    "duration": 31,
    "start_time": "2021-07-12T16:31:22.780Z"
   },
   {
    "duration": 4,
    "start_time": "2021-07-12T16:31:22.813Z"
   },
   {
    "duration": 7,
    "start_time": "2021-07-12T16:31:22.819Z"
   },
   {
    "duration": 32071,
    "start_time": "2021-07-12T16:31:22.830Z"
   },
   {
    "duration": 2229,
    "start_time": "2021-07-12T16:31:54.905Z"
   },
   {
    "duration": 12,
    "start_time": "2021-07-12T16:31:57.137Z"
   }
  ],
  "kernelspec": {
   "display_name": "Python 3 (ipykernel)",
   "language": "python",
   "name": "python3"
  },
  "language_info": {
   "codemirror_mode": {
    "name": "ipython",
    "version": 3
   },
   "file_extension": ".py",
   "mimetype": "text/x-python",
   "name": "python",
   "nbconvert_exporter": "python",
   "pygments_lexer": "ipython3",
   "version": "3.9.5"
  },
  "toc": {
   "base_numbering": 1,
   "nav_menu": {},
   "number_sections": true,
   "sideBar": true,
   "skip_h1_title": true,
   "title_cell": "Содержание",
   "title_sidebar": "Contents",
   "toc_cell": true,
   "toc_position": {
    "height": "calc(100% - 180px)",
    "left": "10px",
    "top": "150px",
    "width": "267.796875px"
   },
   "toc_section_display": true,
   "toc_window_display": true
  }
 },
 "nbformat": 4,
 "nbformat_minor": 2
}
