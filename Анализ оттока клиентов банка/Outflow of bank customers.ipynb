{
 "cells": [
  {
   "cell_type": "markdown",
   "metadata": {
    "toc": true
   },
   "source": [
    "<h1>Содержание<span class=\"tocSkip\"></span></h1>\n",
    "<div class=\"toc\"><ul class=\"toc-item\"><li><span><a href=\"#Подготовка-данных\" data-toc-modified-id=\"Подготовка-данных-1\"><span class=\"toc-item-num\">1&nbsp;&nbsp;</span>Подготовка данных</a></span><ul class=\"toc-item\"><li><span><a href=\"#Импорт-модулей-и-библеотек\" data-toc-modified-id=\"Импорт-модулей-и-библеотек-1.1\"><span class=\"toc-item-num\">1.1&nbsp;&nbsp;</span>Импорт модулей и библеотек</a></span></li><li><span><a href=\"#Открытие-и-подготовка-данных\" data-toc-modified-id=\"Открытие-и-подготовка-данных-1.2\"><span class=\"toc-item-num\">1.2&nbsp;&nbsp;</span>Открытие и подготовка данных</a></span></li><li><span><a href=\"#Разбитие-данных-на-выборки\" data-toc-modified-id=\"Разбитие-данных-на-выборки-1.3\"><span class=\"toc-item-num\">1.3&nbsp;&nbsp;</span>Разбитие данных на выборки</a></span></li><li><span><a href=\"#Маштабирование-численных-признаков\" data-toc-modified-id=\"Маштабирование-численных-признаков-1.4\"><span class=\"toc-item-num\">1.4&nbsp;&nbsp;</span>Маштабирование численных признаков</a></span></li><li><span><a href=\"#Вывод\" data-toc-modified-id=\"Вывод-1.5\"><span class=\"toc-item-num\">1.5&nbsp;&nbsp;</span>Вывод</a></span></li></ul></li><li><span><a href=\"#Исследование-задачи\" data-toc-modified-id=\"Исследование-задачи-2\"><span class=\"toc-item-num\">2&nbsp;&nbsp;</span>Исследование задачи</a></span><ul class=\"toc-item\"><li><span><a href=\"#Исследуем-accuracy-разных-моделей\" data-toc-modified-id=\"Исследуем-accuracy-разных-моделей-2.1\"><span class=\"toc-item-num\">2.1&nbsp;&nbsp;</span>Исследуем accuracy разных моделей</a></span></li><li><span><a href=\"#Проверка-баланса-классов\" data-toc-modified-id=\"Проверка-баланса-классов-2.2\"><span class=\"toc-item-num\">2.2&nbsp;&nbsp;</span>Проверка баланса классов</a></span></li><li><span><a href=\"#Проверка-адекватности-моделей\" data-toc-modified-id=\"Проверка-адекватности-моделей-2.3\"><span class=\"toc-item-num\">2.3&nbsp;&nbsp;</span>Проверка адекватности моделей</a></span></li><li><span><a href=\"#Матрица-ошибок\" data-toc-modified-id=\"Матрица-ошибок-2.4\"><span class=\"toc-item-num\">2.4&nbsp;&nbsp;</span>Матрица ошибок</a></span></li><li><span><a href=\"#Проверка-качества-моделей\" data-toc-modified-id=\"Проверка-качества-моделей-2.5\"><span class=\"toc-item-num\">2.5&nbsp;&nbsp;</span>Проверка качества моделей</a></span><ul class=\"toc-item\"><li><span><a href=\"#Метрики-recall,-precision,-f1_score,-ROC-AUC\" data-toc-modified-id=\"Метрики-recall,-precision,-f1_score,-ROC-AUC-2.5.1\"><span class=\"toc-item-num\">2.5.1&nbsp;&nbsp;</span>Метрики recall, precision, f1_score, ROC-AUC</a></span></li></ul></li><li><span><a href=\"#Вывод\" data-toc-modified-id=\"Вывод-2.6\"><span class=\"toc-item-num\">2.6&nbsp;&nbsp;</span>Вывод</a></span></li></ul></li><li><span><a href=\"#Борьба-с-дисбалансом\" data-toc-modified-id=\"Борьба-с-дисбалансом-3\"><span class=\"toc-item-num\">3&nbsp;&nbsp;</span>Борьба с дисбалансом</a></span><ul class=\"toc-item\"><li><span><a href=\"#Увеличение-выборок\" data-toc-modified-id=\"Увеличение-выборок-3.1\"><span class=\"toc-item-num\">3.1&nbsp;&nbsp;</span>Увеличение выборок</a></span></li><li><span><a href=\"#Уменьшение-выборок\" data-toc-modified-id=\"Уменьшение-выборок-3.2\"><span class=\"toc-item-num\">3.2&nbsp;&nbsp;</span>Уменьшение выборок</a></span></li><li><span><a href=\"#Аccuracy-разных-моделей-после-сбалансирования\" data-toc-modified-id=\"Аccuracy-разных-моделей-после-сбалансирования-3.3\"><span class=\"toc-item-num\">3.3&nbsp;&nbsp;</span>Аccuracy разных моделей после сбалансирования</a></span><ul class=\"toc-item\"><li><span><a href=\"#На-увеличенной-выборке\" data-toc-modified-id=\"На-увеличенной-выборке-3.3.1\"><span class=\"toc-item-num\">3.3.1&nbsp;&nbsp;</span>На увеличенной выборке</a></span></li><li><span><a href=\"#На-уменьшенной-выборке\" data-toc-modified-id=\"На-уменьшенной-выборке-3.3.2\"><span class=\"toc-item-num\">3.3.2&nbsp;&nbsp;</span>На уменьшенной выборке</a></span></li></ul></li><li><span><a href=\"#Качество-моделей-после-сбалансирования\" data-toc-modified-id=\"Качество-моделей-после-сбалансирования-3.4\"><span class=\"toc-item-num\">3.4&nbsp;&nbsp;</span>Качество моделей после сбалансирования</a></span><ul class=\"toc-item\"><li><span><a href=\"#На-увеличенной-выборке\" data-toc-modified-id=\"На-увеличенной-выборке-3.4.1\"><span class=\"toc-item-num\">3.4.1&nbsp;&nbsp;</span>На увеличенной выборке</a></span></li><li><span><a href=\"#На-уменьшенной-выборке\" data-toc-modified-id=\"На-уменьшенной-выборке-3.4.2\"><span class=\"toc-item-num\">3.4.2&nbsp;&nbsp;</span>На уменьшенной выборке</a></span></li></ul></li><li><span><a href=\"#Вывод\" data-toc-modified-id=\"Вывод-3.5\"><span class=\"toc-item-num\">3.5&nbsp;&nbsp;</span>Вывод</a></span></li></ul></li><li><span><a href=\"#Улучшение-модели\" data-toc-modified-id=\"Улучшение-модели-4\"><span class=\"toc-item-num\">4&nbsp;&nbsp;</span>Улучшение модели</a></span><ul class=\"toc-item\"><li><span><a href=\"#Обучение-и-проверка-на-адекватность-финальной-модели\" data-toc-modified-id=\"Обучение-и-проверка-на-адекватность-финальной-модели-4.1\"><span class=\"toc-item-num\">4.1&nbsp;&nbsp;</span>Обучение и проверка на адекватность финальной модели</a></span></li></ul></li><li><span><a href=\"#Тестирование-модели\" data-toc-modified-id=\"Тестирование-модели-5\"><span class=\"toc-item-num\">5&nbsp;&nbsp;</span>Тестирование модели</a></span></li><li><span><a href=\"#Общий-вывод\" data-toc-modified-id=\"Общий-вывод-6\"><span class=\"toc-item-num\">6&nbsp;&nbsp;</span>Общий вывод</a></span></li></ul></div>"
   ]
  },
  {
   "cell_type": "markdown",
   "metadata": {},
   "source": [
    "# Отток клиентов"
   ]
  },
  {
   "cell_type": "markdown",
   "metadata": {},
   "source": [
    "Из «Бета-Банка» стали уходить клиенты. Каждый месяц. Немного, но заметно. Банковские маркетологи посчитали: сохранять текущих клиентов дешевле, чем привлекать новых.\n",
    "\n",
    "Нужно спрогнозировать, уйдёт клиент из банка в ближайшее время или нет. Вам предоставлены исторические данные о поведении клиентов и расторжении договоров с банком. \n",
    "\n",
    "Постройте модель с предельно большим значением *F1*-меры. Чтобы сдать проект успешно, нужно довести метрику до 0.59. Проверьте *F1*-меру на тестовой выборке самостоятельно.\n",
    "\n",
    "Дополнительно измеряйте *AUC-ROC*, сравнивайте её значение с *F1*-мерой.\n",
    "\n",
    "Источник данных: [https://www.kaggle.com/barelydedicated/bank-customer-churn-modeling](https://www.kaggle.com/barelydedicated/bank-customer-churn-modeling)"
   ]
  },
  {
   "cell_type": "markdown",
   "metadata": {},
   "source": [
    "## Подготовка данных"
   ]
  },
  {
   "cell_type": "markdown",
   "metadata": {},
   "source": [
    "### Импорт модулей и библеотек"
   ]
  },
  {
   "cell_type": "code",
   "execution_count": 1,
   "metadata": {},
   "outputs": [],
   "source": [
    "import pandas as pd\n",
    "import numpy as np\n",
    "import seaborn as sns\n",
    "import re\n",
    "import math\n",
    "from scipy import stats as st\n",
    "import matplotlib.pyplot as plt\n",
    "from sklearn.model_selection import train_test_split\n",
    "from sklearn.tree import DecisionTreeClassifier\n",
    "from sklearn.ensemble import RandomForestClassifier\n",
    "from sklearn.model_selection import GridSearchCV\n",
    "from sklearn.linear_model import LogisticRegression\n",
    "from sklearn.dummy import DummyClassifier\n",
    "from sklearn.preprocessing import StandardScaler\n",
    "from sklearn.utils import shuffle\n",
    "from sklearn.metrics import accuracy_score, f1_score, recall_score, precision_score, roc_auc_score,roc_curve, confusion_matrix\n",
    "import warnings\n",
    "warnings.filterwarnings('ignore')\n",
    "from IPython.display import display"
   ]
  },
  {
   "cell_type": "markdown",
   "metadata": {},
   "source": [
    "### Открытие и подготовка данных"
   ]
  },
  {
   "cell_type": "code",
   "execution_count": 2,
   "metadata": {},
   "outputs": [
    {
     "data": {
      "text/html": [
       "<div>\n",
       "<style scoped>\n",
       "    .dataframe tbody tr th:only-of-type {\n",
       "        vertical-align: middle;\n",
       "    }\n",
       "\n",
       "    .dataframe tbody tr th {\n",
       "        vertical-align: top;\n",
       "    }\n",
       "\n",
       "    .dataframe thead th {\n",
       "        text-align: right;\n",
       "    }\n",
       "</style>\n",
       "<table border=\"1\" class=\"dataframe\">\n",
       "  <thead>\n",
       "    <tr style=\"text-align: right;\">\n",
       "      <th></th>\n",
       "      <th>RowNumber</th>\n",
       "      <th>CustomerId</th>\n",
       "      <th>Surname</th>\n",
       "      <th>CreditScore</th>\n",
       "      <th>Geography</th>\n",
       "      <th>Gender</th>\n",
       "      <th>Age</th>\n",
       "      <th>Tenure</th>\n",
       "      <th>Balance</th>\n",
       "      <th>NumOfProducts</th>\n",
       "      <th>HasCrCard</th>\n",
       "      <th>IsActiveMember</th>\n",
       "      <th>EstimatedSalary</th>\n",
       "      <th>Exited</th>\n",
       "    </tr>\n",
       "  </thead>\n",
       "  <tbody>\n",
       "    <tr>\n",
       "      <td>0</td>\n",
       "      <td>1</td>\n",
       "      <td>15634602</td>\n",
       "      <td>Hargrave</td>\n",
       "      <td>619</td>\n",
       "      <td>France</td>\n",
       "      <td>Female</td>\n",
       "      <td>42</td>\n",
       "      <td>2.0</td>\n",
       "      <td>0.00</td>\n",
       "      <td>1</td>\n",
       "      <td>1</td>\n",
       "      <td>1</td>\n",
       "      <td>101348.88</td>\n",
       "      <td>1</td>\n",
       "    </tr>\n",
       "    <tr>\n",
       "      <td>1</td>\n",
       "      <td>2</td>\n",
       "      <td>15647311</td>\n",
       "      <td>Hill</td>\n",
       "      <td>608</td>\n",
       "      <td>Spain</td>\n",
       "      <td>Female</td>\n",
       "      <td>41</td>\n",
       "      <td>1.0</td>\n",
       "      <td>83807.86</td>\n",
       "      <td>1</td>\n",
       "      <td>0</td>\n",
       "      <td>1</td>\n",
       "      <td>112542.58</td>\n",
       "      <td>0</td>\n",
       "    </tr>\n",
       "    <tr>\n",
       "      <td>2</td>\n",
       "      <td>3</td>\n",
       "      <td>15619304</td>\n",
       "      <td>Onio</td>\n",
       "      <td>502</td>\n",
       "      <td>France</td>\n",
       "      <td>Female</td>\n",
       "      <td>42</td>\n",
       "      <td>8.0</td>\n",
       "      <td>159660.80</td>\n",
       "      <td>3</td>\n",
       "      <td>1</td>\n",
       "      <td>0</td>\n",
       "      <td>113931.57</td>\n",
       "      <td>1</td>\n",
       "    </tr>\n",
       "    <tr>\n",
       "      <td>3</td>\n",
       "      <td>4</td>\n",
       "      <td>15701354</td>\n",
       "      <td>Boni</td>\n",
       "      <td>699</td>\n",
       "      <td>France</td>\n",
       "      <td>Female</td>\n",
       "      <td>39</td>\n",
       "      <td>1.0</td>\n",
       "      <td>0.00</td>\n",
       "      <td>2</td>\n",
       "      <td>0</td>\n",
       "      <td>0</td>\n",
       "      <td>93826.63</td>\n",
       "      <td>0</td>\n",
       "    </tr>\n",
       "    <tr>\n",
       "      <td>4</td>\n",
       "      <td>5</td>\n",
       "      <td>15737888</td>\n",
       "      <td>Mitchell</td>\n",
       "      <td>850</td>\n",
       "      <td>Spain</td>\n",
       "      <td>Female</td>\n",
       "      <td>43</td>\n",
       "      <td>2.0</td>\n",
       "      <td>125510.82</td>\n",
       "      <td>1</td>\n",
       "      <td>1</td>\n",
       "      <td>1</td>\n",
       "      <td>79084.10</td>\n",
       "      <td>0</td>\n",
       "    </tr>\n",
       "  </tbody>\n",
       "</table>\n",
       "</div>"
      ],
      "text/plain": [
       "   RowNumber  CustomerId   Surname  CreditScore Geography  Gender  Age  \\\n",
       "0          1    15634602  Hargrave          619    France  Female   42   \n",
       "1          2    15647311      Hill          608     Spain  Female   41   \n",
       "2          3    15619304      Onio          502    France  Female   42   \n",
       "3          4    15701354      Boni          699    France  Female   39   \n",
       "4          5    15737888  Mitchell          850     Spain  Female   43   \n",
       "\n",
       "   Tenure    Balance  NumOfProducts  HasCrCard  IsActiveMember  \\\n",
       "0     2.0       0.00              1          1               1   \n",
       "1     1.0   83807.86              1          0               1   \n",
       "2     8.0  159660.80              3          1               0   \n",
       "3     1.0       0.00              2          0               0   \n",
       "4     2.0  125510.82              1          1               1   \n",
       "\n",
       "   EstimatedSalary  Exited  \n",
       "0        101348.88       1  \n",
       "1        112542.58       0  \n",
       "2        113931.57       1  \n",
       "3         93826.63       0  \n",
       "4         79084.10       0  "
      ]
     },
     "metadata": {},
     "output_type": "display_data"
    },
    {
     "name": "stdout",
     "output_type": "stream",
     "text": [
      "<class 'pandas.core.frame.DataFrame'>\n",
      "RangeIndex: 10000 entries, 0 to 9999\n",
      "Data columns (total 14 columns):\n",
      "RowNumber          10000 non-null int64\n",
      "CustomerId         10000 non-null int64\n",
      "Surname            10000 non-null object\n",
      "CreditScore        10000 non-null int64\n",
      "Geography          10000 non-null object\n",
      "Gender             10000 non-null object\n",
      "Age                10000 non-null int64\n",
      "Tenure             9091 non-null float64\n",
      "Balance            10000 non-null float64\n",
      "NumOfProducts      10000 non-null int64\n",
      "HasCrCard          10000 non-null int64\n",
      "IsActiveMember     10000 non-null int64\n",
      "EstimatedSalary    10000 non-null float64\n",
      "Exited             10000 non-null int64\n",
      "dtypes: float64(3), int64(8), object(3)\n",
      "memory usage: 1.1+ MB\n",
      "Дубликатов  0\n"
     ]
    }
   ],
   "source": [
    "data = pd.read_csv('/datasets/Churn.csv')\n",
    "display(data.head())\n",
    "data.info()\n",
    "print('Дубликатов ',data.duplicated().sum())"
   ]
  },
  {
   "cell_type": "code",
   "execution_count": 3,
   "metadata": {},
   "outputs": [
    {
     "data": {
      "text/plain": [
       "array(['France', 'Spain', 'Germany'], dtype=object)"
      ]
     },
     "metadata": {},
     "output_type": "display_data"
    },
    {
     "data": {
      "text/plain": [
       "array(['Female', 'Male'], dtype=object)"
      ]
     },
     "metadata": {},
     "output_type": "display_data"
    },
    {
     "data": {
      "text/plain": [
       "1.0     952\n",
       "2.0     950\n",
       "8.0     933\n",
       "3.0     928\n",
       "5.0     927\n",
       "7.0     925\n",
       "4.0     885\n",
       "9.0     882\n",
       "6.0     881\n",
       "10.0    446\n",
       "0.0     382\n",
       "Name: Tenure, dtype: int64"
      ]
     },
     "metadata": {},
     "output_type": "display_data"
    }
   ],
   "source": [
    "display(data['Geography'].unique())\n",
    "display(data['Gender'].unique())\n",
    "display(data['Tenure'].value_counts())"
   ]
  },
  {
   "cell_type": "markdown",
   "metadata": {},
   "source": [
    "В таблице 10000 строк, 14 столбцов, дубликатов нет,\n",
    "\n",
    "Переменные признаки:\n",
    "- RowNumber — индекс строки в данных (не влияющий признак, мы его уберем)\n",
    "- CustomerId — уникальный идентификатор клиента (не влияющий признак, мы его уберем)\n",
    "- Surname — фамилия (не влияющий признак, мы его уберем)\n",
    "- CreditScore — кредитный рейтинг\n",
    "- Geography — страна проживания(преобразуем признак техникой OHE)\n",
    "- Gender — пол (преобразуем признак техникой OHE)\n",
    "- Age — возраст\n",
    "- Tenure — сколько лет человек является клиентом банка (столбец содержит пропуски, заменим на 0, тк предположительно, данные отсутствуют из-за короткого срока пребывания в клиентах банка)\n",
    "- Balance — баланс на счёте\n",
    "- NumOfProducts — количество продуктов банка, используемых клиентом\n",
    "- HasCrCard — наличие кредитной карты\n",
    "- IsActiveMember — активность клиента\n",
    "- EstimatedSalary — предполагаемая зарплата\n",
    "\n",
    "Целевой признак:\n",
    "- Exited — факт ухода клиента(1 - ушел, 0 остался, это категориальный признак, значит решаем задачу классификационными методами)"
   ]
  },
  {
   "cell_type": "code",
   "execution_count": 4,
   "metadata": {},
   "outputs": [],
   "source": [
    "data['Tenure'] = data['Tenure'].fillna(0)"
   ]
  },
  {
   "cell_type": "code",
   "execution_count": 5,
   "metadata": {},
   "outputs": [],
   "source": [
    "drop_col = ['RowNumber','CustomerId', 'Surname']\n",
    "df = data.drop(drop_col, axis=1)\n"
   ]
  },
  {
   "cell_type": "code",
   "execution_count": 6,
   "metadata": {},
   "outputs": [
    {
     "name": "stdout",
     "output_type": "stream",
     "text": [
      "<class 'pandas.core.frame.DataFrame'>\n",
      "RangeIndex: 10000 entries, 0 to 9999\n",
      "Data columns (total 12 columns):\n",
      "CreditScore          10000 non-null int64\n",
      "Age                  10000 non-null int64\n",
      "Tenure               10000 non-null float64\n",
      "Balance              10000 non-null float64\n",
      "NumOfProducts        10000 non-null int64\n",
      "HasCrCard            10000 non-null int64\n",
      "IsActiveMember       10000 non-null int64\n",
      "EstimatedSalary      10000 non-null float64\n",
      "Exited               10000 non-null int64\n",
      "Geography_Germany    10000 non-null uint8\n",
      "Geography_Spain      10000 non-null uint8\n",
      "Gender_Male          10000 non-null uint8\n",
      "dtypes: float64(3), int64(6), uint8(3)\n",
      "memory usage: 732.5 KB\n"
     ]
    }
   ],
   "source": [
    "df = pd.get_dummies(df, drop_first=True)\n",
    "df.info()"
   ]
  },
  {
   "cell_type": "markdown",
   "metadata": {},
   "source": [
    "После преобразования таблица имеет следующий вид:\n",
    "- 10000 строк\n",
    "- 12  столбцов(после ОНЕ: Geography разбился на 2 класса, и Gender на 1(где 1-Male, 2- Female))\n",
    "- нет пропусков\n",
    "- Переменные признаки имееют численый формат(дает возможность и использовать Линейную регресию, Дерево решений и Случайный лес)\n"
   ]
  },
  {
   "cell_type": "markdown",
   "metadata": {},
   "source": [
    "### Разбитие данных на выборки"
   ]
  },
  {
   "cell_type": "code",
   "execution_count": 7,
   "metadata": {},
   "outputs": [
    {
     "name": "stdout",
     "output_type": "stream",
     "text": [
      "Размер обучающей выборки: 7000 объектов\n",
      "Размер валидационной выборки: 1500 объекта\n",
      "Размер тестовой выборки: 1500 объекта\n"
     ]
    }
   ],
   "source": [
    "target = df['Exited']#целевой признак\n",
    "features = df.drop('Exited', axis=1)#переменные признаки\n",
    "\n",
    "df_train, df_valid = train_test_split(df, test_size=0.3, random_state=12345)\n",
    "features_train, features_valid, target_train, target_valid = train_test_split(features, target, test_size=0.3, random_state=12345)\n",
    "df_valid, df_test = train_test_split(df_valid,test_size = 0.5, random_state=12345)\n",
    "features_valid, features_test, target_valid, target_test = train_test_split(features_valid, target_valid,test_size = 0.5, random_state=12345)\n",
    "print('Размер обучающей выборки:', df_train.shape[0],'объектов')\n",
    "print('Размер валидационной выборки:', df_valid.shape[0],'объекта')\n",
    "print('Размер тестовой выборки:',df_test.shape[0],'объекта')"
   ]
  },
  {
   "cell_type": "markdown",
   "metadata": {},
   "source": [
    "### Маштабирование численных признаков"
   ]
  },
  {
   "cell_type": "code",
   "execution_count": 8,
   "metadata": {
    "scrolled": false
   },
   "outputs": [
    {
     "data": {
      "text/html": [
       "<div>\n",
       "<style scoped>\n",
       "    .dataframe tbody tr th:only-of-type {\n",
       "        vertical-align: middle;\n",
       "    }\n",
       "\n",
       "    .dataframe tbody tr th {\n",
       "        vertical-align: top;\n",
       "    }\n",
       "\n",
       "    .dataframe thead th {\n",
       "        text-align: right;\n",
       "    }\n",
       "</style>\n",
       "<table border=\"1\" class=\"dataframe\">\n",
       "  <thead>\n",
       "    <tr style=\"text-align: right;\">\n",
       "      <th></th>\n",
       "      <th>CreditScore</th>\n",
       "      <th>Age</th>\n",
       "      <th>Tenure</th>\n",
       "      <th>Balance</th>\n",
       "      <th>NumOfProducts</th>\n",
       "      <th>HasCrCard</th>\n",
       "      <th>IsActiveMember</th>\n",
       "      <th>EstimatedSalary</th>\n",
       "      <th>Geography_Germany</th>\n",
       "      <th>Geography_Spain</th>\n",
       "      <th>Gender_Male</th>\n",
       "    </tr>\n",
       "  </thead>\n",
       "  <tbody>\n",
       "    <tr>\n",
       "      <td>9716</td>\n",
       "      <td>1.658077</td>\n",
       "      <td>0.012853</td>\n",
       "      <td>0.140188</td>\n",
       "      <td>0.635477</td>\n",
       "      <td>2.527132</td>\n",
       "      <td>1</td>\n",
       "      <td>1</td>\n",
       "      <td>1.480907</td>\n",
       "      <td>1</td>\n",
       "      <td>0</td>\n",
       "      <td>1</td>\n",
       "    </tr>\n",
       "    <tr>\n",
       "      <td>224</td>\n",
       "      <td>0.198643</td>\n",
       "      <td>0.584111</td>\n",
       "      <td>0.461825</td>\n",
       "      <td>0.375870</td>\n",
       "      <td>-0.895510</td>\n",
       "      <td>1</td>\n",
       "      <td>1</td>\n",
       "      <td>0.153167</td>\n",
       "      <td>1</td>\n",
       "      <td>0</td>\n",
       "      <td>1</td>\n",
       "    </tr>\n",
       "    <tr>\n",
       "      <td>589</td>\n",
       "      <td>-1.374648</td>\n",
       "      <td>0.774530</td>\n",
       "      <td>0.461825</td>\n",
       "      <td>1.302947</td>\n",
       "      <td>0.815811</td>\n",
       "      <td>0</td>\n",
       "      <td>0</td>\n",
       "      <td>0.817773</td>\n",
       "      <td>0</td>\n",
       "      <td>1</td>\n",
       "      <td>0</td>\n",
       "    </tr>\n",
       "    <tr>\n",
       "      <td>7507</td>\n",
       "      <td>-0.784664</td>\n",
       "      <td>0.488901</td>\n",
       "      <td>1.426737</td>\n",
       "      <td>0.696496</td>\n",
       "      <td>-0.895510</td>\n",
       "      <td>1</td>\n",
       "      <td>0</td>\n",
       "      <td>0.329403</td>\n",
       "      <td>1</td>\n",
       "      <td>0</td>\n",
       "      <td>1</td>\n",
       "    </tr>\n",
       "    <tr>\n",
       "      <td>1457</td>\n",
       "      <td>2.051400</td>\n",
       "      <td>2.583513</td>\n",
       "      <td>-0.181449</td>\n",
       "      <td>-1.222967</td>\n",
       "      <td>0.815811</td>\n",
       "      <td>0</td>\n",
       "      <td>1</td>\n",
       "      <td>-0.617269</td>\n",
       "      <td>0</td>\n",
       "      <td>0</td>\n",
       "      <td>1</td>\n",
       "    </tr>\n",
       "  </tbody>\n",
       "</table>\n",
       "</div>"
      ],
      "text/plain": [
       "      CreditScore       Age    Tenure   Balance  NumOfProducts  HasCrCard  \\\n",
       "9716     1.658077  0.012853  0.140188  0.635477       2.527132          1   \n",
       "224      0.198643  0.584111  0.461825  0.375870      -0.895510          1   \n",
       "589     -1.374648  0.774530  0.461825  1.302947       0.815811          0   \n",
       "7507    -0.784664  0.488901  1.426737  0.696496      -0.895510          1   \n",
       "1457     2.051400  2.583513 -0.181449 -1.222967       0.815811          0   \n",
       "\n",
       "      IsActiveMember  EstimatedSalary  Geography_Germany  Geography_Spain  \\\n",
       "9716               1         1.480907                  1                0   \n",
       "224                1         0.153167                  1                0   \n",
       "589                0         0.817773                  0                1   \n",
       "7507               0         0.329403                  1                0   \n",
       "1457               1        -0.617269                  0                0   \n",
       "\n",
       "      Gender_Male  \n",
       "9716            1  \n",
       "224             1  \n",
       "589             0  \n",
       "7507            1  \n",
       "1457            1  "
      ]
     },
     "metadata": {},
     "output_type": "display_data"
    },
    {
     "data": {
      "text/html": [
       "<div>\n",
       "<style scoped>\n",
       "    .dataframe tbody tr th:only-of-type {\n",
       "        vertical-align: middle;\n",
       "    }\n",
       "\n",
       "    .dataframe tbody tr th {\n",
       "        vertical-align: top;\n",
       "    }\n",
       "\n",
       "    .dataframe thead th {\n",
       "        text-align: right;\n",
       "    }\n",
       "</style>\n",
       "<table border=\"1\" class=\"dataframe\">\n",
       "  <thead>\n",
       "    <tr style=\"text-align: right;\">\n",
       "      <th></th>\n",
       "      <th>CreditScore</th>\n",
       "      <th>Age</th>\n",
       "      <th>Tenure</th>\n",
       "      <th>Balance</th>\n",
       "      <th>NumOfProducts</th>\n",
       "      <th>HasCrCard</th>\n",
       "      <th>IsActiveMember</th>\n",
       "      <th>EstimatedSalary</th>\n",
       "      <th>Geography_Germany</th>\n",
       "      <th>Geography_Spain</th>\n",
       "      <th>Gender_Male</th>\n",
       "    </tr>\n",
       "  </thead>\n",
       "  <tbody>\n",
       "    <tr>\n",
       "      <td>9116</td>\n",
       "      <td>-0.929572</td>\n",
       "      <td>2.202675</td>\n",
       "      <td>-0.503087</td>\n",
       "      <td>-1.222967</td>\n",
       "      <td>0.815811</td>\n",
       "      <td>1</td>\n",
       "      <td>0</td>\n",
       "      <td>0.103218</td>\n",
       "      <td>0</td>\n",
       "      <td>0</td>\n",
       "      <td>1</td>\n",
       "    </tr>\n",
       "    <tr>\n",
       "      <td>9733</td>\n",
       "      <td>0.840380</td>\n",
       "      <td>2.393094</td>\n",
       "      <td>-0.503087</td>\n",
       "      <td>-1.222967</td>\n",
       "      <td>0.815811</td>\n",
       "      <td>1</td>\n",
       "      <td>1</td>\n",
       "      <td>-0.428269</td>\n",
       "      <td>0</td>\n",
       "      <td>0</td>\n",
       "      <td>1</td>\n",
       "    </tr>\n",
       "    <tr>\n",
       "      <td>6662</td>\n",
       "      <td>0.136539</td>\n",
       "      <td>-0.272776</td>\n",
       "      <td>-1.146361</td>\n",
       "      <td>-1.222967</td>\n",
       "      <td>0.815811</td>\n",
       "      <td>0</td>\n",
       "      <td>1</td>\n",
       "      <td>0.371781</td>\n",
       "      <td>0</td>\n",
       "      <td>0</td>\n",
       "      <td>1</td>\n",
       "    </tr>\n",
       "    <tr>\n",
       "      <td>7680</td>\n",
       "      <td>1.616675</td>\n",
       "      <td>-1.320082</td>\n",
       "      <td>-1.467998</td>\n",
       "      <td>-1.222967</td>\n",
       "      <td>0.815811</td>\n",
       "      <td>0</td>\n",
       "      <td>1</td>\n",
       "      <td>-1.329713</td>\n",
       "      <td>0</td>\n",
       "      <td>1</td>\n",
       "      <td>1</td>\n",
       "    </tr>\n",
       "    <tr>\n",
       "      <td>7515</td>\n",
       "      <td>-0.298186</td>\n",
       "      <td>-0.367985</td>\n",
       "      <td>-1.467998</td>\n",
       "      <td>0.873567</td>\n",
       "      <td>-0.895510</td>\n",
       "      <td>1</td>\n",
       "      <td>1</td>\n",
       "      <td>-0.902280</td>\n",
       "      <td>0</td>\n",
       "      <td>0</td>\n",
       "      <td>0</td>\n",
       "    </tr>\n",
       "  </tbody>\n",
       "</table>\n",
       "</div>"
      ],
      "text/plain": [
       "      CreditScore       Age    Tenure   Balance  NumOfProducts  HasCrCard  \\\n",
       "9116    -0.929572  2.202675 -0.503087 -1.222967       0.815811          1   \n",
       "9733     0.840380  2.393094 -0.503087 -1.222967       0.815811          1   \n",
       "6662     0.136539 -0.272776 -1.146361 -1.222967       0.815811          0   \n",
       "7680     1.616675 -1.320082 -1.467998 -1.222967       0.815811          0   \n",
       "7515    -0.298186 -0.367985 -1.467998  0.873567      -0.895510          1   \n",
       "\n",
       "      IsActiveMember  EstimatedSalary  Geography_Germany  Geography_Spain  \\\n",
       "9116               0         0.103218                  0                0   \n",
       "9733               1        -0.428269                  0                0   \n",
       "6662               1         0.371781                  0                0   \n",
       "7680               1        -1.329713                  0                1   \n",
       "7515               1        -0.902280                  0                0   \n",
       "\n",
       "      Gender_Male  \n",
       "9116            1  \n",
       "9733            1  \n",
       "6662            1  \n",
       "7680            1  \n",
       "7515            0  "
      ]
     },
     "metadata": {},
     "output_type": "display_data"
    },
    {
     "data": {
      "text/html": [
       "<div>\n",
       "<style scoped>\n",
       "    .dataframe tbody tr th:only-of-type {\n",
       "        vertical-align: middle;\n",
       "    }\n",
       "\n",
       "    .dataframe tbody tr th {\n",
       "        vertical-align: top;\n",
       "    }\n",
       "\n",
       "    .dataframe thead th {\n",
       "        text-align: right;\n",
       "    }\n",
       "</style>\n",
       "<table border=\"1\" class=\"dataframe\">\n",
       "  <thead>\n",
       "    <tr style=\"text-align: right;\">\n",
       "      <th></th>\n",
       "      <th>CreditScore</th>\n",
       "      <th>Age</th>\n",
       "      <th>Tenure</th>\n",
       "      <th>Balance</th>\n",
       "      <th>NumOfProducts</th>\n",
       "      <th>HasCrCard</th>\n",
       "      <th>IsActiveMember</th>\n",
       "      <th>EstimatedSalary</th>\n",
       "      <th>Geography_Germany</th>\n",
       "      <th>Geography_Spain</th>\n",
       "      <th>Gender_Male</th>\n",
       "    </tr>\n",
       "  </thead>\n",
       "  <tbody>\n",
       "    <tr>\n",
       "      <td>8606</td>\n",
       "      <td>1.606324</td>\n",
       "      <td>0.298482</td>\n",
       "      <td>0.140188</td>\n",
       "      <td>-1.222967</td>\n",
       "      <td>0.815811</td>\n",
       "      <td>1</td>\n",
       "      <td>1</td>\n",
       "      <td>-0.434702</td>\n",
       "      <td>0</td>\n",
       "      <td>1</td>\n",
       "      <td>1</td>\n",
       "    </tr>\n",
       "    <tr>\n",
       "      <td>8794</td>\n",
       "      <td>0.560914</td>\n",
       "      <td>-0.939243</td>\n",
       "      <td>-1.146361</td>\n",
       "      <td>2.141100</td>\n",
       "      <td>-0.895510</td>\n",
       "      <td>1</td>\n",
       "      <td>1</td>\n",
       "      <td>0.575321</td>\n",
       "      <td>0</td>\n",
       "      <td>1</td>\n",
       "      <td>0</td>\n",
       "    </tr>\n",
       "    <tr>\n",
       "      <td>2210</td>\n",
       "      <td>0.219344</td>\n",
       "      <td>-0.463195</td>\n",
       "      <td>-1.146361</td>\n",
       "      <td>0.818415</td>\n",
       "      <td>2.527132</td>\n",
       "      <td>0</td>\n",
       "      <td>1</td>\n",
       "      <td>-0.403515</td>\n",
       "      <td>1</td>\n",
       "      <td>0</td>\n",
       "      <td>0</td>\n",
       "    </tr>\n",
       "    <tr>\n",
       "      <td>5237</td>\n",
       "      <td>-1.012377</td>\n",
       "      <td>-1.224872</td>\n",
       "      <td>1.105100</td>\n",
       "      <td>1.171886</td>\n",
       "      <td>-0.895510</td>\n",
       "      <td>1</td>\n",
       "      <td>1</td>\n",
       "      <td>1.348819</td>\n",
       "      <td>0</td>\n",
       "      <td>1</td>\n",
       "      <td>1</td>\n",
       "    </tr>\n",
       "    <tr>\n",
       "      <td>5021</td>\n",
       "      <td>-0.142927</td>\n",
       "      <td>-0.939243</td>\n",
       "      <td>1.426737</td>\n",
       "      <td>0.437751</td>\n",
       "      <td>-0.895510</td>\n",
       "      <td>1</td>\n",
       "      <td>1</td>\n",
       "      <td>-1.465451</td>\n",
       "      <td>0</td>\n",
       "      <td>0</td>\n",
       "      <td>0</td>\n",
       "    </tr>\n",
       "  </tbody>\n",
       "</table>\n",
       "</div>"
      ],
      "text/plain": [
       "      CreditScore       Age    Tenure   Balance  NumOfProducts  HasCrCard  \\\n",
       "8606     1.606324  0.298482  0.140188 -1.222967       0.815811          1   \n",
       "8794     0.560914 -0.939243 -1.146361  2.141100      -0.895510          1   \n",
       "2210     0.219344 -0.463195 -1.146361  0.818415       2.527132          0   \n",
       "5237    -1.012377 -1.224872  1.105100  1.171886      -0.895510          1   \n",
       "5021    -0.142927 -0.939243  1.426737  0.437751      -0.895510          1   \n",
       "\n",
       "      IsActiveMember  EstimatedSalary  Geography_Germany  Geography_Spain  \\\n",
       "8606               1        -0.434702                  0                1   \n",
       "8794               1         0.575321                  0                1   \n",
       "2210               1        -0.403515                  1                0   \n",
       "5237               1         1.348819                  0                1   \n",
       "5021               1        -1.465451                  0                0   \n",
       "\n",
       "      Gender_Male  \n",
       "8606            1  \n",
       "8794            0  \n",
       "2210            0  \n",
       "5237            1  \n",
       "5021            0  "
      ]
     },
     "metadata": {},
     "output_type": "display_data"
    }
   ],
   "source": [
    "numeric = ['CreditScore', 'Age', 'Tenure', 'Balance', 'NumOfProducts', 'EstimatedSalary']\n",
    "\n",
    "scaler = StandardScaler()\n",
    "scaler.fit(features_train[numeric])\n",
    "features_train[numeric] = scaler.transform(features_train[numeric])\n",
    "features_valid[numeric] = scaler.transform(features_valid[numeric])\n",
    "features_test[numeric] = scaler.transform(features_test[numeric])\n",
    "\n",
    "display(features_train.head())\n",
    "display(features_valid.head())\n",
    "display(features_test.head())"
   ]
  },
  {
   "cell_type": "markdown",
   "metadata": {},
   "source": [
    "### Вывод \n",
    "\n",
    "Мы подготовили данные к исследованию задачи:\n",
    "- Избавились от пропусков\n",
    "- Кодировали данные в численный формат методом ОНЕ \n",
    "- Разбили данные на выборки(обучающию, валидационную и тестовую в отношении 3:1:1 или 7000:1500:1500 объектов\n",
    "- Маштобировали Численные признаки "
   ]
  },
  {
   "cell_type": "markdown",
   "metadata": {},
   "source": [
    "## Исследование задачи"
   ]
  },
  {
   "cell_type": "markdown",
   "metadata": {},
   "source": [
    "### Исследуем accuracy разных моделей"
   ]
  },
  {
   "cell_type": "code",
   "execution_count": 9,
   "metadata": {},
   "outputs": [],
   "source": [
    "def find_accuracy(features_train, target_train, features_valid, target_valid): #зададим функцию для подсчета точности всех моделей\n",
    "    model_dt = DecisionTreeClassifier(random_state=12345)\n",
    "    dt_score = model_dt.fit(features_train, target_train).score(features_valid, target_valid)\n",
    "    model_rf = RandomForestClassifier(random_state=12345, n_estimators = 60)\n",
    "    rf_score = model_rf.fit(features_train, target_train).score(features_valid, target_valid) \n",
    "    model_lr = LogisticRegression(solver = 'liblinear')\n",
    "    lr_score = model_lr.fit(features_train, target_train).score(features_valid, target_valid)\n",
    "    print(\"Accuracy Дерево решений\", dt_score)\n",
    "    print(\"Accuracy Случайный лес \", rf_score)\n",
    "    print(\"Accuracy Логистическая регрессия\", lr_score)"
   ]
  },
  {
   "cell_type": "code",
   "execution_count": 10,
   "metadata": {},
   "outputs": [
    {
     "name": "stdout",
     "output_type": "stream",
     "text": [
      "Accuracy Дерево решений 0.7933333333333333\n",
      "Accuracy Случайный лес  0.862\n",
      "Accuracy Логистическая регрессия 0.808\n"
     ]
    }
   ],
   "source": [
    "find_accuracy(features_train, target_train, features_valid, target_valid)"
   ]
  },
  {
   "cell_type": "markdown",
   "metadata": {},
   "source": [
    "### Проверка баланса классов"
   ]
  },
  {
   "cell_type": "code",
   "execution_count": 11,
   "metadata": {},
   "outputs": [
    {
     "data": {
      "text/plain": [
       "0    0.798429\n",
       "1    0.201571\n",
       "Name: Exited, dtype: float64"
      ]
     },
     "metadata": {},
     "output_type": "display_data"
    },
    {
     "data": {
      "text/plain": [
       "<matplotlib.axes._subplots.AxesSubplot at 0x7f1a407afd90>"
      ]
     },
     "execution_count": 11,
     "metadata": {},
     "output_type": "execute_result"
    },
    {
     "data": {
      "image/png": "[encoded data removed]",
      "text/plain": [
       "<Figure size 144x144 with 1 Axes>"
      ]
     },
     "metadata": {
      "needs_background": "light"
     },
     "output_type": "display_data"
    }
   ],
   "source": [
    "display(target_train.value_counts(normalize=True))    # Баланс классов обучающей выборки\n",
    "target_train.value_counts(normalize=True).plot(kind='bar', figsize=(2,2))"
   ]
  },
  {
   "cell_type": "code",
   "execution_count": 12,
   "metadata": {},
   "outputs": [
    {
     "data": {
      "text/plain": [
       "0    0.795333\n",
       "1    0.204667\n",
       "Name: Exited, dtype: float64"
      ]
     },
     "metadata": {},
     "output_type": "display_data"
    },
    {
     "data": {
      "text/plain": [
       "<matplotlib.axes._subplots.AxesSubplot at 0x7f1a3ea65c90>"
      ]
     },
     "execution_count": 12,
     "metadata": {},
     "output_type": "execute_result"
    },
    {
     "data": {
      "image/png": "[encoded data removed]",
      "text/plain": [
       "<Figure size 144x144 with 1 Axes>"
      ]
     },
     "metadata": {
      "needs_background": "light"
     },
     "output_type": "display_data"
    }
   ],
   "source": [
    "display(target_valid.value_counts(normalize=True)) # Баланс классов валидационной выборки\n",
    "target_valid.value_counts(normalize=True).plot(kind='bar', figsize=(2,2))"
   ]
  },
  {
   "cell_type": "markdown",
   "metadata": {},
   "source": [
    "Явный дисбаланс в отрицательные ответы в отношении 80% к 20%"
   ]
  },
  {
   "cell_type": "markdown",
   "metadata": {},
   "source": [
    "### Проверка адекватности моделей"
   ]
  },
  {
   "cell_type": "code",
   "execution_count": 13,
   "metadata": {},
   "outputs": [
    {
     "data": {
      "text/plain": [
       "0.7953333333333333"
      ]
     },
     "metadata": {},
     "output_type": "display_data"
    }
   ],
   "source": [
    "target_pred_constant = pd.Series(0, index=target_valid.index) # зададим константную модель с ответом 0\n",
    "display(accuracy_score(target_valid, target_pred_constant))\n"
   ]
  },
  {
   "cell_type": "markdown",
   "metadata": {},
   "source": [
    " Accuracy константой модели равна 0.795 "
   ]
  },
  {
   "cell_type": "markdown",
   "metadata": {},
   "source": [
    "Проверим частоту классов в предсказаниях на каждой модели"
   ]
  },
  {
   "cell_type": "code",
   "execution_count": 14,
   "metadata": {},
   "outputs": [],
   "source": [
    "def find_predict(features_train, target_train, features_valid, target_valid):\n",
    "    model_dt = DecisionTreeClassifier(random_state=12345)\n",
    "    model_dt.fit(features_train, target_train)\n",
    "    dt_predict = pd.Series(model_dt.predict(features_valid)).value_counts(normalize=True)\n",
    "    model_rf = RandomForestClassifier(random_state=12345, n_estimators = 60)\n",
    "    model_rf.fit(features_train, target_train)\n",
    "    rf_predict = pd.Series(model_rf.predict(features_valid)).value_counts(normalize=True)\n",
    "    model_lr = LogisticRegression(solver = 'liblinear')\n",
    "    model_lr.fit(features_train, target_train)\n",
    "    lr_predict = pd.Series(model_lr.predict(features_valid)).value_counts(normalize=True)\n",
    "    print(\"Частота классов Дерево решений\", dt_predict)\n",
    "    print(\"Частота классов Случайный лес \", rf_predict)\n",
    "    print(\"Частота классов Логистическая регрессия\", lr_predict)"
   ]
  },
  {
   "cell_type": "code",
   "execution_count": 15,
   "metadata": {},
   "outputs": [
    {
     "name": "stdout",
     "output_type": "stream",
     "text": [
      "Частота классов Дерево решений 0    0.792667\n",
      "1    0.207333\n",
      "dtype: float64\n",
      "Частота классов Случайный лес  0    0.877333\n",
      "1    0.122667\n",
      "dtype: float64\n",
      "Частота классов Логистическая регрессия 0    0.920667\n",
      "1    0.079333\n",
      "dtype: float64\n"
     ]
    }
   ],
   "source": [
    "find_predict(features_train, target_train, features_valid, target_valid)"
   ]
  },
  {
   "cell_type": "markdown",
   "metadata": {},
   "source": [
    "Итого мы имеем:\n",
    "- дисбаланс классов 4:1\n",
    "- неадекватность модели Дерево решений\n",
    "- В Логистической регрессии почти 100% предсказание отрицательного класса"
   ]
  },
  {
   "cell_type": "markdown",
   "metadata": {},
   "source": [
    "### Матрица ошибок"
   ]
  },
  {
   "cell_type": "code",
   "execution_count": 16,
   "metadata": {},
   "outputs": [],
   "source": [
    "def find_matrix(features_train, target_train, features_valid, target_valid):\n",
    "    model_dt = DecisionTreeClassifier(random_state=12345)\n",
    "    model_dt.fit(features_train, target_train)\n",
    "    dt_predict = model_dt.predict(features_valid)\n",
    "    matrix_dt = confusion_matrix(target_valid, dt_predict)\n",
    "    \n",
    "    model_rf = RandomForestClassifier(random_state=12345, n_estimators = 60)\n",
    "    model_rf.fit(features_train, target_train)\n",
    "    rf_predict = model_rf.predict(features_valid)\n",
    "    matrix_rf = confusion_matrix(target_valid, rf_predict)\n",
    "    \n",
    "    model_lr = LogisticRegression(solver = 'liblinear')\n",
    "    model_lr.fit(features_train, target_train)\n",
    "    lr_predict = model_lr.predict(features_valid)\n",
    "    matrix_lr = confusion_matrix(target_valid, lr_predict)\n",
    "    \n",
    "    display(\"Матрица ошибок Дерево решений\", matrix_dt)\n",
    "    display(\"Матрица ошибок Случайный лес\", matrix_rf)\n",
    "    display(\"Матрица ошибок Логистическая регрессия\", matrix_lr)"
   ]
  },
  {
   "cell_type": "code",
   "execution_count": 17,
   "metadata": {},
   "outputs": [
    {
     "data": {
      "text/plain": [
       "'Матрица ошибок Дерево решений'"
      ]
     },
     "metadata": {},
     "output_type": "display_data"
    },
    {
     "data": {
      "text/plain": [
       "array([[1036,  157],\n",
       "       [ 153,  154]])"
      ]
     },
     "metadata": {},
     "output_type": "display_data"
    },
    {
     "data": {
      "text/plain": [
       "'Матрица ошибок Случайный лес'"
      ]
     },
     "metadata": {},
     "output_type": "display_data"
    },
    {
     "data": {
      "text/plain": [
       "array([[1151,   42],\n",
       "       [ 165,  142]])"
      ]
     },
     "metadata": {},
     "output_type": "display_data"
    },
    {
     "data": {
      "text/plain": [
       "'Матрица ошибок Логистическая регрессия'"
      ]
     },
     "metadata": {},
     "output_type": "display_data"
    },
    {
     "data": {
      "text/plain": [
       "array([[1143,   50],\n",
       "       [ 238,   69]])"
      ]
     },
     "metadata": {},
     "output_type": "display_data"
    }
   ],
   "source": [
    "find_matrix(features_train, target_train, features_valid, target_valid)"
   ]
  },
  {
   "cell_type": "markdown",
   "metadata": {},
   "source": [
    "Во всех моделях наблюдается бОльшее количество истено ложных ответов(TN)"
   ]
  },
  {
   "cell_type": "markdown",
   "metadata": {},
   "source": [
    "### Проверка качества моделей"
   ]
  },
  {
   "cell_type": "markdown",
   "metadata": {},
   "source": [
    "####  Метрики recall, precision, f1_score, ROC-AUC"
   ]
  },
  {
   "cell_type": "code",
   "execution_count": 18,
   "metadata": {},
   "outputs": [],
   "source": [
    "def find_metrics(features_train, target_train, features_valid, target_valid):\n",
    "    model_dt = DecisionTreeClassifier(random_state=12345)\n",
    "    model_dt.fit(features_train, target_train)\n",
    "    dt_predict = model_dt.predict(features_valid)\n",
    "    rec_dt = recall_score(target_valid, dt_predict)\n",
    "    prec_dt = precision_score(target_valid, dt_predict)\n",
    "    f1_dt = f1_score(target_valid, dt_predict)\n",
    "    auc_roc_dt = roc_auc_score(target_valid, dt_predict)\n",
    "    \n",
    "    model_rf = RandomForestClassifier(random_state=12345, n_estimators = 60)\n",
    "    model_rf.fit(features_train, target_train)\n",
    "    rf_predict = model_rf.predict(features_valid)\n",
    "    rec_rf = recall_score(target_valid, rf_predict)\n",
    "    prec_rf = precision_score(target_valid, rf_predict)\n",
    "    f1_rf = f1_score(target_valid, rf_predict)\n",
    "    auc_roc_rf = roc_auc_score(target_valid, rf_predict)\n",
    "    \n",
    "    model_lr = LogisticRegression(solver = 'liblinear')\n",
    "    model_lr.fit(features_train, target_train)\n",
    "    lr_predict = model_lr.predict(features_valid)\n",
    "    rec_lr = recall_score(target_valid, lr_predict)\n",
    "    prec_lr = precision_score(target_valid, lr_predict)\n",
    "    f1_lr = f1_score(target_valid, lr_predict)\n",
    "    auc_roc_lr = roc_auc_score(target_valid, lr_predict)\n",
    "    \n",
    "    print(\"Дерево решений:  Полнота\", rec_dt, \"Точность\", prec_dt, \"F1-мера\", f1_dt, \"AUC-ROC\", auc_roc_dt)\n",
    "    print(\"Случайный лес:  Полнота\", rec_rf, \"Точность\", prec_rf, \"F1-мера\", f1_rf, \"AUC-ROC\", auc_roc_rf)\n",
    "    print(\"Логистическая регрессия:  Полнота\", rec_lr, \"Точность\", prec_lr, \"F1-мера\", f1_lr, \"AUC-ROC\", auc_roc_lr)\n",
    "    "
   ]
  },
  {
   "cell_type": "code",
   "execution_count": 19,
   "metadata": {},
   "outputs": [
    {
     "name": "stdout",
     "output_type": "stream",
     "text": [
      "Дерево решений:  Полнота 0.501628664495114 Точность 0.49517684887459806 F1-мера 0.49838187702265374 AUC-ROC 0.6850138293137766\n",
      "Случайный лес:  Полнота 0.46254071661237783 Точность 0.7717391304347826 F1-мера 0.5784114052953158 AUC-ROC 0.7136676759926935\n",
      "Логистическая регрессия:  Полнота 0.2247557003257329 Точность 0.5798319327731093 F1-мера 0.323943661971831 AUC-ROC 0.591422275980134\n"
     ]
    }
   ],
   "source": [
    "find_metrics(features_train, target_train, features_valid, target_valid)"
   ]
  },
  {
   "cell_type": "markdown",
   "metadata": {},
   "source": [
    "Низкие показатели метрик, говорят нам о низком качестве моделей, связанно с дисбалансом выборок, начнем борьбу за классовое равенство"
   ]
  },
  {
   "cell_type": "markdown",
   "metadata": {},
   "source": [
    "### Вывод"
   ]
  },
  {
   "cell_type": "markdown",
   "metadata": {},
   "source": [
    "Итоги исследования:\n",
    "- Модели для исследования Случайный лес, Дерево решений, Логистическая регрессия\n",
    "- Выявили дисбаланс классов 4 к 1(негативные к положительным)\n",
    "- Во всех моделях наблюдается бОльшее количество истено ложных ответов(TN)\n",
    "- Выявили неадекватность модели Дерево решений(Accuracy константой модели равна 0.795, у модели Дерево решений 0.793)\n",
    "- Самые высокие показатели метрик у Случайного леса\n",
    "- Выявили необходимость в борьбе с дисбалансом для улучшение качества моделей"
   ]
  },
  {
   "cell_type": "markdown",
   "metadata": {},
   "source": [
    "## Борьба с дисбалансом"
   ]
  },
  {
   "cell_type": "markdown",
   "metadata": {},
   "source": [
    "### Увеличение выборок"
   ]
  },
  {
   "cell_type": "code",
   "execution_count": 20,
   "metadata": {},
   "outputs": [],
   "source": [
    "def upsample(features, target, repeat): #функция увеличения выборки\n",
    "    features_zeros = features[target == 0]\n",
    "    features_ones = features[target == 1]\n",
    "    target_zeros = target[target == 0]\n",
    "    target_ones = target[target == 1]\n",
    "\n",
    "    features_upsampled = pd.concat([features_zeros] + [features_ones] * repeat)\n",
    "    target_upsampled = pd.concat([target_zeros] + [target_ones] * repeat)\n",
    "    \n",
    "    features_upsampled, target_upsampled = shuffle(\n",
    "        features_upsampled, target_upsampled, random_state=12345)\n",
    "    \n",
    "    return features_upsampled, target_upsampled"
   ]
  },
  {
   "cell_type": "code",
   "execution_count": 21,
   "metadata": {},
   "outputs": [],
   "source": [
    "features_upsampled, target_upsampled = upsample(features_train, target_train, 4)"
   ]
  },
  {
   "cell_type": "code",
   "execution_count": 22,
   "metadata": {},
   "outputs": [
    {
     "data": {
      "text/plain": [
       "1    0.502448\n",
       "0    0.497552\n",
       "Name: Exited, dtype: float64"
      ]
     },
     "metadata": {},
     "output_type": "display_data"
    },
    {
     "data": {
      "text/plain": [
       "<matplotlib.axes._subplots.AxesSubplot at 0x7f1a3ea53650>"
      ]
     },
     "execution_count": 22,
     "metadata": {},
     "output_type": "execute_result"
    },
    {
     "data": {
      "image/png": "[encoded data removed]",
      "text/plain": [
       "<Figure size 144x144 with 1 Axes>"
      ]
     },
     "metadata": {
      "needs_background": "light"
     },
     "output_type": "display_data"
    }
   ],
   "source": [
    "display(target_upsampled.value_counts(normalize=True))    #Проверяем функцию\n",
    "target_upsampled.value_counts(normalize=True).plot(kind='bar', figsize=(2,2))"
   ]
  },
  {
   "cell_type": "markdown",
   "metadata": {},
   "source": [
    "### Уменьшение выборок"
   ]
  },
  {
   "cell_type": "code",
   "execution_count": 23,
   "metadata": {},
   "outputs": [],
   "source": [
    "def downsample(features, target, fraction):\n",
    "    features_zeros = features[target == 0]\n",
    "    features_ones = features[target == 1]\n",
    "    target_zeros = target[target == 0]\n",
    "    target_ones = target[target == 1]\n",
    "    features_downsampled = pd.concat(\n",
    "        [features_zeros.sample(frac=fraction, random_state=12345)] + [features_ones])\n",
    "    target_downsampled = pd.concat(\n",
    "        [target_zeros.sample(frac=fraction, random_state=12345)] + [target_ones])\n",
    "    \n",
    "    features_downsampled, target_downsampled = shuffle(\n",
    "        features_downsampled, target_downsampled, random_state=12345)\n",
    "    return features_downsampled, target_downsampled"
   ]
  },
  {
   "cell_type": "code",
   "execution_count": 24,
   "metadata": {},
   "outputs": [],
   "source": [
    "features_downsampled, target_downsampled = downsample(features_train, target_train, 0.25)"
   ]
  },
  {
   "cell_type": "code",
   "execution_count": 25,
   "metadata": {},
   "outputs": [
    {
     "data": {
      "text/plain": [
       "1    0.502493\n",
       "0    0.497507\n",
       "Name: Exited, dtype: float64"
      ]
     },
     "metadata": {},
     "output_type": "display_data"
    },
    {
     "data": {
      "text/plain": [
       "<matplotlib.axes._subplots.AxesSubplot at 0x7f1a3631f750>"
      ]
     },
     "execution_count": 25,
     "metadata": {},
     "output_type": "execute_result"
    },
    {
     "data": {
      "image/png": "[encoded data removed]",
      "text/plain": [
       "<Figure size 144x144 with 1 Axes>"
      ]
     },
     "metadata": {
      "needs_background": "light"
     },
     "output_type": "display_data"
    }
   ],
   "source": [
    "display(target_downsampled.value_counts(normalize=True))    #Проверяем функцию\n",
    "target_downsampled.value_counts(normalize=True).plot(kind='bar', figsize=(2,2))"
   ]
  },
  {
   "cell_type": "markdown",
   "metadata": {},
   "source": [
    "### Аccuracy разных моделей после сбалансирования"
   ]
  },
  {
   "cell_type": "markdown",
   "metadata": {},
   "source": [
    "#### На увеличенной выборке"
   ]
  },
  {
   "cell_type": "code",
   "execution_count": 26,
   "metadata": {},
   "outputs": [
    {
     "name": "stdout",
     "output_type": "stream",
     "text": [
      "Accuracy Дерево решений 0.798\n",
      "Accuracy Случайный лес  0.8526666666666667\n",
      "Accuracy Логистическая регрессия 0.7033333333333334\n"
     ]
    }
   ],
   "source": [
    "find_accuracy(features_upsampled, target_upsampled, features_valid, target_valid)"
   ]
  },
  {
   "cell_type": "markdown",
   "metadata": {},
   "source": [
    "#### На уменьшенной выборке"
   ]
  },
  {
   "cell_type": "code",
   "execution_count": 27,
   "metadata": {},
   "outputs": [
    {
     "name": "stdout",
     "output_type": "stream",
     "text": [
      "Accuracy Дерево решений 0.6946666666666667\n",
      "Accuracy Случайный лес  0.7713333333333333\n",
      "Accuracy Логистическая регрессия 0.704\n"
     ]
    }
   ],
   "source": [
    "find_accuracy(features_downsampled, target_downsampled, features_valid, target_valid)"
   ]
  },
  {
   "cell_type": "markdown",
   "metadata": {},
   "source": [
    "### Качество моделей после сбалансирования"
   ]
  },
  {
   "cell_type": "markdown",
   "metadata": {},
   "source": [
    "#### На увеличенной выборке"
   ]
  },
  {
   "cell_type": "code",
   "execution_count": 28,
   "metadata": {},
   "outputs": [
    {
     "name": "stdout",
     "output_type": "stream",
     "text": [
      "Дерево решений:  Полнота 0.4755700325732899 Точность 0.5069444444444444 F1-мера 0.49075630252100844 AUC-ROC 0.6782711856076843\n",
      "Случайный лес:  Полнота 0.5472312703583062 Точность 0.672 F1-мера 0.6032315978456015 AUC-ROC 0.7392484935194716\n",
      "Логистическая регрессия:  Полнота 0.7296416938110749 Точность 0.3822525597269625 F1-мера 0.5016797312430011 AUC-ROC 0.7131024898225533\n"
     ]
    }
   ],
   "source": [
    "find_metrics(features_upsampled, target_upsampled, features_valid, target_valid)"
   ]
  },
  {
   "cell_type": "markdown",
   "metadata": {},
   "source": [
    "#### На уменьшенной выборке\n"
   ]
  },
  {
   "cell_type": "code",
   "execution_count": 29,
   "metadata": {},
   "outputs": [
    {
     "name": "stdout",
     "output_type": "stream",
     "text": [
      "Дерево решений:  Полнота 0.7166123778501629 Точность 0.37225042301184436 F1-мера 0.48997772828507796 AUC-ROC 0.7028158284892054\n",
      "Случайный лес:  Полнота 0.742671009771987 Точность 0.4634146341463415 F1-мера 0.5707133917396746 AUC-ROC 0.7606900732011652\n",
      "Логистическая регрессия:  Полнота 0.7231270358306189 Точность 0.38209982788296043 F1-мера 0.5 AUC-ROC 0.7111024952832893\n"
     ]
    }
   ],
   "source": [
    "find_metrics(features_downsampled, target_downsampled, features_valid, target_valid)"
   ]
  },
  {
   "cell_type": "markdown",
   "metadata": {},
   "source": [
    "### Вывод"
   ]
  },
  {
   "cell_type": "markdown",
   "metadata": {},
   "source": [
    "- Качество моделей на увеличеной выборке выше чем на уменьшенной\n",
    "- Самое высокое качество показала модель Случайный лес, примем её за финальную модель"
   ]
  },
  {
   "cell_type": "markdown",
   "metadata": {},
   "source": [
    "## Улучшение модели "
   ]
  },
  {
   "cell_type": "code",
   "execution_count": null,
   "metadata": {},
   "outputs": [],
   "source": [
    "clf = RandomForestClassifier() #найдем лучшие параметры для случайного леса кроссвалидацией\n",
    "\n",
    "parametrs = { 'n_estimators': range (10, 101, 10),\n",
    "              'max_depth': range (1,13, 2)}\n",
    "\n",
    "grid = GridSearchCV(clf, parametrs, cv=5)\n",
    "grid.fit(features_upsampled, target_upsampled)\n",
    "\n",
    "grid.best_params_"
   ]
  },
  {
   "cell_type": "markdown",
   "metadata": {},
   "source": [
    "Лучшие параметры: \n",
    "- количество деревьев 90\n",
    "- максимальная глубина 11"
   ]
  },
  {
   "cell_type": "markdown",
   "metadata": {},
   "source": [
    "### Обучение и проверка на адекватность финальной модели"
   ]
  },
  {
   "cell_type": "code",
   "execution_count": 30,
   "metadata": {},
   "outputs": [
    {
     "name": "stdout",
     "output_type": "stream",
     "text": [
      "Accuracy финальной модели: 0.834\n",
      "Полнота финальной модели: 0.6775244299674267\n",
      "Точность финальной модели: 0.5810055865921788\n",
      "F1-мера финальной модели: 0.6255639097744361\n",
      "AUC-ROC финальной модели: 0.7758954924355156\n"
     ]
    }
   ],
   "source": [
    "model_fin = RandomForestClassifier(random_state=12345, n_estimators = 90, max_depth=11 )\n",
    "model_fin.fit(features_upsampled, target_upsampled)\n",
    "fin_predict = model_fin.predict(features_valid)\n",
    "accuracy_fin = model_fin.score(features_valid, target_valid)\n",
    "rec_fin = recall_score(target_valid, fin_predict)\n",
    "prec_fin = precision_score(target_valid, fin_predict)\n",
    "f1_fin = f1_score(target_valid, fin_predict)\n",
    "auc_roc_fin = roc_auc_score(target_valid, fin_predict)\n",
    "\n",
    "print(\"Accuracy финальной модели:\", accuracy_fin)\n",
    "print(\"Полнота финальной модели:\", rec_fin)\n",
    "print(\"Точность финальной модели:\", prec_fin)\n",
    "print(\"F1-мера финальной модели:\", f1_fin)\n",
    "print(\"AUC-ROC финальной модели:\", auc_roc_fin)"
   ]
  },
  {
   "cell_type": "code",
   "execution_count": 31,
   "metadata": {},
   "outputs": [
    {
     "data": {
      "image/png": "[encoded data removed]",
      "text/plain": [
       "<Figure size 432x288 with 1 Axes>"
      ]
     },
     "metadata": {
      "needs_background": "light"
     },
     "output_type": "display_data"
    }
   ],
   "source": [
    "fin_probabilities = model_fin.predict_proba(features_valid)[:, 1]\n",
    "\n",
    "fpr, tpr, thresholds = roc_curve(target_valid, fin_probabilities) \n",
    "\n",
    "plt.figure()\n",
    "plt.plot(fpr, tpr)\n",
    "plt.plot([0, 1], [0, 1], linestyle='--')\n",
    "plt.xlim([0.0, 1.0])\n",
    "plt.ylim([0.0, 1.0])\n",
    "plt.xlabel('False Positive Rate')\n",
    "plt.ylabel('True Positive Rate')\n",
    "plt.title('ROC-кривая')\n",
    "plt.show()"
   ]
  },
  {
   "cell_type": "code",
   "execution_count": 32,
   "metadata": {},
   "outputs": [
    {
     "name": "stdout",
     "output_type": "stream",
     "text": [
      "Accuracy  константой модели 0.7953333333333333\n",
      "AUC-ROC  константой модели 0.5\n"
     ]
    }
   ],
   "source": [
    "target_pred_constant = pd.Series(0, index=target_valid.index) # зададим константную модель с ответом 0\n",
    "print(\"Accuracy  константой модели\", accuracy_score(target_valid, target_pred_constant))\n",
    "print(\"AUC-ROC  константой модели\", roc_auc_score(target_valid, target_pred_constant))"
   ]
  },
  {
   "cell_type": "markdown",
   "metadata": {},
   "source": [
    "Модель прошла проверку на адекватность, показатели финальной модели выше чем у константной(с нулевыми ответами)"
   ]
  },
  {
   "cell_type": "markdown",
   "metadata": {},
   "source": [
    "## Тестирование модели\n"
   ]
  },
  {
   "cell_type": "code",
   "execution_count": 33,
   "metadata": {},
   "outputs": [
    {
     "name": "stdout",
     "output_type": "stream",
     "text": [
      "Accuracy тестовой модели: 0.8153333333333334\n",
      "Полнота тестовой модели: 0.6426332288401254\n",
      "Точность тестовой модели: 0.5570652173913043\n",
      "F1-мера тестовой модели: 0.5967976710334789\n",
      "AUC-ROC тестовой модели: 0.752307300279504\n"
     ]
    }
   ],
   "source": [
    "fin_predict_test = model_fin.predict(features_test)\n",
    "accuracy_fin_test = model_fin.score(features_test, target_test)\n",
    "rec_fin_test = recall_score(target_test, fin_predict_test)\n",
    "prec_fin_test = precision_score(target_test, fin_predict_test)\n",
    "f1_fin_test = f1_score(target_test, fin_predict_test)\n",
    "auc_roc_fin_test = roc_auc_score(target_test, fin_predict_test)\n",
    "\n",
    "print(\"Accuracy тестовой модели:\", accuracy_fin_test)\n",
    "print(\"Полнота тестовой модели:\", rec_fin_test)\n",
    "print(\"Точность тестовой модели:\", prec_fin_test)\n",
    "print(\"F1-мера тестовой модели:\", f1_fin_test)\n",
    "print(\"AUC-ROC тестовой модели:\", auc_roc_fin_test)"
   ]
  },
  {
   "cell_type": "code",
   "execution_count": 34,
   "metadata": {},
   "outputs": [
    {
     "data": {
      "image/png": "[encoded data removed]",
      "text/plain": [
       "<Figure size 432x288 with 1 Axes>"
      ]
     },
     "metadata": {
      "needs_background": "light"
     },
     "output_type": "display_data"
    }
   ],
   "source": [
    "test_probabilities = model_fin.predict_proba(features_test)[:, 1]\n",
    "\n",
    "fpr, tpr, thresholds = roc_curve(target_test, test_probabilities) \n",
    "\n",
    "plt.figure()\n",
    "plt.plot(fpr, tpr)\n",
    "plt.plot([0, 1], [0, 1], linestyle='--')\n",
    "plt.xlim([0.0, 1.0])\n",
    "plt.ylim([0.0, 1.0])\n",
    "plt.xlabel('False Positive Rate')\n",
    "plt.ylabel('True Positive Rate')\n",
    "plt.title('ROC-кривая')\n",
    "plt.show()"
   ]
  },
  {
   "cell_type": "markdown",
   "metadata": {},
   "source": [
    "Искомая F1-мера достигнута: \n",
    "- на финальной модели: 0.6255639097744361\n",
    "- на тестовой модели: 0.5967976710334789"
   ]
  },
  {
   "cell_type": "markdown",
   "metadata": {},
   "source": [
    "## Общий вывод \n",
    "\n",
    "\n"
   ]
  },
  {
   "cell_type": "markdown",
   "metadata": {},
   "source": [
    "На подготовительном этапе мы:\n",
    "\n",
    "- Избавились от пропусков\n",
    "- Кодировали данные в численный формат методом ОНЕ\n",
    "- Разбили данные на выборки(обучающию, валидационную и тестовую в отношении 3:1:1 или 7000:1500:1500 объектов\n",
    "- Маштобировали Численные признаки\n",
    "\n",
    "На исследовательском этапе:\n",
    "\n",
    "- выявили модели  для исследования: Случайный лес, Дерево решений, Логистическая регрессия\n",
    "- Выявили дисбаланс классов 4 к 1(негативные к положительным)\n",
    "- Выявили что во всех моделях наблюдается бОльшее количество истено ложных ответов(TN)\n",
    "- Выявили неадекватность модели Дерево решений(Accuracy константой модели равна 0.795, у модели Дерево решений 0.793)\n",
    "- Самые высокие показатели метрик до сбалансирования у Случайного леса: Полнота 0.46, Точность 0.77, F1-мера 0.58, AUC-ROC 0.71\n",
    "- Выявили необходимость в борьбе с дисбалансом для улучшение качества моделей\n",
    "\n",
    "На этапе балансировки выявили:\n",
    "- Качество моделей на увеличеной выборке выше чем на уменьшенной\n",
    "- Самое высокое качество показала модель Случайный лес: Полнота 0.54 Точность 0.672 F1-мера 0.6 AUC-ROC 0.74\n",
    "\n",
    "На тапе улучшения финальной модели:\n",
    "- Выявили лучшие гиперпараметры для Случайного леса \n",
    "  - количество деревьев 90\n",
    "  - максимальная глубина 11\n",
    "- Финальная модель прошла проверку на адекватность и показала следующие результаты\n",
    "  - Accuracy финальной модели: 0.834\n",
    "  - Полнота финальной модели: 0.6775244299674267\n",
    "  - Точность финальной модели: 0.5810055865921788\n",
    "  - F1-мера финальной модели: 0.6255639097744361\n",
    "  - AUC-ROC финальной модели: 0.7758954924355156\n",
    "  \n",
    "Тестовая модель прошла проверку на адекватность \n",
    "\n",
    "Искомая F1-мера(0.59) достигнута: \n",
    "- на финальной модели: 0.6255639097744361\n",
    "- на тестовой модели: 0.5967976710334789 \n",
    "  \n",
    "\n",
    "Данная модель поможет маркетологам спрогнозирвать уход клиента"
   ]
  }
 ],
 "metadata": {
  "kernelspec": {
   "display_name": "Python 3",
   "language": "python",
   "name": "python3"
  },
  "language_info": {
   "codemirror_mode": {
    "name": "ipython",
    "version": 3
   },
   "file_extension": ".py",
   "mimetype": "text/x-python",
   "name": "python",
   "nbconvert_exporter": "python",
   "pygments_lexer": "ipython3",
   "version": "3.8.8"
  },
  "toc": {
   "base_numbering": 1,
   "nav_menu": {},
   "number_sections": true,
   "sideBar": true,
   "skip_h1_title": true,
   "title_cell": "Содержание",
   "title_sidebar": "Contents",
   "toc_cell": true,
   "toc_position": {
    "height": "calc(100% - 180px)",
    "left": "10px",
    "top": "150px",
    "width": "165px"
   },
   "toc_section_display": true,
   "toc_window_display": true
  }
 },
 "nbformat": 4,
 "nbformat_minor": 2
}
