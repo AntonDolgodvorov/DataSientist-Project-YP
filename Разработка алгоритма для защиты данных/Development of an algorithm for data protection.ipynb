{
 "cells": [
  {
   "cell_type": "markdown",
   "metadata": {
    "toc": true
   },
   "source": [
    "<h1>Содержание<span class=\"tocSkip\"></span></h1>\n",
    "<div class=\"toc\"><ul class=\"toc-item\"><li><span><a href=\"#Загрузка-данных\" data-toc-modified-id=\"Загрузка-данных-1\"><span class=\"toc-item-num\">1&nbsp;&nbsp;</span>Загрузка данных</a></span><ul class=\"toc-item\"><li><span><a href=\"#Импорт-библитек-и-модулей\" data-toc-modified-id=\"Импорт-библитек-и-модулей-1.1\"><span class=\"toc-item-num\">1.1&nbsp;&nbsp;</span>Импорт библитек и модулей</a></span></li></ul></li><li><span><a href=\"#Умножение-матриц\" data-toc-modified-id=\"Умножение-матриц-2\"><span class=\"toc-item-num\">2&nbsp;&nbsp;</span>Умножение матриц</a></span></li><li><span><a href=\"#Алгоритм-преобразования\" data-toc-modified-id=\"Алгоритм-преобразования-3\"><span class=\"toc-item-num\">3&nbsp;&nbsp;</span>Алгоритм преобразования</a></span></li><li><span><a href=\"#Проверка-алгоритма\" data-toc-modified-id=\"Проверка-алгоритма-4\"><span class=\"toc-item-num\">4&nbsp;&nbsp;</span>Проверка алгоритма</a></span></li></ul></div>"
   ]
  },
  {
   "cell_type": "markdown",
   "metadata": {},
   "source": [
    "# Защита персональных данных клиентов"
   ]
  },
  {
   "cell_type": "markdown",
   "metadata": {},
   "source": [
    "Вам нужно защитить данные клиентов страховой компании «Хоть потоп». Разработайте такой метод преобразования данных, чтобы по ним было сложно восстановить персональную информацию. Обоснуйте корректность его работы.\n",
    "\n",
    "Нужно защитить данные, чтобы при преобразовании качество моделей машинного обучения не ухудшилось. Подбирать наилучшую модель не требуется."
   ]
  },
  {
   "cell_type": "markdown",
   "metadata": {},
   "source": [
    "## Загрузка данных"
   ]
  },
  {
   "cell_type": "markdown",
   "metadata": {},
   "source": [
    "### Импорт библитек и модулей "
   ]
  },
  {
   "cell_type": "code",
   "execution_count": 1,
   "metadata": {},
   "outputs": [],
   "source": [
    "import pandas as pd\n",
    "import numpy as np\n",
    "import seaborn as sns\n",
    "import re\n",
    "import math\n",
    "\n",
    "from scipy import stats as st\n",
    "import matplotlib.pyplot as plt\n",
    "from sklearn.model_selection import train_test_split\n",
    "from sklearn.ensemble import RandomForestRegressor\n",
    "from sklearn.preprocessing import StandardScaler\n",
    "from sklearn.linear_model import LinearRegression\n",
    "from sklearn.pipeline import  make_pipeline\n",
    "from sklearn.linear_model import LinearRegression\n",
    "from sklearn.model_selection import cross_val_score\n",
    "from sklearn.tree import DecisionTreeRegressor\n",
    "from sklearn.model_selection import cross_val_score\n",
    "from sklearn.model_selection import GridSearchCV\n",
    "from sklearn.linear_model import LogisticRegression\n",
    "from sklearn.dummy import DummyRegressor\n",
    "from sklearn.preprocessing import StandardScaler\n",
    "from sklearn.utils import shuffle\n",
    "from sklearn.metrics import make_scorer, mean_absolute_error, accuracy_score, r2_score, f1_score, recall_score, precision_score, roc_auc_score,roc_curve, confusion_matrix\n",
    "\n",
    "import warnings\n",
    "warnings.filterwarnings('ignore')\n",
    "from IPython.display import display"
   ]
  },
  {
   "cell_type": "code",
   "execution_count": 2,
   "metadata": {},
   "outputs": [
    {
     "name": "stdout",
     "output_type": "stream",
     "text": [
      "<class 'pandas.core.frame.DataFrame'>\n",
      "RangeIndex: 5000 entries, 0 to 4999\n",
      "Data columns (total 5 columns):\n",
      "Пол                  5000 non-null int64\n",
      "Возраст              5000 non-null float64\n",
      "Зарплата             5000 non-null float64\n",
      "Члены семьи          5000 non-null int64\n",
      "Страховые выплаты    5000 non-null int64\n",
      "dtypes: float64(2), int64(3)\n",
      "memory usage: 195.4 KB\n"
     ]
    },
    {
     "data": {
      "text/plain": [
       "None"
      ]
     },
     "metadata": {},
     "output_type": "display_data"
    },
    {
     "data": {
      "text/html": [
       "<div>\n",
       "<style scoped>\n",
       "    .dataframe tbody tr th:only-of-type {\n",
       "        vertical-align: middle;\n",
       "    }\n",
       "\n",
       "    .dataframe tbody tr th {\n",
       "        vertical-align: top;\n",
       "    }\n",
       "\n",
       "    .dataframe thead th {\n",
       "        text-align: right;\n",
       "    }\n",
       "</style>\n",
       "<table border=\"1\" class=\"dataframe\">\n",
       "  <thead>\n",
       "    <tr style=\"text-align: right;\">\n",
       "      <th></th>\n",
       "      <th>Пол</th>\n",
       "      <th>Возраст</th>\n",
       "      <th>Зарплата</th>\n",
       "      <th>Члены семьи</th>\n",
       "      <th>Страховые выплаты</th>\n",
       "    </tr>\n",
       "  </thead>\n",
       "  <tbody>\n",
       "    <tr>\n",
       "      <td>count</td>\n",
       "      <td>5000.000000</td>\n",
       "      <td>5000.000000</td>\n",
       "      <td>5000.000000</td>\n",
       "      <td>5000.000000</td>\n",
       "      <td>5000.000000</td>\n",
       "    </tr>\n",
       "    <tr>\n",
       "      <td>mean</td>\n",
       "      <td>0.499000</td>\n",
       "      <td>30.952800</td>\n",
       "      <td>39916.360000</td>\n",
       "      <td>1.194200</td>\n",
       "      <td>0.148000</td>\n",
       "    </tr>\n",
       "    <tr>\n",
       "      <td>std</td>\n",
       "      <td>0.500049</td>\n",
       "      <td>8.440807</td>\n",
       "      <td>9900.083569</td>\n",
       "      <td>1.091387</td>\n",
       "      <td>0.463183</td>\n",
       "    </tr>\n",
       "    <tr>\n",
       "      <td>min</td>\n",
       "      <td>0.000000</td>\n",
       "      <td>18.000000</td>\n",
       "      <td>5300.000000</td>\n",
       "      <td>0.000000</td>\n",
       "      <td>0.000000</td>\n",
       "    </tr>\n",
       "    <tr>\n",
       "      <td>25%</td>\n",
       "      <td>0.000000</td>\n",
       "      <td>24.000000</td>\n",
       "      <td>33300.000000</td>\n",
       "      <td>0.000000</td>\n",
       "      <td>0.000000</td>\n",
       "    </tr>\n",
       "    <tr>\n",
       "      <td>50%</td>\n",
       "      <td>0.000000</td>\n",
       "      <td>30.000000</td>\n",
       "      <td>40200.000000</td>\n",
       "      <td>1.000000</td>\n",
       "      <td>0.000000</td>\n",
       "    </tr>\n",
       "    <tr>\n",
       "      <td>75%</td>\n",
       "      <td>1.000000</td>\n",
       "      <td>37.000000</td>\n",
       "      <td>46600.000000</td>\n",
       "      <td>2.000000</td>\n",
       "      <td>0.000000</td>\n",
       "    </tr>\n",
       "    <tr>\n",
       "      <td>max</td>\n",
       "      <td>1.000000</td>\n",
       "      <td>65.000000</td>\n",
       "      <td>79000.000000</td>\n",
       "      <td>6.000000</td>\n",
       "      <td>5.000000</td>\n",
       "    </tr>\n",
       "  </tbody>\n",
       "</table>\n",
       "</div>"
      ],
      "text/plain": [
       "               Пол      Возраст      Зарплата  Члены семьи  Страховые выплаты\n",
       "count  5000.000000  5000.000000   5000.000000  5000.000000        5000.000000\n",
       "mean      0.499000    30.952800  39916.360000     1.194200           0.148000\n",
       "std       0.500049     8.440807   9900.083569     1.091387           0.463183\n",
       "min       0.000000    18.000000   5300.000000     0.000000           0.000000\n",
       "25%       0.000000    24.000000  33300.000000     0.000000           0.000000\n",
       "50%       0.000000    30.000000  40200.000000     1.000000           0.000000\n",
       "75%       1.000000    37.000000  46600.000000     2.000000           0.000000\n",
       "max       1.000000    65.000000  79000.000000     6.000000           5.000000"
      ]
     },
     "metadata": {},
     "output_type": "display_data"
    },
    {
     "data": {
      "text/html": [
       "<div>\n",
       "<style scoped>\n",
       "    .dataframe tbody tr th:only-of-type {\n",
       "        vertical-align: middle;\n",
       "    }\n",
       "\n",
       "    .dataframe tbody tr th {\n",
       "        vertical-align: top;\n",
       "    }\n",
       "\n",
       "    .dataframe thead th {\n",
       "        text-align: right;\n",
       "    }\n",
       "</style>\n",
       "<table border=\"1\" class=\"dataframe\">\n",
       "  <thead>\n",
       "    <tr style=\"text-align: right;\">\n",
       "      <th></th>\n",
       "      <th>Пол</th>\n",
       "      <th>Возраст</th>\n",
       "      <th>Зарплата</th>\n",
       "      <th>Члены семьи</th>\n",
       "      <th>Страховые выплаты</th>\n",
       "    </tr>\n",
       "  </thead>\n",
       "  <tbody>\n",
       "    <tr>\n",
       "      <td>0</td>\n",
       "      <td>1</td>\n",
       "      <td>41.0</td>\n",
       "      <td>49600.0</td>\n",
       "      <td>1</td>\n",
       "      <td>0</td>\n",
       "    </tr>\n",
       "    <tr>\n",
       "      <td>1</td>\n",
       "      <td>0</td>\n",
       "      <td>46.0</td>\n",
       "      <td>38000.0</td>\n",
       "      <td>1</td>\n",
       "      <td>1</td>\n",
       "    </tr>\n",
       "    <tr>\n",
       "      <td>2</td>\n",
       "      <td>0</td>\n",
       "      <td>29.0</td>\n",
       "      <td>21000.0</td>\n",
       "      <td>0</td>\n",
       "      <td>0</td>\n",
       "    </tr>\n",
       "    <tr>\n",
       "      <td>3</td>\n",
       "      <td>0</td>\n",
       "      <td>21.0</td>\n",
       "      <td>41700.0</td>\n",
       "      <td>2</td>\n",
       "      <td>0</td>\n",
       "    </tr>\n",
       "    <tr>\n",
       "      <td>4</td>\n",
       "      <td>1</td>\n",
       "      <td>28.0</td>\n",
       "      <td>26100.0</td>\n",
       "      <td>0</td>\n",
       "      <td>0</td>\n",
       "    </tr>\n",
       "    <tr>\n",
       "      <td>5</td>\n",
       "      <td>1</td>\n",
       "      <td>43.0</td>\n",
       "      <td>41000.0</td>\n",
       "      <td>2</td>\n",
       "      <td>1</td>\n",
       "    </tr>\n",
       "    <tr>\n",
       "      <td>6</td>\n",
       "      <td>1</td>\n",
       "      <td>39.0</td>\n",
       "      <td>39700.0</td>\n",
       "      <td>2</td>\n",
       "      <td>0</td>\n",
       "    </tr>\n",
       "    <tr>\n",
       "      <td>7</td>\n",
       "      <td>1</td>\n",
       "      <td>25.0</td>\n",
       "      <td>38600.0</td>\n",
       "      <td>4</td>\n",
       "      <td>0</td>\n",
       "    </tr>\n",
       "    <tr>\n",
       "      <td>8</td>\n",
       "      <td>1</td>\n",
       "      <td>36.0</td>\n",
       "      <td>49700.0</td>\n",
       "      <td>1</td>\n",
       "      <td>0</td>\n",
       "    </tr>\n",
       "    <tr>\n",
       "      <td>9</td>\n",
       "      <td>1</td>\n",
       "      <td>32.0</td>\n",
       "      <td>51700.0</td>\n",
       "      <td>1</td>\n",
       "      <td>0</td>\n",
       "    </tr>\n",
       "  </tbody>\n",
       "</table>\n",
       "</div>"
      ],
      "text/plain": [
       "   Пол  Возраст  Зарплата  Члены семьи  Страховые выплаты\n",
       "0    1     41.0   49600.0            1                  0\n",
       "1    0     46.0   38000.0            1                  1\n",
       "2    0     29.0   21000.0            0                  0\n",
       "3    0     21.0   41700.0            2                  0\n",
       "4    1     28.0   26100.0            0                  0\n",
       "5    1     43.0   41000.0            2                  1\n",
       "6    1     39.0   39700.0            2                  0\n",
       "7    1     25.0   38600.0            4                  0\n",
       "8    1     36.0   49700.0            1                  0\n",
       "9    1     32.0   51700.0            1                  0"
      ]
     },
     "metadata": {},
     "output_type": "display_data"
    }
   ],
   "source": [
    "df = pd.read_csv('/datasets/insurance.csv')\n",
    "display(df.info())\n",
    "display(df.describe())\n",
    "display(df.head(10))"
   ]
  },
  {
   "cell_type": "markdown",
   "metadata": {},
   "source": [
    "## Умножение матриц"
   ]
  },
  {
   "cell_type": "markdown",
   "metadata": {},
   "source": [
    "Обозначения:\n",
    "\n",
    "- $X$ — матрица признаков (нулевой столбец состоит из единиц)\n",
    "\n",
    "- $y$ — вектор целевого признака\n",
    "\n",
    "- $P$ — обратимая матрица, на которую умножаются признаки\n",
    "\n",
    "- $w$ — вектор весов линейной регрессии (нулевой элемент равен сдвигу)"
   ]
  },
  {
   "cell_type": "markdown",
   "metadata": {},
   "source": [
    "Предсказания:\n",
    "\n",
    "$$\n",
    "a = Xw\n",
    "$$\n",
    "\n",
    "Задача обучения:\n",
    "\n",
    "$$\n",
    "w = \\arg\\min_w MSE(Xw, y)\n",
    "$$\n",
    "\n",
    "Формула обучения:\n",
    "\n",
    "$$\n",
    "w = (X^T X)^{-1} X^T y\n",
    "$$"
   ]
  },
  {
   "cell_type": "markdown",
   "metadata": {},
   "source": [
    "**Вопрос:**  Признаки умножают на обратимую матрицу. Изменится ли качество линейной регрессии?\n",
    "\n",
    "**Ответ:** не изменится\n",
    "\n",
    "**Обоснование:** пусть $w1$ вектор весов линейной регрессии матрицы $XP$, а $a1$ предсказания матрицы $XP$ тогда:\n",
    "\n",
    "\n",
    "$$\n",
    "w1 = ((XP^T) (XP))^{-1} (XP)^T y\n",
    "$$\n",
    "- Раскрываем скобки\n",
    "$$\n",
    "w1 = (P^T (X^TX))^{-1} (XP)^T y\n",
    "$$\n",
    "\n",
    "$$\n",
    "w1 = (P^T X^T(XP))^{-1} (XP)^T y\n",
    "$$\n",
    "\n",
    "$$\n",
    "w1 = (P^T(X^T X)P)^{-1} (XP)^T y\n",
    "$$ \n",
    "\n",
    "$$\n",
    "w1 = P^{-1}(X^T X)^{-1} (P^T)^{-1}  P^T X^T y\n",
    "$$ \n",
    "\n",
    "$$\n",
    "w1 = P^{-1}(X^T X)^{-1} [(P^T)^{-1} P^T] X^T y\n",
    "$$\n",
    " - $[(P^T)^{-1} P^T] = E$ , любая матрица умноженная на едеиничную матрицу равна самой себе следовательно,\n",
    "$$\n",
    "w1 = P^{-1}[(X^T X)^{-1}  X^T y]\n",
    "$$\n",
    "\n",
    "$$\n",
    "w1 = P^{-1}w\n",
    "$$\n",
    "\n",
    "$$\n",
    "a1 = X [P P^{-1}]w\n",
    "$$\n",
    "\n",
    "$$\n",
    "a1 = Xw\n",
    "$$\n",
    "\n",
    "$$\n",
    "a1 = a\n",
    "$$"
   ]
  },
  {
   "cell_type": "markdown",
   "metadata": {},
   "source": [
    "Предсказания не изменятся если матрицу умножить на обратимую матрицу, следовательно качество линейной регрессии не поменяется"
   ]
  },
  {
   "cell_type": "markdown",
   "metadata": {},
   "source": [
    "## Алгоритм преобразования"
   ]
  },
  {
   "cell_type": "markdown",
   "metadata": {},
   "source": [
    "Для защиты информации будем умножать матрицу признаков на случайно сгенерированную обратимую матрицу\n",
    "\n",
    "**Алгоритм**\n",
    "\n",
    "1. Создаем случайную матрицу\n",
    "2. Проверяем на обратимость\n",
    "3. Преобразуем признаки \n",
    "4. Обучаем модель"
   ]
  },
  {
   "cell_type": "markdown",
   "metadata": {},
   "source": [
    "**Обоснование**\n",
    "Т. к мы в пункте 2 доказали, что умножение на обратимую матрицу не меняет качество линейной регресии, будем персональные данные умножать на случайную матрицу размером   nxn где n = число переменных признаков "
   ]
  },
  {
   "cell_type": "markdown",
   "metadata": {},
   "source": [
    "## Проверка алгоритма"
   ]
  },
  {
   "cell_type": "code",
   "execution_count": 3,
   "metadata": {},
   "outputs": [],
   "source": [
    "features = df.drop(\"Страховые выплаты\", axis=1)#переменные признаки\n",
    "target = df[\"Страховые выплаты\"] # целевой признак"
   ]
  },
  {
   "cell_type": "code",
   "execution_count": 4,
   "metadata": {},
   "outputs": [],
   "source": [
    "def r2(data):  #функция вычесления r2\n",
    "    features = df.drop(\"Страховые выплаты\", axis=1)\n",
    "    target = df[\"Страховые выплаты\"]\n",
    "    model = LinearRegression()\n",
    "    model.fit(features, target)\n",
    "    predictions = model.predict(features)\n",
    "    print(r2_score(target, predictions))\n",
    "    "
   ]
  },
  {
   "cell_type": "code",
   "execution_count": 5,
   "metadata": {},
   "outputs": [
    {
     "name": "stdout",
     "output_type": "stream",
     "text": [
      "0.42494550286668\n"
     ]
    }
   ],
   "source": [
    "r2(df)"
   ]
  },
  {
   "cell_type": "code",
   "execution_count": 6,
   "metadata": {},
   "outputs": [],
   "source": [
    "P = np.linalg.inv(np.random.sample((4, 4)))"
   ]
  },
  {
   "cell_type": "code",
   "execution_count": 7,
   "metadata": {},
   "outputs": [
    {
     "data": {
      "text/html": [
       "<div>\n",
       "<style scoped>\n",
       "    .dataframe tbody tr th:only-of-type {\n",
       "        vertical-align: middle;\n",
       "    }\n",
       "\n",
       "    .dataframe tbody tr th {\n",
       "        vertical-align: top;\n",
       "    }\n",
       "\n",
       "    .dataframe thead th {\n",
       "        text-align: right;\n",
       "    }\n",
       "</style>\n",
       "<table border=\"1\" class=\"dataframe\">\n",
       "  <thead>\n",
       "    <tr style=\"text-align: right;\">\n",
       "      <th></th>\n",
       "      <th>0</th>\n",
       "      <th>1</th>\n",
       "      <th>2</th>\n",
       "      <th>3</th>\n",
       "    </tr>\n",
       "  </thead>\n",
       "  <tbody>\n",
       "    <tr>\n",
       "      <td>0</td>\n",
       "      <td>-26218.549108</td>\n",
       "      <td>-61107.314143</td>\n",
       "      <td>147724.906328</td>\n",
       "      <td>107436.298181</td>\n",
       "    </tr>\n",
       "    <tr>\n",
       "      <td>1</td>\n",
       "      <td>-20067.851480</td>\n",
       "      <td>-46816.854230</td>\n",
       "      <td>113170.536716</td>\n",
       "      <td>82288.133481</td>\n",
       "    </tr>\n",
       "    <tr>\n",
       "      <td>2</td>\n",
       "      <td>-11086.316013</td>\n",
       "      <td>-25873.816812</td>\n",
       "      <td>62544.064926</td>\n",
       "      <td>45470.697651</td>\n",
       "    </tr>\n",
       "    <tr>\n",
       "      <td>3</td>\n",
       "      <td>-22056.571140</td>\n",
       "      <td>-51370.438321</td>\n",
       "      <td>124186.719358</td>\n",
       "      <td>90340.411581</td>\n",
       "    </tr>\n",
       "    <tr>\n",
       "      <td>4</td>\n",
       "      <td>-13789.876877</td>\n",
       "      <td>-32157.198320</td>\n",
       "      <td>77739.034606</td>\n",
       "      <td>56526.506735</td>\n",
       "    </tr>\n",
       "    <tr>\n",
       "      <td>5</td>\n",
       "      <td>-21660.778799</td>\n",
       "      <td>-50511.264253</td>\n",
       "      <td>122106.364871</td>\n",
       "      <td>88794.411989</td>\n",
       "    </tr>\n",
       "    <tr>\n",
       "      <td>6</td>\n",
       "      <td>-20977.143469</td>\n",
       "      <td>-48909.299650</td>\n",
       "      <td>118234.678233</td>\n",
       "      <td>85982.633267</td>\n",
       "    </tr>\n",
       "    <tr>\n",
       "      <td>7</td>\n",
       "      <td>-20409.660208</td>\n",
       "      <td>-47549.191725</td>\n",
       "      <td>114949.665733</td>\n",
       "      <td>83615.824420</td>\n",
       "    </tr>\n",
       "    <tr>\n",
       "      <td>8</td>\n",
       "      <td>-26277.541082</td>\n",
       "      <td>-61229.935209</td>\n",
       "      <td>148022.942175</td>\n",
       "      <td>107659.989104</td>\n",
       "    </tr>\n",
       "    <tr>\n",
       "      <td>9</td>\n",
       "      <td>-27341.540099</td>\n",
       "      <td>-63693.334956</td>\n",
       "      <td>153979.792163</td>\n",
       "      <td>111999.959525</td>\n",
       "    </tr>\n",
       "  </tbody>\n",
       "</table>\n",
       "</div>"
      ],
      "text/plain": [
       "              0             1              2              3\n",
       "0 -26218.549108 -61107.314143  147724.906328  107436.298181\n",
       "1 -20067.851480 -46816.854230  113170.536716   82288.133481\n",
       "2 -11086.316013 -25873.816812   62544.064926   45470.697651\n",
       "3 -22056.571140 -51370.438321  124186.719358   90340.411581\n",
       "4 -13789.876877 -32157.198320   77739.034606   56526.506735\n",
       "5 -21660.778799 -50511.264253  122106.364871   88794.411989\n",
       "6 -20977.143469 -48909.299650  118234.678233   85982.633267\n",
       "7 -20409.660208 -47549.191725  114949.665733   83615.824420\n",
       "8 -26277.541082 -61229.935209  148022.942175  107659.989104\n",
       "9 -27341.540099 -63693.334956  153979.792163  111999.959525"
      ]
     },
     "metadata": {},
     "output_type": "display_data"
    }
   ],
   "source": [
    "new_df =  features @ P\n",
    "display(new_df.head(10))#проверка результата, признаки преобразовались в нечто новое"
   ]
  },
  {
   "cell_type": "code",
   "execution_count": 8,
   "metadata": {},
   "outputs": [
    {
     "name": "stdout",
     "output_type": "stream",
     "text": [
      "0.42494550286668\n"
     ]
    }
   ],
   "source": [
    "r2(new_df)"
   ]
  },
  {
   "cell_type": "markdown",
   "metadata": {},
   "source": [
    "Качество линейной регресии на преобразованный признаках не поменялось, что говорит нам Алгоритм работает"
   ]
  },
  {
   "cell_type": "code",
   "execution_count": 12,
   "metadata": {},
   "outputs": [
    {
     "name": "stdout",
     "output_type": "stream",
     "text": [
      "0.42494550286668\n",
      "0.42494550286668\n",
      "збс, все работает!!!\n"
     ]
    }
   ],
   "source": [
    "if r2(df) == r2(new_df):\n",
    "    print('збс, все работает!!!')\n",
    "else:\n",
    "    print('всё гавно, переделывай!!!')"
   ]
  }
 ],
 "metadata": {
  "ExecuteTimeLog": [
   {
    "duration": 1548,
    "start_time": "2021-06-28T13:41:45.989Z"
   },
   {
    "duration": 18,
    "start_time": "2021-06-28T13:42:36.483Z"
   },
   {
    "duration": 34,
    "start_time": "2021-06-28T13:42:40.445Z"
   },
   {
    "duration": 23,
    "start_time": "2021-06-28T13:43:22.103Z"
   },
   {
    "duration": 11,
    "start_time": "2021-06-28T13:54:42.564Z"
   },
   {
    "duration": 336,
    "start_time": "2021-06-29T19:32:28.501Z"
   },
   {
    "duration": 1508,
    "start_time": "2021-06-29T19:32:44.798Z"
   },
   {
    "duration": 79,
    "start_time": "2021-06-29T19:32:46.308Z"
   },
   {
    "duration": 475,
    "start_time": "2021-06-29T19:34:05.516Z"
   },
   {
    "duration": 62,
    "start_time": "2021-06-29T19:34:15.700Z"
   },
   {
    "duration": 1549,
    "start_time": "2021-06-30T15:54:44.604Z"
   },
   {
    "duration": 69,
    "start_time": "2021-06-30T15:54:46.156Z"
   },
   {
    "duration": 10,
    "start_time": "2021-06-30T15:55:49.081Z"
   },
   {
    "duration": 6,
    "start_time": "2021-06-30T15:56:01.463Z"
   },
   {
    "duration": 245,
    "start_time": "2021-07-04T16:53:48.204Z"
   },
   {
    "duration": 1157,
    "start_time": "2021-07-04T16:53:59.703Z"
   },
   {
    "duration": 67,
    "start_time": "2021-07-04T16:54:00.861Z"
   },
   {
    "duration": 305,
    "start_time": "2021-07-04T16:54:00.930Z"
   },
   {
    "duration": 5,
    "start_time": "2021-07-04T16:54:12.388Z"
   },
   {
    "duration": 240,
    "start_time": "2021-07-04T16:54:29.695Z"
   },
   {
    "duration": 376,
    "start_time": "2021-07-04T16:54:37.749Z"
   },
   {
    "duration": 5,
    "start_time": "2021-07-04T16:54:45.394Z"
   },
   {
    "duration": 5,
    "start_time": "2021-07-04T17:04:09.412Z"
   },
   {
    "duration": 5,
    "start_time": "2021-07-04T17:04:12.557Z"
   },
   {
    "duration": 5,
    "start_time": "2021-07-04T17:04:14.468Z"
   },
   {
    "duration": 5,
    "start_time": "2021-07-04T17:06:16.155Z"
   },
   {
    "duration": 4,
    "start_time": "2021-07-04T17:08:58.413Z"
   },
   {
    "duration": 3,
    "start_time": "2021-07-04T17:22:06.554Z"
   },
   {
    "duration": 10,
    "start_time": "2021-07-04T17:22:24.248Z"
   },
   {
    "duration": 3,
    "start_time": "2021-07-04T17:22:41.345Z"
   },
   {
    "duration": 236,
    "start_time": "2021-07-04T17:23:08.304Z"
   },
   {
    "duration": 4,
    "start_time": "2021-07-04T17:24:14.791Z"
   },
   {
    "duration": 4,
    "start_time": "2021-07-04T17:24:19.721Z"
   },
   {
    "duration": 10,
    "start_time": "2021-07-04T17:24:27.045Z"
   },
   {
    "duration": 232,
    "start_time": "2021-07-04T17:24:49.974Z"
   },
   {
    "duration": 9,
    "start_time": "2021-07-04T17:24:54.143Z"
   },
   {
    "duration": 8,
    "start_time": "2021-07-04T17:25:42.566Z"
   },
   {
    "duration": 9,
    "start_time": "2021-07-04T17:26:02.762Z"
   },
   {
    "duration": 9,
    "start_time": "2021-07-04T17:26:05.001Z"
   },
   {
    "duration": 222,
    "start_time": "2021-07-04T17:26:13.202Z"
   },
   {
    "duration": 9,
    "start_time": "2021-07-04T17:26:22.913Z"
   },
   {
    "duration": 8,
    "start_time": "2021-07-04T17:26:26.254Z"
   },
   {
    "duration": 82,
    "start_time": "2021-07-04T17:41:11.764Z"
   },
   {
    "duration": 9,
    "start_time": "2021-07-04T17:41:27.832Z"
   },
   {
    "duration": 78,
    "start_time": "2021-07-04T17:41:29.190Z"
   },
   {
    "duration": 1096,
    "start_time": "2021-07-04T17:42:01.753Z"
   },
   {
    "duration": 44,
    "start_time": "2021-07-04T17:42:02.850Z"
   },
   {
    "duration": 3,
    "start_time": "2021-07-04T17:42:02.896Z"
   },
   {
    "duration": 7,
    "start_time": "2021-07-04T17:42:02.901Z"
   },
   {
    "duration": 82,
    "start_time": "2021-07-04T17:42:02.909Z"
   },
   {
    "duration": 3,
    "start_time": "2021-07-04T17:42:02.994Z"
   },
   {
    "duration": 103,
    "start_time": "2021-07-04T17:42:02.999Z"
   },
   {
    "duration": 98,
    "start_time": "2021-07-04T17:42:03.105Z"
   },
   {
    "duration": 167,
    "start_time": "2021-07-04T17:42:03.206Z"
   },
   {
    "duration": 74,
    "start_time": "2021-07-04T17:44:13.898Z"
   },
   {
    "duration": 15,
    "start_time": "2021-07-04T17:45:09.831Z"
   },
   {
    "duration": 13,
    "start_time": "2021-07-04T17:45:37.651Z"
   },
   {
    "duration": 8601,
    "start_time": "2021-07-04T18:35:40.910Z"
   },
   {
    "duration": 608,
    "start_time": "2021-07-04T18:35:49.514Z"
   }
  ],
  "kernelspec": {
   "display_name": "Python 3 (ipykernel)",
   "language": "python",
   "name": "python3"
  },
  "language_info": {
   "codemirror_mode": {
    "name": "ipython",
    "version": 3
   },
   "file_extension": ".py",
   "mimetype": "text/x-python",
   "name": "python",
   "nbconvert_exporter": "python",
   "pygments_lexer": "ipython3",
   "version": "3.9.5"
  },
  "toc": {
   "base_numbering": 1,
   "nav_menu": {},
   "number_sections": true,
   "sideBar": true,
   "skip_h1_title": true,
   "title_cell": "Содержание",
   "title_sidebar": "Contents",
   "toc_cell": true,
   "toc_position": {},
   "toc_section_display": true,
   "toc_window_display": true
  }
 },
 "nbformat": 4,
 "nbformat_minor": 2
}
